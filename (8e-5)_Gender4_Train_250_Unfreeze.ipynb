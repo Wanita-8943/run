{
  "nbformat": 4,
  "nbformat_minor": 0,
  "metadata": {
    "colab": {
      "provenance": [],
      "machine_shape": "hm",
      "include_colab_link": true
    },
    "kernelspec": {
      "name": "python3",
      "display_name": "Python 3"
    },
    "language_info": {
      "name": "python"
    },
    "accelerator": "GPU",
    "gpuClass": "standard"
  },
  "cells": [
    {
      "cell_type": "markdown",
      "metadata": {
        "id": "view-in-github",
        "colab_type": "text"
      },
      "source": [
        "<a href=\"https://colab.research.google.com/github/Wanita-8943/run/blob/main/(8e-5)_Gender4_Train_250_Unfreeze.ipynb\" target=\"_parent\"><img src=\"https://colab.research.google.com/assets/colab-badge.svg\" alt=\"Open In Colab\"/></a>"
      ]
    },
    {
      "cell_type": "code",
      "execution_count": 1,
      "metadata": {
        "id": "KKSs7cyoPHcD"
      },
      "outputs": [],
      "source": [
        "import pandas as pd\n",
        "import shutil"
      ]
    },
    {
      "cell_type": "code",
      "source": [
        "from google.colab import drive\n",
        "drive.mount('/content/drive')"
      ],
      "metadata": {
        "colab": {
          "base_uri": "https://localhost:8080/"
        },
        "id": "Klm1B91QlvKd",
        "outputId": "3acc3c1a-89ce-4606-ebb2-28e4056ff4f8"
      },
      "execution_count": 2,
      "outputs": [
        {
          "output_type": "stream",
          "name": "stdout",
          "text": [
            "Mounted at /content/drive\n"
          ]
        }
      ]
    },
    {
      "cell_type": "code",
      "source": [
        "from tensorflow.keras import models\n",
        "from tensorflow.keras import layers\n",
        "from tensorflow.keras import optimizers\n",
        "import os\n",
        "import glob\n",
        "import shutil\n",
        "import sys\n",
        "import numpy as np\n",
        "from skimage.io import imread\n",
        "import matplotlib.pyplot as plt\n",
        "from IPython.display import Image\n",
        "%matplotlib inline"
      ],
      "metadata": {
        "id": "1pX9g1HxPM2f"
      },
      "execution_count": 3,
      "outputs": []
    },
    {
      "cell_type": "code",
      "source": [
        "batch_size = 16\n",
        "width = 150\n",
        "height = 150\n",
        "epochs = 250\n",
        "NUM_TRAIN = 2850\n",
        "NUM_TEST = 950\n",
        "dropout_rate = 0.2\n",
        "input_shape = (height, width, 3)"
      ],
      "metadata": {
        "id": "eSFtvGyvPM6O"
      },
      "execution_count": 4,
      "outputs": []
    },
    {
      "cell_type": "code",
      "source": [
        "#ดึงข้อมูลใน Github มาใช้\n",
        "import os\n",
        "%cd /content\n",
        "if not os.path.isdir(\"efficientnet_keras_transfer_learning\"):\n",
        " !git clone https://github.com/Wanita-8943/efficientnet_keras_transfer_learning\n",
        "%cd efficientnet_keras_transfer_learning/"
      ],
      "metadata": {
        "colab": {
          "base_uri": "https://localhost:8080/"
        },
        "id": "lb4K4CsMPNAW",
        "outputId": "f79aadb0-23c8-4f20-b83b-942f1b65abc5"
      },
      "execution_count": 5,
      "outputs": [
        {
          "output_type": "stream",
          "name": "stdout",
          "text": [
            "/content\n",
            "Cloning into 'efficientnet_keras_transfer_learning'...\n",
            "remote: Enumerating objects: 1067, done.\u001b[K\n",
            "remote: Counting objects: 100% (230/230), done.\u001b[K\n",
            "remote: Compressing objects: 100% (151/151), done.\u001b[K\n",
            "remote: Total 1067 (delta 114), reused 161 (delta 79), pack-reused 837\u001b[K\n",
            "Receiving objects: 100% (1067/1067), 13.93 MiB | 30.67 MiB/s, done.\n",
            "Resolving deltas: 100% (611/611), done.\n",
            "/content/efficientnet_keras_transfer_learning\n"
          ]
        }
      ]
    },
    {
      "cell_type": "code",
      "source": [
        "# Options: EfficientNetB0, EfficientNetB1, EfficientNetB2, EfficientNetB3\n",
        "# Higher the number, the more complex the model is.\n",
        "from efficientnet import EfficientNetB0 as Net\n",
        "from efficientnet import center_crop_and_resize, preprocess_input"
      ],
      "metadata": {
        "id": "eyBg0dLKPND3"
      },
      "execution_count": 6,
      "outputs": []
    },
    {
      "cell_type": "code",
      "source": [
        "# loading pretrained conv base model\n",
        "# โหลดโมเดล มาโดยตัด output ของโมเดลออก เเต่ยังใช้ input อันเดิม\n",
        "# เเละโหลด weight ของโมเดล มาด้วยที่ชื่อว่า imagenet\n",
        "conv_base = Net(weights='imagenet', include_top=False, input_shape=input_shape)"
      ],
      "metadata": {
        "id": "9VBe9W9-H54h",
        "colab": {
          "base_uri": "https://localhost:8080/"
        },
        "outputId": "86691cf1-9cdf-476f-a173-7adabfe7d2fb"
      },
      "execution_count": 7,
      "outputs": [
        {
          "output_type": "stream",
          "name": "stderr",
          "text": [
            "WARNING:tensorflow:From /usr/local/lib/python3.9/dist-packages/tensorflow/python/autograph/pyct/static_analysis/liveness.py:83: Analyzer.lamba_check (from tensorflow.python.autograph.pyct.static_analysis.liveness) is deprecated and will be removed after 2023-09-23.\n",
            "Instructions for updating:\n",
            "Lambda fuctions will be no more assumed to be used in the statement where they are used, or at least in the same block. https://github.com/tensorflow/tensorflow/issues/56089\n"
          ]
        },
        {
          "output_type": "stream",
          "name": "stdout",
          "text": [
            "Downloading data from https://github.com/qubvel/efficientnet/releases/download/v0.0.1/efficientnet-b0_imagenet_1000_notop.h5\n",
            "16717576/16717576 [==============================] - 0s 0us/step\n"
          ]
        }
      ]
    },
    {
      "cell_type": "code",
      "source": [
        "base_dir = '/content/drive/MyDrive/TVT_Gender'\n",
        "os.makedirs(base_dir, exist_ok=True)\n",
        "\n",
        "# Directories for our training,\n",
        "# validation and test splits\n",
        "train_dir = os.path.join(base_dir, 'train')\n",
        "os.makedirs(train_dir, exist_ok=True)\n",
        "validation_dir = os.path.join(base_dir, 'validation')\n",
        "os.makedirs(validation_dir, exist_ok=True)\n",
        "test_dir = os.path.join(base_dir, 'test')\n",
        "os.makedirs(test_dir, exist_ok=True)"
      ],
      "metadata": {
        "id": "Jwpq_-KvPef8"
      },
      "execution_count": 8,
      "outputs": []
    },
    {
      "cell_type": "markdown",
      "source": [
        "#load model"
      ],
      "metadata": {
        "id": "od-ZSNm5PoGy"
      }
    },
    {
      "cell_type": "code",
      "source": [
        "import sys\n",
        "sys.path.append('/content/drive/MyDrive/cut_panoramic/Model/(8e-5)_Gender3_250_Freeze.h5')\n",
        "\n",
        "from efficientnet.layers import Swish, DropConnect\n",
        "from efficientnet.model import ConvKernalInitializer\n",
        "from tensorflow.keras.utils import get_custom_objects\n",
        "\n",
        "get_custom_objects().update({\n",
        "    'ConvKernalInitializer': ConvKernalInitializer,\n",
        "    'Swish': Swish,\n",
        "    'DropConnect':DropConnect\n",
        "})"
      ],
      "metadata": {
        "id": "n5iPL5MNPkhE"
      },
      "execution_count": 9,
      "outputs": []
    },
    {
      "cell_type": "code",
      "source": [
        "#load model \n",
        "from tensorflow.keras.models import load_model\n",
        "model = load_model('/content/drive/MyDrive/cut_panoramic/Model/(8e-5)_Gender3_250_Freeze.h5')\n",
        "height = width = model.input_shape[1]"
      ],
      "metadata": {
        "id": "plYz49xMPkly"
      },
      "execution_count": 10,
      "outputs": []
    },
    {
      "cell_type": "code",
      "source": [
        "model.summary()"
      ],
      "metadata": {
        "colab": {
          "base_uri": "https://localhost:8080/"
        },
        "id": "z6IOPBflFbvc",
        "outputId": "19275daa-fcb7-4bef-ccd5-a188d53574e6"
      },
      "execution_count": 11,
      "outputs": [
        {
          "output_type": "stream",
          "name": "stdout",
          "text": [
            "Model: \"sequential\"\n",
            "_________________________________________________________________\n",
            " Layer (type)                Output Shape              Param #   \n",
            "=================================================================\n",
            " efficientnet-b0 (Functional  (None, 5, 5, 1280)       4049564   \n",
            " )                                                               \n",
            "                                                                 \n",
            " gap (GlobalMaxPooling2D)    (None, 1280)              0         \n",
            "                                                                 \n",
            " dropout_out (Dropout)       (None, 1280)              0         \n",
            "                                                                 \n",
            " fc_out (Dense)              (None, 2)                 2562      \n",
            "                                                                 \n",
            "=================================================================\n",
            "Total params: 4,052,126\n",
            "Trainable params: 2,562\n",
            "Non-trainable params: 4,049,564\n",
            "_________________________________________________________________\n"
          ]
        }
      ]
    },
    {
      "cell_type": "code",
      "source": [
        "# Train ด้วย ImageDataGenerator ของ Keras ซึ่งจะเพิ่มข้อมูลเสริมระหว่างการฝึกเพื่อลดโอกาสเกิด overfitting\n",
        "#overfitting เกิดจากข้อมูลที่ซับซ้อนกันเกินไป\n",
        "from tensorflow.keras.preprocessing.image import ImageDataGenerator\n",
        "\n",
        "train_datagen = ImageDataGenerator(\n",
        "      rescale=1./255, #โมเดลส่วนใหญ่ต้องใช้ RGB ในช่วง 0–1\n",
        "      rotation_range=40,\n",
        "      width_shift_range=0.2,\n",
        "      height_shift_range=0.2,\n",
        "      shear_range=0.2,\n",
        "      zoom_range=0.2,\n",
        "      horizontal_flip=True,\n",
        "      fill_mode='nearest')\n",
        "\n",
        "# Note that the validation data should not be augmented!\n",
        "test_datagen = ImageDataGenerator(rescale=1./255)\n",
        "\n",
        "train_generator = train_datagen.flow_from_directory(\n",
        "        # This is the target directory #ไดเรกเป้าหมาย\n",
        "        train_dir,\n",
        "        # รูปภาพทั้งหมดจะถูกปรับขนาดตามความสูงและความกว้างของเป้าหมาย\n",
        "        target_size=(height, width),\n",
        "        batch_size=batch_size,\n",
        "        # Since we use categorical_crossentropy loss, we need categorical labels\n",
        "        #เนื่องจากเราใช้ categorical_crossentropy loss เราจึงต้องมีป้ายกำกับตามหมวดหมู่\n",
        "        class_mode='categorical')\n",
        "\n",
        "validation_generator = test_datagen.flow_from_directory( #การดึงภาพจาก Directory มาเข้าโมเดล \n",
        "        validation_dir,\n",
        "        target_size=(height, width),\n",
        "        batch_size=batch_size,\n",
        "        class_mode='categorical')"
      ],
      "metadata": {
        "colab": {
          "base_uri": "https://localhost:8080/"
        },
        "id": "KBMZbdr2Pgw4",
        "outputId": "5a45c0b7-1688-470f-e0f5-1894a99792b8"
      },
      "execution_count": 12,
      "outputs": [
        {
          "output_type": "stream",
          "name": "stdout",
          "text": [
            "Found 2850 images belonging to 2 classes.\n",
            "Found 950 images belonging to 2 classes.\n"
          ]
        }
      ]
    },
    {
      "cell_type": "code",
      "source": [
        "# multiply_16\n",
        "# set 'multiply_16' and following layers trainable\n",
        "model.trainable = True\n",
        "\n",
        "set_trainable = False\n",
        "for layer in conv_base.layers:\n",
        "    if layer.name == 'multiply_16':\n",
        "        set_trainable = True\n",
        "    if set_trainable:\n",
        "        layer.trainable = True\n",
        "    else:\n",
        "        layer.trainable = False  "
      ],
      "metadata": {
        "id": "A0yv7vmgGhSI"
      },
      "execution_count": 13,
      "outputs": []
    },
    {
      "cell_type": "code",
      "source": [
        "model.summary()"
      ],
      "metadata": {
        "colab": {
          "base_uri": "https://localhost:8080/"
        },
        "id": "lJReTlOCGkRE",
        "outputId": "f74806c3-b419-4f37-eb24-5048599939f4"
      },
      "execution_count": 14,
      "outputs": [
        {
          "output_type": "stream",
          "name": "stdout",
          "text": [
            "Model: \"sequential\"\n",
            "_________________________________________________________________\n",
            " Layer (type)                Output Shape              Param #   \n",
            "=================================================================\n",
            " efficientnet-b0 (Functional  (None, 5, 5, 1280)       4049564   \n",
            " )                                                               \n",
            "                                                                 \n",
            " gap (GlobalMaxPooling2D)    (None, 1280)              0         \n",
            "                                                                 \n",
            " dropout_out (Dropout)       (None, 1280)              0         \n",
            "                                                                 \n",
            " fc_out (Dense)              (None, 2)                 2562      \n",
            "                                                                 \n",
            "=================================================================\n",
            "Total params: 4,052,126\n",
            "Trainable params: 4,010,110\n",
            "Non-trainable params: 42,016\n",
            "_________________________________________________________________\n"
          ]
        }
      ]
    },
    {
      "cell_type": "code",
      "source": [
        "history = model.fit_generator(\n",
        "      train_generator,\n",
        "      steps_per_epoch= NUM_TRAIN //batch_size,\n",
        "      epochs=epochs,\n",
        "      validation_data=validation_generator,\n",
        "      validation_steps= NUM_TEST //batch_size,\n",
        "      verbose=1,\n",
        "      use_multiprocessing=True,\n",
        "      workers=4)"
      ],
      "metadata": {
        "colab": {
          "base_uri": "https://localhost:8080/"
        },
        "id": "C9Cf1dwyP1PD",
        "outputId": "fc00c18a-9878-4d73-f1b0-47e28c782dea"
      },
      "execution_count": 15,
      "outputs": [
        {
          "output_type": "stream",
          "name": "stderr",
          "text": [
            "<ipython-input-15-caa7b37242a8>:1: UserWarning: `Model.fit_generator` is deprecated and will be removed in a future version. Please use `Model.fit`, which supports generators.\n",
            "  history = model.fit_generator(\n"
          ]
        },
        {
          "output_type": "stream",
          "name": "stdout",
          "text": [
            "Epoch 1/250\n",
            "178/178 [==============================] - 168s 833ms/step - loss: 0.5955 - acc: 0.6941 - val_loss: 0.5480 - val_acc: 0.7235\n",
            "Epoch 2/250\n",
            "178/178 [==============================] - 46s 250ms/step - loss: 0.5895 - acc: 0.7004 - val_loss: 0.5476 - val_acc: 0.7214\n",
            "Epoch 3/250\n",
            "178/178 [==============================] - 44s 241ms/step - loss: 0.6060 - acc: 0.6828 - val_loss: 0.7110 - val_acc: 0.6218\n",
            "Epoch 4/250\n",
            "178/178 [==============================] - 45s 250ms/step - loss: 0.6151 - acc: 0.6778 - val_loss: 0.5480 - val_acc: 0.7129\n",
            "Epoch 5/250\n",
            "178/178 [==============================] - 46s 254ms/step - loss: 0.6163 - acc: 0.6546 - val_loss: 0.5402 - val_acc: 0.7214\n",
            "Epoch 6/250\n",
            "178/178 [==============================] - 46s 253ms/step - loss: 0.6248 - acc: 0.6549 - val_loss: 0.5455 - val_acc: 0.7108\n",
            "Epoch 7/250\n",
            "178/178 [==============================] - 45s 251ms/step - loss: 0.6070 - acc: 0.6648 - val_loss: 0.5468 - val_acc: 0.7225\n",
            "Epoch 8/250\n",
            "178/178 [==============================] - 44s 245ms/step - loss: 0.6019 - acc: 0.6849 - val_loss: 0.5570 - val_acc: 0.7193\n",
            "Epoch 9/250\n",
            "178/178 [==============================] - 43s 240ms/step - loss: 0.5964 - acc: 0.6909 - val_loss: 0.5415 - val_acc: 0.7214\n",
            "Epoch 10/250\n",
            "178/178 [==============================] - 44s 243ms/step - loss: 0.5908 - acc: 0.6881 - val_loss: 0.5435 - val_acc: 0.7235\n",
            "Epoch 11/250\n",
            "178/178 [==============================] - 45s 247ms/step - loss: 0.5945 - acc: 0.6800 - val_loss: 0.5529 - val_acc: 0.7214\n",
            "Epoch 12/250\n",
            "178/178 [==============================] - 45s 251ms/step - loss: 0.6067 - acc: 0.6750 - val_loss: 0.5489 - val_acc: 0.7214\n",
            "Epoch 13/250\n",
            "178/178 [==============================] - 45s 247ms/step - loss: 0.6003 - acc: 0.6842 - val_loss: 0.5429 - val_acc: 0.7235\n",
            "Epoch 14/250\n",
            "178/178 [==============================] - 45s 247ms/step - loss: 0.6060 - acc: 0.6754 - val_loss: 0.5472 - val_acc: 0.7299\n",
            "Epoch 15/250\n",
            "178/178 [==============================] - 43s 237ms/step - loss: 0.6197 - acc: 0.6736 - val_loss: 0.5495 - val_acc: 0.7331\n",
            "Epoch 16/250\n",
            "178/178 [==============================] - 45s 251ms/step - loss: 0.6023 - acc: 0.6831 - val_loss: 0.5513 - val_acc: 0.7267\n",
            "Epoch 17/250\n",
            "178/178 [==============================] - 45s 249ms/step - loss: 0.6096 - acc: 0.6780 - val_loss: 0.5977 - val_acc: 0.6864\n",
            "Epoch 18/250\n",
            "178/178 [==============================] - 45s 250ms/step - loss: 0.6054 - acc: 0.6793 - val_loss: 0.5789 - val_acc: 0.6970\n",
            "Epoch 19/250\n",
            "178/178 [==============================] - 45s 248ms/step - loss: 0.5973 - acc: 0.6828 - val_loss: 0.5825 - val_acc: 0.6928\n",
            "Epoch 20/250\n",
            "178/178 [==============================] - 43s 239ms/step - loss: 0.6003 - acc: 0.6810 - val_loss: 0.6015 - val_acc: 0.6864\n",
            "Epoch 21/250\n",
            "178/178 [==============================] - 41s 229ms/step - loss: 0.6106 - acc: 0.6733 - val_loss: 0.5411 - val_acc: 0.7172\n",
            "Epoch 22/250\n",
            "178/178 [==============================] - 45s 247ms/step - loss: 0.6129 - acc: 0.6793 - val_loss: 0.5788 - val_acc: 0.7044\n",
            "Epoch 23/250\n",
            "178/178 [==============================] - 45s 252ms/step - loss: 0.6056 - acc: 0.6824 - val_loss: 0.5545 - val_acc: 0.7129\n",
            "Epoch 24/250\n",
            "178/178 [==============================] - 45s 248ms/step - loss: 0.6071 - acc: 0.6743 - val_loss: 0.5419 - val_acc: 0.7161\n",
            "Epoch 25/250\n",
            "178/178 [==============================] - 46s 252ms/step - loss: 0.6109 - acc: 0.6743 - val_loss: 0.5601 - val_acc: 0.7203\n",
            "Epoch 26/250\n",
            "178/178 [==============================] - 46s 253ms/step - loss: 0.6109 - acc: 0.6743 - val_loss: 0.5437 - val_acc: 0.7203\n",
            "Epoch 27/250\n",
            "178/178 [==============================] - 47s 263ms/step - loss: 0.6018 - acc: 0.6733 - val_loss: 0.6032 - val_acc: 0.6801\n",
            "Epoch 28/250\n",
            "178/178 [==============================] - 53s 289ms/step - loss: 0.5869 - acc: 0.6937 - val_loss: 0.5390 - val_acc: 0.7182\n",
            "Epoch 29/250\n",
            "178/178 [==============================] - 46s 257ms/step - loss: 0.5994 - acc: 0.6750 - val_loss: 0.5453 - val_acc: 0.7203\n",
            "Epoch 30/250\n",
            "178/178 [==============================] - 47s 260ms/step - loss: 0.5885 - acc: 0.7015 - val_loss: 0.5523 - val_acc: 0.7129\n",
            "Epoch 31/250\n",
            "178/178 [==============================] - 47s 261ms/step - loss: 0.6033 - acc: 0.6789 - val_loss: 0.5529 - val_acc: 0.7066\n",
            "Epoch 32/250\n",
            "178/178 [==============================] - 45s 246ms/step - loss: 0.6232 - acc: 0.6627 - val_loss: 0.5491 - val_acc: 0.7182\n",
            "Epoch 33/250\n",
            "178/178 [==============================] - 45s 248ms/step - loss: 0.6069 - acc: 0.6877 - val_loss: 0.6324 - val_acc: 0.6578\n",
            "Epoch 34/250\n",
            "178/178 [==============================] - 46s 257ms/step - loss: 0.5866 - acc: 0.6867 - val_loss: 0.5454 - val_acc: 0.7193\n",
            "Epoch 35/250\n",
            "178/178 [==============================] - 49s 272ms/step - loss: 0.6131 - acc: 0.6687 - val_loss: 0.5472 - val_acc: 0.7140\n",
            "Epoch 36/250\n",
            "178/178 [==============================] - 47s 261ms/step - loss: 0.6046 - acc: 0.6708 - val_loss: 0.5679 - val_acc: 0.7087\n",
            "Epoch 37/250\n",
            "178/178 [==============================] - 47s 262ms/step - loss: 0.6162 - acc: 0.6588 - val_loss: 0.5593 - val_acc: 0.7097\n",
            "Epoch 38/250\n",
            "178/178 [==============================] - 47s 260ms/step - loss: 0.5954 - acc: 0.6754 - val_loss: 0.5691 - val_acc: 0.7044\n",
            "Epoch 39/250\n",
            "178/178 [==============================] - 47s 258ms/step - loss: 0.6015 - acc: 0.6849 - val_loss: 0.5582 - val_acc: 0.7140\n",
            "Epoch 40/250\n",
            "178/178 [==============================] - 47s 257ms/step - loss: 0.6156 - acc: 0.6669 - val_loss: 0.5586 - val_acc: 0.7055\n",
            "Epoch 41/250\n",
            "178/178 [==============================] - 48s 263ms/step - loss: 0.6156 - acc: 0.6814 - val_loss: 0.5537 - val_acc: 0.7087\n",
            "Epoch 42/250\n",
            "178/178 [==============================] - 52s 290ms/step - loss: 0.5915 - acc: 0.6905 - val_loss: 0.5761 - val_acc: 0.7087\n",
            "Epoch 43/250\n",
            "178/178 [==============================] - 50s 272ms/step - loss: 0.5832 - acc: 0.6994 - val_loss: 0.5694 - val_acc: 0.7097\n",
            "Epoch 44/250\n",
            "178/178 [==============================] - 50s 276ms/step - loss: 0.6064 - acc: 0.6715 - val_loss: 0.5926 - val_acc: 0.6917\n",
            "Epoch 45/250\n",
            "178/178 [==============================] - 49s 271ms/step - loss: 0.6040 - acc: 0.6785 - val_loss: 0.5734 - val_acc: 0.7034\n",
            "Epoch 46/250\n",
            "178/178 [==============================] - 49s 268ms/step - loss: 0.6068 - acc: 0.6842 - val_loss: 0.5614 - val_acc: 0.7193\n",
            "Epoch 47/250\n",
            "178/178 [==============================] - 47s 261ms/step - loss: 0.6025 - acc: 0.6881 - val_loss: 0.5592 - val_acc: 0.7182\n",
            "Epoch 48/250\n",
            "178/178 [==============================] - 47s 261ms/step - loss: 0.5963 - acc: 0.6807 - val_loss: 0.5930 - val_acc: 0.6970\n",
            "Epoch 49/250\n",
            "178/178 [==============================] - 46s 257ms/step - loss: 0.6099 - acc: 0.6803 - val_loss: 0.5555 - val_acc: 0.7108\n",
            "Epoch 50/250\n",
            "178/178 [==============================] - 46s 255ms/step - loss: 0.6021 - acc: 0.6761 - val_loss: 0.5746 - val_acc: 0.7013\n",
            "Epoch 51/250\n",
            "178/178 [==============================] - 47s 259ms/step - loss: 0.6121 - acc: 0.6835 - val_loss: 0.5492 - val_acc: 0.7150\n",
            "Epoch 52/250\n",
            "178/178 [==============================] - 45s 252ms/step - loss: 0.6097 - acc: 0.6740 - val_loss: 0.5529 - val_acc: 0.7203\n",
            "Epoch 53/250\n",
            "178/178 [==============================] - 48s 265ms/step - loss: 0.6014 - acc: 0.6771 - val_loss: 0.5655 - val_acc: 0.7161\n",
            "Epoch 54/250\n",
            "178/178 [==============================] - 47s 258ms/step - loss: 0.5905 - acc: 0.6930 - val_loss: 0.5931 - val_acc: 0.6949\n",
            "Epoch 55/250\n",
            "178/178 [==============================] - 47s 260ms/step - loss: 0.5987 - acc: 0.6824 - val_loss: 0.5490 - val_acc: 0.7172\n",
            "Epoch 56/250\n",
            "178/178 [==============================] - 46s 254ms/step - loss: 0.6103 - acc: 0.6634 - val_loss: 0.5704 - val_acc: 0.7129\n",
            "Epoch 57/250\n",
            "178/178 [==============================] - 45s 248ms/step - loss: 0.6090 - acc: 0.6785 - val_loss: 0.5880 - val_acc: 0.6960\n",
            "Epoch 58/250\n",
            "178/178 [==============================] - 47s 259ms/step - loss: 0.6159 - acc: 0.6627 - val_loss: 0.5705 - val_acc: 0.7066\n",
            "Epoch 59/250\n",
            "178/178 [==============================] - 53s 293ms/step - loss: 0.5980 - acc: 0.6948 - val_loss: 0.5883 - val_acc: 0.6949\n",
            "Epoch 60/250\n",
            "178/178 [==============================] - 46s 250ms/step - loss: 0.6095 - acc: 0.6736 - val_loss: 0.5508 - val_acc: 0.7129\n",
            "Epoch 61/250\n",
            "178/178 [==============================] - 47s 259ms/step - loss: 0.6003 - acc: 0.6838 - val_loss: 0.5801 - val_acc: 0.7013\n",
            "Epoch 62/250\n",
            "178/178 [==============================] - 46s 254ms/step - loss: 0.6110 - acc: 0.6669 - val_loss: 0.5462 - val_acc: 0.7193\n",
            "Epoch 63/250\n",
            "178/178 [==============================] - 47s 257ms/step - loss: 0.6062 - acc: 0.6771 - val_loss: 0.5429 - val_acc: 0.7140\n",
            "Epoch 64/250\n",
            "178/178 [==============================] - 47s 263ms/step - loss: 0.6095 - acc: 0.6775 - val_loss: 0.5514 - val_acc: 0.7193\n",
            "Epoch 65/250\n",
            "178/178 [==============================] - 47s 261ms/step - loss: 0.6026 - acc: 0.6874 - val_loss: 0.5487 - val_acc: 0.7119\n",
            "Epoch 66/250\n",
            "178/178 [==============================] - 47s 262ms/step - loss: 0.5953 - acc: 0.6849 - val_loss: 0.5579 - val_acc: 0.7129\n",
            "Epoch 67/250\n",
            "178/178 [==============================] - 48s 266ms/step - loss: 0.5972 - acc: 0.6902 - val_loss: 0.6080 - val_acc: 0.6854\n",
            "Epoch 68/250\n",
            "178/178 [==============================] - 49s 265ms/step - loss: 0.5995 - acc: 0.6867 - val_loss: 0.5548 - val_acc: 0.7161\n",
            "Epoch 69/250\n",
            "178/178 [==============================] - 47s 258ms/step - loss: 0.6020 - acc: 0.6870 - val_loss: 0.5446 - val_acc: 0.7108\n",
            "Epoch 70/250\n",
            "178/178 [==============================] - 47s 262ms/step - loss: 0.6055 - acc: 0.6810 - val_loss: 0.5408 - val_acc: 0.7225\n",
            "Epoch 71/250\n",
            "178/178 [==============================] - 48s 264ms/step - loss: 0.5964 - acc: 0.6891 - val_loss: 0.5439 - val_acc: 0.7214\n",
            "Epoch 72/250\n",
            "178/178 [==============================] - 47s 259ms/step - loss: 0.6108 - acc: 0.6800 - val_loss: 0.5421 - val_acc: 0.7246\n",
            "Epoch 73/250\n",
            "178/178 [==============================] - 51s 286ms/step - loss: 0.5985 - acc: 0.6807 - val_loss: 0.5429 - val_acc: 0.7193\n",
            "Epoch 74/250\n",
            "178/178 [==============================] - 47s 261ms/step - loss: 0.5989 - acc: 0.6909 - val_loss: 0.5463 - val_acc: 0.7161\n",
            "Epoch 75/250\n",
            "178/178 [==============================] - 46s 252ms/step - loss: 0.6015 - acc: 0.6821 - val_loss: 0.5453 - val_acc: 0.7140\n",
            "Epoch 76/250\n",
            "178/178 [==============================] - 45s 249ms/step - loss: 0.6058 - acc: 0.6697 - val_loss: 0.5636 - val_acc: 0.7140\n",
            "Epoch 77/250\n",
            "178/178 [==============================] - 48s 260ms/step - loss: 0.6015 - acc: 0.6863 - val_loss: 0.5561 - val_acc: 0.7119\n",
            "Epoch 78/250\n",
            "178/178 [==============================] - 46s 256ms/step - loss: 0.6079 - acc: 0.6708 - val_loss: 0.5593 - val_acc: 0.7140\n",
            "Epoch 79/250\n",
            "178/178 [==============================] - 47s 263ms/step - loss: 0.5991 - acc: 0.6835 - val_loss: 0.5613 - val_acc: 0.7087\n",
            "Epoch 80/250\n",
            "178/178 [==============================] - 47s 263ms/step - loss: 0.5986 - acc: 0.6729 - val_loss: 0.5951 - val_acc: 0.7002\n",
            "Epoch 81/250\n",
            "178/178 [==============================] - 45s 249ms/step - loss: 0.6037 - acc: 0.6789 - val_loss: 0.5474 - val_acc: 0.7193\n",
            "Epoch 82/250\n",
            "178/178 [==============================] - 46s 255ms/step - loss: 0.5986 - acc: 0.6803 - val_loss: 0.5721 - val_acc: 0.7097\n",
            "Epoch 83/250\n",
            "178/178 [==============================] - 51s 284ms/step - loss: 0.6094 - acc: 0.6817 - val_loss: 0.5482 - val_acc: 0.7119\n",
            "Epoch 84/250\n",
            "178/178 [==============================] - 47s 260ms/step - loss: 0.6103 - acc: 0.6800 - val_loss: 0.5938 - val_acc: 0.7013\n",
            "Epoch 85/250\n",
            "178/178 [==============================] - 47s 262ms/step - loss: 0.6014 - acc: 0.6826 - val_loss: 0.5495 - val_acc: 0.7182\n",
            "Epoch 86/250\n",
            "178/178 [==============================] - 47s 261ms/step - loss: 0.5950 - acc: 0.6824 - val_loss: 0.5668 - val_acc: 0.7108\n",
            "Epoch 87/250\n",
            "178/178 [==============================] - 47s 258ms/step - loss: 0.6028 - acc: 0.6821 - val_loss: 0.5634 - val_acc: 0.7161\n",
            "Epoch 88/250\n",
            "178/178 [==============================] - 47s 256ms/step - loss: 0.6052 - acc: 0.6754 - val_loss: 0.5734 - val_acc: 0.7097\n",
            "Epoch 89/250\n",
            "178/178 [==============================] - 46s 251ms/step - loss: 0.6138 - acc: 0.6711 - val_loss: 0.5699 - val_acc: 0.7034\n",
            "Epoch 90/250\n",
            "178/178 [==============================] - 47s 260ms/step - loss: 0.5954 - acc: 0.6856 - val_loss: 0.6013 - val_acc: 0.6949\n",
            "Epoch 91/250\n",
            "178/178 [==============================] - 47s 260ms/step - loss: 0.6028 - acc: 0.6743 - val_loss: 0.5604 - val_acc: 0.7066\n",
            "Epoch 92/250\n",
            "178/178 [==============================] - 47s 259ms/step - loss: 0.6049 - acc: 0.6845 - val_loss: 0.5954 - val_acc: 0.6970\n",
            "Epoch 93/250\n",
            "178/178 [==============================] - 47s 259ms/step - loss: 0.6009 - acc: 0.6785 - val_loss: 0.5613 - val_acc: 0.7108\n",
            "Epoch 94/250\n",
            "178/178 [==============================] - 46s 249ms/step - loss: 0.6055 - acc: 0.6789 - val_loss: 0.5571 - val_acc: 0.7119\n",
            "Epoch 95/250\n",
            "178/178 [==============================] - 47s 262ms/step - loss: 0.5969 - acc: 0.6800 - val_loss: 0.5522 - val_acc: 0.7150\n",
            "Epoch 96/250\n",
            "178/178 [==============================] - 51s 283ms/step - loss: 0.6047 - acc: 0.6747 - val_loss: 0.5662 - val_acc: 0.7119\n",
            "Epoch 97/250\n",
            "178/178 [==============================] - 47s 259ms/step - loss: 0.6143 - acc: 0.6630 - val_loss: 0.5724 - val_acc: 0.7119\n",
            "Epoch 98/250\n",
            "178/178 [==============================] - 47s 259ms/step - loss: 0.5975 - acc: 0.6877 - val_loss: 0.5555 - val_acc: 0.7161\n",
            "Epoch 99/250\n",
            "178/178 [==============================] - 47s 261ms/step - loss: 0.5959 - acc: 0.6835 - val_loss: 0.5479 - val_acc: 0.7225\n",
            "Epoch 100/250\n",
            "178/178 [==============================] - 47s 260ms/step - loss: 0.5962 - acc: 0.6838 - val_loss: 0.6489 - val_acc: 0.6504\n",
            "Epoch 101/250\n",
            "178/178 [==============================] - 46s 253ms/step - loss: 0.6012 - acc: 0.6881 - val_loss: 0.5584 - val_acc: 0.7140\n",
            "Epoch 102/250\n",
            "178/178 [==============================] - 46s 252ms/step - loss: 0.6034 - acc: 0.6824 - val_loss: 0.5674 - val_acc: 0.7161\n",
            "Epoch 103/250\n",
            "178/178 [==============================] - 47s 257ms/step - loss: 0.6058 - acc: 0.6796 - val_loss: 0.5626 - val_acc: 0.7182\n",
            "Epoch 104/250\n",
            "178/178 [==============================] - 52s 285ms/step - loss: 0.6011 - acc: 0.6768 - val_loss: 0.5642 - val_acc: 0.7182\n",
            "Epoch 105/250\n",
            "178/178 [==============================] - 47s 259ms/step - loss: 0.5935 - acc: 0.6863 - val_loss: 0.5744 - val_acc: 0.7097\n",
            "Epoch 106/250\n",
            "178/178 [==============================] - 46s 254ms/step - loss: 0.6078 - acc: 0.6785 - val_loss: 0.5638 - val_acc: 0.7161\n",
            "Epoch 107/250\n",
            "178/178 [==============================] - 47s 261ms/step - loss: 0.6036 - acc: 0.6895 - val_loss: 0.5470 - val_acc: 0.7225\n",
            "Epoch 108/250\n",
            "178/178 [==============================] - 47s 260ms/step - loss: 0.5986 - acc: 0.6817 - val_loss: 0.5462 - val_acc: 0.7108\n",
            "Epoch 109/250\n",
            "178/178 [==============================] - 46s 257ms/step - loss: 0.6147 - acc: 0.6793 - val_loss: 0.5591 - val_acc: 0.7119\n",
            "Epoch 110/250\n",
            "178/178 [==============================] - 46s 251ms/step - loss: 0.6014 - acc: 0.6902 - val_loss: 0.5592 - val_acc: 0.7150\n",
            "Epoch 111/250\n",
            "178/178 [==============================] - 47s 260ms/step - loss: 0.6013 - acc: 0.6764 - val_loss: 0.5791 - val_acc: 0.7002\n",
            "Epoch 112/250\n",
            "178/178 [==============================] - 47s 262ms/step - loss: 0.6092 - acc: 0.6860 - val_loss: 0.5842 - val_acc: 0.6970\n",
            "Epoch 113/250\n",
            "178/178 [==============================] - 47s 263ms/step - loss: 0.6093 - acc: 0.6711 - val_loss: 0.6009 - val_acc: 0.6896\n",
            "Epoch 114/250\n",
            "178/178 [==============================] - 48s 266ms/step - loss: 0.6108 - acc: 0.6796 - val_loss: 0.5577 - val_acc: 0.7140\n",
            "Epoch 115/250\n",
            "178/178 [==============================] - 47s 258ms/step - loss: 0.6045 - acc: 0.6708 - val_loss: 0.5787 - val_acc: 0.6981\n",
            "Epoch 116/250\n",
            "178/178 [==============================] - 53s 290ms/step - loss: 0.6043 - acc: 0.6849 - val_loss: 0.5445 - val_acc: 0.7097\n",
            "Epoch 117/250\n",
            "178/178 [==============================] - 48s 261ms/step - loss: 0.6078 - acc: 0.6750 - val_loss: 0.5631 - val_acc: 0.7150\n",
            "Epoch 118/250\n",
            "178/178 [==============================] - 48s 266ms/step - loss: 0.6139 - acc: 0.6764 - val_loss: 0.5702 - val_acc: 0.7076\n",
            "Epoch 119/250\n",
            "178/178 [==============================] - 48s 266ms/step - loss: 0.5908 - acc: 0.6948 - val_loss: 0.5898 - val_acc: 0.7023\n",
            "Epoch 120/250\n",
            "178/178 [==============================] - 48s 264ms/step - loss: 0.6018 - acc: 0.6743 - val_loss: 0.5748 - val_acc: 0.7097\n",
            "Epoch 121/250\n",
            "178/178 [==============================] - 48s 261ms/step - loss: 0.6106 - acc: 0.6697 - val_loss: 0.5663 - val_acc: 0.7182\n",
            "Epoch 122/250\n",
            "178/178 [==============================] - 51s 285ms/step - loss: 0.6169 - acc: 0.6729 - val_loss: 0.5586 - val_acc: 0.7161\n",
            "Epoch 123/250\n",
            "178/178 [==============================] - 43s 239ms/step - loss: 0.6122 - acc: 0.6821 - val_loss: 0.5617 - val_acc: 0.7140\n",
            "Epoch 124/250\n",
            "178/178 [==============================] - 42s 230ms/step - loss: 0.6062 - acc: 0.6736 - val_loss: 0.6346 - val_acc: 0.6642\n",
            "Epoch 125/250\n",
            "178/178 [==============================] - 47s 256ms/step - loss: 0.5967 - acc: 0.6888 - val_loss: 0.5941 - val_acc: 0.7023\n",
            "Epoch 126/250\n",
            "178/178 [==============================] - 48s 265ms/step - loss: 0.6067 - acc: 0.6782 - val_loss: 0.5662 - val_acc: 0.7140\n",
            "Epoch 127/250\n",
            "178/178 [==============================] - 48s 263ms/step - loss: 0.6081 - acc: 0.6863 - val_loss: 0.5852 - val_acc: 0.7013\n",
            "Epoch 128/250\n",
            "178/178 [==============================] - 48s 265ms/step - loss: 0.6203 - acc: 0.6676 - val_loss: 0.5799 - val_acc: 0.6992\n",
            "Epoch 129/250\n",
            "178/178 [==============================] - 48s 265ms/step - loss: 0.6057 - acc: 0.6729 - val_loss: 0.5473 - val_acc: 0.7182\n",
            "Epoch 130/250\n",
            "178/178 [==============================] - 49s 271ms/step - loss: 0.6047 - acc: 0.6835 - val_loss: 0.5589 - val_acc: 0.7087\n",
            "Epoch 131/250\n",
            "178/178 [==============================] - 49s 266ms/step - loss: 0.6177 - acc: 0.6697 - val_loss: 0.5856 - val_acc: 0.7023\n",
            "Epoch 132/250\n",
            "178/178 [==============================] - 47s 255ms/step - loss: 0.6120 - acc: 0.6831 - val_loss: 0.5653 - val_acc: 0.7076\n",
            "Epoch 133/250\n",
            "178/178 [==============================] - 48s 264ms/step - loss: 0.5989 - acc: 0.6877 - val_loss: 0.5811 - val_acc: 0.7087\n",
            "Epoch 134/250\n",
            "178/178 [==============================] - 48s 264ms/step - loss: 0.6062 - acc: 0.6828 - val_loss: 0.5609 - val_acc: 0.7034\n",
            "Epoch 135/250\n",
            "178/178 [==============================] - 48s 264ms/step - loss: 0.6111 - acc: 0.6736 - val_loss: 0.5478 - val_acc: 0.7235\n",
            "Epoch 136/250\n",
            "178/178 [==============================] - 47s 263ms/step - loss: 0.6129 - acc: 0.6680 - val_loss: 0.5586 - val_acc: 0.7119\n",
            "Epoch 137/250\n",
            "178/178 [==============================] - 48s 263ms/step - loss: 0.5928 - acc: 0.6835 - val_loss: 0.5444 - val_acc: 0.7235\n",
            "Epoch 138/250\n",
            "178/178 [==============================] - 47s 258ms/step - loss: 0.5973 - acc: 0.6867 - val_loss: 0.5585 - val_acc: 0.7203\n",
            "Epoch 139/250\n",
            "178/178 [==============================] - 52s 286ms/step - loss: 0.5971 - acc: 0.6793 - val_loss: 0.5686 - val_acc: 0.7161\n",
            "Epoch 140/250\n",
            "178/178 [==============================] - 48s 268ms/step - loss: 0.6028 - acc: 0.6662 - val_loss: 0.5423 - val_acc: 0.7214\n",
            "Epoch 141/250\n",
            "178/178 [==============================] - 48s 264ms/step - loss: 0.5943 - acc: 0.6725 - val_loss: 0.5525 - val_acc: 0.7182\n",
            "Epoch 142/250\n",
            "178/178 [==============================] - 47s 262ms/step - loss: 0.6056 - acc: 0.6740 - val_loss: 0.6057 - val_acc: 0.6822\n",
            "Epoch 143/250\n",
            "178/178 [==============================] - 47s 262ms/step - loss: 0.6080 - acc: 0.6722 - val_loss: 0.5536 - val_acc: 0.7203\n",
            "Epoch 144/250\n",
            "178/178 [==============================] - 48s 262ms/step - loss: 0.6120 - acc: 0.6694 - val_loss: 0.6335 - val_acc: 0.6653\n",
            "Epoch 145/250\n",
            "178/178 [==============================] - 48s 264ms/step - loss: 0.6150 - acc: 0.6676 - val_loss: 0.5469 - val_acc: 0.7235\n",
            "Epoch 146/250\n",
            "178/178 [==============================] - 48s 264ms/step - loss: 0.5963 - acc: 0.6898 - val_loss: 0.5648 - val_acc: 0.7108\n",
            "Epoch 147/250\n",
            "178/178 [==============================] - 48s 262ms/step - loss: 0.6057 - acc: 0.6785 - val_loss: 0.5416 - val_acc: 0.7140\n",
            "Epoch 148/250\n",
            "178/178 [==============================] - 52s 286ms/step - loss: 0.6090 - acc: 0.6729 - val_loss: 0.5794 - val_acc: 0.7013\n",
            "Epoch 149/250\n",
            "178/178 [==============================] - 47s 263ms/step - loss: 0.5944 - acc: 0.6912 - val_loss: 0.5723 - val_acc: 0.7002\n",
            "Epoch 150/250\n",
            "178/178 [==============================] - 47s 257ms/step - loss: 0.6022 - acc: 0.6824 - val_loss: 0.6030 - val_acc: 0.6875\n",
            "Epoch 151/250\n",
            "178/178 [==============================] - 47s 263ms/step - loss: 0.6084 - acc: 0.6736 - val_loss: 0.6002 - val_acc: 0.6960\n",
            "Epoch 152/250\n",
            "178/178 [==============================] - 48s 265ms/step - loss: 0.5983 - acc: 0.6768 - val_loss: 0.5504 - val_acc: 0.7203\n",
            "Epoch 153/250\n",
            "178/178 [==============================] - 47s 263ms/step - loss: 0.5975 - acc: 0.6884 - val_loss: 0.6222 - val_acc: 0.6642\n",
            "Epoch 154/250\n",
            "178/178 [==============================] - 46s 254ms/step - loss: 0.6055 - acc: 0.6785 - val_loss: 0.6392 - val_acc: 0.6568\n",
            "Epoch 155/250\n",
            "178/178 [==============================] - 54s 299ms/step - loss: 0.5865 - acc: 0.6923 - val_loss: 0.6010 - val_acc: 0.6822\n",
            "Epoch 156/250\n",
            "178/178 [==============================] - 48s 265ms/step - loss: 0.6045 - acc: 0.6736 - val_loss: 0.5958 - val_acc: 0.6928\n",
            "Epoch 157/250\n",
            "178/178 [==============================] - 48s 266ms/step - loss: 0.6072 - acc: 0.6863 - val_loss: 0.6174 - val_acc: 0.6737\n",
            "Epoch 158/250\n",
            "178/178 [==============================] - 47s 262ms/step - loss: 0.6108 - acc: 0.6644 - val_loss: 0.5823 - val_acc: 0.7023\n",
            "Epoch 159/250\n",
            "178/178 [==============================] - 48s 265ms/step - loss: 0.6072 - acc: 0.6644 - val_loss: 0.5576 - val_acc: 0.7193\n",
            "Epoch 160/250\n",
            "178/178 [==============================] - 48s 265ms/step - loss: 0.6178 - acc: 0.6803 - val_loss: 0.5618 - val_acc: 0.7161\n",
            "Epoch 161/250\n",
            "178/178 [==============================] - 48s 264ms/step - loss: 0.6068 - acc: 0.6750 - val_loss: 0.5400 - val_acc: 0.7288\n",
            "Epoch 162/250\n",
            "178/178 [==============================] - 48s 264ms/step - loss: 0.6014 - acc: 0.6860 - val_loss: 0.6001 - val_acc: 0.6822\n",
            "Epoch 163/250\n",
            "178/178 [==============================] - 48s 264ms/step - loss: 0.6115 - acc: 0.6581 - val_loss: 0.5708 - val_acc: 0.7034\n",
            "Epoch 164/250\n",
            "178/178 [==============================] - 52s 287ms/step - loss: 0.6066 - acc: 0.6690 - val_loss: 0.6155 - val_acc: 0.6801\n",
            "Epoch 165/250\n",
            "178/178 [==============================] - 48s 266ms/step - loss: 0.5987 - acc: 0.6736 - val_loss: 0.5500 - val_acc: 0.7203\n",
            "Epoch 166/250\n",
            "178/178 [==============================] - 49s 266ms/step - loss: 0.6072 - acc: 0.6768 - val_loss: 0.5386 - val_acc: 0.7256\n",
            "Epoch 167/250\n",
            "178/178 [==============================] - 48s 267ms/step - loss: 0.6038 - acc: 0.6782 - val_loss: 0.5411 - val_acc: 0.7256\n",
            "Epoch 168/250\n",
            "178/178 [==============================] - 49s 269ms/step - loss: 0.5974 - acc: 0.6888 - val_loss: 0.5696 - val_acc: 0.7076\n",
            "Epoch 169/250\n",
            "178/178 [==============================] - 48s 267ms/step - loss: 0.5960 - acc: 0.6912 - val_loss: 0.5378 - val_acc: 0.7299\n",
            "Epoch 170/250\n",
            "178/178 [==============================] - 48s 265ms/step - loss: 0.6024 - acc: 0.6863 - val_loss: 0.5426 - val_acc: 0.7225\n",
            "Epoch 171/250\n",
            "178/178 [==============================] - 49s 267ms/step - loss: 0.6051 - acc: 0.6771 - val_loss: 0.5364 - val_acc: 0.7235\n",
            "Epoch 172/250\n",
            "178/178 [==============================] - 49s 270ms/step - loss: 0.6122 - acc: 0.6658 - val_loss: 0.5335 - val_acc: 0.7331\n",
            "Epoch 173/250\n",
            "178/178 [==============================] - 48s 264ms/step - loss: 0.5949 - acc: 0.6944 - val_loss: 0.6631 - val_acc: 0.6494\n",
            "Epoch 174/250\n",
            "178/178 [==============================] - 50s 275ms/step - loss: 0.6057 - acc: 0.6807 - val_loss: 0.5573 - val_acc: 0.7150\n",
            "Epoch 175/250\n",
            "178/178 [==============================] - 54s 298ms/step - loss: 0.6220 - acc: 0.6694 - val_loss: 0.5569 - val_acc: 0.7140\n",
            "Epoch 176/250\n",
            "178/178 [==============================] - 49s 269ms/step - loss: 0.5978 - acc: 0.6821 - val_loss: 0.5699 - val_acc: 0.7076\n",
            "Epoch 177/250\n",
            "178/178 [==============================] - 48s 264ms/step - loss: 0.6069 - acc: 0.6673 - val_loss: 0.5513 - val_acc: 0.7140\n",
            "Epoch 178/250\n",
            "178/178 [==============================] - 48s 268ms/step - loss: 0.6070 - acc: 0.6740 - val_loss: 0.5677 - val_acc: 0.7193\n",
            "Epoch 179/250\n",
            "178/178 [==============================] - 48s 267ms/step - loss: 0.6195 - acc: 0.6694 - val_loss: 0.5364 - val_acc: 0.7203\n",
            "Epoch 180/250\n",
            "178/178 [==============================] - 48s 266ms/step - loss: 0.6062 - acc: 0.6891 - val_loss: 0.5590 - val_acc: 0.7097\n",
            "Epoch 181/250\n",
            "178/178 [==============================] - 47s 258ms/step - loss: 0.6108 - acc: 0.6708 - val_loss: 0.5885 - val_acc: 0.7013\n",
            "Epoch 182/250\n",
            "178/178 [==============================] - 48s 267ms/step - loss: 0.5981 - acc: 0.6874 - val_loss: 0.5387 - val_acc: 0.7150\n",
            "Epoch 183/250\n",
            "178/178 [==============================] - 48s 266ms/step - loss: 0.6179 - acc: 0.6704 - val_loss: 0.5452 - val_acc: 0.7129\n",
            "Epoch 184/250\n",
            "178/178 [==============================] - 48s 266ms/step - loss: 0.6027 - acc: 0.6853 - val_loss: 0.5432 - val_acc: 0.7288\n",
            "Epoch 185/250\n",
            "178/178 [==============================] - 48s 269ms/step - loss: 0.6116 - acc: 0.6694 - val_loss: 0.5416 - val_acc: 0.7140\n",
            "Epoch 186/250\n",
            "178/178 [==============================] - 48s 268ms/step - loss: 0.6027 - acc: 0.6821 - val_loss: 0.5369 - val_acc: 0.7161\n",
            "Epoch 187/250\n",
            "178/178 [==============================] - 49s 268ms/step - loss: 0.6123 - acc: 0.6778 - val_loss: 0.5503 - val_acc: 0.7150\n",
            "Epoch 188/250\n",
            "178/178 [==============================] - 48s 268ms/step - loss: 0.6040 - acc: 0.6800 - val_loss: 0.5413 - val_acc: 0.7182\n",
            "Epoch 189/250\n",
            "178/178 [==============================] - 48s 267ms/step - loss: 0.6039 - acc: 0.6771 - val_loss: 0.5458 - val_acc: 0.7182\n",
            "Epoch 190/250\n",
            "178/178 [==============================] - 48s 268ms/step - loss: 0.6041 - acc: 0.6733 - val_loss: 0.5489 - val_acc: 0.7182\n",
            "Epoch 191/250\n",
            "178/178 [==============================] - 49s 268ms/step - loss: 0.6101 - acc: 0.6785 - val_loss: 0.5474 - val_acc: 0.7182\n",
            "Epoch 192/250\n",
            "178/178 [==============================] - 48s 268ms/step - loss: 0.6073 - acc: 0.6789 - val_loss: 0.5964 - val_acc: 0.6960\n",
            "Epoch 193/250\n",
            "178/178 [==============================] - 47s 259ms/step - loss: 0.5944 - acc: 0.6849 - val_loss: 0.5565 - val_acc: 0.7150\n",
            "Epoch 194/250\n",
            "178/178 [==============================] - 48s 267ms/step - loss: 0.5989 - acc: 0.6881 - val_loss: 0.5501 - val_acc: 0.7235\n",
            "Epoch 195/250\n",
            "178/178 [==============================] - 52s 287ms/step - loss: 0.5995 - acc: 0.6870 - val_loss: 0.5426 - val_acc: 0.7129\n",
            "Epoch 196/250\n",
            "178/178 [==============================] - 47s 262ms/step - loss: 0.5995 - acc: 0.6860 - val_loss: 0.5833 - val_acc: 0.6981\n",
            "Epoch 197/250\n",
            "178/178 [==============================] - 51s 284ms/step - loss: 0.5979 - acc: 0.6838 - val_loss: 0.5443 - val_acc: 0.7182\n",
            "Epoch 198/250\n",
            "178/178 [==============================] - 45s 245ms/step - loss: 0.6003 - acc: 0.6810 - val_loss: 0.5424 - val_acc: 0.7214\n",
            "Epoch 199/250\n",
            "178/178 [==============================] - 46s 251ms/step - loss: 0.6007 - acc: 0.6729 - val_loss: 0.5411 - val_acc: 0.7087\n",
            "Epoch 200/250\n",
            "178/178 [==============================] - 47s 260ms/step - loss: 0.6009 - acc: 0.6743 - val_loss: 0.5444 - val_acc: 0.7066\n",
            "Epoch 201/250\n",
            "178/178 [==============================] - 47s 263ms/step - loss: 0.6071 - acc: 0.6754 - val_loss: 0.5443 - val_acc: 0.7150\n",
            "Epoch 202/250\n",
            "178/178 [==============================] - 46s 256ms/step - loss: 0.6114 - acc: 0.6785 - val_loss: 0.5844 - val_acc: 0.7097\n",
            "Epoch 203/250\n",
            "178/178 [==============================] - 45s 243ms/step - loss: 0.6062 - acc: 0.6697 - val_loss: 0.5458 - val_acc: 0.7193\n",
            "Epoch 204/250\n",
            "178/178 [==============================] - 47s 258ms/step - loss: 0.5974 - acc: 0.6845 - val_loss: 0.5544 - val_acc: 0.7097\n",
            "Epoch 205/250\n",
            "178/178 [==============================] - 46s 255ms/step - loss: 0.6045 - acc: 0.6877 - val_loss: 0.5835 - val_acc: 0.7023\n",
            "Epoch 206/250\n",
            "178/178 [==============================] - 48s 261ms/step - loss: 0.5995 - acc: 0.6793 - val_loss: 0.5656 - val_acc: 0.7097\n",
            "Epoch 207/250\n",
            "178/178 [==============================] - 53s 293ms/step - loss: 0.5940 - acc: 0.6884 - val_loss: 0.5474 - val_acc: 0.7150\n",
            "Epoch 208/250\n",
            "178/178 [==============================] - 48s 264ms/step - loss: 0.6091 - acc: 0.6807 - val_loss: 0.5588 - val_acc: 0.7140\n",
            "Epoch 209/250\n",
            "178/178 [==============================] - 47s 261ms/step - loss: 0.6107 - acc: 0.6757 - val_loss: 0.5708 - val_acc: 0.7076\n",
            "Epoch 210/250\n",
            "178/178 [==============================] - 46s 254ms/step - loss: 0.6152 - acc: 0.6708 - val_loss: 0.5894 - val_acc: 0.6970\n",
            "Epoch 211/250\n",
            "178/178 [==============================] - 45s 249ms/step - loss: 0.6016 - acc: 0.6775 - val_loss: 0.5549 - val_acc: 0.7203\n",
            "Epoch 212/250\n",
            "178/178 [==============================] - 47s 262ms/step - loss: 0.5959 - acc: 0.6824 - val_loss: 0.5740 - val_acc: 0.7066\n",
            "Epoch 213/250\n",
            "178/178 [==============================] - 47s 261ms/step - loss: 0.6102 - acc: 0.6754 - val_loss: 0.5578 - val_acc: 0.7097\n",
            "Epoch 214/250\n",
            "178/178 [==============================] - 47s 261ms/step - loss: 0.6204 - acc: 0.6644 - val_loss: 0.5930 - val_acc: 0.6960\n",
            "Epoch 215/250\n",
            "178/178 [==============================] - 47s 258ms/step - loss: 0.6082 - acc: 0.6658 - val_loss: 0.5842 - val_acc: 0.7087\n",
            "Epoch 216/250\n",
            "178/178 [==============================] - 46s 253ms/step - loss: 0.6161 - acc: 0.6704 - val_loss: 0.5433 - val_acc: 0.7214\n",
            "Epoch 217/250\n",
            "178/178 [==============================] - 45s 249ms/step - loss: 0.6083 - acc: 0.6704 - val_loss: 0.6310 - val_acc: 0.6748\n",
            "Epoch 218/250\n",
            "178/178 [==============================] - 45s 249ms/step - loss: 0.6069 - acc: 0.6740 - val_loss: 0.5809 - val_acc: 0.7002\n",
            "Epoch 219/250\n",
            "178/178 [==============================] - 46s 256ms/step - loss: 0.5845 - acc: 0.6905 - val_loss: 0.5627 - val_acc: 0.7087\n",
            "Epoch 220/250\n",
            "178/178 [==============================] - 47s 260ms/step - loss: 0.5946 - acc: 0.6761 - val_loss: 0.5619 - val_acc: 0.7150\n",
            "Epoch 221/250\n",
            "178/178 [==============================] - 47s 259ms/step - loss: 0.6131 - acc: 0.6789 - val_loss: 0.6101 - val_acc: 0.6970\n",
            "Epoch 222/250\n",
            "178/178 [==============================] - 47s 259ms/step - loss: 0.6087 - acc: 0.6722 - val_loss: 0.5864 - val_acc: 0.6981\n",
            "Epoch 223/250\n",
            "178/178 [==============================] - 47s 262ms/step - loss: 0.6002 - acc: 0.6775 - val_loss: 0.5465 - val_acc: 0.7150\n",
            "Epoch 224/250\n",
            "178/178 [==============================] - 47s 261ms/step - loss: 0.6127 - acc: 0.6725 - val_loss: 0.5664 - val_acc: 0.7150\n",
            "Epoch 225/250\n",
            "178/178 [==============================] - 47s 262ms/step - loss: 0.6067 - acc: 0.6733 - val_loss: 0.5472 - val_acc: 0.7161\n",
            "Epoch 226/250\n",
            "178/178 [==============================] - 47s 258ms/step - loss: 0.6174 - acc: 0.6761 - val_loss: 0.5465 - val_acc: 0.7246\n",
            "Epoch 227/250\n",
            "178/178 [==============================] - 47s 256ms/step - loss: 0.6052 - acc: 0.6785 - val_loss: 0.5488 - val_acc: 0.7203\n",
            "Epoch 228/250\n",
            "178/178 [==============================] - 47s 259ms/step - loss: 0.6013 - acc: 0.6870 - val_loss: 0.5397 - val_acc: 0.7182\n",
            "Epoch 229/250\n",
            "178/178 [==============================] - 46s 251ms/step - loss: 0.6107 - acc: 0.6747 - val_loss: 0.5394 - val_acc: 0.7246\n",
            "Epoch 230/250\n",
            "178/178 [==============================] - 47s 262ms/step - loss: 0.6167 - acc: 0.6627 - val_loss: 0.5432 - val_acc: 0.7225\n",
            "Epoch 231/250\n",
            "178/178 [==============================] - 47s 261ms/step - loss: 0.5937 - acc: 0.6863 - val_loss: 0.5374 - val_acc: 0.7150\n",
            "Epoch 232/250\n",
            "178/178 [==============================] - 47s 258ms/step - loss: 0.6077 - acc: 0.6807 - val_loss: 0.5752 - val_acc: 0.7087\n",
            "Epoch 233/250\n",
            "178/178 [==============================] - 47s 255ms/step - loss: 0.6030 - acc: 0.6778 - val_loss: 0.5643 - val_acc: 0.7097\n",
            "Epoch 234/250\n",
            "178/178 [==============================] - 45s 248ms/step - loss: 0.6086 - acc: 0.6754 - val_loss: 0.5425 - val_acc: 0.7225\n",
            "Epoch 235/250\n",
            "178/178 [==============================] - 46s 252ms/step - loss: 0.5964 - acc: 0.6898 - val_loss: 0.5353 - val_acc: 0.7267\n",
            "Epoch 236/250\n",
            "178/178 [==============================] - 46s 257ms/step - loss: 0.5921 - acc: 0.6877 - val_loss: 0.5539 - val_acc: 0.7150\n",
            "Epoch 237/250\n",
            "178/178 [==============================] - 47s 259ms/step - loss: 0.6038 - acc: 0.6775 - val_loss: 0.5513 - val_acc: 0.7193\n",
            "Epoch 238/250\n",
            "178/178 [==============================] - 47s 259ms/step - loss: 0.6029 - acc: 0.6785 - val_loss: 0.5340 - val_acc: 0.7309\n",
            "Epoch 239/250\n",
            "178/178 [==============================] - 47s 257ms/step - loss: 0.6007 - acc: 0.6877 - val_loss: 0.5597 - val_acc: 0.7140\n",
            "Epoch 240/250\n",
            "178/178 [==============================] - 47s 262ms/step - loss: 0.6048 - acc: 0.6704 - val_loss: 0.5417 - val_acc: 0.7214\n",
            "Epoch 241/250\n",
            "178/178 [==============================] - 47s 263ms/step - loss: 0.5987 - acc: 0.6916 - val_loss: 0.5378 - val_acc: 0.7288\n",
            "Epoch 242/250\n",
            "178/178 [==============================] - 47s 262ms/step - loss: 0.6082 - acc: 0.6782 - val_loss: 0.5357 - val_acc: 0.7299\n",
            "Epoch 243/250\n",
            "178/178 [==============================] - 47s 259ms/step - loss: 0.6078 - acc: 0.6725 - val_loss: 0.5357 - val_acc: 0.7267\n",
            "Epoch 244/250\n",
            "178/178 [==============================] - 46s 251ms/step - loss: 0.6040 - acc: 0.6881 - val_loss: 0.5547 - val_acc: 0.7087\n",
            "Epoch 245/250\n",
            "178/178 [==============================] - 46s 252ms/step - loss: 0.6182 - acc: 0.6673 - val_loss: 0.5407 - val_acc: 0.7246\n",
            "Epoch 246/250\n",
            "178/178 [==============================] - 45s 251ms/step - loss: 0.6015 - acc: 0.6718 - val_loss: 0.5539 - val_acc: 0.7087\n",
            "Epoch 247/250\n",
            "178/178 [==============================] - 47s 261ms/step - loss: 0.6004 - acc: 0.6842 - val_loss: 0.5427 - val_acc: 0.7225\n",
            "Epoch 248/250\n",
            "178/178 [==============================] - 47s 261ms/step - loss: 0.5948 - acc: 0.6831 - val_loss: 0.5426 - val_acc: 0.7267\n",
            "Epoch 249/250\n",
            "178/178 [==============================] - 47s 258ms/step - loss: 0.5911 - acc: 0.6958 - val_loss: 0.5436 - val_acc: 0.7161\n",
            "Epoch 250/250\n",
            "178/178 [==============================] - 47s 258ms/step - loss: 0.6029 - acc: 0.6810 - val_loss: 0.5520 - val_acc: 0.7161\n"
          ]
        }
      ]
    },
    {
      "cell_type": "code",
      "source": [
        "acc = history.history['acc']\n",
        "val_acc = history.history['val_acc']\n",
        "loss = history.history['loss']\n",
        "val_loss = history.history['val_loss']\n",
        "\n",
        "epochs_x = range(len(acc))\n",
        "\n",
        "plt.plot(epochs_x, acc, 'go', label='Training acc')\n",
        "plt.plot(epochs_x, val_acc, 'k', label='Validation acc')\n",
        "plt.title('Training and validation accuracy')\n",
        "plt.legend()\n",
        "\n",
        "plt.figure()\n",
        "\n",
        "plt.plot(epochs_x, loss, 'go', label='Training loss')\n",
        "plt.plot(epochs_x, val_loss, 'k', label='Validation loss')\n",
        "plt.title('Training and validation loss')\n",
        "plt.legend()\n",
        "\n",
        "plt.show()"
      ],
      "metadata": {
        "id": "kwylTJpTP5XI",
        "colab": {
          "base_uri": "https://localhost:8080/",
          "height": 545
        },
        "outputId": "5cd7fa9f-8a22-4fa9-847a-7ed91c844970"
      },
      "execution_count": 16,
      "outputs": [
        {
          "output_type": "display_data",
          "data": {
            "text/plain": [
              "<Figure size 432x288 with 1 Axes>"
            ],
            "image/png": "[encoded data removed]"
          },
          "metadata": {
            "needs_background": "light"
          }
        },
        {
          "output_type": "display_data",
          "data": {
            "text/plain": [
              "<Figure size 432x288 with 1 Axes>"
            ],
            "image/png": "[encoded data removed]"
          },
          "metadata": {
            "needs_background": "light"
          }
        }
      ]
    },
    {
      "cell_type": "markdown",
      "source": [
        "#Download the model"
      ],
      "metadata": {
        "id": "lD-vKaoHQAFd"
      }
    },
    {
      "cell_type": "code",
      "source": [
        "os.makedirs('/content/drive/My Drive/cut_panoramic/Model', exist_ok=True)\n",
        "model.save('/content/drive/My Drive/cut_panoramic/Model/(8e-5)_Gender4_250_Unfreeze.h5')"
      ],
      "metadata": {
        "id": "74dL7-HLP_Sh"
      },
      "execution_count": 17,
      "outputs": []
    },
    {
      "cell_type": "code",
      "source": [
        "from google.colab import files\n",
        "files.download('/content/drive/My Drive/cut_panoramic/Model/(8e-5)_Gender4_250_Unfreeze.h5')"
      ],
      "metadata": {
        "id": "qcPW-brHQDpc",
        "colab": {
          "base_uri": "https://localhost:8080/",
          "height": 17
        },
        "outputId": "b097ba70-cb38-4345-d4a5-c87e65c39371"
      },
      "execution_count": 18,
      "outputs": [
        {
          "output_type": "display_data",
          "data": {
            "text/plain": [
              "<IPython.core.display.Javascript object>"
            ],
            "application/javascript": [
              "\n",
              "    async function download(id, filename, size) {\n",
              "      if (!google.colab.kernel.accessAllowed) {\n",
              "        return;\n",
              "      }\n",
              "      const div = document.createElement('div');\n",
              "      const label = document.createElement('label');\n",
              "      label.textContent = `Downloading \"${filename}\": `;\n",
              "      div.appendChild(label);\n",
              "      const progress = document.createElement('progress');\n",
              "      progress.max = size;\n",
              "      div.appendChild(progress);\n",
              "      document.body.appendChild(div);\n",
              "\n",
              "      const buffers = [];\n",
              "      let downloaded = 0;\n",
              "\n",
              "      const channel = await google.colab.kernel.comms.open(id);\n",
              "      // Send a message to notify the kernel that we're ready.\n",
              "      channel.send({})\n",
              "\n",
              "      for await (const message of channel.messages) {\n",
              "        // Send a message to notify the kernel that we're ready.\n",
              "        channel.send({})\n",
              "        if (message.buffers) {\n",
              "          for (const buffer of message.buffers) {\n",
              "            buffers.push(buffer);\n",
              "            downloaded += buffer.byteLength;\n",
              "            progress.value = downloaded;\n",
              "          }\n",
              "        }\n",
              "      }\n",
              "      const blob = new Blob(buffers, {type: 'application/binary'});\n",
              "      const a = document.createElement('a');\n",
              "      a.href = window.URL.createObjectURL(blob);\n",
              "      a.download = filename;\n",
              "      div.appendChild(a);\n",
              "      a.click();\n",
              "      div.remove();\n",
              "    }\n",
              "  "
            ]
          },
          "metadata": {}
        },
        {
          "output_type": "display_data",
          "data": {
            "text/plain": [
              "<IPython.core.display.Javascript object>"
            ],
            "application/javascript": [
              "download(\"download_0d600608-1a46-4bbd-bded-998685cca25b\", \"(8e-5)_Gender4_250_Unfreeze.h5\", 16602472)"
            ]
          },
          "metadata": {}
        }
      ]
    },
    {
      "cell_type": "code",
      "source": [],
      "metadata": {
        "id": "r5WoXVo8mVpF"
      },
      "execution_count": 18,
      "outputs": []
    }
  ]
}