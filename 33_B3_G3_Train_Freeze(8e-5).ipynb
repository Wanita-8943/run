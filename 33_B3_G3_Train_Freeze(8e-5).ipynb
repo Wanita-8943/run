{
  "nbformat": 4,
  "nbformat_minor": 0,
  "metadata": {
    "colab": {
      "provenance": [],
      "machine_shape": "hm",
      "include_colab_link": true
    },
    "kernelspec": {
      "name": "python3",
      "display_name": "Python 3"
    },
    "language_info": {
      "name": "python"
    },
    "accelerator": "GPU",
    "gpuClass": "standard"
  },
  "cells": [
    {
      "cell_type": "markdown",
      "metadata": {
        "id": "view-in-github",
        "colab_type": "text"
      },
      "source": [
        "<a href=\"https://colab.research.google.com/github/Wanita-8943/run/blob/main/33_B3_G3_Train_Freeze(8e-5).ipynb\" target=\"_parent\"><img src=\"https://colab.research.google.com/assets/colab-badge.svg\" alt=\"Open In Colab\"/></a>"
      ]
    },
    {
      "cell_type": "markdown",
      "source": [
        "#เรียกใช้ CSV"
      ],
      "metadata": {
        "id": "ow7eWoNw6U-c"
      }
    },
    {
      "cell_type": "code",
      "execution_count": null,
      "metadata": {
        "id": "z8o_VVNXzcL8"
      },
      "outputs": [],
      "source": [
        "import pandas as pd\n",
        "import shutil"
      ]
    },
    {
      "cell_type": "code",
      "source": [
        "from google.colab import drive\n",
        "drive.mount('/content/drive')"
      ],
      "metadata": {
        "colab": {
          "base_uri": "https://localhost:8080/"
        },
        "id": "1_2Fe8u81d5r",
        "outputId": "86024cde-4836-425c-fa7b-71442163670f"
      },
      "execution_count": null,
      "outputs": [
        {
          "output_type": "stream",
          "name": "stdout",
          "text": [
            "Mounted at /content/drive\n"
          ]
        }
      ]
    },
    {
      "cell_type": "markdown",
      "source": [
        "#Imports"
      ],
      "metadata": {
        "id": "5qxePnnn7TGW"
      }
    },
    {
      "cell_type": "code",
      "source": [
        "from tensorflow.keras import models\n",
        "from tensorflow.keras import layers\n",
        "from tensorflow.keras import optimizers\n",
        "import os\n",
        "import glob\n",
        "import shutil\n",
        "import sys\n",
        "import numpy as np\n",
        "from skimage.io import imread\n",
        "import matplotlib.pyplot as plt\n",
        "from IPython.display import Image\n",
        "%matplotlib inline"
      ],
      "metadata": {
        "id": "D-hCRloc3t39"
      },
      "execution_count": null,
      "outputs": []
    },
    {
      "cell_type": "code",
      "source": [
        "import tensorflow as tf\n",
        "from tensorflow.keras import Sequential\n",
        "from tensorflow.keras.layers import Dense\n",
        "from tensorflow.keras.optimizers import Adam\n",
        "from tensorflow.keras import backend as K"
      ],
      "metadata": {
        "id": "YZWXwjXeGxZP"
      },
      "execution_count": null,
      "outputs": []
    },
    {
      "cell_type": "markdown",
      "source": [
        "#กำหนดค่าพารามิเตอร์\n"
      ],
      "metadata": {
        "id": "RooqSdBc7QHC"
      }
    },
    {
      "cell_type": "code",
      "source": [
        "batch_size = 16\n",
        "width = 150\n",
        "height = 150\n",
        "epochs = 250\n",
        "NUM_TRAIN = 2850\n",
        "NUM_TEST = 950\n",
        "dropout_rate = 0.2\n",
        "input_shape = (height, width, 3)"
      ],
      "metadata": {
        "id": "thDb7U9B3xOo"
      },
      "execution_count": null,
      "outputs": []
    },
    {
      "cell_type": "markdown",
      "source": [
        "#Clone efficientnet repo\n"
      ],
      "metadata": {
        "id": "pumGmy6f3eSW"
      }
    },
    {
      "cell_type": "code",
      "source": [
        "#ดึงข้อมูลใน Github มาใช้\n",
        "import os\n",
        "%cd /content\n",
        "if not os.path.isdir(\"efficientnet_keras_transfer_learning\"):\n",
        " !git clone https://github.com/Wanita-8943/efficientnet_keras_transfer_learning\n",
        "%cd efficientnet_keras_transfer_learning/\n"
      ],
      "metadata": {
        "colab": {
          "base_uri": "https://localhost:8080/"
        },
        "id": "P7iy2f8n16p0",
        "outputId": "3b4ff5b9-1514-4867-dedd-9d6e6581e95c"
      },
      "execution_count": null,
      "outputs": [
        {
          "output_type": "stream",
          "name": "stdout",
          "text": [
            "/content\n",
            "Cloning into 'efficientnet_keras_transfer_learning'...\n",
            "remote: Enumerating objects: 1070, done.\u001b[K\n",
            "remote: Counting objects: 100% (233/233), done.\u001b[K\n",
            "remote: Compressing objects: 100% (154/154), done.\u001b[K\n",
            "remote: Total 1070 (delta 115), reused 161 (delta 79), pack-reused 837\u001b[K\n",
            "Receiving objects: 100% (1070/1070), 13.93 MiB | 19.33 MiB/s, done.\n",
            "Resolving deltas: 100% (612/612), done.\n",
            "/content/efficientnet_keras_transfer_learning\n"
          ]
        }
      ]
    },
    {
      "cell_type": "code",
      "source": [
        "# Options: EfficientNetB0, EfficientNetB1, EfficientNetB2, EfficientNetB3\n",
        "# Higher the number, the more complex the model is.\n",
        "from efficientnet import EfficientNetB3 as Net\n",
        "from efficientnet import center_crop_and_resize, preprocess_input"
      ],
      "metadata": {
        "id": "tjZBRnfo3bN0"
      },
      "execution_count": null,
      "outputs": []
    },
    {
      "cell_type": "markdown",
      "source": [
        "#load model\n"
      ],
      "metadata": {
        "id": "VMiA-fZXyzFR"
      }
    },
    {
      "cell_type": "code",
      "source": [
        "import sys\n",
        "sys.path.append('/content/drive/MyDrive/cut_panoramic/Model/2_B3_G2_Freeze_250.h5')\n",
        "\n",
        "from efficientnet.layers import Swish, DropConnect\n",
        "from efficientnet.model import ConvKernalInitializer\n",
        "from tensorflow.keras.utils import get_custom_objects\n",
        "\n",
        "get_custom_objects().update({\n",
        "    'ConvKernalInitializer': ConvKernalInitializer,\n",
        "    'Swish': Swish,\n",
        "    'DropConnect':DropConnect\n",
        "})"
      ],
      "metadata": {
        "id": "1ZZolGEZy6hc"
      },
      "execution_count": null,
      "outputs": []
    },
    {
      "cell_type": "code",
      "source": [
        "#load model \n",
        "from tensorflow.keras.models import load_model\n",
        "model = load_model('/content/drive/MyDrive/cut_panoramic/Model/2_B3_G2_Freeze_250.h5')\n",
        "height = width = model.input_shape[1]"
      ],
      "metadata": {
        "id": "qTChm25Ay85u",
        "colab": {
          "base_uri": "https://localhost:8080/"
        },
        "outputId": "d9383859-09a2-4943-9736-42626b61d053"
      },
      "execution_count": null,
      "outputs": [
        {
          "output_type": "stream",
          "name": "stderr",
          "text": [
            "WARNING:tensorflow:From /usr/local/lib/python3.9/dist-packages/tensorflow/python/autograph/pyct/static_analysis/liveness.py:83: Analyzer.lamba_check (from tensorflow.python.autograph.pyct.static_analysis.liveness) is deprecated and will be removed after 2023-09-23.\n",
            "Instructions for updating:\n",
            "Lambda fuctions will be no more assumed to be used in the statement where they are used, or at least in the same block. https://github.com/tensorflow/tensorflow/issues/56089\n"
          ]
        }
      ]
    },
    {
      "cell_type": "code",
      "source": [
        "model.summary()"
      ],
      "metadata": {
        "id": "NadBB12251jh",
        "outputId": "cf1d686b-871c-449f-aee6-eb651a64db40",
        "colab": {
          "base_uri": "https://localhost:8080/"
        }
      },
      "execution_count": null,
      "outputs": [
        {
          "output_type": "stream",
          "name": "stdout",
          "text": [
            "Model: \"sequential\"\n",
            "_________________________________________________________________\n",
            " Layer (type)                Output Shape              Param #   \n",
            "=================================================================\n",
            " efficientnet-b3 (Functional  (None, 5, 5, 1536)       10783528  \n",
            " )                                                               \n",
            "                                                                 \n",
            " gap (GlobalMaxPooling2D)    (None, 1536)              0         \n",
            "                                                                 \n",
            " dropout_out (Dropout)       (None, 1536)              0         \n",
            "                                                                 \n",
            " fc_out (Dense)              (None, 2)                 3074      \n",
            "                                                                 \n",
            "=================================================================\n",
            "Total params: 10,786,602\n",
            "Trainable params: 3,074\n",
            "Non-trainable params: 10,783,528\n",
            "_________________________________________________________________\n"
          ]
        }
      ]
    },
    {
      "cell_type": "markdown",
      "source": [
        "#สร้างโฟลเดอร์ Train Valodation และ Test"
      ],
      "metadata": {
        "id": "J36J9EAE7qSB"
      }
    },
    {
      "cell_type": "code",
      "source": [
        "df = pd.read_csv (r'/content/drive/MyDrive/cut_panoramic/Data/New_Data_Gender.csv')\n",
        "df"
      ],
      "metadata": {
        "colab": {
          "base_uri": "https://localhost:8080/",
          "height": 424
        },
        "id": "skoKhKJDngAZ",
        "outputId": "0b36de7e-7776-4224-ade1-e35876d1f5c1"
      },
      "execution_count": null,
      "outputs": [
        {
          "output_type": "execute_result",
          "data": {
            "text/plain": [
              "      Fig_Age  Fig_Person_Sex  Age(year) Class  Class_Re       Filename  \\\n",
              "0           1               1          7  Y07F         0         V1.jpg   \n",
              "1           2               1          7  Y07F         0    Flip_V1.jpg   \n",
              "2           3               2          7  Y07F         0         V2.jpg   \n",
              "3           4               2          7  Y07F         0    Flip_V2.jpg   \n",
              "4           5               3          7  Y07F         0         V3.jpg   \n",
              "...       ...             ...        ...   ...       ...            ...   \n",
              "4745      121              77         25  Y25M         1  Flip_J463.jpg   \n",
              "4746      122              78         25  Y25M         1       J464.jpg   \n",
              "4747      123              78         25  Y25M         1  Flip_J464.jpg   \n",
              "4748      124              79         25  Y25M         1       J465.jpg   \n",
              "4749      125              79         25  Y25M         1  Flip_J465.jpg   \n",
              "\n",
              "                                          Path_filename     Sex Floder  \n",
              "0     /content/drive/My Drive/TVT_Gender/train/Femal...  Female   Both  \n",
              "1     /content/drive/My Drive/TVT_Gender/train/Femal...  Female   Both  \n",
              "2     /content/drive/My Drive/TVT_Gender/train/Femal...  Female   Both  \n",
              "3     /content/drive/My Drive/TVT_Gender/train/Femal...  Female   Both  \n",
              "4     /content/drive/My Drive/TVT_Gender/train/Femal...  Female   Both  \n",
              "...                                                 ...     ...    ...  \n",
              "4745  /content/drive/My Drive/TVT_Gender/test/Male/F...    Male   Both  \n",
              "4746  /content/drive/My Drive/TVT_Gender/test/Male/J...    Male   Both  \n",
              "4747  /content/drive/My Drive/TVT_Gender/test/Male/F...    Male   Both  \n",
              "4748  /content/drive/My Drive/TVT_Gender/test/Male/J...    Male   Both  \n",
              "4749  /content/drive/My Drive/TVT_Gender/test/Male/F...    Male   Both  \n",
              "\n",
              "[4750 rows x 9 columns]"
            ],
            "text/html": [
              "\n",
              "  <div id=\"df-5d517882-2c1f-4240-9ee9-fea6ef679833\">\n",
              "    <div class=\"colab-df-container\">\n",
              "      <div>\n",
              "<style scoped>\n",
              "    .dataframe tbody tr th:only-of-type {\n",
              "        vertical-align: middle;\n",
              "    }\n",
              "\n",
              "    .dataframe tbody tr th {\n",
              "        vertical-align: top;\n",
              "    }\n",
              "\n",
              "    .dataframe thead th {\n",
              "        text-align: right;\n",
              "    }\n",
              "</style>\n",
              "<table border=\"1\" class=\"dataframe\">\n",
              "  <thead>\n",
              "    <tr style=\"text-align: right;\">\n",
              "      <th></th>\n",
              "      <th>Fig_Age</th>\n",
              "      <th>Fig_Person_Sex</th>\n",
              "      <th>Age(year)</th>\n",
              "      <th>Class</th>\n",
              "      <th>Class_Re</th>\n",
              "      <th>Filename</th>\n",
              "      <th>Path_filename</th>\n",
              "      <th>Sex</th>\n",
              "      <th>Floder</th>\n",
              "    </tr>\n",
              "  </thead>\n",
              "  <tbody>\n",
              "    <tr>\n",
              "      <th>0</th>\n",
              "      <td>1</td>\n",
              "      <td>1</td>\n",
              "      <td>7</td>\n",
              "      <td>Y07F</td>\n",
              "      <td>0</td>\n",
              "      <td>V1.jpg</td>\n",
              "      <td>/content/drive/My Drive/TVT_Gender/train/Femal...</td>\n",
              "      <td>Female</td>\n",
              "      <td>Both</td>\n",
              "    </tr>\n",
              "    <tr>\n",
              "      <th>1</th>\n",
              "      <td>2</td>\n",
              "      <td>1</td>\n",
              "      <td>7</td>\n",
              "      <td>Y07F</td>\n",
              "      <td>0</td>\n",
              "      <td>Flip_V1.jpg</td>\n",
              "      <td>/content/drive/My Drive/TVT_Gender/train/Femal...</td>\n",
              "      <td>Female</td>\n",
              "      <td>Both</td>\n",
              "    </tr>\n",
              "    <tr>\n",
              "      <th>2</th>\n",
              "      <td>3</td>\n",
              "      <td>2</td>\n",
              "      <td>7</td>\n",
              "      <td>Y07F</td>\n",
              "      <td>0</td>\n",
              "      <td>V2.jpg</td>\n",
              "      <td>/content/drive/My Drive/TVT_Gender/train/Femal...</td>\n",
              "      <td>Female</td>\n",
              "      <td>Both</td>\n",
              "    </tr>\n",
              "    <tr>\n",
              "      <th>3</th>\n",
              "      <td>4</td>\n",
              "      <td>2</td>\n",
              "      <td>7</td>\n",
              "      <td>Y07F</td>\n",
              "      <td>0</td>\n",
              "      <td>Flip_V2.jpg</td>\n",
              "      <td>/content/drive/My Drive/TVT_Gender/train/Femal...</td>\n",
              "      <td>Female</td>\n",
              "      <td>Both</td>\n",
              "    </tr>\n",
              "    <tr>\n",
              "      <th>4</th>\n",
              "      <td>5</td>\n",
              "      <td>3</td>\n",
              "      <td>7</td>\n",
              "      <td>Y07F</td>\n",
              "      <td>0</td>\n",
              "      <td>V3.jpg</td>\n",
              "      <td>/content/drive/My Drive/TVT_Gender/train/Femal...</td>\n",
              "      <td>Female</td>\n",
              "      <td>Both</td>\n",
              "    </tr>\n",
              "    <tr>\n",
              "      <th>...</th>\n",
              "      <td>...</td>\n",
              "      <td>...</td>\n",
              "      <td>...</td>\n",
              "      <td>...</td>\n",
              "      <td>...</td>\n",
              "      <td>...</td>\n",
              "      <td>...</td>\n",
              "      <td>...</td>\n",
              "      <td>...</td>\n",
              "    </tr>\n",
              "    <tr>\n",
              "      <th>4745</th>\n",
              "      <td>121</td>\n",
              "      <td>77</td>\n",
              "      <td>25</td>\n",
              "      <td>Y25M</td>\n",
              "      <td>1</td>\n",
              "      <td>Flip_J463.jpg</td>\n",
              "      <td>/content/drive/My Drive/TVT_Gender/test/Male/F...</td>\n",
              "      <td>Male</td>\n",
              "      <td>Both</td>\n",
              "    </tr>\n",
              "    <tr>\n",
              "      <th>4746</th>\n",
              "      <td>122</td>\n",
              "      <td>78</td>\n",
              "      <td>25</td>\n",
              "      <td>Y25M</td>\n",
              "      <td>1</td>\n",
              "      <td>J464.jpg</td>\n",
              "      <td>/content/drive/My Drive/TVT_Gender/test/Male/J...</td>\n",
              "      <td>Male</td>\n",
              "      <td>Both</td>\n",
              "    </tr>\n",
              "    <tr>\n",
              "      <th>4747</th>\n",
              "      <td>123</td>\n",
              "      <td>78</td>\n",
              "      <td>25</td>\n",
              "      <td>Y25M</td>\n",
              "      <td>1</td>\n",
              "      <td>Flip_J464.jpg</td>\n",
              "      <td>/content/drive/My Drive/TVT_Gender/test/Male/F...</td>\n",
              "      <td>Male</td>\n",
              "      <td>Both</td>\n",
              "    </tr>\n",
              "    <tr>\n",
              "      <th>4748</th>\n",
              "      <td>124</td>\n",
              "      <td>79</td>\n",
              "      <td>25</td>\n",
              "      <td>Y25M</td>\n",
              "      <td>1</td>\n",
              "      <td>J465.jpg</td>\n",
              "      <td>/content/drive/My Drive/TVT_Gender/test/Male/J...</td>\n",
              "      <td>Male</td>\n",
              "      <td>Both</td>\n",
              "    </tr>\n",
              "    <tr>\n",
              "      <th>4749</th>\n",
              "      <td>125</td>\n",
              "      <td>79</td>\n",
              "      <td>25</td>\n",
              "      <td>Y25M</td>\n",
              "      <td>1</td>\n",
              "      <td>Flip_J465.jpg</td>\n",
              "      <td>/content/drive/My Drive/TVT_Gender/test/Male/F...</td>\n",
              "      <td>Male</td>\n",
              "      <td>Both</td>\n",
              "    </tr>\n",
              "  </tbody>\n",
              "</table>\n",
              "<p>4750 rows × 9 columns</p>\n",
              "</div>\n",
              "      <button class=\"colab-df-convert\" onclick=\"convertToInteractive('df-5d517882-2c1f-4240-9ee9-fea6ef679833')\"\n",
              "              title=\"Convert this dataframe to an interactive table.\"\n",
              "              style=\"display:none;\">\n",
              "        \n",
              "  <svg xmlns=\"http://www.w3.org/2000/svg\" height=\"24px\"viewBox=\"0 0 24 24\"\n",
              "       width=\"24px\">\n",
              "    <path d=\"M0 0h24v24H0V0z\" fill=\"none\"/>\n",
              "    <path d=\"M18.56 5.44l.94 2.06.94-2.06 2.06-.94-2.06-.94-.94-2.06-.94 2.06-2.06.94zm-11 1L8.5 8.5l.94-2.06 2.06-.94-2.06-.94L8.5 2.5l-.94 2.06-2.06.94zm10 10l.94 2.06.94-2.06 2.06-.94-2.06-.94-.94-2.06-.94 2.06-2.06.94z\"/><path d=\"M17.41 7.96l-1.37-1.37c-.4-.4-.92-.59-1.43-.59-.52 0-1.04.2-1.43.59L10.3 9.45l-7.72 7.72c-.78.78-.78 2.05 0 2.83L4 21.41c.39.39.9.59 1.41.59.51 0 1.02-.2 1.41-.59l7.78-7.78 2.81-2.81c.8-.78.8-2.07 0-2.86zM5.41 20L4 18.59l7.72-7.72 1.47 1.35L5.41 20z\"/>\n",
              "  </svg>\n",
              "      </button>\n",
              "      \n",
              "  <style>\n",
              "    .colab-df-container {\n",
              "      display:flex;\n",
              "      flex-wrap:wrap;\n",
              "      gap: 12px;\n",
              "    }\n",
              "\n",
              "    .colab-df-convert {\n",
              "      background-color: #E8F0FE;\n",
              "      border: none;\n",
              "      border-radius: 50%;\n",
              "      cursor: pointer;\n",
              "      display: none;\n",
              "      fill: #1967D2;\n",
              "      height: 32px;\n",
              "      padding: 0 0 0 0;\n",
              "      width: 32px;\n",
              "    }\n",
              "\n",
              "    .colab-df-convert:hover {\n",
              "      background-color: #E2EBFA;\n",
              "      box-shadow: 0px 1px 2px rgba(60, 64, 67, 0.3), 0px 1px 3px 1px rgba(60, 64, 67, 0.15);\n",
              "      fill: #174EA6;\n",
              "    }\n",
              "\n",
              "    [theme=dark] .colab-df-convert {\n",
              "      background-color: #3B4455;\n",
              "      fill: #D2E3FC;\n",
              "    }\n",
              "\n",
              "    [theme=dark] .colab-df-convert:hover {\n",
              "      background-color: #434B5C;\n",
              "      box-shadow: 0px 1px 3px 1px rgba(0, 0, 0, 0.15);\n",
              "      filter: drop-shadow(0px 1px 2px rgba(0, 0, 0, 0.3));\n",
              "      fill: #FFFFFF;\n",
              "    }\n",
              "  </style>\n",
              "\n",
              "      <script>\n",
              "        const buttonEl =\n",
              "          document.querySelector('#df-5d517882-2c1f-4240-9ee9-fea6ef679833 button.colab-df-convert');\n",
              "        buttonEl.style.display =\n",
              "          google.colab.kernel.accessAllowed ? 'block' : 'none';\n",
              "\n",
              "        async function convertToInteractive(key) {\n",
              "          const element = document.querySelector('#df-5d517882-2c1f-4240-9ee9-fea6ef679833');\n",
              "          const dataTable =\n",
              "            await google.colab.kernel.invokeFunction('convertToInteractive',\n",
              "                                                     [key], {});\n",
              "          if (!dataTable) return;\n",
              "\n",
              "          const docLinkHtml = 'Like what you see? Visit the ' +\n",
              "            '<a target=\"_blank\" href=https://colab.research.google.com/notebooks/data_table.ipynb>data table notebook</a>'\n",
              "            + ' to learn more about interactive tables.';\n",
              "          element.innerHTML = '';\n",
              "          dataTable['output_type'] = 'display_data';\n",
              "          await google.colab.output.renderOutput(dataTable, element);\n",
              "          const docLink = document.createElement('div');\n",
              "          docLink.innerHTML = docLinkHtml;\n",
              "          element.appendChild(docLink);\n",
              "        }\n",
              "      </script>\n",
              "    </div>\n",
              "  </div>\n",
              "  "
            ]
          },
          "metadata": {},
          "execution_count": 11
        }
      ]
    },
    {
      "cell_type": "code",
      "source": [
        "train = df[df['Fig_Age'].between(1,75)]\n",
        "val = df[df['Fig_Age'].between(76,100)]"
      ],
      "metadata": {
        "id": "Z1zBw01Gl8Ac"
      },
      "execution_count": null,
      "outputs": []
    },
    {
      "cell_type": "code",
      "source": [
        "DATA_PATH = \"/content/drive/My Drive/TVT_Gender\"\n",
        "os.chdir(DATA_PATH)\n",
        "train_dir = os.path.join(DATA_PATH, 'train')\n",
        "print(train_dir)\n",
        "validation_dir = os.path.join(DATA_PATH, 'validation')\n",
        "print(validation_dir)"
      ],
      "metadata": {
        "colab": {
          "base_uri": "https://localhost:8080/"
        },
        "id": "QL0g-8iOnMC4",
        "outputId": "5a4cf4fc-d294-4d7f-855c-918309d5c229"
      },
      "execution_count": null,
      "outputs": [
        {
          "output_type": "stream",
          "name": "stdout",
          "text": [
            "/content/drive/My Drive/TVT_Gender/train\n",
            "/content/drive/My Drive/TVT_Gender/validation\n"
          ]
        }
      ]
    },
    {
      "cell_type": "markdown",
      "source": [
        "\n",
        "#Train"
      ],
      "metadata": {
        "id": "bWEnlTSwazL5"
      }
    },
    {
      "cell_type": "code",
      "source": [
        "# Train ด้วย ImageDataGenerator ของ Keras ซึ่งจะเพิ่มข้อมูลเสริมระหว่างการฝึกเพื่อลดโอกาสเกิด overfitting\n",
        "#overfitting เกิดจากข้อมูลที่ซับซ้อนกันเกินไป\n",
        "from tensorflow.keras.preprocessing.image import ImageDataGenerator\n",
        "\n",
        "train_datagen = ImageDataGenerator(\n",
        "      rescale=1./255, #โมเดลส่วนใหญ่ต้องใช้ RGB ในช่วง 0–1\n",
        "      rotation_range=40,\n",
        "      width_shift_range=0.2,\n",
        "      height_shift_range=0.2,\n",
        "      shear_range=0.2,\n",
        "      zoom_range=0.2,\n",
        "      horizontal_flip=True,\n",
        "      fill_mode='nearest')\n",
        "\n",
        "# Note that the validation data should not be augmented!\n",
        "test_datagen = ImageDataGenerator(rescale=1./255)"
      ],
      "metadata": {
        "id": "xGPrsn9no_pa"
      },
      "execution_count": null,
      "outputs": []
    },
    {
      "cell_type": "code",
      "source": [
        "train_generator = train_datagen.flow_from_dataframe(\n",
        "        dataframe = train,\n",
        "        directory = train_dir,\n",
        "        x_col = 'Path_filename',\n",
        "        y_col = 'Sex',\n",
        "        class_mode = 'categorical',\n",
        "        target_size=(height, width),\n",
        "        batch_size=batch_size)\n",
        "\n",
        "validation_generator = test_datagen.flow_from_dataframe(\n",
        "        dataframe = val,\n",
        "        directory = validation_dir,\n",
        "        x_col = 'Path_filename',\n",
        "        y_col = 'Sex',\n",
        "        class_mode = 'categorical',\n",
        "        target_size=(height, width),\n",
        "        batch_size=batch_size)"
      ],
      "metadata": {
        "colab": {
          "base_uri": "https://localhost:8080/"
        },
        "id": "8nVlmAszntK_",
        "outputId": "00d01028-57d6-4eef-9740-10dd2988814a"
      },
      "execution_count": null,
      "outputs": [
        {
          "output_type": "stream",
          "name": "stdout",
          "text": [
            "Found 2850 validated image filenames belonging to 2 classes.\n",
            "Found 950 validated image filenames belonging to 2 classes.\n"
          ]
        }
      ]
    },
    {
      "cell_type": "code",
      "source": [
        "model.compile(loss='categorical_crossentropy',\n",
        "              optimizer=optimizers.RMSprop(learning_rate=8e-5),\n",
        "              metrics=['acc'])\n",
        "history = model.fit_generator(\n",
        "      train_generator,\n",
        "      steps_per_epoch= NUM_TRAIN //batch_size,\n",
        "      epochs=epochs,\n",
        "      validation_data=validation_generator,\n",
        "      validation_steps= NUM_TEST //batch_size,\n",
        "      verbose=1,\n",
        "      use_multiprocessing=True,\n",
        "      workers=4)"
      ],
      "metadata": {
        "id": "N6qUmmF856ZE",
        "colab": {
          "base_uri": "https://localhost:8080/"
        },
        "outputId": "a1db17d0-6b1e-41b6-e785-0eb421ea9211"
      },
      "execution_count": 16,
      "outputs": [
        {
          "metadata": {
            "tags": null
          },
          "name": "stderr",
          "output_type": "stream",
          "text": [
            "<ipython-input-16-5b290c04e531>:4: UserWarning: `Model.fit_generator` is deprecated and will be removed in a future version. Please use `Model.fit`, which supports generators.\n",
            "  history = model.fit_generator(\n"
          ]
        },
        {
          "output_type": "stream",
          "name": "stdout",
          "text": [
            "Epoch 1/250\n",
            "178/178 [==============================] - 490s 3s/step - loss: 0.6425 - acc: 0.6471 - val_loss: 0.6477 - val_acc: 0.6102\n",
            "Epoch 2/250\n",
            "178/178 [==============================] - 26s 146ms/step - loss: 0.6369 - acc: 0.6475 - val_loss: 0.6251 - val_acc: 0.6430\n",
            "Epoch 3/250\n",
            "178/178 [==============================] - 25s 140ms/step - loss: 0.6530 - acc: 0.6288 - val_loss: 0.6104 - val_acc: 0.6748\n",
            "Epoch 4/250\n",
            "178/178 [==============================] - 26s 141ms/step - loss: 0.6387 - acc: 0.6422 - val_loss: 0.6136 - val_acc: 0.6631\n",
            "Epoch 5/250\n",
            "178/178 [==============================] - 25s 136ms/step - loss: 0.6305 - acc: 0.6422 - val_loss: 0.7350 - val_acc: 0.5720\n",
            "Epoch 6/250\n",
            "178/178 [==============================] - 20s 112ms/step - loss: 0.6434 - acc: 0.6348 - val_loss: 0.6698 - val_acc: 0.6144\n",
            "Epoch 7/250\n",
            "178/178 [==============================] - 22s 120ms/step - loss: 0.6257 - acc: 0.6542 - val_loss: 0.7498 - val_acc: 0.5689\n",
            "Epoch 8/250\n",
            "178/178 [==============================] - 25s 136ms/step - loss: 0.6423 - acc: 0.6362 - val_loss: 0.7351 - val_acc: 0.5858\n",
            "Epoch 9/250\n",
            "178/178 [==============================] - 24s 135ms/step - loss: 0.6359 - acc: 0.6447 - val_loss: 0.6221 - val_acc: 0.6515\n",
            "Epoch 10/250\n",
            "178/178 [==============================] - 25s 140ms/step - loss: 0.6342 - acc: 0.6351 - val_loss: 0.6329 - val_acc: 0.6324\n",
            "Epoch 11/250\n",
            "178/178 [==============================] - 25s 137ms/step - loss: 0.6187 - acc: 0.6620 - val_loss: 0.6698 - val_acc: 0.6165\n",
            "Epoch 12/250\n",
            "178/178 [==============================] - 25s 140ms/step - loss: 0.6344 - acc: 0.6482 - val_loss: 0.6452 - val_acc: 0.6239\n",
            "Epoch 13/250\n",
            "178/178 [==============================] - 26s 142ms/step - loss: 0.6400 - acc: 0.6387 - val_loss: 0.6769 - val_acc: 0.6038\n",
            "Epoch 14/250\n",
            "178/178 [==============================] - 25s 137ms/step - loss: 0.6328 - acc: 0.6588 - val_loss: 0.7108 - val_acc: 0.5900\n",
            "Epoch 15/250\n",
            "178/178 [==============================] - 26s 141ms/step - loss: 0.6432 - acc: 0.6426 - val_loss: 0.6290 - val_acc: 0.6367\n",
            "Epoch 16/250\n",
            "178/178 [==============================] - 25s 136ms/step - loss: 0.6316 - acc: 0.6454 - val_loss: 0.6384 - val_acc: 0.6292\n",
            "Epoch 17/250\n",
            "178/178 [==============================] - 20s 111ms/step - loss: 0.6290 - acc: 0.6489 - val_loss: 0.6325 - val_acc: 0.6377\n",
            "Epoch 18/250\n",
            "178/178 [==============================] - 27s 145ms/step - loss: 0.6256 - acc: 0.6478 - val_loss: 0.7097 - val_acc: 0.5826\n",
            "Epoch 19/250\n",
            "178/178 [==============================] - 25s 137ms/step - loss: 0.6382 - acc: 0.6436 - val_loss: 0.6813 - val_acc: 0.5975\n",
            "Epoch 20/250\n",
            "178/178 [==============================] - 25s 140ms/step - loss: 0.6268 - acc: 0.6524 - val_loss: 0.7502 - val_acc: 0.5742\n",
            "Epoch 21/250\n",
            "178/178 [==============================] - 25s 137ms/step - loss: 0.6325 - acc: 0.6471 - val_loss: 0.6120 - val_acc: 0.6494\n",
            "Epoch 22/250\n",
            "178/178 [==============================] - 25s 138ms/step - loss: 0.6190 - acc: 0.6620 - val_loss: 0.6356 - val_acc: 0.6282\n",
            "Epoch 23/250\n",
            "178/178 [==============================] - 26s 144ms/step - loss: 0.6442 - acc: 0.6394 - val_loss: 0.6683 - val_acc: 0.6028\n",
            "Epoch 24/250\n",
            "178/178 [==============================] - 25s 136ms/step - loss: 0.6234 - acc: 0.6634 - val_loss: 0.6121 - val_acc: 0.6748\n",
            "Epoch 25/250\n",
            "178/178 [==============================] - 25s 138ms/step - loss: 0.6325 - acc: 0.6500 - val_loss: 0.6254 - val_acc: 0.6494\n",
            "Epoch 26/250\n",
            "178/178 [==============================] - 25s 139ms/step - loss: 0.6359 - acc: 0.6478 - val_loss: 0.6087 - val_acc: 0.6557\n",
            "Epoch 27/250\n",
            "178/178 [==============================] - 25s 139ms/step - loss: 0.6294 - acc: 0.6531 - val_loss: 0.6492 - val_acc: 0.6186\n",
            "Epoch 28/250\n",
            "178/178 [==============================] - 26s 142ms/step - loss: 0.6297 - acc: 0.6623 - val_loss: 0.6301 - val_acc: 0.6430\n",
            "Epoch 29/250\n",
            "178/178 [==============================] - 25s 135ms/step - loss: 0.6406 - acc: 0.6390 - val_loss: 0.6064 - val_acc: 0.6578\n",
            "Epoch 30/250\n",
            "178/178 [==============================] - 24s 136ms/step - loss: 0.6351 - acc: 0.6429 - val_loss: 0.7441 - val_acc: 0.5636\n",
            "Epoch 31/250\n",
            "178/178 [==============================] - 26s 141ms/step - loss: 0.6243 - acc: 0.6560 - val_loss: 0.6716 - val_acc: 0.6081\n",
            "Epoch 32/250\n",
            "178/178 [==============================] - 25s 138ms/step - loss: 0.6349 - acc: 0.6443 - val_loss: 0.6400 - val_acc: 0.6271\n",
            "Epoch 33/250\n",
            "178/178 [==============================] - 26s 143ms/step - loss: 0.6262 - acc: 0.6528 - val_loss: 0.6203 - val_acc: 0.6494\n",
            "Epoch 34/250\n",
            "178/178 [==============================] - 20s 112ms/step - loss: 0.6226 - acc: 0.6606 - val_loss: 0.6416 - val_acc: 0.6250\n",
            "Epoch 35/250\n",
            "178/178 [==============================] - 26s 143ms/step - loss: 0.6132 - acc: 0.6613 - val_loss: 0.6214 - val_acc: 0.6419\n",
            "Epoch 36/250\n",
            "178/178 [==============================] - 25s 141ms/step - loss: 0.6245 - acc: 0.6715 - val_loss: 0.6151 - val_acc: 0.6621\n",
            "Epoch 37/250\n",
            "178/178 [==============================] - 25s 140ms/step - loss: 0.6171 - acc: 0.6687 - val_loss: 0.6346 - val_acc: 0.6367\n",
            "Epoch 38/250\n",
            "178/178 [==============================] - 26s 142ms/step - loss: 0.6314 - acc: 0.6503 - val_loss: 0.6631 - val_acc: 0.6091\n",
            "Epoch 39/250\n",
            "178/178 [==============================] - 25s 137ms/step - loss: 0.6374 - acc: 0.6457 - val_loss: 0.6639 - val_acc: 0.6123\n",
            "Epoch 40/250\n",
            "178/178 [==============================] - 20s 111ms/step - loss: 0.6343 - acc: 0.6546 - val_loss: 0.6378 - val_acc: 0.6282\n",
            "Epoch 41/250\n",
            "178/178 [==============================] - 27s 148ms/step - loss: 0.6390 - acc: 0.6514 - val_loss: 0.6423 - val_acc: 0.6165\n",
            "Epoch 42/250\n",
            "178/178 [==============================] - 26s 142ms/step - loss: 0.6331 - acc: 0.6542 - val_loss: 0.6532 - val_acc: 0.6112\n",
            "Epoch 43/250\n",
            "178/178 [==============================] - 26s 144ms/step - loss: 0.6336 - acc: 0.6450 - val_loss: 0.6999 - val_acc: 0.5900\n",
            "Epoch 44/250\n",
            "178/178 [==============================] - 25s 136ms/step - loss: 0.6343 - acc: 0.6383 - val_loss: 0.6764 - val_acc: 0.6059\n",
            "Epoch 45/250\n",
            "178/178 [==============================] - 24s 135ms/step - loss: 0.6172 - acc: 0.6546 - val_loss: 0.6574 - val_acc: 0.6070\n",
            "Epoch 46/250\n",
            "178/178 [==============================] - 25s 141ms/step - loss: 0.6255 - acc: 0.6500 - val_loss: 0.6510 - val_acc: 0.6123\n",
            "Epoch 47/250\n",
            "178/178 [==============================] - 25s 137ms/step - loss: 0.6280 - acc: 0.6500 - val_loss: 0.6238 - val_acc: 0.6441\n",
            "Epoch 48/250\n",
            "178/178 [==============================] - 25s 138ms/step - loss: 0.6388 - acc: 0.6415 - val_loss: 0.6106 - val_acc: 0.6653\n",
            "Epoch 49/250\n",
            "178/178 [==============================] - 20s 109ms/step - loss: 0.6330 - acc: 0.6380 - val_loss: 0.6793 - val_acc: 0.5985\n",
            "Epoch 50/250\n",
            "178/178 [==============================] - 25s 140ms/step - loss: 0.6164 - acc: 0.6581 - val_loss: 0.6290 - val_acc: 0.6472\n",
            "Epoch 51/250\n",
            "178/178 [==============================] - 25s 135ms/step - loss: 0.6422 - acc: 0.6313 - val_loss: 0.6298 - val_acc: 0.6377\n",
            "Epoch 52/250\n",
            "178/178 [==============================] - 24s 135ms/step - loss: 0.6299 - acc: 0.6500 - val_loss: 0.6131 - val_acc: 0.6631\n",
            "Epoch 53/250\n",
            "178/178 [==============================] - 21s 114ms/step - loss: 0.6286 - acc: 0.6489 - val_loss: 0.6326 - val_acc: 0.6398\n",
            "Epoch 54/250\n",
            "178/178 [==============================] - 25s 138ms/step - loss: 0.6381 - acc: 0.6468 - val_loss: 0.7517 - val_acc: 0.5583\n",
            "Epoch 55/250\n",
            "178/178 [==============================] - 21s 113ms/step - loss: 0.6381 - acc: 0.6404 - val_loss: 0.6398 - val_acc: 0.6282\n",
            "Epoch 56/250\n",
            "178/178 [==============================] - 25s 140ms/step - loss: 0.6329 - acc: 0.6433 - val_loss: 0.6474 - val_acc: 0.6144\n",
            "Epoch 57/250\n",
            "178/178 [==============================] - 25s 137ms/step - loss: 0.6291 - acc: 0.6401 - val_loss: 0.7018 - val_acc: 0.5953\n",
            "Epoch 58/250\n",
            "178/178 [==============================] - 25s 140ms/step - loss: 0.6345 - acc: 0.6454 - val_loss: 0.6599 - val_acc: 0.6070\n",
            "Epoch 59/250\n",
            "178/178 [==============================] - 24s 134ms/step - loss: 0.6244 - acc: 0.6570 - val_loss: 0.5998 - val_acc: 0.6758\n",
            "Epoch 60/250\n",
            "178/178 [==============================] - 21s 114ms/step - loss: 0.6309 - acc: 0.6500 - val_loss: 0.6274 - val_acc: 0.6409\n",
            "Epoch 61/250\n",
            "178/178 [==============================] - 26s 146ms/step - loss: 0.6157 - acc: 0.6514 - val_loss: 0.7275 - val_acc: 0.5805\n",
            "Epoch 62/250\n",
            "178/178 [==============================] - 25s 137ms/step - loss: 0.6202 - acc: 0.6609 - val_loss: 0.7174 - val_acc: 0.5869\n",
            "Epoch 63/250\n",
            "178/178 [==============================] - 24s 134ms/step - loss: 0.6293 - acc: 0.6478 - val_loss: 0.6735 - val_acc: 0.6112\n",
            "Epoch 64/250\n",
            "178/178 [==============================] - 24s 134ms/step - loss: 0.6256 - acc: 0.6507 - val_loss: 0.6239 - val_acc: 0.6494\n",
            "Epoch 65/250\n",
            "178/178 [==============================] - 24s 134ms/step - loss: 0.6114 - acc: 0.6658 - val_loss: 0.6562 - val_acc: 0.6176\n",
            "Epoch 66/250\n",
            "178/178 [==============================] - 26s 141ms/step - loss: 0.6401 - acc: 0.6411 - val_loss: 0.6437 - val_acc: 0.6314\n",
            "Epoch 67/250\n",
            "178/178 [==============================] - 21s 113ms/step - loss: 0.6431 - acc: 0.6334 - val_loss: 0.6737 - val_acc: 0.6059\n",
            "Epoch 68/250\n",
            "178/178 [==============================] - 25s 135ms/step - loss: 0.6277 - acc: 0.6457 - val_loss: 0.6888 - val_acc: 0.6059\n",
            "Epoch 69/250\n",
            "178/178 [==============================] - 26s 142ms/step - loss: 0.6349 - acc: 0.6348 - val_loss: 0.6352 - val_acc: 0.6282\n",
            "Epoch 70/250\n",
            "178/178 [==============================] - 24s 135ms/step - loss: 0.6284 - acc: 0.6528 - val_loss: 0.6063 - val_acc: 0.6706\n",
            "Epoch 71/250\n",
            "178/178 [==============================] - 21s 113ms/step - loss: 0.6293 - acc: 0.6588 - val_loss: 0.6301 - val_acc: 0.6409\n",
            "Epoch 72/250\n",
            "178/178 [==============================] - 26s 143ms/step - loss: 0.6329 - acc: 0.6602 - val_loss: 0.7115 - val_acc: 0.5816\n",
            "Epoch 73/250\n",
            "178/178 [==============================] - 24s 134ms/step - loss: 0.6361 - acc: 0.6376 - val_loss: 0.6802 - val_acc: 0.5975\n",
            "Epoch 74/250\n",
            "178/178 [==============================] - 25s 136ms/step - loss: 0.6232 - acc: 0.6574 - val_loss: 0.6316 - val_acc: 0.6388\n",
            "Epoch 75/250\n",
            "178/178 [==============================] - 25s 135ms/step - loss: 0.6408 - acc: 0.6415 - val_loss: 0.6064 - val_acc: 0.6610\n",
            "Epoch 76/250\n",
            "178/178 [==============================] - 24s 135ms/step - loss: 0.6213 - acc: 0.6538 - val_loss: 0.6152 - val_acc: 0.6600\n",
            "Epoch 77/250\n",
            "178/178 [==============================] - 26s 143ms/step - loss: 0.6234 - acc: 0.6471 - val_loss: 0.6141 - val_acc: 0.6642\n",
            "Epoch 78/250\n",
            "178/178 [==============================] - 26s 141ms/step - loss: 0.6287 - acc: 0.6521 - val_loss: 0.6061 - val_acc: 0.6769\n",
            "Epoch 79/250\n",
            "178/178 [==============================] - 26s 141ms/step - loss: 0.6293 - acc: 0.6411 - val_loss: 0.6556 - val_acc: 0.6250\n",
            "Epoch 80/250\n",
            "178/178 [==============================] - 25s 137ms/step - loss: 0.6425 - acc: 0.6313 - val_loss: 0.6356 - val_acc: 0.6388\n",
            "Epoch 81/250\n",
            "178/178 [==============================] - 25s 136ms/step - loss: 0.6407 - acc: 0.6454 - val_loss: 0.6275 - val_acc: 0.6462\n",
            "Epoch 82/250\n",
            "178/178 [==============================] - 25s 139ms/step - loss: 0.6297 - acc: 0.6570 - val_loss: 0.7515 - val_acc: 0.5583\n",
            "Epoch 83/250\n",
            "178/178 [==============================] - 20s 111ms/step - loss: 0.6300 - acc: 0.6514 - val_loss: 0.7130 - val_acc: 0.5922\n",
            "Epoch 84/250\n",
            "178/178 [==============================] - 25s 140ms/step - loss: 0.6293 - acc: 0.6489 - val_loss: 0.7085 - val_acc: 0.5816\n",
            "Epoch 85/250\n",
            "178/178 [==============================] - 26s 144ms/step - loss: 0.6293 - acc: 0.6535 - val_loss: 0.6413 - val_acc: 0.6356\n",
            "Epoch 86/250\n",
            "178/178 [==============================] - 24s 134ms/step - loss: 0.6457 - acc: 0.6299 - val_loss: 0.6608 - val_acc: 0.6112\n",
            "Epoch 87/250\n",
            "178/178 [==============================] - 24s 133ms/step - loss: 0.6147 - acc: 0.6609 - val_loss: 0.6880 - val_acc: 0.5922\n",
            "Epoch 88/250\n",
            "178/178 [==============================] - 25s 140ms/step - loss: 0.6279 - acc: 0.6588 - val_loss: 0.7495 - val_acc: 0.5466\n",
            "Epoch 89/250\n",
            "178/178 [==============================] - 21s 113ms/step - loss: 0.6430 - acc: 0.6408 - val_loss: 0.6415 - val_acc: 0.6292\n",
            "Epoch 90/250\n",
            "178/178 [==============================] - 25s 139ms/step - loss: 0.6326 - acc: 0.6496 - val_loss: 0.6352 - val_acc: 0.6356\n",
            "Epoch 91/250\n",
            "178/178 [==============================] - 25s 138ms/step - loss: 0.6350 - acc: 0.6299 - val_loss: 0.6457 - val_acc: 0.6208\n",
            "Epoch 92/250\n",
            "178/178 [==============================] - 24s 134ms/step - loss: 0.6297 - acc: 0.6510 - val_loss: 0.6117 - val_acc: 0.6610\n",
            "Epoch 93/250\n",
            "178/178 [==============================] - 24s 134ms/step - loss: 0.6431 - acc: 0.6351 - val_loss: 0.6127 - val_acc: 0.6631\n",
            "Epoch 94/250\n",
            "178/178 [==============================] - 24s 134ms/step - loss: 0.6336 - acc: 0.6369 - val_loss: 0.6232 - val_acc: 0.6462\n",
            "Epoch 95/250\n",
            "178/178 [==============================] - 25s 140ms/step - loss: 0.6448 - acc: 0.6373 - val_loss: 0.6945 - val_acc: 0.5911\n",
            "Epoch 96/250\n",
            "178/178 [==============================] - 25s 135ms/step - loss: 0.6330 - acc: 0.6426 - val_loss: 0.6422 - val_acc: 0.6314\n",
            "Epoch 97/250\n",
            "178/178 [==============================] - 25s 137ms/step - loss: 0.6444 - acc: 0.6380 - val_loss: 0.7035 - val_acc: 0.5943\n",
            "Epoch 98/250\n",
            "178/178 [==============================] - 26s 144ms/step - loss: 0.6288 - acc: 0.6602 - val_loss: 0.6501 - val_acc: 0.6186\n",
            "Epoch 99/250\n",
            "178/178 [==============================] - 25s 139ms/step - loss: 0.6357 - acc: 0.6440 - val_loss: 0.6655 - val_acc: 0.6038\n",
            "Epoch 100/250\n",
            "178/178 [==============================] - 25s 140ms/step - loss: 0.6231 - acc: 0.6563 - val_loss: 0.6085 - val_acc: 0.6674\n",
            "Epoch 101/250\n",
            "178/178 [==============================] - 25s 140ms/step - loss: 0.6325 - acc: 0.6450 - val_loss: 0.6485 - val_acc: 0.6208\n",
            "Epoch 102/250\n",
            "178/178 [==============================] - 25s 141ms/step - loss: 0.6269 - acc: 0.6475 - val_loss: 0.7380 - val_acc: 0.5699\n",
            "Epoch 103/250\n",
            "178/178 [==============================] - 26s 145ms/step - loss: 0.6284 - acc: 0.6549 - val_loss: 0.6577 - val_acc: 0.6282\n",
            "Epoch 104/250\n",
            "178/178 [==============================] - 25s 137ms/step - loss: 0.6206 - acc: 0.6613 - val_loss: 0.6331 - val_acc: 0.6367\n",
            "Epoch 105/250\n",
            "178/178 [==============================] - 20s 111ms/step - loss: 0.6334 - acc: 0.6478 - val_loss: 0.6203 - val_acc: 0.6504\n",
            "Epoch 106/250\n",
            "178/178 [==============================] - 26s 140ms/step - loss: 0.6248 - acc: 0.6606 - val_loss: 0.6471 - val_acc: 0.6176\n",
            "Epoch 107/250\n",
            "178/178 [==============================] - 25s 135ms/step - loss: 0.6414 - acc: 0.6397 - val_loss: 0.6148 - val_acc: 0.6547\n",
            "Epoch 108/250\n",
            "178/178 [==============================] - 25s 135ms/step - loss: 0.6182 - acc: 0.6606 - val_loss: 0.6169 - val_acc: 0.6536\n",
            "Epoch 109/250\n",
            "178/178 [==============================] - 20s 111ms/step - loss: 0.6453 - acc: 0.6369 - val_loss: 0.6273 - val_acc: 0.6398\n",
            "Epoch 110/250\n",
            "178/178 [==============================] - 25s 136ms/step - loss: 0.6315 - acc: 0.6471 - val_loss: 0.6272 - val_acc: 0.6388\n",
            "Epoch 111/250\n",
            "178/178 [==============================] - 25s 135ms/step - loss: 0.6312 - acc: 0.6443 - val_loss: 0.6741 - val_acc: 0.6017\n",
            "Epoch 112/250\n",
            "178/178 [==============================] - 24s 135ms/step - loss: 0.6425 - acc: 0.6457 - val_loss: 0.6537 - val_acc: 0.6176\n",
            "Epoch 113/250\n",
            "178/178 [==============================] - 25s 136ms/step - loss: 0.6260 - acc: 0.6486 - val_loss: 0.6156 - val_acc: 0.6568\n",
            "Epoch 114/250\n",
            "178/178 [==============================] - 25s 138ms/step - loss: 0.6249 - acc: 0.6591 - val_loss: 0.6314 - val_acc: 0.6472\n",
            "Epoch 115/250\n",
            "178/178 [==============================] - 24s 134ms/step - loss: 0.6299 - acc: 0.6514 - val_loss: 0.6417 - val_acc: 0.6271\n",
            "Epoch 116/250\n",
            "178/178 [==============================] - 24s 133ms/step - loss: 0.6314 - acc: 0.6503 - val_loss: 0.6341 - val_acc: 0.6356\n",
            "Epoch 117/250\n",
            "178/178 [==============================] - 25s 138ms/step - loss: 0.6221 - acc: 0.6683 - val_loss: 0.6006 - val_acc: 0.6843\n",
            "Epoch 118/250\n",
            "178/178 [==============================] - 24s 134ms/step - loss: 0.6200 - acc: 0.6560 - val_loss: 0.6515 - val_acc: 0.6261\n",
            "Epoch 119/250\n",
            "178/178 [==============================] - 20s 108ms/step - loss: 0.6332 - acc: 0.6486 - val_loss: 0.6279 - val_acc: 0.6536\n",
            "Epoch 120/250\n",
            "178/178 [==============================] - 26s 143ms/step - loss: 0.6304 - acc: 0.6570 - val_loss: 0.7235 - val_acc: 0.5646\n",
            "Epoch 121/250\n",
            "178/178 [==============================] - 25s 139ms/step - loss: 0.6326 - acc: 0.6440 - val_loss: 0.5992 - val_acc: 0.6695\n",
            "Epoch 122/250\n",
            "178/178 [==============================] - 25s 137ms/step - loss: 0.6360 - acc: 0.6443 - val_loss: 0.7278 - val_acc: 0.5720\n",
            "Epoch 123/250\n",
            "178/178 [==============================] - 25s 135ms/step - loss: 0.6310 - acc: 0.6454 - val_loss: 0.5965 - val_acc: 0.6716\n",
            "Epoch 124/250\n",
            "178/178 [==============================] - 24s 135ms/step - loss: 0.6353 - acc: 0.6503 - val_loss: 0.6771 - val_acc: 0.5932\n",
            "Epoch 125/250\n",
            "178/178 [==============================] - 25s 137ms/step - loss: 0.6319 - acc: 0.6454 - val_loss: 0.6228 - val_acc: 0.6367\n",
            "Epoch 126/250\n",
            "178/178 [==============================] - 25s 136ms/step - loss: 0.6315 - acc: 0.6503 - val_loss: 0.5998 - val_acc: 0.6674\n",
            "Epoch 127/250\n",
            "178/178 [==============================] - 24s 134ms/step - loss: 0.6291 - acc: 0.6524 - val_loss: 0.6383 - val_acc: 0.6176\n",
            "Epoch 128/250\n",
            "178/178 [==============================] - 25s 140ms/step - loss: 0.6284 - acc: 0.6567 - val_loss: 0.6393 - val_acc: 0.6123\n",
            "Epoch 129/250\n",
            "178/178 [==============================] - 24s 133ms/step - loss: 0.6194 - acc: 0.6542 - val_loss: 0.6831 - val_acc: 0.5985\n",
            "Epoch 130/250\n",
            "178/178 [==============================] - 25s 136ms/step - loss: 0.6374 - acc: 0.6461 - val_loss: 0.6436 - val_acc: 0.6155\n",
            "Epoch 131/250\n",
            "178/178 [==============================] - 25s 137ms/step - loss: 0.6278 - acc: 0.6486 - val_loss: 0.5899 - val_acc: 0.6706\n",
            "Epoch 132/250\n",
            "178/178 [==============================] - 24s 135ms/step - loss: 0.6195 - acc: 0.6595 - val_loss: 0.6418 - val_acc: 0.6239\n",
            "Epoch 133/250\n",
            "178/178 [==============================] - 25s 139ms/step - loss: 0.6248 - acc: 0.6553 - val_loss: 0.7289 - val_acc: 0.5561\n",
            "Epoch 134/250\n",
            "178/178 [==============================] - 25s 136ms/step - loss: 0.6277 - acc: 0.6581 - val_loss: 0.6243 - val_acc: 0.6345\n",
            "Epoch 135/250\n",
            "178/178 [==============================] - 25s 136ms/step - loss: 0.6393 - acc: 0.6404 - val_loss: 0.6124 - val_acc: 0.6547\n",
            "Epoch 136/250\n",
            "178/178 [==============================] - 25s 140ms/step - loss: 0.6216 - acc: 0.6613 - val_loss: 0.5911 - val_acc: 0.6790\n",
            "Epoch 137/250\n",
            "178/178 [==============================] - 24s 134ms/step - loss: 0.6323 - acc: 0.6496 - val_loss: 0.6420 - val_acc: 0.6250\n",
            "Epoch 138/250\n",
            "178/178 [==============================] - 25s 135ms/step - loss: 0.6204 - acc: 0.6609 - val_loss: 0.6704 - val_acc: 0.6017\n",
            "Epoch 139/250\n",
            "178/178 [==============================] - 26s 141ms/step - loss: 0.6459 - acc: 0.6330 - val_loss: 0.6319 - val_acc: 0.6303\n",
            "Epoch 140/250\n",
            "178/178 [==============================] - 25s 138ms/step - loss: 0.6172 - acc: 0.6535 - val_loss: 0.6470 - val_acc: 0.6112\n",
            "Epoch 141/250\n",
            "178/178 [==============================] - 25s 138ms/step - loss: 0.6436 - acc: 0.6327 - val_loss: 0.6353 - val_acc: 0.6303\n",
            "Epoch 142/250\n",
            "178/178 [==============================] - 26s 142ms/step - loss: 0.6267 - acc: 0.6468 - val_loss: 0.6704 - val_acc: 0.6112\n",
            "Epoch 143/250\n",
            "178/178 [==============================] - 25s 138ms/step - loss: 0.6183 - acc: 0.6598 - val_loss: 0.5929 - val_acc: 0.6864\n",
            "Epoch 144/250\n",
            "178/178 [==============================] - 25s 136ms/step - loss: 0.6354 - acc: 0.6450 - val_loss: 0.6343 - val_acc: 0.6335\n",
            "Epoch 145/250\n",
            "178/178 [==============================] - 25s 141ms/step - loss: 0.6317 - acc: 0.6528 - val_loss: 0.6645 - val_acc: 0.6112\n",
            "Epoch 146/250\n",
            "178/178 [==============================] - 25s 135ms/step - loss: 0.6227 - acc: 0.6538 - val_loss: 0.6895 - val_acc: 0.5964\n",
            "Epoch 147/250\n",
            "178/178 [==============================] - 20s 108ms/step - loss: 0.6287 - acc: 0.6493 - val_loss: 0.6227 - val_acc: 0.6494\n",
            "Epoch 148/250\n",
            "178/178 [==============================] - 26s 143ms/step - loss: 0.6214 - acc: 0.6584 - val_loss: 0.6442 - val_acc: 0.6176\n",
            "Epoch 149/250\n",
            "178/178 [==============================] - 25s 137ms/step - loss: 0.6173 - acc: 0.6651 - val_loss: 0.6346 - val_acc: 0.6367\n",
            "Epoch 150/250\n",
            "178/178 [==============================] - 26s 143ms/step - loss: 0.6333 - acc: 0.6500 - val_loss: 0.6303 - val_acc: 0.6335\n",
            "Epoch 151/250\n",
            "178/178 [==============================] - 25s 137ms/step - loss: 0.6363 - acc: 0.6450 - val_loss: 0.6495 - val_acc: 0.6176\n",
            "Epoch 152/250\n",
            "178/178 [==============================] - 21s 113ms/step - loss: 0.6276 - acc: 0.6602 - val_loss: 0.5992 - val_acc: 0.6854\n",
            "Epoch 153/250\n",
            "178/178 [==============================] - 24s 135ms/step - loss: 0.6346 - acc: 0.6408 - val_loss: 0.6383 - val_acc: 0.6218\n",
            "Epoch 154/250\n",
            "178/178 [==============================] - 24s 135ms/step - loss: 0.6231 - acc: 0.6447 - val_loss: 0.6082 - val_acc: 0.6610\n",
            "Epoch 155/250\n",
            "178/178 [==============================] - 25s 136ms/step - loss: 0.6405 - acc: 0.6376 - val_loss: 0.6904 - val_acc: 0.5900\n",
            "Epoch 156/250\n",
            "178/178 [==============================] - 22s 122ms/step - loss: 0.6274 - acc: 0.6450 - val_loss: 0.6416 - val_acc: 0.6229\n",
            "Epoch 157/250\n",
            "178/178 [==============================] - 25s 137ms/step - loss: 0.6341 - acc: 0.6454 - val_loss: 0.6160 - val_acc: 0.6483\n",
            "Epoch 158/250\n",
            "178/178 [==============================] - 25s 135ms/step - loss: 0.6317 - acc: 0.6468 - val_loss: 0.6375 - val_acc: 0.6218\n",
            "Epoch 159/250\n",
            "178/178 [==============================] - 25s 136ms/step - loss: 0.6339 - acc: 0.6538 - val_loss: 0.6368 - val_acc: 0.6229\n",
            "Epoch 160/250\n",
            "178/178 [==============================] - 20s 111ms/step - loss: 0.6264 - acc: 0.6538 - val_loss: 0.6251 - val_acc: 0.6367\n",
            "Epoch 161/250\n",
            "178/178 [==============================] - 21s 117ms/step - loss: 0.6258 - acc: 0.6588 - val_loss: 0.6810 - val_acc: 0.5985\n",
            "Epoch 162/250\n",
            "178/178 [==============================] - 25s 140ms/step - loss: 0.6314 - acc: 0.6493 - val_loss: 0.6096 - val_acc: 0.6589\n",
            "Epoch 163/250\n",
            "178/178 [==============================] - 25s 138ms/step - loss: 0.6330 - acc: 0.6503 - val_loss: 0.6062 - val_acc: 0.6600\n",
            "Epoch 164/250\n",
            "178/178 [==============================] - 25s 136ms/step - loss: 0.6285 - acc: 0.6496 - val_loss: 0.6467 - val_acc: 0.6186\n",
            "Epoch 165/250\n",
            "178/178 [==============================] - 25s 140ms/step - loss: 0.6215 - acc: 0.6464 - val_loss: 0.6531 - val_acc: 0.6176\n",
            "Epoch 166/250\n",
            "178/178 [==============================] - 24s 133ms/step - loss: 0.6227 - acc: 0.6542 - val_loss: 0.6087 - val_acc: 0.6557\n",
            "Epoch 167/250\n",
            "178/178 [==============================] - 24s 134ms/step - loss: 0.6445 - acc: 0.6366 - val_loss: 0.6130 - val_acc: 0.6536\n",
            "Epoch 168/250\n",
            "178/178 [==============================] - 25s 138ms/step - loss: 0.6336 - acc: 0.6447 - val_loss: 0.7204 - val_acc: 0.5837\n",
            "Epoch 169/250\n",
            "178/178 [==============================] - 24s 134ms/step - loss: 0.6379 - acc: 0.6404 - val_loss: 0.6338 - val_acc: 0.6282\n",
            "Epoch 170/250\n",
            "178/178 [==============================] - 24s 136ms/step - loss: 0.6275 - acc: 0.6630 - val_loss: 0.6281 - val_acc: 0.6292\n",
            "Epoch 171/250\n",
            "178/178 [==============================] - 21s 118ms/step - loss: 0.6372 - acc: 0.6394 - val_loss: 0.6171 - val_acc: 0.6367\n",
            "Epoch 172/250\n",
            "178/178 [==============================] - 25s 139ms/step - loss: 0.6344 - acc: 0.6500 - val_loss: 0.6323 - val_acc: 0.6239\n",
            "Epoch 173/250\n",
            "178/178 [==============================] - 25s 138ms/step - loss: 0.6342 - acc: 0.6457 - val_loss: 0.6187 - val_acc: 0.6472\n",
            "Epoch 174/250\n",
            "178/178 [==============================] - 25s 138ms/step - loss: 0.6454 - acc: 0.6348 - val_loss: 0.6694 - val_acc: 0.5975\n",
            "Epoch 175/250\n",
            "178/178 [==============================] - 25s 138ms/step - loss: 0.6224 - acc: 0.6489 - val_loss: 0.6415 - val_acc: 0.6218\n",
            "Epoch 176/250\n",
            "178/178 [==============================] - 26s 144ms/step - loss: 0.6244 - acc: 0.6538 - val_loss: 0.6787 - val_acc: 0.6081\n",
            "Epoch 177/250\n",
            "178/178 [==============================] - 20s 112ms/step - loss: 0.6346 - acc: 0.6574 - val_loss: 0.7136 - val_acc: 0.5858\n",
            "Epoch 178/250\n",
            "178/178 [==============================] - 26s 144ms/step - loss: 0.6295 - acc: 0.6563 - val_loss: 0.6098 - val_acc: 0.6610\n",
            "Epoch 179/250\n",
            "178/178 [==============================] - 25s 140ms/step - loss: 0.6199 - acc: 0.6634 - val_loss: 0.6901 - val_acc: 0.5996\n",
            "Epoch 180/250\n",
            "178/178 [==============================] - 25s 140ms/step - loss: 0.6335 - acc: 0.6514 - val_loss: 0.6021 - val_acc: 0.6790\n",
            "Epoch 181/250\n",
            "178/178 [==============================] - 22s 119ms/step - loss: 0.6391 - acc: 0.6387 - val_loss: 0.6325 - val_acc: 0.6451\n",
            "Epoch 182/250\n",
            "178/178 [==============================] - 25s 139ms/step - loss: 0.6247 - acc: 0.6535 - val_loss: 0.6754 - val_acc: 0.6070\n",
            "Epoch 183/250\n",
            "178/178 [==============================] - 26s 143ms/step - loss: 0.6289 - acc: 0.6489 - val_loss: 0.6019 - val_acc: 0.6684\n",
            "Epoch 184/250\n",
            "178/178 [==============================] - 25s 140ms/step - loss: 0.6252 - acc: 0.6574 - val_loss: 0.6322 - val_acc: 0.6430\n",
            "Epoch 185/250\n",
            "178/178 [==============================] - 25s 140ms/step - loss: 0.6264 - acc: 0.6401 - val_loss: 0.6713 - val_acc: 0.6017\n",
            "Epoch 186/250\n",
            "178/178 [==============================] - 25s 137ms/step - loss: 0.6265 - acc: 0.6602 - val_loss: 0.6020 - val_acc: 0.6780\n",
            "Epoch 187/250\n",
            "178/178 [==============================] - 20s 112ms/step - loss: 0.6278 - acc: 0.6348 - val_loss: 0.6250 - val_acc: 0.6430\n",
            "Epoch 188/250\n",
            "178/178 [==============================] - 26s 140ms/step - loss: 0.6302 - acc: 0.6457 - val_loss: 0.6369 - val_acc: 0.6282\n",
            "Epoch 189/250\n",
            "178/178 [==============================] - 25s 135ms/step - loss: 0.6216 - acc: 0.6546 - val_loss: 0.6006 - val_acc: 0.6695\n",
            "Epoch 190/250\n",
            "178/178 [==============================] - 25s 136ms/step - loss: 0.6386 - acc: 0.6359 - val_loss: 0.7212 - val_acc: 0.5858\n",
            "Epoch 191/250\n",
            "178/178 [==============================] - 26s 142ms/step - loss: 0.6272 - acc: 0.6507 - val_loss: 0.7582 - val_acc: 0.5614\n",
            "Epoch 192/250\n",
            "178/178 [==============================] - 25s 136ms/step - loss: 0.6288 - acc: 0.6478 - val_loss: 0.6289 - val_acc: 0.6430\n",
            "Epoch 193/250\n",
            "178/178 [==============================] - 21s 117ms/step - loss: 0.6349 - acc: 0.6454 - val_loss: 0.6672 - val_acc: 0.6059\n",
            "Epoch 194/250\n",
            "178/178 [==============================] - 25s 137ms/step - loss: 0.6363 - acc: 0.6517 - val_loss: 0.6294 - val_acc: 0.6388\n",
            "Epoch 195/250\n",
            "178/178 [==============================] - 25s 139ms/step - loss: 0.6156 - acc: 0.6673 - val_loss: 0.6697 - val_acc: 0.6070\n",
            "Epoch 196/250\n",
            "178/178 [==============================] - 26s 144ms/step - loss: 0.6399 - acc: 0.6454 - val_loss: 0.6165 - val_acc: 0.6515\n",
            "Epoch 197/250\n",
            "178/178 [==============================] - 25s 139ms/step - loss: 0.6261 - acc: 0.6606 - val_loss: 0.6119 - val_acc: 0.6589\n",
            "Epoch 198/250\n",
            "178/178 [==============================] - 25s 139ms/step - loss: 0.6215 - acc: 0.6560 - val_loss: 0.6493 - val_acc: 0.6218\n",
            "Epoch 199/250\n",
            "178/178 [==============================] - 26s 142ms/step - loss: 0.6318 - acc: 0.6489 - val_loss: 0.6248 - val_acc: 0.6462\n",
            "Epoch 200/250\n",
            "178/178 [==============================] - 25s 138ms/step - loss: 0.6293 - acc: 0.6570 - val_loss: 0.6636 - val_acc: 0.6102\n",
            "Epoch 201/250\n",
            "178/178 [==============================] - 26s 141ms/step - loss: 0.6126 - acc: 0.6602 - val_loss: 0.7628 - val_acc: 0.5699\n",
            "Epoch 202/250\n",
            "178/178 [==============================] - 21s 114ms/step - loss: 0.6183 - acc: 0.6725 - val_loss: 0.6398 - val_acc: 0.6250\n",
            "Epoch 203/250\n",
            "178/178 [==============================] - 20s 109ms/step - loss: 0.6340 - acc: 0.6496 - val_loss: 0.6166 - val_acc: 0.6547\n",
            "Epoch 204/250\n",
            "178/178 [==============================] - 26s 143ms/step - loss: 0.6259 - acc: 0.6546 - val_loss: 0.7900 - val_acc: 0.5381\n",
            "Epoch 205/250\n",
            "178/178 [==============================] - 20s 111ms/step - loss: 0.6317 - acc: 0.6426 - val_loss: 0.6559 - val_acc: 0.6165\n",
            "Epoch 206/250\n",
            "178/178 [==============================] - 25s 135ms/step - loss: 0.6270 - acc: 0.6447 - val_loss: 0.6381 - val_acc: 0.6409\n",
            "Epoch 207/250\n",
            "178/178 [==============================] - 25s 139ms/step - loss: 0.6273 - acc: 0.6489 - val_loss: 0.6345 - val_acc: 0.6345\n",
            "Epoch 208/250\n",
            "178/178 [==============================] - 20s 109ms/step - loss: 0.6242 - acc: 0.6704 - val_loss: 0.6380 - val_acc: 0.6345\n",
            "Epoch 209/250\n",
            "178/178 [==============================] - 25s 139ms/step - loss: 0.6257 - acc: 0.6574 - val_loss: 0.6417 - val_acc: 0.6314\n",
            "Epoch 210/250\n",
            "178/178 [==============================] - 26s 144ms/step - loss: 0.6406 - acc: 0.6366 - val_loss: 0.6856 - val_acc: 0.5869\n",
            "Epoch 211/250\n",
            "178/178 [==============================] - 25s 138ms/step - loss: 0.6311 - acc: 0.6538 - val_loss: 0.6125 - val_acc: 0.6536\n",
            "Epoch 212/250\n",
            "178/178 [==============================] - 20s 112ms/step - loss: 0.6263 - acc: 0.6426 - val_loss: 0.6603 - val_acc: 0.6133\n",
            "Epoch 213/250\n",
            "178/178 [==============================] - 25s 140ms/step - loss: 0.6333 - acc: 0.6426 - val_loss: 0.6574 - val_acc: 0.6133\n",
            "Epoch 214/250\n",
            "178/178 [==============================] - 25s 140ms/step - loss: 0.6405 - acc: 0.6454 - val_loss: 0.6358 - val_acc: 0.6335\n",
            "Epoch 215/250\n",
            "178/178 [==============================] - 26s 142ms/step - loss: 0.6231 - acc: 0.6637 - val_loss: 0.6491 - val_acc: 0.6155\n",
            "Epoch 216/250\n",
            "178/178 [==============================] - 25s 136ms/step - loss: 0.6302 - acc: 0.6475 - val_loss: 0.6242 - val_acc: 0.6451\n",
            "Epoch 217/250\n",
            "178/178 [==============================] - 25s 140ms/step - loss: 0.6333 - acc: 0.6443 - val_loss: 0.6459 - val_acc: 0.6102\n",
            "Epoch 218/250\n",
            "178/178 [==============================] - 25s 137ms/step - loss: 0.6210 - acc: 0.6500 - val_loss: 0.5967 - val_acc: 0.6663\n",
            "Epoch 219/250\n",
            "178/178 [==============================] - 24s 134ms/step - loss: 0.6392 - acc: 0.6478 - val_loss: 0.7139 - val_acc: 0.5858\n",
            "Epoch 220/250\n",
            "178/178 [==============================] - 25s 140ms/step - loss: 0.6243 - acc: 0.6468 - val_loss: 0.6061 - val_acc: 0.6737\n",
            "Epoch 221/250\n",
            "178/178 [==============================] - 24s 134ms/step - loss: 0.6164 - acc: 0.6609 - val_loss: 0.5961 - val_acc: 0.6674\n",
            "Epoch 222/250\n",
            "178/178 [==============================] - 25s 135ms/step - loss: 0.6380 - acc: 0.6471 - val_loss: 0.6331 - val_acc: 0.6271\n",
            "Epoch 223/250\n",
            "178/178 [==============================] - 25s 140ms/step - loss: 0.6168 - acc: 0.6581 - val_loss: 0.6839 - val_acc: 0.6028\n",
            "Epoch 224/250\n",
            "178/178 [==============================] - 24s 135ms/step - loss: 0.6399 - acc: 0.6401 - val_loss: 0.6085 - val_acc: 0.6462\n",
            "Epoch 225/250\n",
            "178/178 [==============================] - 24s 135ms/step - loss: 0.6202 - acc: 0.6500 - val_loss: 0.6051 - val_acc: 0.6568\n",
            "Epoch 226/250\n",
            "178/178 [==============================] - 24s 134ms/step - loss: 0.6357 - acc: 0.6373 - val_loss: 0.6221 - val_acc: 0.6430\n",
            "Epoch 227/250\n",
            "178/178 [==============================] - 24s 134ms/step - loss: 0.6275 - acc: 0.6570 - val_loss: 0.5974 - val_acc: 0.6600\n",
            "Epoch 228/250\n",
            "178/178 [==============================] - 25s 139ms/step - loss: 0.6283 - acc: 0.6461 - val_loss: 0.6083 - val_acc: 0.6568\n",
            "Epoch 229/250\n",
            "178/178 [==============================] - 20s 112ms/step - loss: 0.6299 - acc: 0.6535 - val_loss: 0.6315 - val_acc: 0.6430\n",
            "Epoch 230/250\n",
            "178/178 [==============================] - 25s 139ms/step - loss: 0.6266 - acc: 0.6482 - val_loss: 0.6842 - val_acc: 0.5985\n",
            "Epoch 231/250\n",
            "178/178 [==============================] - 26s 143ms/step - loss: 0.6319 - acc: 0.6496 - val_loss: 0.6076 - val_acc: 0.6600\n",
            "Epoch 232/250\n",
            "178/178 [==============================] - 25s 139ms/step - loss: 0.6347 - acc: 0.6380 - val_loss: 0.6207 - val_acc: 0.6398\n",
            "Epoch 233/250\n",
            "178/178 [==============================] - 25s 140ms/step - loss: 0.6214 - acc: 0.6616 - val_loss: 0.6382 - val_acc: 0.6314\n",
            "Epoch 234/250\n",
            "178/178 [==============================] - 26s 143ms/step - loss: 0.6263 - acc: 0.6528 - val_loss: 0.7278 - val_acc: 0.5731\n",
            "Epoch 235/250\n",
            "178/178 [==============================] - 25s 138ms/step - loss: 0.6330 - acc: 0.6471 - val_loss: 0.6745 - val_acc: 0.5985\n",
            "Epoch 236/250\n",
            "178/178 [==============================] - 25s 140ms/step - loss: 0.6378 - acc: 0.6373 - val_loss: 0.6312 - val_acc: 0.6324\n",
            "Epoch 237/250\n",
            "178/178 [==============================] - 24s 135ms/step - loss: 0.6304 - acc: 0.6457 - val_loss: 0.6065 - val_acc: 0.6589\n",
            "Epoch 238/250\n",
            "178/178 [==============================] - 20s 111ms/step - loss: 0.6351 - acc: 0.6524 - val_loss: 0.6349 - val_acc: 0.6250\n",
            "Epoch 239/250\n",
            "178/178 [==============================] - 25s 140ms/step - loss: 0.6296 - acc: 0.6521 - val_loss: 0.6760 - val_acc: 0.5953\n",
            "Epoch 240/250\n",
            "178/178 [==============================] - 26s 145ms/step - loss: 0.6228 - acc: 0.6531 - val_loss: 0.6522 - val_acc: 0.6218\n",
            "Epoch 241/250\n",
            "178/178 [==============================] - 26s 144ms/step - loss: 0.6270 - acc: 0.6507 - val_loss: 0.6386 - val_acc: 0.6345\n",
            "Epoch 242/250\n",
            "178/178 [==============================] - 25s 139ms/step - loss: 0.6352 - acc: 0.6376 - val_loss: 0.6367 - val_acc: 0.6377\n",
            "Epoch 243/250\n",
            "178/178 [==============================] - 25s 138ms/step - loss: 0.6330 - acc: 0.6422 - val_loss: 0.6492 - val_acc: 0.6176\n",
            "Epoch 244/250\n",
            "178/178 [==============================] - 26s 144ms/step - loss: 0.6437 - acc: 0.6302 - val_loss: 0.6458 - val_acc: 0.6197\n",
            "Epoch 245/250\n",
            "178/178 [==============================] - 20s 112ms/step - loss: 0.6330 - acc: 0.6468 - val_loss: 0.7074 - val_acc: 0.5699\n",
            "Epoch 246/250\n",
            "178/178 [==============================] - 25s 137ms/step - loss: 0.6448 - acc: 0.6440 - val_loss: 0.6501 - val_acc: 0.6208\n",
            "Epoch 247/250\n",
            "178/178 [==============================] - 26s 140ms/step - loss: 0.6445 - acc: 0.6380 - val_loss: 0.6623 - val_acc: 0.6070\n",
            "Epoch 248/250\n",
            "178/178 [==============================] - 25s 136ms/step - loss: 0.6272 - acc: 0.6535 - val_loss: 0.6346 - val_acc: 0.6292\n",
            "Epoch 249/250\n",
            "178/178 [==============================] - 25s 136ms/step - loss: 0.6336 - acc: 0.6440 - val_loss: 0.6511 - val_acc: 0.6155\n",
            "Epoch 250/250\n",
            "178/178 [==============================] - 25s 137ms/step - loss: 0.6318 - acc: 0.6577 - val_loss: 0.6204 - val_acc: 0.6409\n"
          ]
        }
      ]
    },
    {
      "cell_type": "code",
      "source": [
        "acc = history.history['acc']\n",
        "val_acc = history.history['val_acc']\n",
        "loss = history.history['loss']\n",
        "val_loss = history.history['val_loss']\n",
        "\n",
        "epochs_x = range(len(acc))\n",
        "\n",
        "plt.plot(epochs_x, acc, 'go', label='Training acc')\n",
        "plt.plot(epochs_x, val_acc, 'k', label='Validation acc')\n",
        "plt.title('Training and validation accuracy')\n",
        "plt.legend()\n",
        "\n",
        "plt.figure()\n",
        "\n",
        "plt.plot(epochs_x, loss, 'go', label='Training loss')\n",
        "plt.plot(epochs_x, val_loss, 'k', label='Validation loss')\n",
        "plt.title('Training and validation loss')\n",
        "plt.legend()\n",
        "\n",
        "plt.show()"
      ],
      "metadata": {
        "id": "Y3K89-CM-dfg",
        "colab": {
          "base_uri": "https://localhost:8080/",
          "height": 545
        },
        "outputId": "115ed3a3-edc5-4479-c057-b9d312d06f3c"
      },
      "execution_count": 17,
      "outputs": [
        {
          "output_type": "display_data",
          "data": {
            "text/plain": [
              "<Figure size 432x288 with 1 Axes>"
            ],
            "image/png": "[encoded data removed]"
          },
          "metadata": {
            "needs_background": "light"
          }
        },
        {
          "output_type": "display_data",
          "data": {
            "text/plain": [
              "<Figure size 432x288 with 1 Axes>"
            ],
            "image/png": "[encoded data removed]"
          },
          "metadata": {
            "needs_background": "light"
          }
        }
      ]
    },
    {
      "cell_type": "code",
      "source": [
        "epochs_x"
      ],
      "metadata": {
        "id": "N_sP_ZmSY-Jv",
        "colab": {
          "base_uri": "https://localhost:8080/"
        },
        "outputId": "e2ec77af-d064-4828-9283-74626a786a68"
      },
      "execution_count": 18,
      "outputs": [
        {
          "output_type": "execute_result",
          "data": {
            "text/plain": [
              "range(0, 250)"
            ]
          },
          "metadata": {},
          "execution_count": 18
        }
      ]
    },
    {
      "cell_type": "markdown",
      "source": [
        "#Download the model\n"
      ],
      "metadata": {
        "id": "R19IJQSYoW7J"
      }
    },
    {
      "cell_type": "code",
      "source": [
        "os.makedirs('/content/drive/My Drive/cut_panoramic/Model', exist_ok=True)\n",
        "model.save('/content/drive/My Drive/cut_panoramic/Model/33_B3_G3_Freeze_250(8e-5).h5')"
      ],
      "metadata": {
        "id": "Zed4TdFcG2iJ"
      },
      "execution_count": 19,
      "outputs": []
    },
    {
      "cell_type": "markdown",
      "source": [],
      "metadata": {
        "id": "n5YxZ-5QjQ0-"
      }
    },
    {
      "cell_type": "code",
      "source": [
        "# from google.colab import files\n",
        "# files.download('/content/drive/My Drive/cut_panoramic/Model/1.1_รอบแรก_Flimpano_Male125_250.h5')"
      ],
      "metadata": {
        "id": "P5eMxm1NV-oY"
      },
      "execution_count": 20,
      "outputs": []
    },
    {
      "cell_type": "code",
      "source": [
        "\n"
      ],
      "metadata": {
        "id": "wY_pDlxkRwxS"
      },
      "execution_count": 20,
      "outputs": []
    }
  ]
}