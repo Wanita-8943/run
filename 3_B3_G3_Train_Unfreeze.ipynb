{
  "nbformat": 4,
  "nbformat_minor": 0,
  "metadata": {
    "colab": {
      "provenance": [],
      "machine_shape": "hm",
      "include_colab_link": true
    },
    "kernelspec": {
      "name": "python3",
      "display_name": "Python 3"
    },
    "language_info": {
      "name": "python"
    },
    "accelerator": "GPU",
    "gpuClass": "standard"
  },
  "cells": [
    {
      "cell_type": "markdown",
      "metadata": {
        "id": "view-in-github",
        "colab_type": "text"
      },
      "source": [
        "<a href=\"https://colab.research.google.com/github/Wanita-8943/run/blob/main/3_B3_G3_Train_Unfreeze.ipynb\" target=\"_parent\"><img src=\"https://colab.research.google.com/assets/colab-badge.svg\" alt=\"Open In Colab\"/></a>"
      ]
    },
    {
      "cell_type": "markdown",
      "source": [
        "#เรียกใช้ CSV"
      ],
      "metadata": {
        "id": "ow7eWoNw6U-c"
      }
    },
    {
      "cell_type": "code",
      "execution_count": 1,
      "metadata": {
        "id": "z8o_VVNXzcL8"
      },
      "outputs": [],
      "source": [
        "import pandas as pd\n",
        "import shutil"
      ]
    },
    {
      "cell_type": "code",
      "source": [
        "from google.colab import drive\n",
        "drive.mount('/content/drive')"
      ],
      "metadata": {
        "colab": {
          "base_uri": "https://localhost:8080/"
        },
        "id": "1_2Fe8u81d5r",
        "outputId": "e512a9a8-981f-415b-a701-e4f822bdb308"
      },
      "execution_count": 2,
      "outputs": [
        {
          "output_type": "stream",
          "name": "stdout",
          "text": [
            "Mounted at /content/drive\n"
          ]
        }
      ]
    },
    {
      "cell_type": "markdown",
      "source": [
        "#Imports"
      ],
      "metadata": {
        "id": "5qxePnnn7TGW"
      }
    },
    {
      "cell_type": "code",
      "source": [
        "from tensorflow.keras import models\n",
        "from tensorflow.keras import layers\n",
        "from tensorflow.keras import optimizers\n",
        "import os\n",
        "import glob\n",
        "import shutil\n",
        "import sys\n",
        "import numpy as np\n",
        "from skimage.io import imread\n",
        "import matplotlib.pyplot as plt\n",
        "from IPython.display import Image\n",
        "%matplotlib inline"
      ],
      "metadata": {
        "id": "D-hCRloc3t39"
      },
      "execution_count": 3,
      "outputs": []
    },
    {
      "cell_type": "code",
      "source": [
        "import tensorflow as tf\n",
        "from tensorflow.keras import Sequential\n",
        "from tensorflow.keras.layers import Dense\n",
        "from tensorflow.keras.optimizers import Adam\n",
        "from tensorflow.keras import backend as K"
      ],
      "metadata": {
        "id": "YZWXwjXeGxZP"
      },
      "execution_count": 4,
      "outputs": []
    },
    {
      "cell_type": "markdown",
      "source": [
        "#กำหนดค่าพารามิเตอร์\n"
      ],
      "metadata": {
        "id": "RooqSdBc7QHC"
      }
    },
    {
      "cell_type": "code",
      "source": [
        "batch_size = 16\n",
        "width = 150\n",
        "height = 150\n",
        "epochs = 250\n",
        "NUM_TRAIN = 2850\n",
        "NUM_TEST = 950\n",
        "dropout_rate = 0.2\n",
        "input_shape = (height, width, 3)"
      ],
      "metadata": {
        "id": "thDb7U9B3xOo"
      },
      "execution_count": 5,
      "outputs": []
    },
    {
      "cell_type": "markdown",
      "source": [
        "#Clone efficientnet repo\n"
      ],
      "metadata": {
        "id": "pumGmy6f3eSW"
      }
    },
    {
      "cell_type": "code",
      "source": [
        "#ดึงข้อมูลใน Github มาใช้\n",
        "import os\n",
        "%cd /content\n",
        "if not os.path.isdir(\"efficientnet_keras_transfer_learning\"):\n",
        " !git clone https://github.com/Wanita-8943/efficientnet_keras_transfer_learning\n",
        "%cd efficientnet_keras_transfer_learning/\n"
      ],
      "metadata": {
        "colab": {
          "base_uri": "https://localhost:8080/"
        },
        "id": "P7iy2f8n16p0",
        "outputId": "deea63df-c316-48dd-8a70-df11b1cd021b"
      },
      "execution_count": 6,
      "outputs": [
        {
          "output_type": "stream",
          "name": "stdout",
          "text": [
            "/content\n",
            "Cloning into 'efficientnet_keras_transfer_learning'...\n",
            "remote: Enumerating objects: 1067, done.\u001b[K\n",
            "remote: Counting objects: 100% (230/230), done.\u001b[K\n",
            "remote: Compressing objects: 100% (151/151), done.\u001b[K\n",
            "remote: Total 1067 (delta 114), reused 161 (delta 79), pack-reused 837\u001b[K\n",
            "Receiving objects: 100% (1067/1067), 13.93 MiB | 12.33 MiB/s, done.\n",
            "Resolving deltas: 100% (611/611), done.\n",
            "/content/efficientnet_keras_transfer_learning\n"
          ]
        }
      ]
    },
    {
      "cell_type": "code",
      "source": [
        "# Options: EfficientNetB0, EfficientNetB1, EfficientNetB2, EfficientNetB3\n",
        "# Higher the number, the more complex the model is.\n",
        "from efficientnet import EfficientNetB3 as Net\n",
        "from efficientnet import center_crop_and_resize, preprocess_input"
      ],
      "metadata": {
        "id": "tjZBRnfo3bN0"
      },
      "execution_count": 7,
      "outputs": []
    },
    {
      "cell_type": "code",
      "source": [
        "# loading pretrained conv base model\n",
        "# โหลดโมเดล มาโดยตัด output ของโมเดลออก เเต่ยังใช้ input อันเดิม\n",
        "# เเละโหลด weight ของโมเดล มาด้วยที่ชื่อว่า imagenet\n",
        "conv_base = Net(weights='imagenet', include_top=False, input_shape=input_shape)"
      ],
      "metadata": {
        "colab": {
          "base_uri": "https://localhost:8080/"
        },
        "id": "-H_zt-PDnidw",
        "outputId": "01dfe84c-d625-4363-f7a0-ff5e9c337e3a"
      },
      "execution_count": 8,
      "outputs": [
        {
          "output_type": "stream",
          "name": "stderr",
          "text": [
            "WARNING:tensorflow:From /usr/local/lib/python3.9/dist-packages/tensorflow/python/autograph/pyct/static_analysis/liveness.py:83: Analyzer.lamba_check (from tensorflow.python.autograph.pyct.static_analysis.liveness) is deprecated and will be removed after 2023-09-23.\n",
            "Instructions for updating:\n",
            "Lambda fuctions will be no more assumed to be used in the statement where they are used, or at least in the same block. https://github.com/tensorflow/tensorflow/issues/56089\n"
          ]
        },
        {
          "output_type": "stream",
          "name": "stdout",
          "text": [
            "Downloading data from https://github.com/qubvel/efficientnet/releases/download/v0.0.1/efficientnet-b3_imagenet_1000_notop.h5\n",
            "43966704/43966704 [==============================] - 1s 0us/step\n"
          ]
        }
      ]
    },
    {
      "cell_type": "markdown",
      "source": [
        "#load model\n"
      ],
      "metadata": {
        "id": "VMiA-fZXyzFR"
      }
    },
    {
      "cell_type": "code",
      "source": [
        "import sys\n",
        "sys.path.append('/content/drive/MyDrive/cut_panoramic/Model/2_B3_G2_Freeze_250.h5')\n",
        "\n",
        "from efficientnet.layers import Swish, DropConnect\n",
        "from efficientnet.model import ConvKernalInitializer\n",
        "from tensorflow.keras.utils import get_custom_objects\n",
        "\n",
        "get_custom_objects().update({\n",
        "    'ConvKernalInitializer': ConvKernalInitializer,\n",
        "    'Swish': Swish,\n",
        "    'DropConnect':DropConnect\n",
        "})"
      ],
      "metadata": {
        "id": "1ZZolGEZy6hc"
      },
      "execution_count": 9,
      "outputs": []
    },
    {
      "cell_type": "code",
      "source": [
        "#load model \n",
        "from tensorflow.keras.models import load_model\n",
        "model = load_model('/content/drive/MyDrive/cut_panoramic/Model/2_B3_G2_Freeze_250.h5')\n",
        "height = width = model.input_shape[1]"
      ],
      "metadata": {
        "id": "qTChm25Ay85u"
      },
      "execution_count": 10,
      "outputs": []
    },
    {
      "cell_type": "code",
      "source": [
        "model.summary()"
      ],
      "metadata": {
        "id": "NadBB12251jh",
        "outputId": "93cd6c19-dab3-48de-c499-0e9940ae1c4d",
        "colab": {
          "base_uri": "https://localhost:8080/"
        }
      },
      "execution_count": 11,
      "outputs": [
        {
          "output_type": "stream",
          "name": "stdout",
          "text": [
            "Model: \"sequential\"\n",
            "_________________________________________________________________\n",
            " Layer (type)                Output Shape              Param #   \n",
            "=================================================================\n",
            " efficientnet-b3 (Functional  (None, 5, 5, 1536)       10783528  \n",
            " )                                                               \n",
            "                                                                 \n",
            " gap (GlobalMaxPooling2D)    (None, 1536)              0         \n",
            "                                                                 \n",
            " dropout_out (Dropout)       (None, 1536)              0         \n",
            "                                                                 \n",
            " fc_out (Dense)              (None, 2)                 3074      \n",
            "                                                                 \n",
            "=================================================================\n",
            "Total params: 10,786,602\n",
            "Trainable params: 3,074\n",
            "Non-trainable params: 10,783,528\n",
            "_________________________________________________________________\n"
          ]
        }
      ]
    },
    {
      "cell_type": "markdown",
      "source": [
        "#สร้างโฟลเดอร์ Train Valodation และ Test"
      ],
      "metadata": {
        "id": "J36J9EAE7qSB"
      }
    },
    {
      "cell_type": "code",
      "source": [
        "df = pd.read_csv (r'/content/drive/MyDrive/cut_panoramic/Data/New_Data_Gender.csv')\n",
        "df"
      ],
      "metadata": {
        "colab": {
          "base_uri": "https://localhost:8080/",
          "height": 424
        },
        "id": "skoKhKJDngAZ",
        "outputId": "58607230-1927-48b5-83dc-bed9a9ec980e"
      },
      "execution_count": 12,
      "outputs": [
        {
          "output_type": "execute_result",
          "data": {
            "text/plain": [
              "      Fig_Age  Fig_Person_Sex  Age(year) Class  Class_Re       Filename  \\\n",
              "0           1               1          7  Y07F         0         V1.jpg   \n",
              "1           2               1          7  Y07F         0    Flip_V1.jpg   \n",
              "2           3               2          7  Y07F         0         V2.jpg   \n",
              "3           4               2          7  Y07F         0    Flip_V2.jpg   \n",
              "4           5               3          7  Y07F         0         V3.jpg   \n",
              "...       ...             ...        ...   ...       ...            ...   \n",
              "4745      121              77         25  Y25M         1  Flip_J463.jpg   \n",
              "4746      122              78         25  Y25M         1       J464.jpg   \n",
              "4747      123              78         25  Y25M         1  Flip_J464.jpg   \n",
              "4748      124              79         25  Y25M         1       J465.jpg   \n",
              "4749      125              79         25  Y25M         1  Flip_J465.jpg   \n",
              "\n",
              "                                          Path_filename     Sex Floder  \n",
              "0     /content/drive/My Drive/TVT_Gender/train/Femal...  Female   Both  \n",
              "1     /content/drive/My Drive/TVT_Gender/train/Femal...  Female   Both  \n",
              "2     /content/drive/My Drive/TVT_Gender/train/Femal...  Female   Both  \n",
              "3     /content/drive/My Drive/TVT_Gender/train/Femal...  Female   Both  \n",
              "4     /content/drive/My Drive/TVT_Gender/train/Femal...  Female   Both  \n",
              "...                                                 ...     ...    ...  \n",
              "4745  /content/drive/My Drive/TVT_Gender/test/Male/F...    Male   Both  \n",
              "4746  /content/drive/My Drive/TVT_Gender/test/Male/J...    Male   Both  \n",
              "4747  /content/drive/My Drive/TVT_Gender/test/Male/F...    Male   Both  \n",
              "4748  /content/drive/My Drive/TVT_Gender/test/Male/J...    Male   Both  \n",
              "4749  /content/drive/My Drive/TVT_Gender/test/Male/F...    Male   Both  \n",
              "\n",
              "[4750 rows x 9 columns]"
            ],
            "text/html": [
              "\n",
              "  <div id=\"df-78e4bde8-5d41-4ae1-9aaa-a97cc41776d0\">\n",
              "    <div class=\"colab-df-container\">\n",
              "      <div>\n",
              "<style scoped>\n",
              "    .dataframe tbody tr th:only-of-type {\n",
              "        vertical-align: middle;\n",
              "    }\n",
              "\n",
              "    .dataframe tbody tr th {\n",
              "        vertical-align: top;\n",
              "    }\n",
              "\n",
              "    .dataframe thead th {\n",
              "        text-align: right;\n",
              "    }\n",
              "</style>\n",
              "<table border=\"1\" class=\"dataframe\">\n",
              "  <thead>\n",
              "    <tr style=\"text-align: right;\">\n",
              "      <th></th>\n",
              "      <th>Fig_Age</th>\n",
              "      <th>Fig_Person_Sex</th>\n",
              "      <th>Age(year)</th>\n",
              "      <th>Class</th>\n",
              "      <th>Class_Re</th>\n",
              "      <th>Filename</th>\n",
              "      <th>Path_filename</th>\n",
              "      <th>Sex</th>\n",
              "      <th>Floder</th>\n",
              "    </tr>\n",
              "  </thead>\n",
              "  <tbody>\n",
              "    <tr>\n",
              "      <th>0</th>\n",
              "      <td>1</td>\n",
              "      <td>1</td>\n",
              "      <td>7</td>\n",
              "      <td>Y07F</td>\n",
              "      <td>0</td>\n",
              "      <td>V1.jpg</td>\n",
              "      <td>/content/drive/My Drive/TVT_Gender/train/Femal...</td>\n",
              "      <td>Female</td>\n",
              "      <td>Both</td>\n",
              "    </tr>\n",
              "    <tr>\n",
              "      <th>1</th>\n",
              "      <td>2</td>\n",
              "      <td>1</td>\n",
              "      <td>7</td>\n",
              "      <td>Y07F</td>\n",
              "      <td>0</td>\n",
              "      <td>Flip_V1.jpg</td>\n",
              "      <td>/content/drive/My Drive/TVT_Gender/train/Femal...</td>\n",
              "      <td>Female</td>\n",
              "      <td>Both</td>\n",
              "    </tr>\n",
              "    <tr>\n",
              "      <th>2</th>\n",
              "      <td>3</td>\n",
              "      <td>2</td>\n",
              "      <td>7</td>\n",
              "      <td>Y07F</td>\n",
              "      <td>0</td>\n",
              "      <td>V2.jpg</td>\n",
              "      <td>/content/drive/My Drive/TVT_Gender/train/Femal...</td>\n",
              "      <td>Female</td>\n",
              "      <td>Both</td>\n",
              "    </tr>\n",
              "    <tr>\n",
              "      <th>3</th>\n",
              "      <td>4</td>\n",
              "      <td>2</td>\n",
              "      <td>7</td>\n",
              "      <td>Y07F</td>\n",
              "      <td>0</td>\n",
              "      <td>Flip_V2.jpg</td>\n",
              "      <td>/content/drive/My Drive/TVT_Gender/train/Femal...</td>\n",
              "      <td>Female</td>\n",
              "      <td>Both</td>\n",
              "    </tr>\n",
              "    <tr>\n",
              "      <th>4</th>\n",
              "      <td>5</td>\n",
              "      <td>3</td>\n",
              "      <td>7</td>\n",
              "      <td>Y07F</td>\n",
              "      <td>0</td>\n",
              "      <td>V3.jpg</td>\n",
              "      <td>/content/drive/My Drive/TVT_Gender/train/Femal...</td>\n",
              "      <td>Female</td>\n",
              "      <td>Both</td>\n",
              "    </tr>\n",
              "    <tr>\n",
              "      <th>...</th>\n",
              "      <td>...</td>\n",
              "      <td>...</td>\n",
              "      <td>...</td>\n",
              "      <td>...</td>\n",
              "      <td>...</td>\n",
              "      <td>...</td>\n",
              "      <td>...</td>\n",
              "      <td>...</td>\n",
              "      <td>...</td>\n",
              "    </tr>\n",
              "    <tr>\n",
              "      <th>4745</th>\n",
              "      <td>121</td>\n",
              "      <td>77</td>\n",
              "      <td>25</td>\n",
              "      <td>Y25M</td>\n",
              "      <td>1</td>\n",
              "      <td>Flip_J463.jpg</td>\n",
              "      <td>/content/drive/My Drive/TVT_Gender/test/Male/F...</td>\n",
              "      <td>Male</td>\n",
              "      <td>Both</td>\n",
              "    </tr>\n",
              "    <tr>\n",
              "      <th>4746</th>\n",
              "      <td>122</td>\n",
              "      <td>78</td>\n",
              "      <td>25</td>\n",
              "      <td>Y25M</td>\n",
              "      <td>1</td>\n",
              "      <td>J464.jpg</td>\n",
              "      <td>/content/drive/My Drive/TVT_Gender/test/Male/J...</td>\n",
              "      <td>Male</td>\n",
              "      <td>Both</td>\n",
              "    </tr>\n",
              "    <tr>\n",
              "      <th>4747</th>\n",
              "      <td>123</td>\n",
              "      <td>78</td>\n",
              "      <td>25</td>\n",
              "      <td>Y25M</td>\n",
              "      <td>1</td>\n",
              "      <td>Flip_J464.jpg</td>\n",
              "      <td>/content/drive/My Drive/TVT_Gender/test/Male/F...</td>\n",
              "      <td>Male</td>\n",
              "      <td>Both</td>\n",
              "    </tr>\n",
              "    <tr>\n",
              "      <th>4748</th>\n",
              "      <td>124</td>\n",
              "      <td>79</td>\n",
              "      <td>25</td>\n",
              "      <td>Y25M</td>\n",
              "      <td>1</td>\n",
              "      <td>J465.jpg</td>\n",
              "      <td>/content/drive/My Drive/TVT_Gender/test/Male/J...</td>\n",
              "      <td>Male</td>\n",
              "      <td>Both</td>\n",
              "    </tr>\n",
              "    <tr>\n",
              "      <th>4749</th>\n",
              "      <td>125</td>\n",
              "      <td>79</td>\n",
              "      <td>25</td>\n",
              "      <td>Y25M</td>\n",
              "      <td>1</td>\n",
              "      <td>Flip_J465.jpg</td>\n",
              "      <td>/content/drive/My Drive/TVT_Gender/test/Male/F...</td>\n",
              "      <td>Male</td>\n",
              "      <td>Both</td>\n",
              "    </tr>\n",
              "  </tbody>\n",
              "</table>\n",
              "<p>4750 rows × 9 columns</p>\n",
              "</div>\n",
              "      <button class=\"colab-df-convert\" onclick=\"convertToInteractive('df-78e4bde8-5d41-4ae1-9aaa-a97cc41776d0')\"\n",
              "              title=\"Convert this dataframe to an interactive table.\"\n",
              "              style=\"display:none;\">\n",
              "        \n",
              "  <svg xmlns=\"http://www.w3.org/2000/svg\" height=\"24px\"viewBox=\"0 0 24 24\"\n",
              "       width=\"24px\">\n",
              "    <path d=\"M0 0h24v24H0V0z\" fill=\"none\"/>\n",
              "    <path d=\"M18.56 5.44l.94 2.06.94-2.06 2.06-.94-2.06-.94-.94-2.06-.94 2.06-2.06.94zm-11 1L8.5 8.5l.94-2.06 2.06-.94-2.06-.94L8.5 2.5l-.94 2.06-2.06.94zm10 10l.94 2.06.94-2.06 2.06-.94-2.06-.94-.94-2.06-.94 2.06-2.06.94z\"/><path d=\"M17.41 7.96l-1.37-1.37c-.4-.4-.92-.59-1.43-.59-.52 0-1.04.2-1.43.59L10.3 9.45l-7.72 7.72c-.78.78-.78 2.05 0 2.83L4 21.41c.39.39.9.59 1.41.59.51 0 1.02-.2 1.41-.59l7.78-7.78 2.81-2.81c.8-.78.8-2.07 0-2.86zM5.41 20L4 18.59l7.72-7.72 1.47 1.35L5.41 20z\"/>\n",
              "  </svg>\n",
              "      </button>\n",
              "      \n",
              "  <style>\n",
              "    .colab-df-container {\n",
              "      display:flex;\n",
              "      flex-wrap:wrap;\n",
              "      gap: 12px;\n",
              "    }\n",
              "\n",
              "    .colab-df-convert {\n",
              "      background-color: #E8F0FE;\n",
              "      border: none;\n",
              "      border-radius: 50%;\n",
              "      cursor: pointer;\n",
              "      display: none;\n",
              "      fill: #1967D2;\n",
              "      height: 32px;\n",
              "      padding: 0 0 0 0;\n",
              "      width: 32px;\n",
              "    }\n",
              "\n",
              "    .colab-df-convert:hover {\n",
              "      background-color: #E2EBFA;\n",
              "      box-shadow: 0px 1px 2px rgba(60, 64, 67, 0.3), 0px 1px 3px 1px rgba(60, 64, 67, 0.15);\n",
              "      fill: #174EA6;\n",
              "    }\n",
              "\n",
              "    [theme=dark] .colab-df-convert {\n",
              "      background-color: #3B4455;\n",
              "      fill: #D2E3FC;\n",
              "    }\n",
              "\n",
              "    [theme=dark] .colab-df-convert:hover {\n",
              "      background-color: #434B5C;\n",
              "      box-shadow: 0px 1px 3px 1px rgba(0, 0, 0, 0.15);\n",
              "      filter: drop-shadow(0px 1px 2px rgba(0, 0, 0, 0.3));\n",
              "      fill: #FFFFFF;\n",
              "    }\n",
              "  </style>\n",
              "\n",
              "      <script>\n",
              "        const buttonEl =\n",
              "          document.querySelector('#df-78e4bde8-5d41-4ae1-9aaa-a97cc41776d0 button.colab-df-convert');\n",
              "        buttonEl.style.display =\n",
              "          google.colab.kernel.accessAllowed ? 'block' : 'none';\n",
              "\n",
              "        async function convertToInteractive(key) {\n",
              "          const element = document.querySelector('#df-78e4bde8-5d41-4ae1-9aaa-a97cc41776d0');\n",
              "          const dataTable =\n",
              "            await google.colab.kernel.invokeFunction('convertToInteractive',\n",
              "                                                     [key], {});\n",
              "          if (!dataTable) return;\n",
              "\n",
              "          const docLinkHtml = 'Like what you see? Visit the ' +\n",
              "            '<a target=\"_blank\" href=https://colab.research.google.com/notebooks/data_table.ipynb>data table notebook</a>'\n",
              "            + ' to learn more about interactive tables.';\n",
              "          element.innerHTML = '';\n",
              "          dataTable['output_type'] = 'display_data';\n",
              "          await google.colab.output.renderOutput(dataTable, element);\n",
              "          const docLink = document.createElement('div');\n",
              "          docLink.innerHTML = docLinkHtml;\n",
              "          element.appendChild(docLink);\n",
              "        }\n",
              "      </script>\n",
              "    </div>\n",
              "  </div>\n",
              "  "
            ]
          },
          "metadata": {},
          "execution_count": 12
        }
      ]
    },
    {
      "cell_type": "code",
      "source": [
        "train = df[df['Fig_Age'].between(1,75)]\n",
        "val = df[df['Fig_Age'].between(76,100)]"
      ],
      "metadata": {
        "id": "Z1zBw01Gl8Ac"
      },
      "execution_count": 13,
      "outputs": []
    },
    {
      "cell_type": "code",
      "source": [
        "DATA_PATH = \"/content/drive/My Drive/TVT_Gender\"\n",
        "os.chdir(DATA_PATH)\n",
        "train_dir = os.path.join(DATA_PATH, 'train')\n",
        "print(train_dir)\n",
        "validation_dir = os.path.join(DATA_PATH, 'validation')\n",
        "print(validation_dir)"
      ],
      "metadata": {
        "colab": {
          "base_uri": "https://localhost:8080/"
        },
        "id": "QL0g-8iOnMC4",
        "outputId": "91817022-98dc-4514-c2ef-7696666b611f"
      },
      "execution_count": 14,
      "outputs": [
        {
          "output_type": "stream",
          "name": "stdout",
          "text": [
            "/content/drive/My Drive/TVT_Gender/train\n",
            "/content/drive/My Drive/TVT_Gender/validation\n"
          ]
        }
      ]
    },
    {
      "cell_type": "markdown",
      "source": [
        "\n",
        "#Train"
      ],
      "metadata": {
        "id": "bWEnlTSwazL5"
      }
    },
    {
      "cell_type": "code",
      "source": [
        "# Train ด้วย ImageDataGenerator ของ Keras ซึ่งจะเพิ่มข้อมูลเสริมระหว่างการฝึกเพื่อลดโอกาสเกิด overfitting\n",
        "#overfitting เกิดจากข้อมูลที่ซับซ้อนกันเกินไป\n",
        "from tensorflow.keras.preprocessing.image import ImageDataGenerator\n",
        "\n",
        "train_datagen = ImageDataGenerator(\n",
        "      rescale=1./255, #โมเดลส่วนใหญ่ต้องใช้ RGB ในช่วง 0–1\n",
        "      rotation_range=40,\n",
        "      width_shift_range=0.2,\n",
        "      height_shift_range=0.2,\n",
        "      shear_range=0.2,\n",
        "      zoom_range=0.2,\n",
        "      horizontal_flip=True,\n",
        "      fill_mode='nearest')\n",
        "\n",
        "# Note that the validation data should not be augmented!\n",
        "test_datagen = ImageDataGenerator(rescale=1./255)"
      ],
      "metadata": {
        "id": "xGPrsn9no_pa"
      },
      "execution_count": 15,
      "outputs": []
    },
    {
      "cell_type": "code",
      "source": [
        "train_generator = train_datagen.flow_from_dataframe(\n",
        "        dataframe = train,\n",
        "        directory = train_dir,\n",
        "        x_col = 'Path_filename',\n",
        "        y_col = 'Sex',\n",
        "        class_mode = 'categorical',\n",
        "        target_size=(height, width),\n",
        "        batch_size=batch_size)\n",
        "\n",
        "validation_generator = test_datagen.flow_from_dataframe(\n",
        "        dataframe = val,\n",
        "        directory = validation_dir,\n",
        "        x_col = 'Path_filename',\n",
        "        y_col = 'Sex',\n",
        "        class_mode = 'categorical',\n",
        "        target_size=(height, width),\n",
        "        batch_size=batch_size)"
      ],
      "metadata": {
        "colab": {
          "base_uri": "https://localhost:8080/"
        },
        "id": "8nVlmAszntK_",
        "outputId": "879e0611-269e-49b9-984f-e8f2f05995a6"
      },
      "execution_count": 16,
      "outputs": [
        {
          "output_type": "stream",
          "name": "stdout",
          "text": [
            "Found 2850 validated image filenames belonging to 2 classes.\n",
            "Found 950 validated image filenames belonging to 2 classes.\n"
          ]
        }
      ]
    },
    {
      "cell_type": "code",
      "source": [
        "# multiply_16\n",
        "# set 'multiply_16' and following layers trainable\n",
        "model.trainable = True\n",
        "\n",
        "set_trainable = False\n",
        "for layer in conv_base.layers:\n",
        "    if layer.name == 'multiply_16':\n",
        "        set_trainable = True\n",
        "    if set_trainable:\n",
        "        layer.trainable = True\n",
        "    else:\n",
        "        layer.trainable = False  "
      ],
      "metadata": {
        "id": "hO-df27gnrI6"
      },
      "execution_count": 17,
      "outputs": []
    },
    {
      "cell_type": "code",
      "source": [
        "model.summary()"
      ],
      "metadata": {
        "colab": {
          "base_uri": "https://localhost:8080/"
        },
        "id": "kMX3KKcfntko",
        "outputId": "a1ac2f85-1f8d-4e98-d878-4952821f9d60"
      },
      "execution_count": 18,
      "outputs": [
        {
          "output_type": "stream",
          "name": "stdout",
          "text": [
            "Model: \"sequential\"\n",
            "_________________________________________________________________\n",
            " Layer (type)                Output Shape              Param #   \n",
            "=================================================================\n",
            " efficientnet-b3 (Functional  (None, 5, 5, 1536)       10783528  \n",
            " )                                                               \n",
            "                                                                 \n",
            " gap (GlobalMaxPooling2D)    (None, 1536)              0         \n",
            "                                                                 \n",
            " dropout_out (Dropout)       (None, 1536)              0         \n",
            "                                                                 \n",
            " fc_out (Dense)              (None, 2)                 3074      \n",
            "                                                                 \n",
            "=================================================================\n",
            "Total params: 10,786,602\n",
            "Trainable params: 10,699,306\n",
            "Non-trainable params: 87,296\n",
            "_________________________________________________________________\n"
          ]
        }
      ]
    },
    {
      "cell_type": "code",
      "source": [
        "history = model.fit_generator(\n",
        "      train_generator,\n",
        "      steps_per_epoch= NUM_TRAIN //batch_size,\n",
        "      epochs=epochs,\n",
        "      validation_data=validation_generator,\n",
        "      validation_steps= NUM_TEST //batch_size,\n",
        "      verbose=1,\n",
        "      use_multiprocessing=True,\n",
        "      workers=4)"
      ],
      "metadata": {
        "id": "N6qUmmF856ZE",
        "colab": {
          "base_uri": "https://localhost:8080/"
        },
        "outputId": "e47b6871-4dfa-41d9-d1bc-de77380a52a4"
      },
      "execution_count": 19,
      "outputs": [
        {
          "output_type": "stream",
          "name": "stderr",
          "text": [
            "<ipython-input-19-caa7b37242a8>:1: UserWarning: `Model.fit_generator` is deprecated and will be removed in a future version. Please use `Model.fit`, which supports generators.\n",
            "  history = model.fit_generator(\n"
          ]
        },
        {
          "output_type": "stream",
          "name": "stdout",
          "text": [
            "Epoch 1/250\n",
            "178/178 [==============================] - 194s 997ms/step - loss: 0.6722 - acc: 0.6136 - val_loss: 0.6355 - val_acc: 0.6292\n",
            "Epoch 2/250\n",
            "178/178 [==============================] - 22s 121ms/step - loss: 0.6667 - acc: 0.6253 - val_loss: 0.6980 - val_acc: 0.5996\n",
            "Epoch 3/250\n",
            "178/178 [==============================] - 27s 146ms/step - loss: 0.6588 - acc: 0.6355 - val_loss: 0.6669 - val_acc: 0.6133\n",
            "Epoch 4/250\n",
            "178/178 [==============================] - 27s 149ms/step - loss: 0.6489 - acc: 0.6457 - val_loss: 0.6786 - val_acc: 0.6081\n",
            "Epoch 5/250\n",
            "178/178 [==============================] - 27s 150ms/step - loss: 0.6517 - acc: 0.6390 - val_loss: 0.6185 - val_acc: 0.6536\n",
            "Epoch 6/250\n",
            "178/178 [==============================] - 28s 156ms/step - loss: 0.6450 - acc: 0.6521 - val_loss: 0.6129 - val_acc: 0.6653\n",
            "Epoch 7/250\n",
            "178/178 [==============================] - 27s 150ms/step - loss: 0.6570 - acc: 0.6351 - val_loss: 0.7527 - val_acc: 0.5636\n",
            "Epoch 8/250\n",
            "178/178 [==============================] - 27s 152ms/step - loss: 0.6627 - acc: 0.6299 - val_loss: 0.6172 - val_acc: 0.6568\n",
            "Epoch 9/250\n",
            "178/178 [==============================] - 29s 159ms/step - loss: 0.6720 - acc: 0.6277 - val_loss: 0.6904 - val_acc: 0.6081\n",
            "Epoch 10/250\n",
            "178/178 [==============================] - 27s 151ms/step - loss: 0.6667 - acc: 0.6355 - val_loss: 0.6246 - val_acc: 0.6483\n",
            "Epoch 11/250\n",
            "178/178 [==============================] - 27s 150ms/step - loss: 0.6594 - acc: 0.6284 - val_loss: 0.6180 - val_acc: 0.6737\n",
            "Epoch 12/250\n",
            "178/178 [==============================] - 28s 152ms/step - loss: 0.6692 - acc: 0.6267 - val_loss: 0.6506 - val_acc: 0.6303\n",
            "Epoch 13/250\n",
            "178/178 [==============================] - 22s 123ms/step - loss: 0.6668 - acc: 0.6277 - val_loss: 0.6779 - val_acc: 0.5900\n",
            "Epoch 14/250\n",
            "178/178 [==============================] - 27s 147ms/step - loss: 0.6573 - acc: 0.6337 - val_loss: 0.5995 - val_acc: 0.6875\n",
            "Epoch 15/250\n",
            "178/178 [==============================] - 22s 123ms/step - loss: 0.6657 - acc: 0.6316 - val_loss: 0.5940 - val_acc: 0.6875\n",
            "Epoch 16/250\n",
            "178/178 [==============================] - 28s 156ms/step - loss: 0.6591 - acc: 0.6246 - val_loss: 0.6113 - val_acc: 0.6663\n",
            "Epoch 17/250\n",
            "178/178 [==============================] - 23s 124ms/step - loss: 0.6634 - acc: 0.6299 - val_loss: 0.5914 - val_acc: 0.6875\n",
            "Epoch 18/250\n",
            "178/178 [==============================] - 22s 120ms/step - loss: 0.6558 - acc: 0.6376 - val_loss: 0.7374 - val_acc: 0.5561\n",
            "Epoch 19/250\n",
            "178/178 [==============================] - 27s 148ms/step - loss: 0.6515 - acc: 0.6436 - val_loss: 0.6545 - val_acc: 0.6102\n",
            "Epoch 20/250\n",
            "178/178 [==============================] - 28s 155ms/step - loss: 0.6543 - acc: 0.6302 - val_loss: 0.6216 - val_acc: 0.6419\n",
            "Epoch 21/250\n",
            "178/178 [==============================] - 27s 148ms/step - loss: 0.6663 - acc: 0.6330 - val_loss: 0.6552 - val_acc: 0.6038\n",
            "Epoch 22/250\n",
            "178/178 [==============================] - 27s 149ms/step - loss: 0.6700 - acc: 0.6210 - val_loss: 0.6678 - val_acc: 0.6038\n",
            "Epoch 23/250\n",
            "178/178 [==============================] - 28s 155ms/step - loss: 0.6630 - acc: 0.6217 - val_loss: 0.7106 - val_acc: 0.5837\n",
            "Epoch 24/250\n",
            "178/178 [==============================] - 27s 149ms/step - loss: 0.6650 - acc: 0.6383 - val_loss: 0.7447 - val_acc: 0.5593\n",
            "Epoch 25/250\n",
            "178/178 [==============================] - 27s 148ms/step - loss: 0.6607 - acc: 0.6210 - val_loss: 0.6990 - val_acc: 0.6081\n",
            "Epoch 26/250\n",
            "178/178 [==============================] - 27s 147ms/step - loss: 0.6549 - acc: 0.6362 - val_loss: 0.6570 - val_acc: 0.6112\n",
            "Epoch 27/250\n",
            "178/178 [==============================] - 26s 145ms/step - loss: 0.6524 - acc: 0.6408 - val_loss: 0.6866 - val_acc: 0.6197\n",
            "Epoch 28/250\n",
            "178/178 [==============================] - 22s 120ms/step - loss: 0.6552 - acc: 0.6450 - val_loss: 0.7280 - val_acc: 0.5731\n",
            "Epoch 29/250\n",
            "178/178 [==============================] - 23s 123ms/step - loss: 0.6631 - acc: 0.6355 - val_loss: 0.7800 - val_acc: 0.5487\n",
            "Epoch 30/250\n",
            "178/178 [==============================] - 28s 153ms/step - loss: 0.6616 - acc: 0.6323 - val_loss: 0.6635 - val_acc: 0.6038\n",
            "Epoch 31/250\n",
            "178/178 [==============================] - 26s 145ms/step - loss: 0.6627 - acc: 0.6348 - val_loss: 0.6099 - val_acc: 0.6557\n",
            "Epoch 32/250\n",
            "178/178 [==============================] - 27s 148ms/step - loss: 0.6648 - acc: 0.6313 - val_loss: 0.6295 - val_acc: 0.6409\n",
            "Epoch 33/250\n",
            "178/178 [==============================] - 26s 146ms/step - loss: 0.6464 - acc: 0.6471 - val_loss: 0.8730 - val_acc: 0.5254\n",
            "Epoch 34/250\n",
            "178/178 [==============================] - 26s 145ms/step - loss: 0.6414 - acc: 0.6475 - val_loss: 0.6052 - val_acc: 0.6727\n",
            "Epoch 35/250\n",
            "178/178 [==============================] - 26s 145ms/step - loss: 0.6671 - acc: 0.6235 - val_loss: 0.6779 - val_acc: 0.5985\n",
            "Epoch 36/250\n",
            "178/178 [==============================] - 26s 143ms/step - loss: 0.6523 - acc: 0.6454 - val_loss: 0.6040 - val_acc: 0.6684\n",
            "Epoch 37/250\n",
            "178/178 [==============================] - 27s 148ms/step - loss: 0.6689 - acc: 0.6351 - val_loss: 0.7161 - val_acc: 0.5922\n",
            "Epoch 38/250\n",
            "178/178 [==============================] - 26s 142ms/step - loss: 0.6515 - acc: 0.6461 - val_loss: 0.6305 - val_acc: 0.6367\n",
            "Epoch 39/250\n",
            "178/178 [==============================] - 26s 143ms/step - loss: 0.6534 - acc: 0.6274 - val_loss: 0.6020 - val_acc: 0.6769\n",
            "Epoch 40/250\n",
            "178/178 [==============================] - 26s 143ms/step - loss: 0.6615 - acc: 0.6348 - val_loss: 0.5958 - val_acc: 0.6875\n",
            "Epoch 41/250\n",
            "178/178 [==============================] - 26s 144ms/step - loss: 0.6646 - acc: 0.6193 - val_loss: 0.6446 - val_acc: 0.6335\n",
            "Epoch 42/250\n",
            "178/178 [==============================] - 26s 143ms/step - loss: 0.6523 - acc: 0.6468 - val_loss: 0.6378 - val_acc: 0.6208\n",
            "Epoch 43/250\n",
            "178/178 [==============================] - 27s 151ms/step - loss: 0.6491 - acc: 0.6411 - val_loss: 0.6227 - val_acc: 0.6441\n",
            "Epoch 44/250\n",
            "178/178 [==============================] - 26s 143ms/step - loss: 0.6737 - acc: 0.6263 - val_loss: 0.6063 - val_acc: 0.6684\n",
            "Epoch 45/250\n",
            "178/178 [==============================] - 22s 119ms/step - loss: 0.6511 - acc: 0.6503 - val_loss: 0.6124 - val_acc: 0.6631\n",
            "Epoch 46/250\n",
            "178/178 [==============================] - 27s 149ms/step - loss: 0.6570 - acc: 0.6309 - val_loss: 0.6986 - val_acc: 0.5953\n",
            "Epoch 47/250\n",
            "178/178 [==============================] - 28s 154ms/step - loss: 0.6552 - acc: 0.6408 - val_loss: 0.7574 - val_acc: 0.5456\n",
            "Epoch 48/250\n",
            "178/178 [==============================] - 27s 149ms/step - loss: 0.6684 - acc: 0.6327 - val_loss: 0.6110 - val_acc: 0.6610\n",
            "Epoch 49/250\n",
            "178/178 [==============================] - 27s 147ms/step - loss: 0.6579 - acc: 0.6302 - val_loss: 0.7169 - val_acc: 0.5879\n",
            "Epoch 50/250\n",
            "178/178 [==============================] - 28s 155ms/step - loss: 0.6514 - acc: 0.6404 - val_loss: 0.6317 - val_acc: 0.6314\n",
            "Epoch 51/250\n",
            "178/178 [==============================] - 28s 152ms/step - loss: 0.6529 - acc: 0.6404 - val_loss: 0.7185 - val_acc: 0.5911\n",
            "Epoch 52/250\n",
            "178/178 [==============================] - 27s 150ms/step - loss: 0.6595 - acc: 0.6320 - val_loss: 0.6173 - val_acc: 0.6525\n",
            "Epoch 53/250\n",
            "178/178 [==============================] - 23s 129ms/step - loss: 0.6539 - acc: 0.6369 - val_loss: 0.6209 - val_acc: 0.6398\n",
            "Epoch 54/250\n",
            "178/178 [==============================] - 26s 144ms/step - loss: 0.6435 - acc: 0.6531 - val_loss: 0.6372 - val_acc: 0.6250\n",
            "Epoch 55/250\n",
            "178/178 [==============================] - 27s 146ms/step - loss: 0.6648 - acc: 0.6309 - val_loss: 0.6606 - val_acc: 0.6091\n",
            "Epoch 56/250\n",
            "178/178 [==============================] - 27s 150ms/step - loss: 0.6559 - acc: 0.6362 - val_loss: 0.6169 - val_acc: 0.6557\n",
            "Epoch 57/250\n",
            "178/178 [==============================] - 27s 146ms/step - loss: 0.6580 - acc: 0.6373 - val_loss: 0.6498 - val_acc: 0.6250\n",
            "Epoch 58/250\n",
            "178/178 [==============================] - 22s 123ms/step - loss: 0.6645 - acc: 0.6313 - val_loss: 0.6182 - val_acc: 0.6472\n",
            "Epoch 59/250\n",
            "178/178 [==============================] - 28s 157ms/step - loss: 0.6508 - acc: 0.6348 - val_loss: 0.6337 - val_acc: 0.6345\n",
            "Epoch 60/250\n",
            "178/178 [==============================] - 27s 150ms/step - loss: 0.6511 - acc: 0.6524 - val_loss: 0.6164 - val_acc: 0.6430\n",
            "Epoch 61/250\n",
            "178/178 [==============================] - 27s 150ms/step - loss: 0.6444 - acc: 0.6489 - val_loss: 0.6534 - val_acc: 0.6314\n",
            "Epoch 62/250\n",
            "178/178 [==============================] - 27s 149ms/step - loss: 0.6539 - acc: 0.6429 - val_loss: 0.8559 - val_acc: 0.5222\n",
            "Epoch 63/250\n",
            "178/178 [==============================] - 26s 145ms/step - loss: 0.6798 - acc: 0.6228 - val_loss: 0.6322 - val_acc: 0.6335\n",
            "Epoch 64/250\n",
            "178/178 [==============================] - 26s 146ms/step - loss: 0.6756 - acc: 0.6239 - val_loss: 0.6505 - val_acc: 0.6261\n",
            "Epoch 65/250\n",
            "178/178 [==============================] - 27s 146ms/step - loss: 0.6573 - acc: 0.6341 - val_loss: 0.6150 - val_acc: 0.6589\n",
            "Epoch 66/250\n",
            "178/178 [==============================] - 23s 123ms/step - loss: 0.6716 - acc: 0.6231 - val_loss: 0.6775 - val_acc: 0.6123\n",
            "Epoch 67/250\n",
            "178/178 [==============================] - 27s 147ms/step - loss: 0.6757 - acc: 0.6256 - val_loss: 0.6783 - val_acc: 0.6059\n",
            "Epoch 68/250\n",
            "178/178 [==============================] - 27s 150ms/step - loss: 0.6554 - acc: 0.6464 - val_loss: 0.6920 - val_acc: 0.6006\n",
            "Epoch 69/250\n",
            "178/178 [==============================] - 27s 148ms/step - loss: 0.6681 - acc: 0.6302 - val_loss: 0.8819 - val_acc: 0.5286\n",
            "Epoch 70/250\n",
            "178/178 [==============================] - 22s 122ms/step - loss: 0.6612 - acc: 0.6348 - val_loss: 0.6997 - val_acc: 0.5996\n",
            "Epoch 71/250\n",
            "178/178 [==============================] - 29s 158ms/step - loss: 0.6455 - acc: 0.6436 - val_loss: 0.7045 - val_acc: 0.5890\n",
            "Epoch 72/250\n",
            "178/178 [==============================] - 27s 148ms/step - loss: 0.6495 - acc: 0.6450 - val_loss: 0.7404 - val_acc: 0.5847\n",
            "Epoch 73/250\n",
            "178/178 [==============================] - 26s 145ms/step - loss: 0.6426 - acc: 0.6493 - val_loss: 0.6746 - val_acc: 0.6186\n",
            "Epoch 74/250\n",
            "178/178 [==============================] - 28s 152ms/step - loss: 0.6562 - acc: 0.6376 - val_loss: 0.8056 - val_acc: 0.5657\n",
            "Epoch 75/250\n",
            "178/178 [==============================] - 22s 122ms/step - loss: 0.6740 - acc: 0.6291 - val_loss: 0.6280 - val_acc: 0.6504\n",
            "Epoch 76/250\n",
            "178/178 [==============================] - 28s 153ms/step - loss: 0.6726 - acc: 0.6228 - val_loss: 0.6380 - val_acc: 0.6356\n",
            "Epoch 77/250\n",
            "178/178 [==============================] - 28s 156ms/step - loss: 0.6581 - acc: 0.6436 - val_loss: 0.6064 - val_acc: 0.6631\n",
            "Epoch 78/250\n",
            "178/178 [==============================] - 27s 148ms/step - loss: 0.6619 - acc: 0.6373 - val_loss: 0.6082 - val_acc: 0.6737\n",
            "Epoch 79/250\n",
            "178/178 [==============================] - 27s 147ms/step - loss: 0.6607 - acc: 0.6228 - val_loss: 0.7977 - val_acc: 0.5561\n",
            "Epoch 80/250\n",
            "178/178 [==============================] - 28s 155ms/step - loss: 0.6491 - acc: 0.6454 - val_loss: 0.6333 - val_acc: 0.6324\n",
            "Epoch 81/250\n",
            "178/178 [==============================] - 27s 149ms/step - loss: 0.6547 - acc: 0.6394 - val_loss: 0.6419 - val_acc: 0.6388\n",
            "Epoch 82/250\n",
            "178/178 [==============================] - 27s 149ms/step - loss: 0.6562 - acc: 0.6380 - val_loss: 0.7684 - val_acc: 0.5572\n",
            "Epoch 83/250\n",
            "178/178 [==============================] - 28s 157ms/step - loss: 0.6606 - acc: 0.6330 - val_loss: 0.6037 - val_acc: 0.6653\n",
            "Epoch 84/250\n",
            "178/178 [==============================] - 22s 122ms/step - loss: 0.6600 - acc: 0.6337 - val_loss: 0.7619 - val_acc: 0.5763\n",
            "Epoch 85/250\n",
            "178/178 [==============================] - 26s 143ms/step - loss: 0.6614 - acc: 0.6320 - val_loss: 0.9103 - val_acc: 0.5339\n",
            "Epoch 86/250\n",
            "178/178 [==============================] - 23s 123ms/step - loss: 0.6497 - acc: 0.6418 - val_loss: 0.6838 - val_acc: 0.5996\n",
            "Epoch 87/250\n",
            "178/178 [==============================] - 26s 145ms/step - loss: 0.6606 - acc: 0.6341 - val_loss: 0.6057 - val_acc: 0.6822\n",
            "Epoch 88/250\n",
            "178/178 [==============================] - 26s 145ms/step - loss: 0.6531 - acc: 0.6408 - val_loss: 0.6414 - val_acc: 0.6398\n",
            "Epoch 89/250\n",
            "178/178 [==============================] - 28s 154ms/step - loss: 0.6358 - acc: 0.6613 - val_loss: 0.6030 - val_acc: 0.6801\n",
            "Epoch 90/250\n",
            "178/178 [==============================] - 26s 145ms/step - loss: 0.6542 - acc: 0.6351 - val_loss: 0.7060 - val_acc: 0.5932\n",
            "Epoch 91/250\n",
            "178/178 [==============================] - 27s 146ms/step - loss: 0.6723 - acc: 0.6270 - val_loss: 0.6857 - val_acc: 0.6028\n",
            "Epoch 92/250\n",
            "178/178 [==============================] - 27s 151ms/step - loss: 0.6628 - acc: 0.6306 - val_loss: 0.7025 - val_acc: 0.5996\n",
            "Epoch 93/250\n",
            "178/178 [==============================] - 26s 145ms/step - loss: 0.6444 - acc: 0.6348 - val_loss: 0.6763 - val_acc: 0.6070\n",
            "Epoch 94/250\n",
            "178/178 [==============================] - 26s 146ms/step - loss: 0.6506 - acc: 0.6454 - val_loss: 0.6145 - val_acc: 0.6525\n",
            "Epoch 95/250\n",
            "178/178 [==============================] - 27s 147ms/step - loss: 0.6784 - acc: 0.6288 - val_loss: 0.6665 - val_acc: 0.6049\n",
            "Epoch 96/250\n",
            "178/178 [==============================] - 26s 145ms/step - loss: 0.6480 - acc: 0.6429 - val_loss: 0.5999 - val_acc: 0.6684\n",
            "Epoch 97/250\n",
            "178/178 [==============================] - 22s 120ms/step - loss: 0.6634 - acc: 0.6306 - val_loss: 0.6124 - val_acc: 0.6568\n",
            "Epoch 98/250\n",
            "178/178 [==============================] - 28s 154ms/step - loss: 0.6700 - acc: 0.6337 - val_loss: 0.6928 - val_acc: 0.5964\n",
            "Epoch 99/250\n",
            "178/178 [==============================] - 27s 148ms/step - loss: 0.6576 - acc: 0.6387 - val_loss: 0.6688 - val_acc: 0.6144\n",
            "Epoch 100/250\n",
            "178/178 [==============================] - 26s 146ms/step - loss: 0.6697 - acc: 0.6313 - val_loss: 0.6518 - val_acc: 0.6388\n",
            "Epoch 101/250\n",
            "178/178 [==============================] - 27s 149ms/step - loss: 0.6564 - acc: 0.6277 - val_loss: 0.5884 - val_acc: 0.6822\n",
            "Epoch 102/250\n",
            "178/178 [==============================] - 22s 121ms/step - loss: 0.6537 - acc: 0.6295 - val_loss: 0.6912 - val_acc: 0.5879\n",
            "Epoch 103/250\n",
            "178/178 [==============================] - 26s 144ms/step - loss: 0.6531 - acc: 0.6373 - val_loss: 0.6075 - val_acc: 0.6748\n",
            "Epoch 104/250\n",
            "178/178 [==============================] - 27s 151ms/step - loss: 0.6593 - acc: 0.6390 - val_loss: 0.6089 - val_acc: 0.6578\n",
            "Epoch 105/250\n",
            "178/178 [==============================] - 26s 144ms/step - loss: 0.6398 - acc: 0.6517 - val_loss: 0.6665 - val_acc: 0.6133\n",
            "Epoch 106/250\n",
            "178/178 [==============================] - 26s 143ms/step - loss: 0.6583 - acc: 0.6404 - val_loss: 0.5973 - val_acc: 0.6917\n",
            "Epoch 107/250\n",
            "178/178 [==============================] - 27s 149ms/step - loss: 0.6621 - acc: 0.6253 - val_loss: 0.6333 - val_acc: 0.6377\n",
            "Epoch 108/250\n",
            "178/178 [==============================] - 26s 143ms/step - loss: 0.6698 - acc: 0.6210 - val_loss: 0.6165 - val_acc: 0.6536\n",
            "Epoch 109/250\n",
            "178/178 [==============================] - 21s 118ms/step - loss: 0.6657 - acc: 0.6313 - val_loss: 0.7908 - val_acc: 0.5413\n",
            "Epoch 110/250\n",
            "178/178 [==============================] - 27s 145ms/step - loss: 0.6582 - acc: 0.6489 - val_loss: 0.6452 - val_acc: 0.6239\n",
            "Epoch 111/250\n",
            "178/178 [==============================] - 27s 147ms/step - loss: 0.6405 - acc: 0.6531 - val_loss: 0.6023 - val_acc: 0.6748\n",
            "Epoch 112/250\n",
            "178/178 [==============================] - 22s 123ms/step - loss: 0.6715 - acc: 0.6256 - val_loss: 1.0239 - val_acc: 0.5148\n",
            "Epoch 113/250\n",
            "178/178 [==============================] - 28s 153ms/step - loss: 0.6493 - acc: 0.6510 - val_loss: 0.7981 - val_acc: 0.5456\n",
            "Epoch 114/250\n",
            "178/178 [==============================] - 27s 148ms/step - loss: 0.6610 - acc: 0.6390 - val_loss: 0.6364 - val_acc: 0.6377\n",
            "Epoch 115/250\n",
            "178/178 [==============================] - 27s 146ms/step - loss: 0.6623 - acc: 0.6302 - val_loss: 0.5951 - val_acc: 0.6907\n",
            "Epoch 116/250\n",
            "178/178 [==============================] - 24s 130ms/step - loss: 0.6633 - acc: 0.6334 - val_loss: 0.5967 - val_acc: 0.6886\n",
            "Epoch 117/250\n",
            "178/178 [==============================] - 26s 144ms/step - loss: 0.6560 - acc: 0.6348 - val_loss: 0.6262 - val_acc: 0.6377\n",
            "Epoch 118/250\n",
            "178/178 [==============================] - 26s 143ms/step - loss: 0.6643 - acc: 0.6408 - val_loss: 0.6370 - val_acc: 0.6441\n",
            "Epoch 119/250\n",
            "178/178 [==============================] - 23s 126ms/step - loss: 0.6474 - acc: 0.6401 - val_loss: 0.6377 - val_acc: 0.6430\n",
            "Epoch 120/250\n",
            "178/178 [==============================] - 26s 145ms/step - loss: 0.6657 - acc: 0.6334 - val_loss: 0.6959 - val_acc: 0.5975\n",
            "Epoch 121/250\n",
            "178/178 [==============================] - 27s 147ms/step - loss: 0.6537 - acc: 0.6426 - val_loss: 0.5999 - val_acc: 0.6790\n",
            "Epoch 122/250\n",
            "178/178 [==============================] - 28s 153ms/step - loss: 0.6527 - acc: 0.6503 - val_loss: 0.6096 - val_acc: 0.6706\n",
            "Epoch 123/250\n",
            "178/178 [==============================] - 27s 147ms/step - loss: 0.6507 - acc: 0.6376 - val_loss: 0.6040 - val_acc: 0.6727\n",
            "Epoch 124/250\n",
            "178/178 [==============================] - 27s 147ms/step - loss: 0.6708 - acc: 0.6246 - val_loss: 0.6934 - val_acc: 0.5805\n",
            "Epoch 125/250\n",
            "178/178 [==============================] - 28s 152ms/step - loss: 0.6599 - acc: 0.6387 - val_loss: 0.8607 - val_acc: 0.5201\n",
            "Epoch 126/250\n",
            "178/178 [==============================] - 22s 119ms/step - loss: 0.6466 - acc: 0.6383 - val_loss: 0.6654 - val_acc: 0.6165\n",
            "Epoch 127/250\n",
            "178/178 [==============================] - 27s 149ms/step - loss: 0.6687 - acc: 0.6207 - val_loss: 0.6293 - val_acc: 0.6345\n",
            "Epoch 128/250\n",
            "178/178 [==============================] - 27s 146ms/step - loss: 0.6478 - acc: 0.6471 - val_loss: 0.7313 - val_acc: 0.5805\n",
            "Epoch 129/250\n",
            "178/178 [==============================] - 26s 143ms/step - loss: 0.6597 - acc: 0.6330 - val_loss: 0.7072 - val_acc: 0.5975\n",
            "Epoch 130/250\n",
            "178/178 [==============================] - 26s 142ms/step - loss: 0.6721 - acc: 0.6214 - val_loss: 0.7124 - val_acc: 0.5805\n",
            "Epoch 131/250\n",
            "178/178 [==============================] - 27s 150ms/step - loss: 0.6568 - acc: 0.6415 - val_loss: 0.6993 - val_acc: 0.6038\n",
            "Epoch 132/250\n",
            "178/178 [==============================] - 22s 119ms/step - loss: 0.6383 - acc: 0.6489 - val_loss: 0.6396 - val_acc: 0.6388\n",
            "Epoch 133/250\n",
            "178/178 [==============================] - 28s 152ms/step - loss: 0.6509 - acc: 0.6482 - val_loss: 0.6387 - val_acc: 0.6377\n",
            "Epoch 134/250\n",
            "178/178 [==============================] - 26s 144ms/step - loss: 0.6557 - acc: 0.6359 - val_loss: 0.6170 - val_acc: 0.6441\n",
            "Epoch 135/250\n",
            "178/178 [==============================] - 26s 145ms/step - loss: 0.6550 - acc: 0.6443 - val_loss: 0.8883 - val_acc: 0.5275\n",
            "Epoch 136/250\n",
            "178/178 [==============================] - 27s 150ms/step - loss: 0.6662 - acc: 0.6288 - val_loss: 0.7078 - val_acc: 0.5975\n",
            "Epoch 137/250\n",
            "178/178 [==============================] - 26s 143ms/step - loss: 0.6680 - acc: 0.6334 - val_loss: 0.6197 - val_acc: 0.6494\n",
            "Epoch 138/250\n",
            "178/178 [==============================] - 26s 144ms/step - loss: 0.6562 - acc: 0.6373 - val_loss: 0.8102 - val_acc: 0.5339\n",
            "Epoch 139/250\n",
            "178/178 [==============================] - 22s 121ms/step - loss: 0.6478 - acc: 0.6528 - val_loss: 0.5937 - val_acc: 0.6843\n",
            "Epoch 140/250\n",
            "178/178 [==============================] - 27s 144ms/step - loss: 0.6597 - acc: 0.6433 - val_loss: 0.6875 - val_acc: 0.6006\n",
            "Epoch 141/250\n",
            "178/178 [==============================] - 27s 146ms/step - loss: 0.6625 - acc: 0.6341 - val_loss: 0.8203 - val_acc: 0.5434\n",
            "Epoch 142/250\n",
            "178/178 [==============================] - 28s 152ms/step - loss: 0.6815 - acc: 0.6217 - val_loss: 0.6382 - val_acc: 0.6133\n",
            "Epoch 143/250\n",
            "178/178 [==============================] - 27s 146ms/step - loss: 0.6650 - acc: 0.6260 - val_loss: 0.6086 - val_acc: 0.6663\n",
            "Epoch 144/250\n",
            "178/178 [==============================] - 27s 148ms/step - loss: 0.6523 - acc: 0.6535 - val_loss: 0.7367 - val_acc: 0.5816\n",
            "Epoch 145/250\n",
            "178/178 [==============================] - 28s 154ms/step - loss: 0.6485 - acc: 0.6440 - val_loss: 0.8054 - val_acc: 0.5572\n",
            "Epoch 146/250\n",
            "178/178 [==============================] - 27s 148ms/step - loss: 0.6479 - acc: 0.6426 - val_loss: 0.6840 - val_acc: 0.6155\n",
            "Epoch 147/250\n",
            "178/178 [==============================] - 26s 143ms/step - loss: 0.6653 - acc: 0.6344 - val_loss: 0.6073 - val_acc: 0.6610\n",
            "Epoch 148/250\n",
            "178/178 [==============================] - 27s 147ms/step - loss: 0.6516 - acc: 0.6429 - val_loss: 0.8239 - val_acc: 0.5477\n",
            "Epoch 149/250\n",
            "178/178 [==============================] - 26s 142ms/step - loss: 0.6529 - acc: 0.6380 - val_loss: 0.5894 - val_acc: 0.6758\n",
            "Epoch 150/250\n",
            "178/178 [==============================] - 26s 142ms/step - loss: 0.6600 - acc: 0.6348 - val_loss: 0.6327 - val_acc: 0.6388\n",
            "Epoch 151/250\n",
            "178/178 [==============================] - 27s 149ms/step - loss: 0.6571 - acc: 0.6376 - val_loss: 0.5979 - val_acc: 0.6769\n",
            "Epoch 152/250\n",
            "178/178 [==============================] - 26s 143ms/step - loss: 0.6725 - acc: 0.6309 - val_loss: 0.6446 - val_acc: 0.6250\n",
            "Epoch 153/250\n",
            "178/178 [==============================] - 26s 141ms/step - loss: 0.6650 - acc: 0.6284 - val_loss: 0.6600 - val_acc: 0.6186\n",
            "Epoch 154/250\n",
            "178/178 [==============================] - 27s 147ms/step - loss: 0.6672 - acc: 0.6246 - val_loss: 0.6450 - val_acc: 0.6314\n",
            "Epoch 155/250\n",
            "178/178 [==============================] - 26s 143ms/step - loss: 0.6587 - acc: 0.6369 - val_loss: 0.6816 - val_acc: 0.6176\n",
            "Epoch 156/250\n",
            "178/178 [==============================] - 26s 143ms/step - loss: 0.6503 - acc: 0.6341 - val_loss: 0.6203 - val_acc: 0.6547\n",
            "Epoch 157/250\n",
            "178/178 [==============================] - 28s 153ms/step - loss: 0.6560 - acc: 0.6429 - val_loss: 0.7461 - val_acc: 0.5900\n",
            "Epoch 158/250\n",
            "178/178 [==============================] - 26s 145ms/step - loss: 0.6568 - acc: 0.6373 - val_loss: 0.8439 - val_acc: 0.5328\n",
            "Epoch 159/250\n",
            "178/178 [==============================] - 26s 142ms/step - loss: 0.6625 - acc: 0.6351 - val_loss: 0.7918 - val_acc: 0.5392\n",
            "Epoch 160/250\n",
            "178/178 [==============================] - 26s 145ms/step - loss: 0.6605 - acc: 0.6330 - val_loss: 0.6330 - val_acc: 0.6367\n",
            "Epoch 161/250\n",
            "178/178 [==============================] - 22s 120ms/step - loss: 0.6531 - acc: 0.6320 - val_loss: 0.6201 - val_acc: 0.6515\n",
            "Epoch 162/250\n",
            "178/178 [==============================] - 26s 145ms/step - loss: 0.6752 - acc: 0.6274 - val_loss: 0.6698 - val_acc: 0.6176\n",
            "Epoch 163/250\n",
            "178/178 [==============================] - 23s 128ms/step - loss: 0.6664 - acc: 0.6284 - val_loss: 0.6107 - val_acc: 0.6610\n",
            "Epoch 164/250\n",
            "178/178 [==============================] - 26s 144ms/step - loss: 0.6577 - acc: 0.6284 - val_loss: 0.6600 - val_acc: 0.6006\n",
            "Epoch 165/250\n",
            "178/178 [==============================] - 26s 143ms/step - loss: 0.6650 - acc: 0.6302 - val_loss: 0.7004 - val_acc: 0.5943\n",
            "Epoch 166/250\n",
            "178/178 [==============================] - 27s 147ms/step - loss: 0.6593 - acc: 0.6359 - val_loss: 0.5967 - val_acc: 0.6653\n",
            "Epoch 167/250\n",
            "178/178 [==============================] - 26s 142ms/step - loss: 0.6615 - acc: 0.6270 - val_loss: 0.6588 - val_acc: 0.6102\n",
            "Epoch 168/250\n",
            "178/178 [==============================] - 21s 117ms/step - loss: 0.6718 - acc: 0.6274 - val_loss: 0.6555 - val_acc: 0.6112\n",
            "Epoch 169/250\n",
            "178/178 [==============================] - 28s 154ms/step - loss: 0.6650 - acc: 0.6235 - val_loss: 0.6776 - val_acc: 0.5953\n",
            "Epoch 170/250\n",
            "178/178 [==============================] - 27s 148ms/step - loss: 0.6509 - acc: 0.6299 - val_loss: 0.6379 - val_acc: 0.6186\n",
            "Epoch 171/250\n",
            "178/178 [==============================] - 27s 147ms/step - loss: 0.6540 - acc: 0.6383 - val_loss: 0.9120 - val_acc: 0.5127\n",
            "Epoch 172/250\n",
            "178/178 [==============================] - 28s 153ms/step - loss: 0.6718 - acc: 0.6193 - val_loss: 0.6226 - val_acc: 0.6525\n",
            "Epoch 173/250\n",
            "178/178 [==============================] - 27s 148ms/step - loss: 0.6530 - acc: 0.6397 - val_loss: 0.7446 - val_acc: 0.5614\n",
            "Epoch 174/250\n",
            "178/178 [==============================] - 26s 144ms/step - loss: 0.6491 - acc: 0.6493 - val_loss: 0.6840 - val_acc: 0.6049\n",
            "Epoch 175/250\n",
            "178/178 [==============================] - 27s 152ms/step - loss: 0.6534 - acc: 0.6411 - val_loss: 0.7339 - val_acc: 0.5922\n",
            "Epoch 176/250\n",
            "178/178 [==============================] - 26s 145ms/step - loss: 0.6590 - acc: 0.6291 - val_loss: 0.6354 - val_acc: 0.6324\n",
            "Epoch 177/250\n",
            "178/178 [==============================] - 26s 144ms/step - loss: 0.6660 - acc: 0.6299 - val_loss: 0.6603 - val_acc: 0.6038\n",
            "Epoch 178/250\n",
            "178/178 [==============================] - 26s 144ms/step - loss: 0.6429 - acc: 0.6380 - val_loss: 0.6518 - val_acc: 0.6208\n",
            "Epoch 179/250\n",
            "178/178 [==============================] - 26s 142ms/step - loss: 0.6651 - acc: 0.6362 - val_loss: 0.5964 - val_acc: 0.6758\n",
            "Epoch 180/250\n",
            "178/178 [==============================] - 26s 143ms/step - loss: 0.6757 - acc: 0.6147 - val_loss: 0.6396 - val_acc: 0.6345\n",
            "Epoch 181/250\n",
            "178/178 [==============================] - 26s 144ms/step - loss: 0.6635 - acc: 0.6306 - val_loss: 0.5992 - val_acc: 0.6854\n",
            "Epoch 182/250\n",
            "178/178 [==============================] - 26s 143ms/step - loss: 0.6537 - acc: 0.6334 - val_loss: 0.6139 - val_acc: 0.6536\n",
            "Epoch 183/250\n",
            "178/178 [==============================] - 27s 149ms/step - loss: 0.6384 - acc: 0.6436 - val_loss: 0.6774 - val_acc: 0.6059\n",
            "Epoch 184/250\n",
            "178/178 [==============================] - 26s 143ms/step - loss: 0.6655 - acc: 0.6210 - val_loss: 0.7544 - val_acc: 0.5636\n",
            "Epoch 185/250\n",
            "178/178 [==============================] - 22s 120ms/step - loss: 0.6632 - acc: 0.6291 - val_loss: 0.6081 - val_acc: 0.6769\n",
            "Epoch 186/250\n",
            "178/178 [==============================] - 27s 151ms/step - loss: 0.6635 - acc: 0.6380 - val_loss: 0.6571 - val_acc: 0.6186\n",
            "Epoch 187/250\n",
            "178/178 [==============================] - 27s 146ms/step - loss: 0.6669 - acc: 0.6383 - val_loss: 0.6799 - val_acc: 0.6038\n",
            "Epoch 188/250\n",
            "178/178 [==============================] - 27s 148ms/step - loss: 0.6425 - acc: 0.6496 - val_loss: 0.8326 - val_acc: 0.5328\n",
            "Epoch 189/250\n",
            "178/178 [==============================] - 28s 153ms/step - loss: 0.6663 - acc: 0.6337 - val_loss: 0.7792 - val_acc: 0.5413\n",
            "Epoch 190/250\n",
            "178/178 [==============================] - 27s 147ms/step - loss: 0.6612 - acc: 0.6390 - val_loss: 0.6056 - val_acc: 0.6716\n",
            "Epoch 191/250\n",
            "178/178 [==============================] - 27s 148ms/step - loss: 0.6748 - acc: 0.6246 - val_loss: 0.6355 - val_acc: 0.6271\n",
            "Epoch 192/250\n",
            "178/178 [==============================] - 28s 155ms/step - loss: 0.6640 - acc: 0.6246 - val_loss: 0.6023 - val_acc: 0.6663\n",
            "Epoch 193/250\n",
            "178/178 [==============================] - 26s 146ms/step - loss: 0.6657 - acc: 0.6193 - val_loss: 0.6042 - val_acc: 0.6674\n",
            "Epoch 194/250\n",
            "178/178 [==============================] - 26s 144ms/step - loss: 0.6699 - acc: 0.6214 - val_loss: 0.7293 - val_acc: 0.5593\n",
            "Epoch 195/250\n",
            "178/178 [==============================] - 27s 150ms/step - loss: 0.6557 - acc: 0.6341 - val_loss: 0.7380 - val_acc: 0.5636\n",
            "Epoch 196/250\n",
            "178/178 [==============================] - 26s 144ms/step - loss: 0.6582 - acc: 0.6376 - val_loss: 0.6613 - val_acc: 0.6070\n",
            "Epoch 197/250\n",
            "178/178 [==============================] - 26s 142ms/step - loss: 0.6390 - acc: 0.6584 - val_loss: 0.7979 - val_acc: 0.5477\n",
            "Epoch 198/250\n",
            "178/178 [==============================] - 27s 151ms/step - loss: 0.6500 - acc: 0.6422 - val_loss: 0.6844 - val_acc: 0.6006\n",
            "Epoch 199/250\n",
            "178/178 [==============================] - 22s 119ms/step - loss: 0.6649 - acc: 0.6341 - val_loss: 0.6119 - val_acc: 0.6441\n",
            "Epoch 200/250\n",
            "178/178 [==============================] - 28s 154ms/step - loss: 0.6548 - acc: 0.6302 - val_loss: 0.6233 - val_acc: 0.6335\n",
            "Epoch 201/250\n",
            "178/178 [==============================] - 26s 145ms/step - loss: 0.6553 - acc: 0.6394 - val_loss: 0.8121 - val_acc: 0.5275\n",
            "Epoch 202/250\n",
            "178/178 [==============================] - 26s 143ms/step - loss: 0.6592 - acc: 0.6344 - val_loss: 0.6601 - val_acc: 0.6102\n",
            "Epoch 203/250\n",
            "178/178 [==============================] - 28s 153ms/step - loss: 0.6554 - acc: 0.6387 - val_loss: 0.6633 - val_acc: 0.6112\n",
            "Epoch 204/250\n",
            "178/178 [==============================] - 26s 144ms/step - loss: 0.6663 - acc: 0.6284 - val_loss: 0.6374 - val_acc: 0.6335\n",
            "Epoch 205/250\n",
            "178/178 [==============================] - 21s 117ms/step - loss: 0.6525 - acc: 0.6528 - val_loss: 0.6977 - val_acc: 0.6006\n",
            "Epoch 206/250\n",
            "178/178 [==============================] - 27s 148ms/step - loss: 0.6630 - acc: 0.6330 - val_loss: 0.6890 - val_acc: 0.6144\n",
            "Epoch 207/250\n",
            "178/178 [==============================] - 22s 121ms/step - loss: 0.6491 - acc: 0.6387 - val_loss: 0.6106 - val_acc: 0.6706\n",
            "Epoch 208/250\n",
            "178/178 [==============================] - 28s 153ms/step - loss: 0.6711 - acc: 0.6253 - val_loss: 0.7503 - val_acc: 0.5614\n",
            "Epoch 209/250\n",
            "178/178 [==============================] - 27s 151ms/step - loss: 0.6736 - acc: 0.6348 - val_loss: 0.6536 - val_acc: 0.6165\n",
            "Epoch 210/250\n",
            "178/178 [==============================] - 28s 154ms/step - loss: 0.6473 - acc: 0.6426 - val_loss: 0.6153 - val_acc: 0.6578\n",
            "Epoch 211/250\n",
            "178/178 [==============================] - 27s 150ms/step - loss: 0.6549 - acc: 0.6450 - val_loss: 0.6351 - val_acc: 0.6504\n",
            "Epoch 212/250\n",
            "178/178 [==============================] - 23s 123ms/step - loss: 0.6574 - acc: 0.6397 - val_loss: 0.8263 - val_acc: 0.5275\n",
            "Epoch 213/250\n",
            "178/178 [==============================] - 28s 151ms/step - loss: 0.6733 - acc: 0.6330 - val_loss: 0.6423 - val_acc: 0.6261\n",
            "Epoch 214/250\n",
            "178/178 [==============================] - 26s 144ms/step - loss: 0.6479 - acc: 0.6454 - val_loss: 0.7580 - val_acc: 0.5773\n",
            "Epoch 215/250\n",
            "178/178 [==============================] - 22s 119ms/step - loss: 0.6472 - acc: 0.6454 - val_loss: 0.6627 - val_acc: 0.6091\n",
            "Epoch 216/250\n",
            "178/178 [==============================] - 28s 154ms/step - loss: 0.6668 - acc: 0.6221 - val_loss: 0.6105 - val_acc: 0.6631\n",
            "Epoch 217/250\n",
            "178/178 [==============================] - 27s 151ms/step - loss: 0.6755 - acc: 0.6249 - val_loss: 0.6956 - val_acc: 0.5858\n",
            "Epoch 218/250\n",
            "178/178 [==============================] - 27s 151ms/step - loss: 0.6527 - acc: 0.6366 - val_loss: 0.6079 - val_acc: 0.6621\n",
            "Epoch 219/250\n",
            "178/178 [==============================] - 29s 158ms/step - loss: 0.6577 - acc: 0.6334 - val_loss: 0.9440 - val_acc: 0.5159\n",
            "Epoch 220/250\n",
            "178/178 [==============================] - 27s 149ms/step - loss: 0.6521 - acc: 0.6418 - val_loss: 0.6862 - val_acc: 0.6081\n",
            "Epoch 221/250\n",
            "178/178 [==============================] - 26s 146ms/step - loss: 0.6563 - acc: 0.6341 - val_loss: 0.6153 - val_acc: 0.6451\n",
            "Epoch 222/250\n",
            "178/178 [==============================] - 28s 157ms/step - loss: 0.6615 - acc: 0.6376 - val_loss: 0.6610 - val_acc: 0.6176\n",
            "Epoch 223/250\n",
            "178/178 [==============================] - 27s 148ms/step - loss: 0.6608 - acc: 0.6387 - val_loss: 0.7480 - val_acc: 0.5561\n",
            "Epoch 224/250\n",
            "178/178 [==============================] - 23s 125ms/step - loss: 0.6591 - acc: 0.6351 - val_loss: 0.6055 - val_acc: 0.6822\n",
            "Epoch 225/250\n",
            "178/178 [==============================] - 28s 150ms/step - loss: 0.6543 - acc: 0.6411 - val_loss: 0.8751 - val_acc: 0.5360\n",
            "Epoch 226/250\n",
            "178/178 [==============================] - 22s 122ms/step - loss: 0.6888 - acc: 0.6200 - val_loss: 0.6071 - val_acc: 0.6515\n",
            "Epoch 227/250\n",
            "178/178 [==============================] - 28s 154ms/step - loss: 0.6454 - acc: 0.6553 - val_loss: 0.6183 - val_acc: 0.6462\n",
            "Epoch 228/250\n",
            "178/178 [==============================] - 22s 122ms/step - loss: 0.6584 - acc: 0.6369 - val_loss: 0.6116 - val_acc: 0.6536\n",
            "Epoch 229/250\n",
            "178/178 [==============================] - 28s 156ms/step - loss: 0.6550 - acc: 0.6327 - val_loss: 0.7043 - val_acc: 0.5953\n",
            "Epoch 230/250\n",
            "178/178 [==============================] - 27s 149ms/step - loss: 0.6588 - acc: 0.6408 - val_loss: 0.6977 - val_acc: 0.5911\n",
            "Epoch 231/250\n",
            "178/178 [==============================] - 27s 150ms/step - loss: 0.6660 - acc: 0.6179 - val_loss: 0.6099 - val_acc: 0.6695\n",
            "Epoch 232/250\n",
            "178/178 [==============================] - 28s 156ms/step - loss: 0.6640 - acc: 0.6224 - val_loss: 0.7618 - val_acc: 0.5667\n",
            "Epoch 233/250\n",
            "178/178 [==============================] - 27s 149ms/step - loss: 0.6523 - acc: 0.6341 - val_loss: 0.6556 - val_acc: 0.6324\n",
            "Epoch 234/250\n",
            "178/178 [==============================] - 27s 147ms/step - loss: 0.6685 - acc: 0.6313 - val_loss: 0.7127 - val_acc: 0.5784\n",
            "Epoch 235/250\n",
            "178/178 [==============================] - 27s 149ms/step - loss: 0.6564 - acc: 0.6253 - val_loss: 0.6321 - val_acc: 0.6525\n",
            "Epoch 236/250\n",
            "178/178 [==============================] - 23s 126ms/step - loss: 0.6650 - acc: 0.6207 - val_loss: 0.6135 - val_acc: 0.6547\n",
            "Epoch 237/250\n",
            "178/178 [==============================] - 28s 156ms/step - loss: 0.6569 - acc: 0.6376 - val_loss: 0.7268 - val_acc: 0.5752\n",
            "Epoch 238/250\n",
            "178/178 [==============================] - 27s 149ms/step - loss: 0.6602 - acc: 0.6299 - val_loss: 0.6362 - val_acc: 0.6303\n",
            "Epoch 239/250\n",
            "178/178 [==============================] - 27s 148ms/step - loss: 0.6583 - acc: 0.6299 - val_loss: 0.7892 - val_acc: 0.5434\n",
            "Epoch 240/250\n",
            "178/178 [==============================] - 26s 145ms/step - loss: 0.6859 - acc: 0.6168 - val_loss: 0.7122 - val_acc: 0.5625\n",
            "Epoch 241/250\n",
            "178/178 [==============================] - 22s 122ms/step - loss: 0.6647 - acc: 0.6306 - val_loss: 0.6181 - val_acc: 0.6494\n",
            "Epoch 242/250\n",
            "178/178 [==============================] - 24s 129ms/step - loss: 0.6654 - acc: 0.6299 - val_loss: 0.6390 - val_acc: 0.6335\n",
            "Epoch 243/250\n",
            "178/178 [==============================] - 26s 143ms/step - loss: 0.6474 - acc: 0.6351 - val_loss: 0.6358 - val_acc: 0.6239\n",
            "Epoch 244/250\n",
            "178/178 [==============================] - 27s 145ms/step - loss: 0.6584 - acc: 0.6295 - val_loss: 0.6270 - val_acc: 0.6494\n",
            "Epoch 245/250\n",
            "178/178 [==============================] - 26s 145ms/step - loss: 0.6671 - acc: 0.6148 - val_loss: 0.7437 - val_acc: 0.5752\n",
            "Epoch 246/250\n",
            "178/178 [==============================] - 27s 146ms/step - loss: 0.6590 - acc: 0.6351 - val_loss: 0.9279 - val_acc: 0.5138\n",
            "Epoch 247/250\n",
            "178/178 [==============================] - 28s 151ms/step - loss: 0.6435 - acc: 0.6429 - val_loss: 0.6751 - val_acc: 0.6081\n",
            "Epoch 248/250\n",
            "178/178 [==============================] - 22s 122ms/step - loss: 0.6524 - acc: 0.6418 - val_loss: 0.7889 - val_acc: 0.5445\n",
            "Epoch 249/250\n",
            "178/178 [==============================] - 27s 149ms/step - loss: 0.6605 - acc: 0.6362 - val_loss: 0.6265 - val_acc: 0.6441\n",
            "Epoch 250/250\n",
            "178/178 [==============================] - 28s 155ms/step - loss: 0.6539 - acc: 0.6330 - val_loss: 0.6401 - val_acc: 0.6271\n"
          ]
        }
      ]
    },
    {
      "cell_type": "code",
      "source": [
        "\n",
        "acc = history.history['acc']\n",
        "val_acc = history.history['val_acc']\n",
        "loss = history.history['loss']\n",
        "val_loss = history.history['val_loss']\n",
        "\n",
        "epochs_x = range(len(acc))\n",
        "\n",
        "plt.plot(epochs_x, acc, 'go', label='Training acc')\n",
        "plt.plot(epochs_x, val_acc, 'k', label='Validation acc')\n",
        "plt.title('Training and validation accuracy')\n",
        "plt.legend()\n",
        "\n",
        "plt.figure()\n",
        "\n",
        "plt.plot(epochs_x, loss, 'go', label='Training loss')\n",
        "plt.plot(epochs_x, val_loss, 'k', label='Validation loss')\n",
        "plt.title('Training and validation loss')\n",
        "plt.legend()\n",
        "\n",
        "plt.show()"
      ],
      "metadata": {
        "id": "Y3K89-CM-dfg",
        "colab": {
          "base_uri": "https://localhost:8080/",
          "height": 545
        },
        "outputId": "5c7416ef-fc87-4a89-c514-062c5c27bef7"
      },
      "execution_count": 20,
      "outputs": [
        {
          "output_type": "display_data",
          "data": {
            "text/plain": [
              "<Figure size 432x288 with 1 Axes>"
            ],
            "image/png": "[encoded data removed]"
          },
          "metadata": {
            "needs_background": "light"
          }
        },
        {
          "output_type": "display_data",
          "data": {
            "text/plain": [
              "<Figure size 432x288 with 1 Axes>"
            ],
            "image/png": "[encoded data removed]"
          },
          "metadata": {
            "needs_background": "light"
          }
        }
      ]
    },
    {
      "cell_type": "code",
      "source": [
        "epochs_x"
      ],
      "metadata": {
        "id": "N_sP_ZmSY-Jv",
        "colab": {
          "base_uri": "https://localhost:8080/"
        },
        "outputId": "0016e408-e154-4924-b012-421bcad9b83e"
      },
      "execution_count": 21,
      "outputs": [
        {
          "output_type": "execute_result",
          "data": {
            "text/plain": [
              "range(0, 250)"
            ]
          },
          "metadata": {},
          "execution_count": 21
        }
      ]
    },
    {
      "cell_type": "markdown",
      "source": [
        "#Download the model\n"
      ],
      "metadata": {
        "id": "R19IJQSYoW7J"
      }
    },
    {
      "cell_type": "code",
      "source": [
        "os.makedirs('/content/drive/My Drive/cut_panoramic/Model', exist_ok=True)\n",
        "model.save('/content/drive/My Drive/cut_panoramic/Model/3_B3_G3_Unfreeze_250.h5')"
      ],
      "metadata": {
        "id": "Zed4TdFcG2iJ"
      },
      "execution_count": 22,
      "outputs": []
    },
    {
      "cell_type": "markdown",
      "source": [],
      "metadata": {
        "id": "n5YxZ-5QjQ0-"
      }
    },
    {
      "cell_type": "code",
      "source": [
        "# from google.colab import files\n",
        "# files.download('/content/drive/My Drive/cut_panoramic/Model/1.1_รอบแรก_Flimpano_Male125_250.h5')"
      ],
      "metadata": {
        "id": "P5eMxm1NV-oY"
      },
      "execution_count": 23,
      "outputs": []
    },
    {
      "cell_type": "code",
      "source": [
        "\n"
      ],
      "metadata": {
        "id": "wY_pDlxkRwxS"
      },
      "execution_count": null,
      "outputs": []
    }
  ]
}