{
  "nbformat": 4,
  "nbformat_minor": 0,
  "metadata": {
    "colab": {
      "provenance": [],
      "machine_shape": "hm",
      "include_colab_link": true
    },
    "kernelspec": {
      "name": "python3",
      "display_name": "Python 3"
    },
    "language_info": {
      "name": "python"
    },
    "accelerator": "GPU",
    "gpuClass": "standard"
  },
  "cells": [
    {
      "cell_type": "markdown",
      "metadata": {
        "id": "view-in-github",
        "colab_type": "text"
      },
      "source": [
        "<a href=\"https://colab.research.google.com/github/Wanita-8943/run/blob/main/B3_G2_Train_2e-5_Freeze.ipynb\" target=\"_parent\"><img src=\"https://colab.research.google.com/assets/colab-badge.svg\" alt=\"Open In Colab\"/></a>"
      ]
    },
    {
      "cell_type": "code",
      "execution_count": 1,
      "metadata": {
        "id": "KKSs7cyoPHcD"
      },
      "outputs": [],
      "source": [
        "import pandas as pd\n",
        "import shutil"
      ]
    },
    {
      "cell_type": "code",
      "source": [
        "from google.colab import drive\n",
        "drive.mount('/content/drive')"
      ],
      "metadata": {
        "colab": {
          "base_uri": "https://localhost:8080/"
        },
        "id": "Klm1B91QlvKd",
        "outputId": "1a2a6f94-7683-4530-cc95-ccf2fd689035"
      },
      "execution_count": 2,
      "outputs": [
        {
          "output_type": "stream",
          "name": "stdout",
          "text": [
            "Mounted at /content/drive\n"
          ]
        }
      ]
    },
    {
      "cell_type": "code",
      "source": [
        "from tensorflow.keras import models\n",
        "from tensorflow.keras import layers\n",
        "from tensorflow.keras import optimizers\n",
        "import os\n",
        "import glob\n",
        "import shutil\n",
        "import sys\n",
        "import numpy as np\n",
        "from skimage.io import imread\n",
        "import matplotlib.pyplot as plt\n",
        "from IPython.display import Image\n",
        "%matplotlib inline"
      ],
      "metadata": {
        "id": "1pX9g1HxPM2f"
      },
      "execution_count": 3,
      "outputs": []
    },
    {
      "cell_type": "code",
      "source": [
        "batch_size = 16\n",
        "width = 150\n",
        "height = 150\n",
        "epochs = 250\n",
        "NUM_TRAIN = 2850\n",
        "NUM_TEST = 950\n",
        "dropout_rate = 0.2\n",
        "input_shape = (height, width, 3)"
      ],
      "metadata": {
        "id": "eSFtvGyvPM6O"
      },
      "execution_count": 4,
      "outputs": []
    },
    {
      "cell_type": "code",
      "source": [
        "#ดึงข้อมูลใน Github มาใช้\n",
        "import os\n",
        "%cd /content\n",
        "if not os.path.isdir(\"efficientnet_keras_transfer_learning\"):\n",
        " !git clone https://github.com/Wanita-8943/efficientnet_keras_transfer_learning\n",
        "%cd efficientnet_keras_transfer_learning/"
      ],
      "metadata": {
        "colab": {
          "base_uri": "https://localhost:8080/"
        },
        "id": "lb4K4CsMPNAW",
        "outputId": "d1597353-e1e3-4f4d-b5f3-fb21547d8674"
      },
      "execution_count": 5,
      "outputs": [
        {
          "output_type": "stream",
          "name": "stdout",
          "text": [
            "/content\n",
            "Cloning into 'efficientnet_keras_transfer_learning'...\n",
            "remote: Enumerating objects: 837, done.\u001b[K\n",
            "remote: Total 837 (delta 0), reused 0 (delta 0), pack-reused 837\u001b[K\n",
            "Receiving objects: 100% (837/837), 13.85 MiB | 37.33 MiB/s, done.\n",
            "Resolving deltas: 100% (497/497), done.\n",
            "/content/efficientnet_keras_transfer_learning\n"
          ]
        }
      ]
    },
    {
      "cell_type": "code",
      "source": [
        "# Options: EfficientNetB0, EfficientNetB1, EfficientNetB2, EfficientNetB3\n",
        "# Higher the number, the more complex the model is.\n",
        "from efficientnet import EfficientNetB3 as Net\n",
        "from efficientnet import center_crop_and_resize, preprocess_input"
      ],
      "metadata": {
        "id": "eyBg0dLKPND3"
      },
      "execution_count": 6,
      "outputs": []
    },
    {
      "cell_type": "code",
      "source": [
        "base_dir = '/content/drive/MyDrive/TVT_Gender'\n",
        "os.makedirs(base_dir, exist_ok=True)\n",
        "\n",
        "# Directories for our training,\n",
        "# validation and test splits\n",
        "train_dir = os.path.join(base_dir, 'train')\n",
        "os.makedirs(train_dir, exist_ok=True)\n",
        "validation_dir = os.path.join(base_dir, 'validation')\n",
        "os.makedirs(validation_dir, exist_ok=True)\n",
        "test_dir = os.path.join(base_dir, 'test')\n",
        "os.makedirs(test_dir, exist_ok=True)"
      ],
      "metadata": {
        "id": "Jwpq_-KvPef8"
      },
      "execution_count": 7,
      "outputs": []
    },
    {
      "cell_type": "markdown",
      "source": [
        "#load model"
      ],
      "metadata": {
        "id": "od-ZSNm5PoGy"
      }
    },
    {
      "cell_type": "code",
      "source": [
        "import sys\n",
        "sys.path.append('/content/drive/MyDrive/cut_panoramic/Model/B3_G1_2e-5_250.h5')\n",
        "\n",
        "from efficientnet.layers import Swish, DropConnect\n",
        "from efficientnet.model import ConvKernalInitializer\n",
        "from tensorflow.keras.utils import get_custom_objects\n",
        "\n",
        "get_custom_objects().update({\n",
        "    'ConvKernalInitializer': ConvKernalInitializer,\n",
        "    'Swish': Swish,\n",
        "    'DropConnect':DropConnect\n",
        "})"
      ],
      "metadata": {
        "id": "n5iPL5MNPkhE"
      },
      "execution_count": 8,
      "outputs": []
    },
    {
      "cell_type": "code",
      "source": [
        "#load model \n",
        "from tensorflow.keras.models import load_model\n",
        "model = load_model('/content/drive/MyDrive/cut_panoramic/Model/B3_G1_2e-5_250.h5')\n",
        "height = width = model.input_shape[1]"
      ],
      "metadata": {
        "id": "plYz49xMPkly",
        "colab": {
          "base_uri": "https://localhost:8080/"
        },
        "outputId": "fc0fa541-72d0-45ff-d3b5-c194b23175e0"
      },
      "execution_count": 9,
      "outputs": [
        {
          "output_type": "stream",
          "name": "stderr",
          "text": [
            "WARNING:tensorflow:From /usr/local/lib/python3.9/dist-packages/tensorflow/python/autograph/pyct/static_analysis/liveness.py:83: Analyzer.lamba_check (from tensorflow.python.autograph.pyct.static_analysis.liveness) is deprecated and will be removed after 2023-09-23.\n",
            "Instructions for updating:\n",
            "Lambda fuctions will be no more assumed to be used in the statement where they are used, or at least in the same block. https://github.com/tensorflow/tensorflow/issues/56089\n"
          ]
        }
      ]
    },
    {
      "cell_type": "code",
      "source": [
        "model.summary()"
      ],
      "metadata": {
        "colab": {
          "base_uri": "https://localhost:8080/"
        },
        "id": "z6IOPBflFbvc",
        "outputId": "6f3f523e-05f6-4583-92c2-129ab753ff97"
      },
      "execution_count": 10,
      "outputs": [
        {
          "output_type": "stream",
          "name": "stdout",
          "text": [
            "Model: \"sequential_1\"\n",
            "_________________________________________________________________\n",
            " Layer (type)                Output Shape              Param #   \n",
            "=================================================================\n",
            " efficientnet-b3 (Functional  (None, 5, 5, 1536)       10783528  \n",
            " )                                                               \n",
            "                                                                 \n",
            " gap (GlobalMaxPooling2D)    (None, 1536)              0         \n",
            "                                                                 \n",
            " dropout_out (Dropout)       (None, 1536)              0         \n",
            "                                                                 \n",
            " fc_out (Dense)              (None, 2)                 3074      \n",
            "                                                                 \n",
            "=================================================================\n",
            "Total params: 10,786,602\n",
            "Trainable params: 3,074\n",
            "Non-trainable params: 10,783,528\n",
            "_________________________________________________________________\n"
          ]
        }
      ]
    },
    {
      "cell_type": "code",
      "source": [
        "# Train ด้วย ImageDataGenerator ของ Keras ซึ่งจะเพิ่มข้อมูลเสริมระหว่างการฝึกเพื่อลดโอกาสเกิด overfitting\n",
        "#overfitting เกิดจากข้อมูลที่ซับซ้อนกันเกินไป\n",
        "from tensorflow.keras.preprocessing.image import ImageDataGenerator\n",
        "\n",
        "train_datagen = ImageDataGenerator(\n",
        "      rescale=1./255, #โมเดลส่วนใหญ่ต้องใช้ RGB ในช่วง 0–1\n",
        "      rotation_range=40,\n",
        "      width_shift_range=0.2,\n",
        "      height_shift_range=0.2,\n",
        "      shear_range=0.2,\n",
        "      zoom_range=0.2,\n",
        "      horizontal_flip=True,\n",
        "      fill_mode='nearest')\n",
        "\n",
        "# Note that the validation data should not be augmented!\n",
        "test_datagen = ImageDataGenerator(rescale=1./255)\n",
        "\n",
        "train_generator = train_datagen.flow_from_directory(\n",
        "        # This is the target directory #ไดเรกเป้าหมาย\n",
        "        train_dir,\n",
        "        # รูปภาพทั้งหมดจะถูกปรับขนาดตามความสูงและความกว้างของเป้าหมาย\n",
        "        target_size=(height, width),\n",
        "        batch_size=batch_size,\n",
        "        # Since we use categorical_crossentropy loss, we need categorical labels\n",
        "        #เนื่องจากเราใช้ categorical_crossentropy loss เราจึงต้องมีป้ายกำกับตามหมวดหมู่\n",
        "        class_mode='categorical')\n",
        "\n",
        "validation_generator = test_datagen.flow_from_directory( #การดึงภาพจาก Directory มาเข้าโมเดล \n",
        "        validation_dir,\n",
        "        target_size=(height, width),\n",
        "        batch_size=batch_size,\n",
        "        class_mode='categorical')"
      ],
      "metadata": {
        "colab": {
          "base_uri": "https://localhost:8080/"
        },
        "id": "KBMZbdr2Pgw4",
        "outputId": "224d3b19-cb2b-45ff-90cc-8feaef512a17"
      },
      "execution_count": 11,
      "outputs": [
        {
          "output_type": "stream",
          "name": "stdout",
          "text": [
            "Found 2850 images belonging to 2 classes.\n",
            "Found 950 images belonging to 2 classes.\n"
          ]
        }
      ]
    },
    {
      "cell_type": "code",
      "source": [
        "history = model.fit_generator(\n",
        "      train_generator,\n",
        "      steps_per_epoch= NUM_TRAIN //batch_size,\n",
        "      epochs=epochs,\n",
        "      validation_data=validation_generator,\n",
        "      validation_steps= NUM_TEST //batch_size,\n",
        "      verbose=1,\n",
        "      use_multiprocessing=True,\n",
        "      workers=4)"
      ],
      "metadata": {
        "colab": {
          "base_uri": "https://localhost:8080/"
        },
        "id": "C9Cf1dwyP1PD",
        "outputId": "1fb1dc64-4dcb-4df8-9639-cc14ebb8994c"
      },
      "execution_count": 12,
      "outputs": [
        {
          "output_type": "stream",
          "name": "stderr",
          "text": [
            "<ipython-input-12-caa7b37242a8>:1: UserWarning: `Model.fit_generator` is deprecated and will be removed in a future version. Please use `Model.fit`, which supports generators.\n",
            "  history = model.fit_generator(\n"
          ]
        },
        {
          "output_type": "stream",
          "name": "stdout",
          "text": [
            "Epoch 1/250\n",
            "178/178 [==============================] - 146s 727ms/step - loss: 0.6500 - acc: 0.6351 - val_loss: 0.6351 - val_acc: 0.6398\n",
            "Epoch 2/250\n",
            "178/178 [==============================] - 24s 132ms/step - loss: 0.6651 - acc: 0.6302 - val_loss: 0.6469 - val_acc: 0.6292\n",
            "Epoch 3/250\n",
            "178/178 [==============================] - 24s 132ms/step - loss: 0.6498 - acc: 0.6341 - val_loss: 0.6767 - val_acc: 0.6070\n",
            "Epoch 4/250\n",
            "178/178 [==============================] - 24s 131ms/step - loss: 0.6480 - acc: 0.6373 - val_loss: 0.6701 - val_acc: 0.6123\n",
            "Epoch 5/250\n",
            "178/178 [==============================] - 24s 131ms/step - loss: 0.6469 - acc: 0.6302 - val_loss: 0.6552 - val_acc: 0.6239\n",
            "Epoch 6/250\n",
            "178/178 [==============================] - 24s 133ms/step - loss: 0.6398 - acc: 0.6528 - val_loss: 0.6512 - val_acc: 0.6250\n",
            "Epoch 7/250\n",
            "178/178 [==============================] - 19s 105ms/step - loss: 0.6483 - acc: 0.6408 - val_loss: 0.6411 - val_acc: 0.6314\n",
            "Epoch 8/250\n",
            "178/178 [==============================] - 20s 108ms/step - loss: 0.6519 - acc: 0.6210 - val_loss: 0.6433 - val_acc: 0.6303\n",
            "Epoch 9/250\n",
            "178/178 [==============================] - 24s 135ms/step - loss: 0.6640 - acc: 0.6094 - val_loss: 0.6364 - val_acc: 0.6335\n",
            "Epoch 10/250\n",
            "178/178 [==============================] - 24s 132ms/step - loss: 0.6552 - acc: 0.6401 - val_loss: 0.6641 - val_acc: 0.6059\n",
            "Epoch 11/250\n",
            "178/178 [==============================] - 24s 131ms/step - loss: 0.6567 - acc: 0.6284 - val_loss: 0.6415 - val_acc: 0.6282\n",
            "Epoch 12/250\n",
            "178/178 [==============================] - 25s 136ms/step - loss: 0.6583 - acc: 0.6351 - val_loss: 0.6585 - val_acc: 0.6112\n",
            "Epoch 13/250\n",
            "178/178 [==============================] - 24s 133ms/step - loss: 0.6480 - acc: 0.6288 - val_loss: 0.6690 - val_acc: 0.6081\n",
            "Epoch 14/250\n",
            "178/178 [==============================] - 24s 131ms/step - loss: 0.6403 - acc: 0.6461 - val_loss: 0.6307 - val_acc: 0.6377\n",
            "Epoch 15/250\n",
            "178/178 [==============================] - 24s 131ms/step - loss: 0.6314 - acc: 0.6517 - val_loss: 0.6852 - val_acc: 0.6017\n",
            "Epoch 16/250\n",
            "178/178 [==============================] - 24s 130ms/step - loss: 0.6480 - acc: 0.6380 - val_loss: 0.6586 - val_acc: 0.6208\n",
            "Epoch 17/250\n",
            "178/178 [==============================] - 25s 136ms/step - loss: 0.6789 - acc: 0.6016 - val_loss: 0.6605 - val_acc: 0.6176\n",
            "Epoch 18/250\n",
            "178/178 [==============================] - 20s 112ms/step - loss: 0.6639 - acc: 0.6309 - val_loss: 0.6461 - val_acc: 0.6271\n",
            "Epoch 19/250\n",
            "178/178 [==============================] - 24s 133ms/step - loss: 0.6482 - acc: 0.6362 - val_loss: 0.6649 - val_acc: 0.6102\n",
            "Epoch 20/250\n",
            "178/178 [==============================] - 25s 135ms/step - loss: 0.6415 - acc: 0.6369 - val_loss: 0.6526 - val_acc: 0.6197\n",
            "Epoch 21/250\n",
            "178/178 [==============================] - 25s 138ms/step - loss: 0.6473 - acc: 0.6468 - val_loss: 0.6522 - val_acc: 0.6186\n",
            "Epoch 22/250\n",
            "178/178 [==============================] - 24s 133ms/step - loss: 0.6428 - acc: 0.6369 - val_loss: 0.6410 - val_acc: 0.6324\n",
            "Epoch 23/250\n",
            "178/178 [==============================] - 24s 132ms/step - loss: 0.6573 - acc: 0.6256 - val_loss: 0.6634 - val_acc: 0.6059\n",
            "Epoch 24/250\n",
            "178/178 [==============================] - 24s 131ms/step - loss: 0.6650 - acc: 0.6351 - val_loss: 0.6765 - val_acc: 0.6017\n",
            "Epoch 25/250\n",
            "178/178 [==============================] - 24s 134ms/step - loss: 0.6555 - acc: 0.6249 - val_loss: 0.6828 - val_acc: 0.5890\n",
            "Epoch 26/250\n",
            "178/178 [==============================] - 25s 136ms/step - loss: 0.6405 - acc: 0.6334 - val_loss: 0.7058 - val_acc: 0.5752\n",
            "Epoch 27/250\n",
            "178/178 [==============================] - 24s 130ms/step - loss: 0.6350 - acc: 0.6493 - val_loss: 0.6518 - val_acc: 0.6123\n",
            "Epoch 28/250\n",
            "178/178 [==============================] - 24s 130ms/step - loss: 0.6503 - acc: 0.6418 - val_loss: 0.6170 - val_acc: 0.6568\n",
            "Epoch 29/250\n",
            "178/178 [==============================] - 24s 131ms/step - loss: 0.6318 - acc: 0.6538 - val_loss: 0.6350 - val_acc: 0.6356\n",
            "Epoch 30/250\n",
            "178/178 [==============================] - 24s 130ms/step - loss: 0.6601 - acc: 0.6256 - val_loss: 0.6781 - val_acc: 0.5911\n",
            "Epoch 31/250\n",
            "178/178 [==============================] - 24s 130ms/step - loss: 0.6362 - acc: 0.6337 - val_loss: 0.6818 - val_acc: 0.5932\n",
            "Epoch 32/250\n",
            "178/178 [==============================] - 19s 105ms/step - loss: 0.6499 - acc: 0.6274 - val_loss: 0.6661 - val_acc: 0.6049\n",
            "Epoch 33/250\n",
            "178/178 [==============================] - 24s 132ms/step - loss: 0.6377 - acc: 0.6538 - val_loss: 0.6609 - val_acc: 0.6081\n",
            "Epoch 34/250\n",
            "178/178 [==============================] - 24s 131ms/step - loss: 0.6408 - acc: 0.6411 - val_loss: 0.6865 - val_acc: 0.5900\n",
            "Epoch 35/250\n",
            "178/178 [==============================] - 24s 131ms/step - loss: 0.6423 - acc: 0.6461 - val_loss: 0.6783 - val_acc: 0.5943\n",
            "Epoch 36/250\n",
            "178/178 [==============================] - 20s 111ms/step - loss: 0.6385 - acc: 0.6528 - val_loss: 0.6234 - val_acc: 0.6557\n",
            "Epoch 37/250\n",
            "178/178 [==============================] - 23s 130ms/step - loss: 0.6443 - acc: 0.6383 - val_loss: 0.6468 - val_acc: 0.6271\n",
            "Epoch 38/250\n",
            "178/178 [==============================] - 24s 131ms/step - loss: 0.6500 - acc: 0.6341 - val_loss: 0.6681 - val_acc: 0.6070\n",
            "Epoch 39/250\n",
            "178/178 [==============================] - 20s 108ms/step - loss: 0.6394 - acc: 0.6447 - val_loss: 0.6521 - val_acc: 0.6239\n",
            "Epoch 40/250\n",
            "178/178 [==============================] - 20s 109ms/step - loss: 0.6542 - acc: 0.6337 - val_loss: 0.6598 - val_acc: 0.6112\n",
            "Epoch 41/250\n",
            "178/178 [==============================] - 19s 105ms/step - loss: 0.6380 - acc: 0.6415 - val_loss: 0.6327 - val_acc: 0.6430\n",
            "Epoch 42/250\n",
            "178/178 [==============================] - 24s 130ms/step - loss: 0.6572 - acc: 0.6235 - val_loss: 0.6221 - val_acc: 0.6536\n",
            "Epoch 43/250\n",
            "178/178 [==============================] - 19s 104ms/step - loss: 0.6305 - acc: 0.6602 - val_loss: 0.6437 - val_acc: 0.6292\n",
            "Epoch 44/250\n",
            "178/178 [==============================] - 25s 134ms/step - loss: 0.6468 - acc: 0.6341 - val_loss: 0.6364 - val_acc: 0.6377\n",
            "Epoch 45/250\n",
            "178/178 [==============================] - 24s 130ms/step - loss: 0.6393 - acc: 0.6401 - val_loss: 0.6241 - val_acc: 0.6483\n",
            "Epoch 46/250\n",
            "178/178 [==============================] - 24s 131ms/step - loss: 0.6530 - acc: 0.6359 - val_loss: 0.6498 - val_acc: 0.6218\n",
            "Epoch 47/250\n",
            "178/178 [==============================] - 24s 131ms/step - loss: 0.6557 - acc: 0.6281 - val_loss: 0.6921 - val_acc: 0.5900\n",
            "Epoch 48/250\n",
            "178/178 [==============================] - 24s 133ms/step - loss: 0.6501 - acc: 0.6351 - val_loss: 0.6399 - val_acc: 0.6282\n",
            "Epoch 49/250\n",
            "178/178 [==============================] - 25s 137ms/step - loss: 0.6349 - acc: 0.6570 - val_loss: 0.6460 - val_acc: 0.6239\n",
            "Epoch 50/250\n",
            "178/178 [==============================] - 24s 132ms/step - loss: 0.6396 - acc: 0.6344 - val_loss: 0.6260 - val_acc: 0.6494\n",
            "Epoch 51/250\n",
            "178/178 [==============================] - 24s 133ms/step - loss: 0.6568 - acc: 0.6299 - val_loss: 0.6415 - val_acc: 0.6282\n",
            "Epoch 52/250\n",
            "178/178 [==============================] - 24s 132ms/step - loss: 0.6427 - acc: 0.6369 - val_loss: 0.6241 - val_acc: 0.6525\n",
            "Epoch 53/250\n",
            "178/178 [==============================] - 24s 133ms/step - loss: 0.6338 - acc: 0.6426 - val_loss: 0.6252 - val_acc: 0.6547\n",
            "Epoch 54/250\n",
            "178/178 [==============================] - 25s 136ms/step - loss: 0.6436 - acc: 0.6426 - val_loss: 0.6818 - val_acc: 0.5922\n",
            "Epoch 55/250\n",
            "178/178 [==============================] - 24s 134ms/step - loss: 0.6386 - acc: 0.6507 - val_loss: 0.6322 - val_acc: 0.6419\n",
            "Epoch 56/250\n",
            "178/178 [==============================] - 24s 133ms/step - loss: 0.6378 - acc: 0.6429 - val_loss: 0.6372 - val_acc: 0.6367\n",
            "Epoch 57/250\n",
            "178/178 [==============================] - 24s 132ms/step - loss: 0.6289 - acc: 0.6464 - val_loss: 0.6590 - val_acc: 0.6102\n",
            "Epoch 58/250\n",
            "178/178 [==============================] - 24s 132ms/step - loss: 0.6342 - acc: 0.6454 - val_loss: 0.6949 - val_acc: 0.5869\n",
            "Epoch 59/250\n",
            "178/178 [==============================] - 24s 133ms/step - loss: 0.6350 - acc: 0.6408 - val_loss: 0.6429 - val_acc: 0.6324\n",
            "Epoch 60/250\n",
            "178/178 [==============================] - 25s 138ms/step - loss: 0.6470 - acc: 0.6422 - val_loss: 0.6781 - val_acc: 0.5858\n",
            "Epoch 61/250\n",
            "178/178 [==============================] - 24s 134ms/step - loss: 0.6371 - acc: 0.6404 - val_loss: 0.6840 - val_acc: 0.5879\n",
            "Epoch 62/250\n",
            "178/178 [==============================] - 24s 132ms/step - loss: 0.6290 - acc: 0.6574 - val_loss: 0.6065 - val_acc: 0.6621\n",
            "Epoch 63/250\n",
            "178/178 [==============================] - 24s 133ms/step - loss: 0.6473 - acc: 0.6355 - val_loss: 0.6304 - val_acc: 0.6356\n",
            "Epoch 64/250\n",
            "178/178 [==============================] - 25s 137ms/step - loss: 0.6483 - acc: 0.6284 - val_loss: 0.6720 - val_acc: 0.5943\n",
            "Epoch 65/250\n",
            "178/178 [==============================] - 25s 136ms/step - loss: 0.6435 - acc: 0.6418 - val_loss: 0.6333 - val_acc: 0.6356\n",
            "Epoch 66/250\n",
            "178/178 [==============================] - 25s 136ms/step - loss: 0.6425 - acc: 0.6302 - val_loss: 0.6504 - val_acc: 0.6155\n",
            "Epoch 67/250\n",
            "178/178 [==============================] - 25s 136ms/step - loss: 0.6509 - acc: 0.6256 - val_loss: 0.6220 - val_acc: 0.6504\n",
            "Epoch 68/250\n",
            "178/178 [==============================] - 25s 139ms/step - loss: 0.6273 - acc: 0.6542 - val_loss: 0.6121 - val_acc: 0.6621\n",
            "Epoch 69/250\n",
            "178/178 [==============================] - 25s 140ms/step - loss: 0.6288 - acc: 0.6443 - val_loss: 0.6315 - val_acc: 0.6377\n",
            "Epoch 70/250\n",
            "178/178 [==============================] - 25s 141ms/step - loss: 0.6428 - acc: 0.6397 - val_loss: 0.6254 - val_acc: 0.6494\n",
            "Epoch 71/250\n",
            "178/178 [==============================] - 25s 136ms/step - loss: 0.6417 - acc: 0.6443 - val_loss: 0.6395 - val_acc: 0.6282\n",
            "Epoch 72/250\n",
            "178/178 [==============================] - 25s 140ms/step - loss: 0.6185 - acc: 0.6595 - val_loss: 0.6253 - val_acc: 0.6504\n",
            "Epoch 73/250\n",
            "178/178 [==============================] - 25s 136ms/step - loss: 0.6374 - acc: 0.6344 - val_loss: 0.6247 - val_acc: 0.6483\n",
            "Epoch 74/250\n",
            "178/178 [==============================] - 24s 135ms/step - loss: 0.6424 - acc: 0.6401 - val_loss: 0.6100 - val_acc: 0.6578\n",
            "Epoch 75/250\n",
            "178/178 [==============================] - 25s 136ms/step - loss: 0.6428 - acc: 0.6433 - val_loss: 0.6453 - val_acc: 0.6239\n",
            "Epoch 76/250\n",
            "178/178 [==============================] - 24s 134ms/step - loss: 0.6487 - acc: 0.6221 - val_loss: 0.6563 - val_acc: 0.6123\n",
            "Epoch 77/250\n",
            "178/178 [==============================] - 25s 136ms/step - loss: 0.6252 - acc: 0.6570 - val_loss: 0.6363 - val_acc: 0.6282\n",
            "Epoch 78/250\n",
            "178/178 [==============================] - 25s 140ms/step - loss: 0.6236 - acc: 0.6538 - val_loss: 0.6332 - val_acc: 0.6345\n",
            "Epoch 79/250\n",
            "178/178 [==============================] - 25s 139ms/step - loss: 0.6490 - acc: 0.6284 - val_loss: 0.6263 - val_acc: 0.6462\n",
            "Epoch 80/250\n",
            "178/178 [==============================] - 24s 134ms/step - loss: 0.6269 - acc: 0.6450 - val_loss: 0.6626 - val_acc: 0.6017\n",
            "Epoch 81/250\n",
            "178/178 [==============================] - 25s 135ms/step - loss: 0.6309 - acc: 0.6355 - val_loss: 0.6251 - val_acc: 0.6430\n",
            "Epoch 82/250\n",
            "178/178 [==============================] - 24s 135ms/step - loss: 0.6274 - acc: 0.6471 - val_loss: 0.6279 - val_acc: 0.6398\n",
            "Epoch 83/250\n",
            "178/178 [==============================] - 25s 135ms/step - loss: 0.6379 - acc: 0.6468 - val_loss: 0.6481 - val_acc: 0.6229\n",
            "Epoch 84/250\n",
            "178/178 [==============================] - 21s 113ms/step - loss: 0.6294 - acc: 0.6429 - val_loss: 0.6346 - val_acc: 0.6335\n",
            "Epoch 85/250\n",
            "178/178 [==============================] - 25s 135ms/step - loss: 0.6360 - acc: 0.6471 - val_loss: 0.6645 - val_acc: 0.6070\n",
            "Epoch 86/250\n",
            "178/178 [==============================] - 20s 112ms/step - loss: 0.6390 - acc: 0.6359 - val_loss: 0.6348 - val_acc: 0.6345\n",
            "Epoch 87/250\n",
            "178/178 [==============================] - 25s 134ms/step - loss: 0.6515 - acc: 0.6168 - val_loss: 0.6791 - val_acc: 0.5932\n",
            "Epoch 88/250\n",
            "178/178 [==============================] - 25s 135ms/step - loss: 0.6225 - acc: 0.6616 - val_loss: 0.6528 - val_acc: 0.6176\n",
            "Epoch 89/250\n",
            "178/178 [==============================] - 20s 112ms/step - loss: 0.6349 - acc: 0.6553 - val_loss: 0.6516 - val_acc: 0.6176\n",
            "Epoch 90/250\n",
            "178/178 [==============================] - 24s 134ms/step - loss: 0.6347 - acc: 0.6394 - val_loss: 0.6304 - val_acc: 0.6388\n",
            "Epoch 91/250\n",
            "178/178 [==============================] - 24s 134ms/step - loss: 0.6261 - acc: 0.6563 - val_loss: 0.6484 - val_acc: 0.6229\n",
            "Epoch 92/250\n",
            "178/178 [==============================] - 24s 132ms/step - loss: 0.6421 - acc: 0.6387 - val_loss: 0.6409 - val_acc: 0.6271\n",
            "Epoch 93/250\n",
            "178/178 [==============================] - 24s 133ms/step - loss: 0.6439 - acc: 0.6299 - val_loss: 0.6252 - val_acc: 0.6451\n",
            "Epoch 94/250\n",
            "178/178 [==============================] - 25s 135ms/step - loss: 0.6384 - acc: 0.6426 - val_loss: 0.6373 - val_acc: 0.6324\n",
            "Epoch 95/250\n",
            "178/178 [==============================] - 25s 136ms/step - loss: 0.6428 - acc: 0.6415 - val_loss: 0.6484 - val_acc: 0.6239\n",
            "Epoch 96/250\n",
            "178/178 [==============================] - 24s 132ms/step - loss: 0.6479 - acc: 0.6471 - val_loss: 0.6246 - val_acc: 0.6441\n",
            "Epoch 97/250\n",
            "178/178 [==============================] - 24s 131ms/step - loss: 0.6339 - acc: 0.6471 - val_loss: 0.6380 - val_acc: 0.6282\n",
            "Epoch 98/250\n",
            "178/178 [==============================] - 24s 132ms/step - loss: 0.6275 - acc: 0.6556 - val_loss: 0.6230 - val_acc: 0.6441\n",
            "Epoch 99/250\n",
            "178/178 [==============================] - 24s 133ms/step - loss: 0.6325 - acc: 0.6461 - val_loss: 0.6494 - val_acc: 0.6218\n",
            "Epoch 100/250\n",
            "178/178 [==============================] - 25s 137ms/step - loss: 0.6275 - acc: 0.6542 - val_loss: 0.6430 - val_acc: 0.6186\n",
            "Epoch 101/250\n",
            "178/178 [==============================] - 24s 133ms/step - loss: 0.6389 - acc: 0.6433 - val_loss: 0.6283 - val_acc: 0.6388\n",
            "Epoch 102/250\n",
            "178/178 [==============================] - 24s 133ms/step - loss: 0.6294 - acc: 0.6404 - val_loss: 0.6162 - val_acc: 0.6610\n",
            "Epoch 103/250\n",
            "178/178 [==============================] - 24s 132ms/step - loss: 0.6291 - acc: 0.6415 - val_loss: 0.6544 - val_acc: 0.6133\n",
            "Epoch 104/250\n",
            "178/178 [==============================] - 24s 133ms/step - loss: 0.6450 - acc: 0.6468 - val_loss: 0.6453 - val_acc: 0.6229\n",
            "Epoch 105/250\n",
            "178/178 [==============================] - 25s 136ms/step - loss: 0.6260 - acc: 0.6524 - val_loss: 0.6440 - val_acc: 0.6186\n",
            "Epoch 106/250\n",
            "178/178 [==============================] - 24s 134ms/step - loss: 0.6354 - acc: 0.6563 - val_loss: 0.6631 - val_acc: 0.6081\n",
            "Epoch 107/250\n",
            "178/178 [==============================] - 24s 132ms/step - loss: 0.6239 - acc: 0.6443 - val_loss: 0.6422 - val_acc: 0.6239\n",
            "Epoch 108/250\n",
            "178/178 [==============================] - 24s 132ms/step - loss: 0.6362 - acc: 0.6411 - val_loss: 0.6437 - val_acc: 0.6271\n",
            "Epoch 109/250\n",
            "178/178 [==============================] - 24s 134ms/step - loss: 0.6356 - acc: 0.6489 - val_loss: 0.6271 - val_acc: 0.6335\n",
            "Epoch 110/250\n",
            "178/178 [==============================] - 25s 136ms/step - loss: 0.6355 - acc: 0.6422 - val_loss: 0.6164 - val_acc: 0.6589\n",
            "Epoch 111/250\n",
            "178/178 [==============================] - 25s 139ms/step - loss: 0.6312 - acc: 0.6500 - val_loss: 0.6294 - val_acc: 0.6345\n",
            "Epoch 112/250\n",
            "178/178 [==============================] - 25s 141ms/step - loss: 0.6410 - acc: 0.6380 - val_loss: 0.6405 - val_acc: 0.6229\n",
            "Epoch 113/250\n",
            "178/178 [==============================] - 25s 140ms/step - loss: 0.6311 - acc: 0.6531 - val_loss: 0.6529 - val_acc: 0.6133\n",
            "Epoch 114/250\n",
            "178/178 [==============================] - 20s 108ms/step - loss: 0.6276 - acc: 0.6542 - val_loss: 0.6695 - val_acc: 0.5975\n",
            "Epoch 115/250\n",
            "178/178 [==============================] - 20s 110ms/step - loss: 0.6331 - acc: 0.6436 - val_loss: 0.6459 - val_acc: 0.6197\n",
            "Epoch 116/250\n",
            "178/178 [==============================] - 24s 133ms/step - loss: 0.6337 - acc: 0.6380 - val_loss: 0.6766 - val_acc: 0.5911\n",
            "Epoch 117/250\n",
            "178/178 [==============================] - 24s 133ms/step - loss: 0.6309 - acc: 0.6471 - val_loss: 0.6616 - val_acc: 0.6038\n",
            "Epoch 118/250\n",
            "178/178 [==============================] - 24s 131ms/step - loss: 0.6271 - acc: 0.6397 - val_loss: 0.6746 - val_acc: 0.5953\n",
            "Epoch 119/250\n",
            "178/178 [==============================] - 20s 110ms/step - loss: 0.6335 - acc: 0.6457 - val_loss: 0.6236 - val_acc: 0.6335\n",
            "Epoch 120/250\n",
            "178/178 [==============================] - 20s 111ms/step - loss: 0.6276 - acc: 0.6433 - val_loss: 0.6720 - val_acc: 0.5953\n",
            "Epoch 121/250\n",
            "178/178 [==============================] - 20s 106ms/step - loss: 0.6347 - acc: 0.6390 - val_loss: 0.6554 - val_acc: 0.6070\n",
            "Epoch 122/250\n",
            "178/178 [==============================] - 25s 135ms/step - loss: 0.6345 - acc: 0.6404 - val_loss: 0.6532 - val_acc: 0.6102\n",
            "Epoch 123/250\n",
            "178/178 [==============================] - 24s 133ms/step - loss: 0.6332 - acc: 0.6507 - val_loss: 0.6655 - val_acc: 0.6017\n",
            "Epoch 124/250\n",
            "178/178 [==============================] - 24s 133ms/step - loss: 0.6368 - acc: 0.6397 - val_loss: 0.6638 - val_acc: 0.6028\n",
            "Epoch 125/250\n",
            "178/178 [==============================] - 20s 110ms/step - loss: 0.6323 - acc: 0.6507 - val_loss: 0.6391 - val_acc: 0.6208\n",
            "Epoch 126/250\n",
            "178/178 [==============================] - 25s 135ms/step - loss: 0.6285 - acc: 0.6538 - val_loss: 0.6512 - val_acc: 0.6123\n",
            "Epoch 127/250\n",
            "178/178 [==============================] - 24s 133ms/step - loss: 0.6234 - acc: 0.6598 - val_loss: 0.6500 - val_acc: 0.6165\n",
            "Epoch 128/250\n",
            "178/178 [==============================] - 24s 134ms/step - loss: 0.6242 - acc: 0.6478 - val_loss: 0.6829 - val_acc: 0.5858\n",
            "Epoch 129/250\n",
            "178/178 [==============================] - 24s 132ms/step - loss: 0.6228 - acc: 0.6616 - val_loss: 0.6566 - val_acc: 0.6059\n",
            "Epoch 130/250\n",
            "178/178 [==============================] - 25s 135ms/step - loss: 0.6438 - acc: 0.6231 - val_loss: 0.6427 - val_acc: 0.6208\n",
            "Epoch 131/250\n",
            "178/178 [==============================] - 25s 138ms/step - loss: 0.6331 - acc: 0.6457 - val_loss: 0.6381 - val_acc: 0.6208\n",
            "Epoch 132/250\n",
            "178/178 [==============================] - 20s 110ms/step - loss: 0.6356 - acc: 0.6468 - val_loss: 0.6554 - val_acc: 0.6081\n",
            "Epoch 133/250\n",
            "178/178 [==============================] - 24s 131ms/step - loss: 0.6275 - acc: 0.6482 - val_loss: 0.6607 - val_acc: 0.6017\n",
            "Epoch 134/250\n",
            "178/178 [==============================] - 25s 137ms/step - loss: 0.6473 - acc: 0.6231 - val_loss: 0.6352 - val_acc: 0.6282\n",
            "Epoch 135/250\n",
            "178/178 [==============================] - 24s 133ms/step - loss: 0.6310 - acc: 0.6475 - val_loss: 0.6353 - val_acc: 0.6261\n",
            "Epoch 136/250\n",
            "178/178 [==============================] - 24s 132ms/step - loss: 0.6366 - acc: 0.6528 - val_loss: 0.6781 - val_acc: 0.5890\n",
            "Epoch 137/250\n",
            "178/178 [==============================] - 20s 112ms/step - loss: 0.6339 - acc: 0.6489 - val_loss: 0.6620 - val_acc: 0.5943\n",
            "Epoch 138/250\n",
            "178/178 [==============================] - 25s 137ms/step - loss: 0.6071 - acc: 0.6701 - val_loss: 0.6548 - val_acc: 0.6070\n",
            "Epoch 139/250\n",
            "178/178 [==============================] - 24s 132ms/step - loss: 0.6291 - acc: 0.6524 - val_loss: 0.6411 - val_acc: 0.6186\n",
            "Epoch 140/250\n",
            "178/178 [==============================] - 24s 131ms/step - loss: 0.6278 - acc: 0.6493 - val_loss: 0.6447 - val_acc: 0.6208\n",
            "Epoch 141/250\n",
            "178/178 [==============================] - 24s 132ms/step - loss: 0.6215 - acc: 0.6609 - val_loss: 0.6423 - val_acc: 0.6176\n",
            "Epoch 142/250\n",
            "178/178 [==============================] - 20s 110ms/step - loss: 0.6231 - acc: 0.6468 - val_loss: 0.6770 - val_acc: 0.5900\n",
            "Epoch 143/250\n",
            "178/178 [==============================] - 24s 133ms/step - loss: 0.6219 - acc: 0.6546 - val_loss: 0.6556 - val_acc: 0.6059\n",
            "Epoch 144/250\n",
            "178/178 [==============================] - 24s 134ms/step - loss: 0.6256 - acc: 0.6567 - val_loss: 0.6339 - val_acc: 0.6271\n",
            "Epoch 145/250\n",
            "178/178 [==============================] - 20s 107ms/step - loss: 0.6249 - acc: 0.6574 - val_loss: 0.6576 - val_acc: 0.6049\n",
            "Epoch 146/250\n",
            "178/178 [==============================] - 21s 111ms/step - loss: 0.6316 - acc: 0.6514 - val_loss: 0.6473 - val_acc: 0.6176\n",
            "Epoch 147/250\n",
            "178/178 [==============================] - 25s 137ms/step - loss: 0.6231 - acc: 0.6500 - val_loss: 0.6228 - val_acc: 0.6419\n",
            "Epoch 148/250\n",
            "178/178 [==============================] - 24s 133ms/step - loss: 0.6311 - acc: 0.6528 - val_loss: 0.6486 - val_acc: 0.6112\n",
            "Epoch 149/250\n",
            "178/178 [==============================] - 24s 132ms/step - loss: 0.6268 - acc: 0.6471 - val_loss: 0.6305 - val_acc: 0.6324\n",
            "Epoch 150/250\n",
            "178/178 [==============================] - 24s 133ms/step - loss: 0.6183 - acc: 0.6553 - val_loss: 0.6402 - val_acc: 0.6197\n",
            "Epoch 151/250\n",
            "178/178 [==============================] - 24s 133ms/step - loss: 0.6347 - acc: 0.6433 - val_loss: 0.6347 - val_acc: 0.6250\n",
            "Epoch 152/250\n",
            "178/178 [==============================] - 25s 136ms/step - loss: 0.6420 - acc: 0.6344 - val_loss: 0.6515 - val_acc: 0.6102\n",
            "Epoch 153/250\n",
            "178/178 [==============================] - 25s 137ms/step - loss: 0.6299 - acc: 0.6373 - val_loss: 0.6487 - val_acc: 0.6133\n",
            "Epoch 154/250\n",
            "178/178 [==============================] - 24s 133ms/step - loss: 0.6137 - acc: 0.6598 - val_loss: 0.6115 - val_acc: 0.6631\n",
            "Epoch 155/250\n",
            "178/178 [==============================] - 24s 133ms/step - loss: 0.6269 - acc: 0.6422 - val_loss: 0.6321 - val_acc: 0.6367\n",
            "Epoch 156/250\n",
            "178/178 [==============================] - 24s 133ms/step - loss: 0.6288 - acc: 0.6567 - val_loss: 0.6205 - val_acc: 0.6494\n",
            "Epoch 157/250\n",
            "178/178 [==============================] - 21s 113ms/step - loss: 0.6295 - acc: 0.6447 - val_loss: 0.6423 - val_acc: 0.6250\n",
            "Epoch 158/250\n",
            "178/178 [==============================] - 25s 136ms/step - loss: 0.6265 - acc: 0.6521 - val_loss: 0.6302 - val_acc: 0.6398\n",
            "Epoch 159/250\n",
            "178/178 [==============================] - 25s 137ms/step - loss: 0.6141 - acc: 0.6701 - val_loss: 0.6679 - val_acc: 0.5975\n",
            "Epoch 160/250\n",
            "178/178 [==============================] - 24s 133ms/step - loss: 0.6296 - acc: 0.6521 - val_loss: 0.6391 - val_acc: 0.6250\n",
            "Epoch 161/250\n",
            "178/178 [==============================] - 20s 112ms/step - loss: 0.6341 - acc: 0.6475 - val_loss: 0.6718 - val_acc: 0.5964\n",
            "Epoch 162/250\n",
            "178/178 [==============================] - 20s 110ms/step - loss: 0.6262 - acc: 0.6514 - val_loss: 0.6540 - val_acc: 0.6070\n",
            "Epoch 163/250\n",
            "178/178 [==============================] - 24s 132ms/step - loss: 0.6209 - acc: 0.6507 - val_loss: 0.6455 - val_acc: 0.6186\n",
            "Epoch 164/250\n",
            "178/178 [==============================] - 24s 134ms/step - loss: 0.6267 - acc: 0.6429 - val_loss: 0.6365 - val_acc: 0.6271\n",
            "Epoch 165/250\n",
            "178/178 [==============================] - 25s 135ms/step - loss: 0.6281 - acc: 0.6538 - val_loss: 0.6269 - val_acc: 0.6388\n",
            "Epoch 166/250\n",
            "178/178 [==============================] - 25s 136ms/step - loss: 0.6276 - acc: 0.6482 - val_loss: 0.6349 - val_acc: 0.6261\n",
            "Epoch 167/250\n",
            "178/178 [==============================] - 25s 136ms/step - loss: 0.6354 - acc: 0.6366 - val_loss: 0.6427 - val_acc: 0.6186\n",
            "Epoch 168/250\n",
            "178/178 [==============================] - 25s 135ms/step - loss: 0.6308 - acc: 0.6528 - val_loss: 0.6452 - val_acc: 0.6186\n",
            "Epoch 169/250\n",
            "178/178 [==============================] - 24s 133ms/step - loss: 0.6232 - acc: 0.6538 - val_loss: 0.6307 - val_acc: 0.6282\n",
            "Epoch 170/250\n",
            "178/178 [==============================] - 24s 134ms/step - loss: 0.6329 - acc: 0.6521 - val_loss: 0.6213 - val_acc: 0.6430\n",
            "Epoch 171/250\n",
            "178/178 [==============================] - 24s 133ms/step - loss: 0.6301 - acc: 0.6464 - val_loss: 0.6398 - val_acc: 0.6186\n",
            "Epoch 172/250\n",
            "178/178 [==============================] - 25s 135ms/step - loss: 0.6362 - acc: 0.6401 - val_loss: 0.6630 - val_acc: 0.6017\n",
            "Epoch 173/250\n",
            "178/178 [==============================] - 25s 137ms/step - loss: 0.6185 - acc: 0.6503 - val_loss: 0.6305 - val_acc: 0.6303\n",
            "Epoch 174/250\n",
            "178/178 [==============================] - 20s 111ms/step - loss: 0.6214 - acc: 0.6542 - val_loss: 0.6392 - val_acc: 0.6229\n",
            "Epoch 175/250\n",
            "178/178 [==============================] - 24s 134ms/step - loss: 0.6154 - acc: 0.6620 - val_loss: 0.6485 - val_acc: 0.6112\n",
            "Epoch 176/250\n",
            "178/178 [==============================] - 25s 139ms/step - loss: 0.6227 - acc: 0.6482 - val_loss: 0.6520 - val_acc: 0.6112\n",
            "Epoch 177/250\n",
            "178/178 [==============================] - 25s 136ms/step - loss: 0.6256 - acc: 0.6383 - val_loss: 0.6349 - val_acc: 0.6271\n",
            "Epoch 178/250\n",
            "178/178 [==============================] - 24s 132ms/step - loss: 0.6292 - acc: 0.6461 - val_loss: 0.6521 - val_acc: 0.6144\n",
            "Epoch 179/250\n",
            "178/178 [==============================] - 20s 110ms/step - loss: 0.6257 - acc: 0.6553 - val_loss: 0.6314 - val_acc: 0.6303\n",
            "Epoch 180/250\n",
            "178/178 [==============================] - 25s 137ms/step - loss: 0.6202 - acc: 0.6584 - val_loss: 0.6789 - val_acc: 0.5985\n",
            "Epoch 181/250\n",
            "178/178 [==============================] - 25s 135ms/step - loss: 0.6316 - acc: 0.6404 - val_loss: 0.6634 - val_acc: 0.6028\n",
            "Epoch 182/250\n",
            "178/178 [==============================] - 20s 108ms/step - loss: 0.6255 - acc: 0.6549 - val_loss: 0.6370 - val_acc: 0.6239\n",
            "Epoch 183/250\n",
            "178/178 [==============================] - 21s 115ms/step - loss: 0.6147 - acc: 0.6648 - val_loss: 0.6097 - val_acc: 0.6684\n",
            "Epoch 184/250\n",
            "178/178 [==============================] - 25s 134ms/step - loss: 0.6152 - acc: 0.6609 - val_loss: 0.6310 - val_acc: 0.6282\n",
            "Epoch 185/250\n",
            "178/178 [==============================] - 25s 137ms/step - loss: 0.6248 - acc: 0.6549 - val_loss: 0.6689 - val_acc: 0.5985\n",
            "Epoch 186/250\n",
            "178/178 [==============================] - 20s 108ms/step - loss: 0.6283 - acc: 0.6436 - val_loss: 0.6463 - val_acc: 0.6144\n",
            "Epoch 187/250\n",
            "178/178 [==============================] - 25s 139ms/step - loss: 0.6244 - acc: 0.6591 - val_loss: 0.6808 - val_acc: 0.5890\n",
            "Epoch 188/250\n",
            "178/178 [==============================] - 24s 134ms/step - loss: 0.6256 - acc: 0.6613 - val_loss: 0.6556 - val_acc: 0.6102\n",
            "Epoch 189/250\n",
            "178/178 [==============================] - 24s 134ms/step - loss: 0.6244 - acc: 0.6538 - val_loss: 0.6554 - val_acc: 0.6081\n",
            "Epoch 190/250\n",
            "178/178 [==============================] - 25s 137ms/step - loss: 0.6180 - acc: 0.6546 - val_loss: 0.6156 - val_acc: 0.6504\n",
            "Epoch 191/250\n",
            "178/178 [==============================] - 25s 136ms/step - loss: 0.6234 - acc: 0.6528 - val_loss: 0.6495 - val_acc: 0.6059\n",
            "Epoch 192/250\n",
            "178/178 [==============================] - 25s 137ms/step - loss: 0.6260 - acc: 0.6538 - val_loss: 0.6391 - val_acc: 0.6292\n",
            "Epoch 193/250\n",
            "178/178 [==============================] - 25s 140ms/step - loss: 0.6276 - acc: 0.6482 - val_loss: 0.6481 - val_acc: 0.6144\n",
            "Epoch 194/250\n",
            "178/178 [==============================] - 25s 140ms/step - loss: 0.6393 - acc: 0.6366 - val_loss: 0.6416 - val_acc: 0.6239\n",
            "Epoch 195/250\n",
            "178/178 [==============================] - 24s 135ms/step - loss: 0.6185 - acc: 0.6581 - val_loss: 0.6377 - val_acc: 0.6176\n",
            "Epoch 196/250\n",
            "178/178 [==============================] - 24s 134ms/step - loss: 0.6220 - acc: 0.6528 - val_loss: 0.6180 - val_acc: 0.6430\n",
            "Epoch 197/250\n",
            "178/178 [==============================] - 25s 136ms/step - loss: 0.6169 - acc: 0.6560 - val_loss: 0.6202 - val_acc: 0.6409\n",
            "Epoch 198/250\n",
            "178/178 [==============================] - 25s 136ms/step - loss: 0.6202 - acc: 0.6542 - val_loss: 0.6591 - val_acc: 0.6112\n",
            "Epoch 199/250\n",
            "178/178 [==============================] - 25s 136ms/step - loss: 0.6279 - acc: 0.6521 - val_loss: 0.6499 - val_acc: 0.6176\n",
            "Epoch 200/250\n",
            "178/178 [==============================] - 25s 140ms/step - loss: 0.6244 - acc: 0.6531 - val_loss: 0.6398 - val_acc: 0.6186\n",
            "Epoch 201/250\n",
            "178/178 [==============================] - 25s 136ms/step - loss: 0.6298 - acc: 0.6362 - val_loss: 0.6190 - val_acc: 0.6483\n",
            "Epoch 202/250\n",
            "178/178 [==============================] - 25s 137ms/step - loss: 0.6198 - acc: 0.6609 - val_loss: 0.6427 - val_acc: 0.6250\n",
            "Epoch 203/250\n",
            "178/178 [==============================] - 25s 138ms/step - loss: 0.6120 - acc: 0.6690 - val_loss: 0.6370 - val_acc: 0.6250\n",
            "Epoch 204/250\n",
            "178/178 [==============================] - 25s 137ms/step - loss: 0.6210 - acc: 0.6496 - val_loss: 0.6412 - val_acc: 0.6271\n",
            "Epoch 205/250\n",
            "178/178 [==============================] - 25s 135ms/step - loss: 0.6258 - acc: 0.6433 - val_loss: 0.6334 - val_acc: 0.6292\n",
            "Epoch 206/250\n",
            "178/178 [==============================] - 25s 136ms/step - loss: 0.6366 - acc: 0.6418 - val_loss: 0.6258 - val_acc: 0.6409\n",
            "Epoch 207/250\n",
            "178/178 [==============================] - 25s 140ms/step - loss: 0.6262 - acc: 0.6411 - val_loss: 0.6150 - val_acc: 0.6504\n",
            "Epoch 208/250\n",
            "178/178 [==============================] - 25s 140ms/step - loss: 0.6233 - acc: 0.6620 - val_loss: 0.6098 - val_acc: 0.6653\n",
            "Epoch 209/250\n",
            "178/178 [==============================] - 25s 135ms/step - loss: 0.6277 - acc: 0.6524 - val_loss: 0.6694 - val_acc: 0.6038\n",
            "Epoch 210/250\n",
            "178/178 [==============================] - 25s 136ms/step - loss: 0.6228 - acc: 0.6524 - val_loss: 0.6325 - val_acc: 0.6239\n",
            "Epoch 211/250\n",
            "178/178 [==============================] - 25s 136ms/step - loss: 0.6322 - acc: 0.6443 - val_loss: 0.6285 - val_acc: 0.6303\n",
            "Epoch 212/250\n",
            "178/178 [==============================] - 20s 110ms/step - loss: 0.6211 - acc: 0.6521 - val_loss: 0.6216 - val_acc: 0.6441\n",
            "Epoch 213/250\n",
            "178/178 [==============================] - 25s 138ms/step - loss: 0.6283 - acc: 0.6443 - val_loss: 0.6273 - val_acc: 0.6292\n",
            "Epoch 214/250\n",
            "178/178 [==============================] - 24s 135ms/step - loss: 0.6326 - acc: 0.6440 - val_loss: 0.6450 - val_acc: 0.6186\n",
            "Epoch 215/250\n",
            "178/178 [==============================] - 24s 135ms/step - loss: 0.6217 - acc: 0.6574 - val_loss: 0.6405 - val_acc: 0.6186\n",
            "Epoch 216/250\n",
            "178/178 [==============================] - 24s 135ms/step - loss: 0.6363 - acc: 0.6404 - val_loss: 0.6260 - val_acc: 0.6398\n",
            "Epoch 217/250\n",
            "178/178 [==============================] - 25s 137ms/step - loss: 0.6184 - acc: 0.6588 - val_loss: 0.6496 - val_acc: 0.6165\n",
            "Epoch 218/250\n",
            "178/178 [==============================] - 25s 136ms/step - loss: 0.6087 - acc: 0.6694 - val_loss: 0.6136 - val_acc: 0.6600\n",
            "Epoch 219/250\n",
            "178/178 [==============================] - 25s 138ms/step - loss: 0.6226 - acc: 0.6486 - val_loss: 0.6223 - val_acc: 0.6430\n",
            "Epoch 220/250\n",
            "178/178 [==============================] - 26s 141ms/step - loss: 0.6246 - acc: 0.6440 - val_loss: 0.6595 - val_acc: 0.6102\n",
            "Epoch 221/250\n",
            "178/178 [==============================] - 26s 141ms/step - loss: 0.6249 - acc: 0.6542 - val_loss: 0.6183 - val_acc: 0.6483\n",
            "Epoch 222/250\n",
            "178/178 [==============================] - 26s 145ms/step - loss: 0.6249 - acc: 0.6478 - val_loss: 0.6175 - val_acc: 0.6536\n",
            "Epoch 223/250\n",
            "178/178 [==============================] - 22s 121ms/step - loss: 0.6210 - acc: 0.6507 - val_loss: 0.6312 - val_acc: 0.6314\n",
            "Epoch 224/250\n",
            "178/178 [==============================] - 26s 141ms/step - loss: 0.6249 - acc: 0.6535 - val_loss: 0.6343 - val_acc: 0.6239\n",
            "Epoch 225/250\n",
            "178/178 [==============================] - 25s 138ms/step - loss: 0.6089 - acc: 0.6655 - val_loss: 0.6356 - val_acc: 0.6250\n",
            "Epoch 226/250\n",
            "178/178 [==============================] - 25s 139ms/step - loss: 0.6203 - acc: 0.6482 - val_loss: 0.6492 - val_acc: 0.6165\n",
            "Epoch 227/250\n",
            "178/178 [==============================] - 25s 138ms/step - loss: 0.6366 - acc: 0.6422 - val_loss: 0.6249 - val_acc: 0.6494\n",
            "Epoch 228/250\n",
            "178/178 [==============================] - 21s 115ms/step - loss: 0.6296 - acc: 0.6500 - val_loss: 0.6371 - val_acc: 0.6261\n",
            "Epoch 229/250\n",
            "178/178 [==============================] - 25s 139ms/step - loss: 0.6182 - acc: 0.6606 - val_loss: 0.6324 - val_acc: 0.6292\n",
            "Epoch 230/250\n",
            "178/178 [==============================] - 25s 136ms/step - loss: 0.6251 - acc: 0.6447 - val_loss: 0.6146 - val_acc: 0.6578\n",
            "Epoch 231/250\n",
            "178/178 [==============================] - 21s 114ms/step - loss: 0.6151 - acc: 0.6598 - val_loss: 0.6110 - val_acc: 0.6589\n",
            "Epoch 232/250\n",
            "178/178 [==============================] - 26s 141ms/step - loss: 0.6236 - acc: 0.6482 - val_loss: 0.6251 - val_acc: 0.6441\n",
            "Epoch 233/250\n",
            "178/178 [==============================] - 26s 144ms/step - loss: 0.6200 - acc: 0.6662 - val_loss: 0.6239 - val_acc: 0.6472\n",
            "Epoch 234/250\n",
            "178/178 [==============================] - 26s 142ms/step - loss: 0.6235 - acc: 0.6493 - val_loss: 0.6171 - val_acc: 0.6536\n",
            "Epoch 235/250\n",
            "178/178 [==============================] - 25s 137ms/step - loss: 0.6305 - acc: 0.6500 - val_loss: 0.6119 - val_acc: 0.6600\n",
            "Epoch 236/250\n",
            "178/178 [==============================] - 25s 136ms/step - loss: 0.6236 - acc: 0.6475 - val_loss: 0.6384 - val_acc: 0.6261\n",
            "Epoch 237/250\n",
            "178/178 [==============================] - 20s 111ms/step - loss: 0.6220 - acc: 0.6528 - val_loss: 0.6272 - val_acc: 0.6377\n",
            "Epoch 238/250\n",
            "178/178 [==============================] - 27s 145ms/step - loss: 0.6140 - acc: 0.6648 - val_loss: 0.6119 - val_acc: 0.6621\n",
            "Epoch 239/250\n",
            "178/178 [==============================] - 21s 117ms/step - loss: 0.6102 - acc: 0.6680 - val_loss: 0.6184 - val_acc: 0.6451\n",
            "Epoch 240/250\n",
            "178/178 [==============================] - 25s 137ms/step - loss: 0.6177 - acc: 0.6556 - val_loss: 0.6271 - val_acc: 0.6335\n",
            "Epoch 241/250\n",
            "178/178 [==============================] - 25s 138ms/step - loss: 0.6175 - acc: 0.6665 - val_loss: 0.6189 - val_acc: 0.6441\n",
            "Epoch 242/250\n",
            "178/178 [==============================] - 25s 140ms/step - loss: 0.6245 - acc: 0.6531 - val_loss: 0.6440 - val_acc: 0.6208\n",
            "Epoch 243/250\n",
            "178/178 [==============================] - 26s 142ms/step - loss: 0.6202 - acc: 0.6591 - val_loss: 0.6352 - val_acc: 0.6250\n",
            "Epoch 244/250\n",
            "178/178 [==============================] - 25s 135ms/step - loss: 0.6233 - acc: 0.6581 - val_loss: 0.6096 - val_acc: 0.6631\n",
            "Epoch 245/250\n",
            "178/178 [==============================] - 24s 135ms/step - loss: 0.6210 - acc: 0.6471 - val_loss: 0.6549 - val_acc: 0.6112\n",
            "Epoch 246/250\n",
            "178/178 [==============================] - 25s 135ms/step - loss: 0.6261 - acc: 0.6457 - val_loss: 0.6260 - val_acc: 0.6377\n",
            "Epoch 247/250\n",
            "178/178 [==============================] - 25s 136ms/step - loss: 0.6089 - acc: 0.6623 - val_loss: 0.6298 - val_acc: 0.6388\n",
            "Epoch 248/250\n",
            "178/178 [==============================] - 25s 137ms/step - loss: 0.6218 - acc: 0.6482 - val_loss: 0.6336 - val_acc: 0.6292\n",
            "Epoch 249/250\n",
            "178/178 [==============================] - 25s 139ms/step - loss: 0.6256 - acc: 0.6531 - val_loss: 0.6298 - val_acc: 0.6356\n",
            "Epoch 250/250\n",
            "178/178 [==============================] - 27s 149ms/step - loss: 0.6272 - acc: 0.6500 - val_loss: 0.6416 - val_acc: 0.6250\n"
          ]
        }
      ]
    },
    {
      "cell_type": "code",
      "source": [
        "acc = history.history['acc']\n",
        "val_acc = history.history['val_acc']\n",
        "loss = history.history['loss']\n",
        "val_loss = history.history['val_loss']\n",
        "\n",
        "epochs_x = range(len(acc))\n",
        "\n",
        "plt.plot(epochs_x, acc, 'go', label='Training acc')\n",
        "plt.plot(epochs_x, val_acc, 'k', label='Validation acc')\n",
        "plt.title('Training and validation accuracy')\n",
        "plt.legend()\n",
        "\n",
        "plt.figure()\n",
        "\n",
        "plt.plot(epochs_x, loss, 'go', label='Training loss')\n",
        "plt.plot(epochs_x, val_loss, 'k', label='Validation loss')\n",
        "plt.title('Training and validation loss')\n",
        "plt.legend()\n",
        "\n",
        "plt.show()"
      ],
      "metadata": {
        "id": "kwylTJpTP5XI",
        "colab": {
          "base_uri": "https://localhost:8080/",
          "height": 545
        },
        "outputId": "2faebab9-5f19-4fb0-c14a-4406f97c203b"
      },
      "execution_count": 13,
      "outputs": [
        {
          "output_type": "display_data",
          "data": {
            "text/plain": [
              "<Figure size 432x288 with 1 Axes>"
            ],
            "image/png": "[encoded data removed]"
          },
          "metadata": {
            "needs_background": "light"
          }
        },
        {
          "output_type": "display_data",
          "data": {
            "text/plain": [
              "<Figure size 432x288 with 1 Axes>"
            ],
            "image/png": "[encoded data removed]"
          },
          "metadata": {
            "needs_background": "light"
          }
        }
      ]
    },
    {
      "cell_type": "markdown",
      "source": [
        "#Download the model"
      ],
      "metadata": {
        "id": "lD-vKaoHQAFd"
      }
    },
    {
      "cell_type": "code",
      "source": [
        "os.makedirs('/content/drive/My Drive/cut_panoramic/Model', exist_ok=True)\n",
        "model.save('/content/drive/My Drive/cut_panoramic/Model/B3_G2_2e-5_250.h5')"
      ],
      "metadata": {
        "id": "74dL7-HLP_Sh"
      },
      "execution_count": 14,
      "outputs": []
    },
    {
      "cell_type": "code",
      "source": [
        "# from google.colab import files\n",
        "# files.download('/content/drive/My Drive/cut_panoramic/Model/2_รอบที่2_Gender_250.h5')"
      ],
      "metadata": {
        "id": "qcPW-brHQDpc"
      },
      "execution_count": 15,
      "outputs": []
    },
    {
      "cell_type": "code",
      "source": [],
      "metadata": {
        "id": "r5WoXVo8mVpF"
      },
      "execution_count": 15,
      "outputs": []
    }
  ]
}