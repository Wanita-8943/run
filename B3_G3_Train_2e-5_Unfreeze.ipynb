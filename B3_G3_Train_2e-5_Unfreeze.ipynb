{
  "nbformat": 4,
  "nbformat_minor": 0,
  "metadata": {
    "colab": {
      "provenance": [],
      "machine_shape": "hm",
      "include_colab_link": true
    },
    "kernelspec": {
      "name": "python3",
      "display_name": "Python 3"
    },
    "language_info": {
      "name": "python"
    },
    "accelerator": "GPU",
    "gpuClass": "standard"
  },
  "cells": [
    {
      "cell_type": "markdown",
      "metadata": {
        "id": "view-in-github",
        "colab_type": "text"
      },
      "source": [
        "<a href=\"https://colab.research.google.com/github/Wanita-8943/run/blob/main/B3_G3_Train_2e-5_Unfreeze.ipynb\" target=\"_parent\"><img src=\"https://colab.research.google.com/assets/colab-badge.svg\" alt=\"Open In Colab\"/></a>"
      ]
    },
    {
      "cell_type": "code",
      "execution_count": 1,
      "metadata": {
        "id": "KKSs7cyoPHcD"
      },
      "outputs": [],
      "source": [
        "import pandas as pd\n",
        "import shutil"
      ]
    },
    {
      "cell_type": "code",
      "source": [
        "from google.colab import drive\n",
        "drive.mount('/content/drive')"
      ],
      "metadata": {
        "colab": {
          "base_uri": "https://localhost:8080/"
        },
        "id": "Klm1B91QlvKd",
        "outputId": "23e1b7af-f3d3-4eb5-fa45-37192bcfa6e1"
      },
      "execution_count": 2,
      "outputs": [
        {
          "output_type": "stream",
          "name": "stdout",
          "text": [
            "Mounted at /content/drive\n"
          ]
        }
      ]
    },
    {
      "cell_type": "code",
      "source": [
        "from tensorflow.keras import models\n",
        "from tensorflow.keras import layers\n",
        "from tensorflow.keras import optimizers\n",
        "import os\n",
        "import glob\n",
        "import shutil\n",
        "import sys\n",
        "import numpy as np\n",
        "from skimage.io import imread\n",
        "import matplotlib.pyplot as plt\n",
        "from IPython.display import Image\n",
        "%matplotlib inline"
      ],
      "metadata": {
        "id": "1pX9g1HxPM2f"
      },
      "execution_count": 3,
      "outputs": []
    },
    {
      "cell_type": "code",
      "source": [
        "batch_size = 16\n",
        "width = 150\n",
        "height = 150\n",
        "epochs = 250\n",
        "NUM_TRAIN = 2850\n",
        "NUM_TEST = 950\n",
        "dropout_rate = 0.2\n",
        "input_shape = (height, width, 3)"
      ],
      "metadata": {
        "id": "eSFtvGyvPM6O"
      },
      "execution_count": 4,
      "outputs": []
    },
    {
      "cell_type": "code",
      "source": [
        "#ดึงข้อมูลใน Github มาใช้\n",
        "import os\n",
        "%cd /content\n",
        "if not os.path.isdir(\"efficientnet_keras_transfer_learning\"):\n",
        " !git clone https://github.com/Wanita-8943/efficientnet_keras_transfer_learning\n",
        "%cd efficientnet_keras_transfer_learning/"
      ],
      "metadata": {
        "colab": {
          "base_uri": "https://localhost:8080/"
        },
        "id": "lb4K4CsMPNAW",
        "outputId": "921b7bf1-2733-426f-cf3e-1588a0762b4d"
      },
      "execution_count": 5,
      "outputs": [
        {
          "output_type": "stream",
          "name": "stdout",
          "text": [
            "/content\n",
            "Cloning into 'efficientnet_keras_transfer_learning'...\n",
            "remote: Enumerating objects: 837, done.\u001b[K\n",
            "remote: Total 837 (delta 0), reused 0 (delta 0), pack-reused 837\u001b[K\n",
            "Receiving objects: 100% (837/837), 13.85 MiB | 37.83 MiB/s, done.\n",
            "Resolving deltas: 100% (497/497), done.\n",
            "/content/efficientnet_keras_transfer_learning\n"
          ]
        }
      ]
    },
    {
      "cell_type": "code",
      "source": [
        "# Options: EfficientNetB0, EfficientNetB1, EfficientNetB2, EfficientNetB3\n",
        "# Higher the number, the more complex the model is.\n",
        "from efficientnet import EfficientNetB3 as Net\n",
        "from efficientnet import center_crop_and_resize, preprocess_input"
      ],
      "metadata": {
        "id": "eyBg0dLKPND3"
      },
      "execution_count": 6,
      "outputs": []
    },
    {
      "cell_type": "code",
      "source": [
        "# loading pretrained conv base model\n",
        "# โหลดโมเดล มาโดยตัด output ของโมเดลออก เเต่ยังใช้ input อันเดิม\n",
        "# เเละโหลด weight ของโมเดล มาด้วยที่ชื่อว่า imagenet\n",
        "conv_base = Net(weights='imagenet', include_top=False, input_shape=input_shape)"
      ],
      "metadata": {
        "colab": {
          "base_uri": "https://localhost:8080/"
        },
        "id": "9VBe9W9-H54h",
        "outputId": "cde5bb76-9e92-4979-9d5a-7536d0348501"
      },
      "execution_count": 7,
      "outputs": [
        {
          "output_type": "stream",
          "name": "stderr",
          "text": [
            "WARNING:tensorflow:From /usr/local/lib/python3.9/dist-packages/tensorflow/python/autograph/pyct/static_analysis/liveness.py:83: Analyzer.lamba_check (from tensorflow.python.autograph.pyct.static_analysis.liveness) is deprecated and will be removed after 2023-09-23.\n",
            "Instructions for updating:\n",
            "Lambda fuctions will be no more assumed to be used in the statement where they are used, or at least in the same block. https://github.com/tensorflow/tensorflow/issues/56089\n"
          ]
        },
        {
          "output_type": "stream",
          "name": "stdout",
          "text": [
            "Downloading data from https://github.com/qubvel/efficientnet/releases/download/v0.0.1/efficientnet-b3_imagenet_1000_notop.h5\n",
            "43966704/43966704 [==============================] - 1s 0us/step\n"
          ]
        }
      ]
    },
    {
      "cell_type": "code",
      "source": [
        "base_dir = '/content/drive/MyDrive/TVT_Gender'\n",
        "os.makedirs(base_dir, exist_ok=True)\n",
        "\n",
        "# Directories for our training,\n",
        "# validation and test splits\n",
        "train_dir = os.path.join(base_dir, 'train')\n",
        "os.makedirs(train_dir, exist_ok=True)\n",
        "validation_dir = os.path.join(base_dir, 'validation')\n",
        "os.makedirs(validation_dir, exist_ok=True)\n",
        "test_dir = os.path.join(base_dir, 'test')\n",
        "os.makedirs(test_dir, exist_ok=True)"
      ],
      "metadata": {
        "id": "Jwpq_-KvPef8"
      },
      "execution_count": 8,
      "outputs": []
    },
    {
      "cell_type": "markdown",
      "source": [
        "#load model"
      ],
      "metadata": {
        "id": "od-ZSNm5PoGy"
      }
    },
    {
      "cell_type": "code",
      "source": [
        "import sys\n",
        "sys.path.append('/content/drive/MyDrive/cut_panoramic/Model/B3_G2_2e-5_250.h5')\n",
        "\n",
        "from efficientnet.layers import Swish, DropConnect\n",
        "from efficientnet.model import ConvKernalInitializer\n",
        "from tensorflow.keras.utils import get_custom_objects\n",
        "\n",
        "get_custom_objects().update({\n",
        "    'ConvKernalInitializer': ConvKernalInitializer,\n",
        "    'Swish': Swish,\n",
        "    'DropConnect':DropConnect\n",
        "})"
      ],
      "metadata": {
        "id": "n5iPL5MNPkhE"
      },
      "execution_count": 9,
      "outputs": []
    },
    {
      "cell_type": "code",
      "source": [
        "#load model \n",
        "from tensorflow.keras.models import load_model\n",
        "model = load_model('/content/drive/MyDrive/cut_panoramic/Model/B3_G2_2e-5_250.h5')\n",
        "height = width = model.input_shape[1]"
      ],
      "metadata": {
        "id": "plYz49xMPkly"
      },
      "execution_count": 10,
      "outputs": []
    },
    {
      "cell_type": "code",
      "source": [
        "model.summary()"
      ],
      "metadata": {
        "colab": {
          "base_uri": "https://localhost:8080/"
        },
        "id": "z6IOPBflFbvc",
        "outputId": "6e137ba7-f150-4ffe-e6c6-eba6b466904d"
      },
      "execution_count": 11,
      "outputs": [
        {
          "output_type": "stream",
          "name": "stdout",
          "text": [
            "Model: \"sequential_1\"\n",
            "_________________________________________________________________\n",
            " Layer (type)                Output Shape              Param #   \n",
            "=================================================================\n",
            " efficientnet-b3 (Functional  (None, 5, 5, 1536)       10783528  \n",
            " )                                                               \n",
            "                                                                 \n",
            " gap (GlobalMaxPooling2D)    (None, 1536)              0         \n",
            "                                                                 \n",
            " dropout_out (Dropout)       (None, 1536)              0         \n",
            "                                                                 \n",
            " fc_out (Dense)              (None, 2)                 3074      \n",
            "                                                                 \n",
            "=================================================================\n",
            "Total params: 10,786,602\n",
            "Trainable params: 3,074\n",
            "Non-trainable params: 10,783,528\n",
            "_________________________________________________________________\n"
          ]
        }
      ]
    },
    {
      "cell_type": "code",
      "source": [
        "# Train ด้วย ImageDataGenerator ของ Keras ซึ่งจะเพิ่มข้อมูลเสริมระหว่างการฝึกเพื่อลดโอกาสเกิด overfitting\n",
        "#overfitting เกิดจากข้อมูลที่ซับซ้อนกันเกินไป\n",
        "from tensorflow.keras.preprocessing.image import ImageDataGenerator\n",
        "\n",
        "train_datagen = ImageDataGenerator(\n",
        "      rescale=1./255, #โมเดลส่วนใหญ่ต้องใช้ RGB ในช่วง 0–1\n",
        "      rotation_range=40,\n",
        "      width_shift_range=0.2,\n",
        "      height_shift_range=0.2,\n",
        "      shear_range=0.2,\n",
        "      zoom_range=0.2,\n",
        "      horizontal_flip=True,\n",
        "      fill_mode='nearest')\n",
        "\n",
        "# Note that the validation data should not be augmented!\n",
        "test_datagen = ImageDataGenerator(rescale=1./255)\n",
        "\n",
        "train_generator = train_datagen.flow_from_directory(\n",
        "        # This is the target directory #ไดเรกเป้าหมาย\n",
        "        train_dir,\n",
        "        # รูปภาพทั้งหมดจะถูกปรับขนาดตามความสูงและความกว้างของเป้าหมาย\n",
        "        target_size=(height, width),\n",
        "        batch_size=batch_size,\n",
        "        # Since we use categorical_crossentropy loss, we need categorical labels\n",
        "        #เนื่องจากเราใช้ categorical_crossentropy loss เราจึงต้องมีป้ายกำกับตามหมวดหมู่\n",
        "        class_mode='categorical')\n",
        "\n",
        "validation_generator = test_datagen.flow_from_directory( #การดึงภาพจาก Directory มาเข้าโมเดล \n",
        "        validation_dir,\n",
        "        target_size=(height, width),\n",
        "        batch_size=batch_size,\n",
        "        class_mode='categorical')"
      ],
      "metadata": {
        "colab": {
          "base_uri": "https://localhost:8080/"
        },
        "id": "KBMZbdr2Pgw4",
        "outputId": "5c7b47f8-7618-4dbf-a2f5-bef7bc63d026"
      },
      "execution_count": 12,
      "outputs": [
        {
          "output_type": "stream",
          "name": "stdout",
          "text": [
            "Found 2850 images belonging to 2 classes.\n",
            "Found 950 images belonging to 2 classes.\n"
          ]
        }
      ]
    },
    {
      "cell_type": "code",
      "source": [
        "# multiply_16\n",
        "# set 'multiply_16' and following layers trainable\n",
        "model.trainable = True\n",
        "\n",
        "set_trainable = False\n",
        "for layer in conv_base.layers:\n",
        "    if layer.name == 'multiply_16':\n",
        "        set_trainable = True\n",
        "    if set_trainable:\n",
        "        layer.trainable = True\n",
        "    else:\n",
        "        layer.trainable = False  "
      ],
      "metadata": {
        "id": "lgrhgP0_rKXu"
      },
      "execution_count": 13,
      "outputs": []
    },
    {
      "cell_type": "code",
      "source": [
        "model.summary()"
      ],
      "metadata": {
        "colab": {
          "base_uri": "https://localhost:8080/"
        },
        "id": "UxLukwHkrMXL",
        "outputId": "78efeef3-ca20-48b6-857c-c6c116d60f34"
      },
      "execution_count": 14,
      "outputs": [
        {
          "output_type": "stream",
          "name": "stdout",
          "text": [
            "Model: \"sequential_1\"\n",
            "_________________________________________________________________\n",
            " Layer (type)                Output Shape              Param #   \n",
            "=================================================================\n",
            " efficientnet-b3 (Functional  (None, 5, 5, 1536)       10783528  \n",
            " )                                                               \n",
            "                                                                 \n",
            " gap (GlobalMaxPooling2D)    (None, 1536)              0         \n",
            "                                                                 \n",
            " dropout_out (Dropout)       (None, 1536)              0         \n",
            "                                                                 \n",
            " fc_out (Dense)              (None, 2)                 3074      \n",
            "                                                                 \n",
            "=================================================================\n",
            "Total params: 10,786,602\n",
            "Trainable params: 10,699,306\n",
            "Non-trainable params: 87,296\n",
            "_________________________________________________________________\n"
          ]
        }
      ]
    },
    {
      "cell_type": "code",
      "source": [
        "history = model.fit_generator(\n",
        "      train_generator,\n",
        "      steps_per_epoch= NUM_TRAIN //batch_size,\n",
        "      epochs=epochs,\n",
        "      validation_data=validation_generator,\n",
        "      validation_steps= NUM_TEST //batch_size,\n",
        "      verbose=1,\n",
        "      use_multiprocessing=True,\n",
        "      workers=4)"
      ],
      "metadata": {
        "colab": {
          "base_uri": "https://localhost:8080/"
        },
        "id": "C9Cf1dwyP1PD",
        "outputId": "ad8d13be-e2f5-4a4b-b0e1-41fcb93f6e8a"
      },
      "execution_count": 15,
      "outputs": [
        {
          "output_type": "stream",
          "name": "stderr",
          "text": [
            "<ipython-input-15-caa7b37242a8>:1: UserWarning: `Model.fit_generator` is deprecated and will be removed in a future version. Please use `Model.fit`, which supports generators.\n",
            "  history = model.fit_generator(\n"
          ]
        },
        {
          "output_type": "stream",
          "name": "stdout",
          "text": [
            "Epoch 1/250\n",
            "178/178 [==============================] - 125s 617ms/step - loss: 0.6229 - acc: 0.6591 - val_loss: 0.6392 - val_acc: 0.6314\n",
            "Epoch 2/250\n",
            "178/178 [==============================] - 24s 134ms/step - loss: 0.6236 - acc: 0.6574 - val_loss: 0.6263 - val_acc: 0.6345\n",
            "Epoch 3/250\n",
            "178/178 [==============================] - 24s 132ms/step - loss: 0.6212 - acc: 0.6507 - val_loss: 0.6377 - val_acc: 0.6335\n",
            "Epoch 4/250\n",
            "178/178 [==============================] - 24s 132ms/step - loss: 0.6138 - acc: 0.6694 - val_loss: 0.6162 - val_acc: 0.6547\n",
            "Epoch 5/250\n",
            "178/178 [==============================] - 24s 132ms/step - loss: 0.6206 - acc: 0.6591 - val_loss: 0.6367 - val_acc: 0.6335\n",
            "Epoch 6/250\n",
            "178/178 [==============================] - 24s 135ms/step - loss: 0.6218 - acc: 0.6440 - val_loss: 0.6501 - val_acc: 0.6165\n",
            "Epoch 7/250\n",
            "178/178 [==============================] - 24s 134ms/step - loss: 0.6242 - acc: 0.6521 - val_loss: 0.6448 - val_acc: 0.6239\n",
            "Epoch 8/250\n",
            "178/178 [==============================] - 20s 110ms/step - loss: 0.6213 - acc: 0.6598 - val_loss: 0.6428 - val_acc: 0.6186\n",
            "Epoch 9/250\n",
            "178/178 [==============================] - 25s 135ms/step - loss: 0.6295 - acc: 0.6390 - val_loss: 0.6654 - val_acc: 0.6091\n",
            "Epoch 10/250\n",
            "178/178 [==============================] - 25s 139ms/step - loss: 0.6266 - acc: 0.6436 - val_loss: 0.6400 - val_acc: 0.6218\n",
            "Epoch 11/250\n",
            "178/178 [==============================] - 24s 134ms/step - loss: 0.6194 - acc: 0.6602 - val_loss: 0.6242 - val_acc: 0.6472\n",
            "Epoch 12/250\n",
            "178/178 [==============================] - 24s 133ms/step - loss: 0.6197 - acc: 0.6616 - val_loss: 0.6451 - val_acc: 0.6208\n",
            "Epoch 13/250\n",
            "178/178 [==============================] - 24s 133ms/step - loss: 0.6250 - acc: 0.6563 - val_loss: 0.6735 - val_acc: 0.6006\n",
            "Epoch 14/250\n",
            "178/178 [==============================] - 24s 134ms/step - loss: 0.6245 - acc: 0.6468 - val_loss: 0.6255 - val_acc: 0.6409\n",
            "Epoch 15/250\n",
            "178/178 [==============================] - 25s 136ms/step - loss: 0.6246 - acc: 0.6482 - val_loss: 0.6463 - val_acc: 0.6197\n",
            "Epoch 16/250\n",
            "178/178 [==============================] - 25s 136ms/step - loss: 0.6257 - acc: 0.6454 - val_loss: 0.7169 - val_acc: 0.5625\n",
            "Epoch 17/250\n",
            "178/178 [==============================] - 24s 133ms/step - loss: 0.6345 - acc: 0.6302 - val_loss: 0.6455 - val_acc: 0.6186\n",
            "Epoch 18/250\n",
            "178/178 [==============================] - 25s 136ms/step - loss: 0.6226 - acc: 0.6478 - val_loss: 0.6425 - val_acc: 0.6261\n",
            "Epoch 19/250\n",
            "178/178 [==============================] - 21s 114ms/step - loss: 0.6205 - acc: 0.6531 - val_loss: 0.6440 - val_acc: 0.6250\n",
            "Epoch 20/250\n",
            "178/178 [==============================] - 25s 141ms/step - loss: 0.6225 - acc: 0.6500 - val_loss: 0.6303 - val_acc: 0.6303\n",
            "Epoch 21/250\n",
            "178/178 [==============================] - 24s 135ms/step - loss: 0.6205 - acc: 0.6595 - val_loss: 0.6222 - val_acc: 0.6430\n",
            "Epoch 22/250\n",
            "178/178 [==============================] - 20s 110ms/step - loss: 0.6148 - acc: 0.6574 - val_loss: 0.6465 - val_acc: 0.6186\n",
            "Epoch 23/250\n",
            "178/178 [==============================] - 25s 138ms/step - loss: 0.6252 - acc: 0.6486 - val_loss: 0.6556 - val_acc: 0.6123\n",
            "Epoch 24/250\n",
            "178/178 [==============================] - 25s 136ms/step - loss: 0.6254 - acc: 0.6546 - val_loss: 0.6455 - val_acc: 0.6250\n",
            "Epoch 25/250\n",
            "178/178 [==============================] - 20s 111ms/step - loss: 0.6118 - acc: 0.6725 - val_loss: 0.6194 - val_acc: 0.6441\n",
            "Epoch 26/250\n",
            "178/178 [==============================] - 20s 111ms/step - loss: 0.6180 - acc: 0.6450 - val_loss: 0.6199 - val_acc: 0.6409\n",
            "Epoch 27/250\n",
            "178/178 [==============================] - 25s 135ms/step - loss: 0.6187 - acc: 0.6574 - val_loss: 0.6349 - val_acc: 0.6335\n",
            "Epoch 28/250\n",
            "178/178 [==============================] - 24s 133ms/step - loss: 0.6206 - acc: 0.6556 - val_loss: 0.6421 - val_acc: 0.6250\n",
            "Epoch 29/250\n",
            "178/178 [==============================] - 24s 133ms/step - loss: 0.6130 - acc: 0.6577 - val_loss: 0.6171 - val_acc: 0.6547\n",
            "Epoch 30/250\n",
            "178/178 [==============================] - 24s 134ms/step - loss: 0.6207 - acc: 0.6570 - val_loss: 0.6151 - val_acc: 0.6536\n",
            "Epoch 31/250\n",
            "178/178 [==============================] - 25s 138ms/step - loss: 0.6141 - acc: 0.6630 - val_loss: 0.6454 - val_acc: 0.6229\n",
            "Epoch 32/250\n",
            "178/178 [==============================] - 24s 134ms/step - loss: 0.6124 - acc: 0.6609 - val_loss: 0.6213 - val_acc: 0.6472\n",
            "Epoch 33/250\n",
            "178/178 [==============================] - 19s 105ms/step - loss: 0.6147 - acc: 0.6655 - val_loss: 0.6705 - val_acc: 0.6038\n",
            "Epoch 34/250\n",
            "178/178 [==============================] - 25s 138ms/step - loss: 0.6316 - acc: 0.6546 - val_loss: 0.6586 - val_acc: 0.6059\n",
            "Epoch 35/250\n",
            "178/178 [==============================] - 20s 112ms/step - loss: 0.6101 - acc: 0.6581 - val_loss: 0.6474 - val_acc: 0.6155\n",
            "Epoch 36/250\n",
            "178/178 [==============================] - 25s 138ms/step - loss: 0.6144 - acc: 0.6708 - val_loss: 0.6399 - val_acc: 0.6239\n",
            "Epoch 37/250\n",
            "178/178 [==============================] - 24s 135ms/step - loss: 0.6243 - acc: 0.6496 - val_loss: 0.6210 - val_acc: 0.6441\n",
            "Epoch 38/250\n",
            "178/178 [==============================] - 24s 135ms/step - loss: 0.6271 - acc: 0.6359 - val_loss: 0.6264 - val_acc: 0.6367\n",
            "Epoch 39/250\n",
            "178/178 [==============================] - 20s 108ms/step - loss: 0.6254 - acc: 0.6517 - val_loss: 0.6528 - val_acc: 0.6144\n",
            "Epoch 40/250\n",
            "178/178 [==============================] - 21s 113ms/step - loss: 0.6240 - acc: 0.6563 - val_loss: 0.6133 - val_acc: 0.6589\n",
            "Epoch 41/250\n",
            "178/178 [==============================] - 25s 134ms/step - loss: 0.6151 - acc: 0.6630 - val_loss: 0.6454 - val_acc: 0.6218\n",
            "Epoch 42/250\n",
            "178/178 [==============================] - 24s 134ms/step - loss: 0.6249 - acc: 0.6521 - val_loss: 0.6266 - val_acc: 0.6377\n",
            "Epoch 43/250\n",
            "178/178 [==============================] - 20s 111ms/step - loss: 0.6316 - acc: 0.6489 - val_loss: 0.6388 - val_acc: 0.6250\n",
            "Epoch 44/250\n",
            "178/178 [==============================] - 25s 141ms/step - loss: 0.6206 - acc: 0.6521 - val_loss: 0.6457 - val_acc: 0.6197\n",
            "Epoch 45/250\n",
            "178/178 [==============================] - 24s 135ms/step - loss: 0.6201 - acc: 0.6637 - val_loss: 0.6390 - val_acc: 0.6271\n",
            "Epoch 46/250\n",
            "178/178 [==============================] - 24s 134ms/step - loss: 0.6193 - acc: 0.6542 - val_loss: 0.6299 - val_acc: 0.6292\n",
            "Epoch 47/250\n",
            "178/178 [==============================] - 24s 133ms/step - loss: 0.6258 - acc: 0.6549 - val_loss: 0.6503 - val_acc: 0.6165\n",
            "Epoch 48/250\n",
            "178/178 [==============================] - 25s 135ms/step - loss: 0.6206 - acc: 0.6549 - val_loss: 0.6406 - val_acc: 0.6271\n",
            "Epoch 49/250\n",
            "178/178 [==============================] - 25s 136ms/step - loss: 0.6234 - acc: 0.6521 - val_loss: 0.6415 - val_acc: 0.6218\n",
            "Epoch 50/250\n",
            "178/178 [==============================] - 25s 138ms/step - loss: 0.6262 - acc: 0.6538 - val_loss: 0.6475 - val_acc: 0.6176\n",
            "Epoch 51/250\n",
            "178/178 [==============================] - 24s 133ms/step - loss: 0.6168 - acc: 0.6517 - val_loss: 0.6635 - val_acc: 0.6059\n",
            "Epoch 52/250\n",
            "178/178 [==============================] - 24s 133ms/step - loss: 0.6169 - acc: 0.6634 - val_loss: 0.6471 - val_acc: 0.6186\n",
            "Epoch 53/250\n",
            "178/178 [==============================] - 24s 132ms/step - loss: 0.6261 - acc: 0.6450 - val_loss: 0.6615 - val_acc: 0.6006\n",
            "Epoch 54/250\n",
            "178/178 [==============================] - 25s 135ms/step - loss: 0.6242 - acc: 0.6524 - val_loss: 0.6380 - val_acc: 0.6335\n",
            "Epoch 55/250\n",
            "178/178 [==============================] - 25s 137ms/step - loss: 0.6251 - acc: 0.6440 - val_loss: 0.6565 - val_acc: 0.6091\n",
            "Epoch 56/250\n",
            "178/178 [==============================] - 25s 137ms/step - loss: 0.6304 - acc: 0.6531 - val_loss: 0.6285 - val_acc: 0.6430\n",
            "Epoch 57/250\n",
            "178/178 [==============================] - 24s 133ms/step - loss: 0.6070 - acc: 0.6687 - val_loss: 0.6320 - val_acc: 0.6367\n",
            "Epoch 58/250\n",
            "178/178 [==============================] - 24s 132ms/step - loss: 0.6126 - acc: 0.6581 - val_loss: 0.6279 - val_acc: 0.6335\n",
            "Epoch 59/250\n",
            "178/178 [==============================] - 24s 133ms/step - loss: 0.6322 - acc: 0.6369 - val_loss: 0.6105 - val_acc: 0.6525\n",
            "Epoch 60/250\n",
            "178/178 [==============================] - 24s 133ms/step - loss: 0.6112 - acc: 0.6613 - val_loss: 0.6170 - val_acc: 0.6472\n",
            "Epoch 61/250\n",
            "178/178 [==============================] - 25s 139ms/step - loss: 0.6280 - acc: 0.6475 - val_loss: 0.6395 - val_acc: 0.6218\n",
            "Epoch 62/250\n",
            "178/178 [==============================] - 24s 134ms/step - loss: 0.6261 - acc: 0.6468 - val_loss: 0.6149 - val_acc: 0.6557\n",
            "Epoch 63/250\n",
            "178/178 [==============================] - 24s 132ms/step - loss: 0.6213 - acc: 0.6503 - val_loss: 0.6593 - val_acc: 0.5985\n",
            "Epoch 64/250\n",
            "178/178 [==============================] - 20s 110ms/step - loss: 0.6146 - acc: 0.6595 - val_loss: 0.6124 - val_acc: 0.6578\n",
            "Epoch 65/250\n",
            "178/178 [==============================] - 25s 137ms/step - loss: 0.6220 - acc: 0.6584 - val_loss: 0.6254 - val_acc: 0.6367\n",
            "Epoch 66/250\n",
            "178/178 [==============================] - 19s 106ms/step - loss: 0.6127 - acc: 0.6584 - val_loss: 0.6231 - val_acc: 0.6377\n",
            "Epoch 67/250\n",
            "178/178 [==============================] - 25s 134ms/step - loss: 0.6295 - acc: 0.6380 - val_loss: 0.6126 - val_acc: 0.6547\n",
            "Epoch 68/250\n",
            "178/178 [==============================] - 25s 137ms/step - loss: 0.6159 - acc: 0.6711 - val_loss: 0.6231 - val_acc: 0.6367\n",
            "Epoch 69/250\n",
            "178/178 [==============================] - 24s 132ms/step - loss: 0.6256 - acc: 0.6570 - val_loss: 0.6358 - val_acc: 0.6229\n",
            "Epoch 70/250\n",
            "178/178 [==============================] - 24s 132ms/step - loss: 0.6199 - acc: 0.6602 - val_loss: 0.6513 - val_acc: 0.6038\n",
            "Epoch 71/250\n",
            "178/178 [==============================] - 24s 131ms/step - loss: 0.6216 - acc: 0.6553 - val_loss: 0.6054 - val_acc: 0.6684\n",
            "Epoch 72/250\n",
            "178/178 [==============================] - 24s 132ms/step - loss: 0.6188 - acc: 0.6637 - val_loss: 0.6173 - val_acc: 0.6504\n",
            "Epoch 73/250\n",
            "178/178 [==============================] - 25s 136ms/step - loss: 0.6189 - acc: 0.6524 - val_loss: 0.6323 - val_acc: 0.6239\n",
            "Epoch 74/250\n",
            "178/178 [==============================] - 24s 134ms/step - loss: 0.6095 - acc: 0.6733 - val_loss: 0.6702 - val_acc: 0.5975\n",
            "Epoch 75/250\n",
            "178/178 [==============================] - 20s 110ms/step - loss: 0.6271 - acc: 0.6496 - val_loss: 0.6468 - val_acc: 0.6133\n",
            "Epoch 76/250\n",
            "178/178 [==============================] - 20s 108ms/step - loss: 0.6225 - acc: 0.6496 - val_loss: 0.6336 - val_acc: 0.6324\n",
            "Epoch 77/250\n",
            "178/178 [==============================] - 24s 132ms/step - loss: 0.6139 - acc: 0.6602 - val_loss: 0.6305 - val_acc: 0.6356\n",
            "Epoch 78/250\n",
            "178/178 [==============================] - 24s 132ms/step - loss: 0.6200 - acc: 0.6549 - val_loss: 0.6347 - val_acc: 0.6292\n",
            "Epoch 79/250\n",
            "178/178 [==============================] - 19s 106ms/step - loss: 0.6258 - acc: 0.6524 - val_loss: 0.6262 - val_acc: 0.6367\n",
            "Epoch 80/250\n",
            "178/178 [==============================] - 25s 136ms/step - loss: 0.6127 - acc: 0.6602 - val_loss: 0.6599 - val_acc: 0.6038\n",
            "Epoch 81/250\n",
            "178/178 [==============================] - 24s 132ms/step - loss: 0.6158 - acc: 0.6683 - val_loss: 0.6637 - val_acc: 0.6028\n",
            "Epoch 82/250\n",
            "178/178 [==============================] - 24s 131ms/step - loss: 0.6163 - acc: 0.6602 - val_loss: 0.6157 - val_acc: 0.6557\n",
            "Epoch 83/250\n",
            "178/178 [==============================] - 24s 132ms/step - loss: 0.6205 - acc: 0.6598 - val_loss: 0.6373 - val_acc: 0.6303\n",
            "Epoch 84/250\n",
            "178/178 [==============================] - 25s 139ms/step - loss: 0.6194 - acc: 0.6630 - val_loss: 0.6405 - val_acc: 0.6292\n",
            "Epoch 85/250\n",
            "178/178 [==============================] - 25s 136ms/step - loss: 0.6183 - acc: 0.6658 - val_loss: 0.6506 - val_acc: 0.6144\n",
            "Epoch 86/250\n",
            "178/178 [==============================] - 19s 106ms/step - loss: 0.6184 - acc: 0.6538 - val_loss: 0.6395 - val_acc: 0.6314\n",
            "Epoch 87/250\n",
            "178/178 [==============================] - 25s 134ms/step - loss: 0.6089 - acc: 0.6560 - val_loss: 0.6333 - val_acc: 0.6335\n",
            "Epoch 88/250\n",
            "178/178 [==============================] - 25s 138ms/step - loss: 0.6220 - acc: 0.6542 - val_loss: 0.6514 - val_acc: 0.6144\n",
            "Epoch 89/250\n",
            "178/178 [==============================] - 24s 133ms/step - loss: 0.6116 - acc: 0.6673 - val_loss: 0.6398 - val_acc: 0.6239\n",
            "Epoch 90/250\n",
            "178/178 [==============================] - 24s 133ms/step - loss: 0.6184 - acc: 0.6567 - val_loss: 0.6359 - val_acc: 0.6324\n",
            "Epoch 91/250\n",
            "178/178 [==============================] - 24s 132ms/step - loss: 0.6077 - acc: 0.6655 - val_loss: 0.6319 - val_acc: 0.6419\n",
            "Epoch 92/250\n",
            "178/178 [==============================] - 24s 132ms/step - loss: 0.6141 - acc: 0.6517 - val_loss: 0.6157 - val_acc: 0.6610\n",
            "Epoch 93/250\n",
            "178/178 [==============================] - 25s 136ms/step - loss: 0.6222 - acc: 0.6641 - val_loss: 0.6053 - val_acc: 0.6631\n",
            "Epoch 94/250\n",
            "178/178 [==============================] - 20s 110ms/step - loss: 0.6258 - acc: 0.6447 - val_loss: 0.6343 - val_acc: 0.6335\n",
            "Epoch 95/250\n",
            "178/178 [==============================] - 24s 132ms/step - loss: 0.6165 - acc: 0.6676 - val_loss: 0.6399 - val_acc: 0.6271\n",
            "Epoch 96/250\n",
            "178/178 [==============================] - 24s 134ms/step - loss: 0.6103 - acc: 0.6609 - val_loss: 0.6488 - val_acc: 0.6176\n",
            "Epoch 97/250\n",
            "178/178 [==============================] - 25s 136ms/step - loss: 0.6208 - acc: 0.6535 - val_loss: 0.6325 - val_acc: 0.6345\n",
            "Epoch 98/250\n",
            "178/178 [==============================] - 24s 133ms/step - loss: 0.6172 - acc: 0.6648 - val_loss: 0.6439 - val_acc: 0.6218\n",
            "Epoch 99/250\n",
            "178/178 [==============================] - 24s 132ms/step - loss: 0.6239 - acc: 0.6475 - val_loss: 0.6612 - val_acc: 0.6059\n",
            "Epoch 100/250\n",
            "178/178 [==============================] - 24s 132ms/step - loss: 0.6208 - acc: 0.6651 - val_loss: 0.6642 - val_acc: 0.6017\n",
            "Epoch 101/250\n",
            "178/178 [==============================] - 24s 132ms/step - loss: 0.6204 - acc: 0.6528 - val_loss: 0.6568 - val_acc: 0.6102\n",
            "Epoch 102/250\n",
            "178/178 [==============================] - 24s 132ms/step - loss: 0.6345 - acc: 0.6464 - val_loss: 0.6367 - val_acc: 0.6303\n",
            "Epoch 103/250\n",
            "178/178 [==============================] - 24s 131ms/step - loss: 0.6254 - acc: 0.6457 - val_loss: 0.6557 - val_acc: 0.6038\n",
            "Epoch 104/250\n",
            "178/178 [==============================] - 25s 136ms/step - loss: 0.6259 - acc: 0.6468 - val_loss: 0.6454 - val_acc: 0.6197\n",
            "Epoch 105/250\n",
            "178/178 [==============================] - 25s 138ms/step - loss: 0.6178 - acc: 0.6598 - val_loss: 0.6379 - val_acc: 0.6197\n",
            "Epoch 106/250\n",
            "178/178 [==============================] - 24s 132ms/step - loss: 0.6285 - acc: 0.6415 - val_loss: 0.6492 - val_acc: 0.6112\n",
            "Epoch 107/250\n",
            "178/178 [==============================] - 24s 132ms/step - loss: 0.6277 - acc: 0.6447 - val_loss: 0.6174 - val_acc: 0.6536\n",
            "Epoch 108/250\n",
            "178/178 [==============================] - 24s 134ms/step - loss: 0.6204 - acc: 0.6595 - val_loss: 0.6219 - val_acc: 0.6441\n",
            "Epoch 109/250\n",
            "178/178 [==============================] - 24s 133ms/step - loss: 0.6252 - acc: 0.6507 - val_loss: 0.6184 - val_acc: 0.6472\n",
            "Epoch 110/250\n",
            "178/178 [==============================] - 25s 139ms/step - loss: 0.6225 - acc: 0.6556 - val_loss: 0.6162 - val_acc: 0.6504\n",
            "Epoch 111/250\n",
            "178/178 [==============================] - 25s 136ms/step - loss: 0.6157 - acc: 0.6464 - val_loss: 0.6240 - val_acc: 0.6398\n",
            "Epoch 112/250\n",
            "178/178 [==============================] - 24s 132ms/step - loss: 0.6143 - acc: 0.6634 - val_loss: 0.6334 - val_acc: 0.6367\n",
            "Epoch 113/250\n",
            "178/178 [==============================] - 24s 132ms/step - loss: 0.6171 - acc: 0.6517 - val_loss: 0.6426 - val_acc: 0.6239\n",
            "Epoch 114/250\n",
            "178/178 [==============================] - 20s 109ms/step - loss: 0.6195 - acc: 0.6581 - val_loss: 0.6498 - val_acc: 0.6155\n",
            "Epoch 115/250\n",
            "178/178 [==============================] - 25s 137ms/step - loss: 0.6116 - acc: 0.6733 - val_loss: 0.6191 - val_acc: 0.6472\n",
            "Epoch 116/250\n",
            "178/178 [==============================] - 24s 134ms/step - loss: 0.6241 - acc: 0.6546 - val_loss: 0.6349 - val_acc: 0.6367\n",
            "Epoch 117/250\n",
            "178/178 [==============================] - 24s 135ms/step - loss: 0.6200 - acc: 0.6623 - val_loss: 0.6635 - val_acc: 0.6006\n",
            "Epoch 118/250\n",
            "178/178 [==============================] - 24s 134ms/step - loss: 0.6104 - acc: 0.6697 - val_loss: 0.6409 - val_acc: 0.6250\n",
            "Epoch 119/250\n",
            "178/178 [==============================] - 25s 135ms/step - loss: 0.6211 - acc: 0.6531 - val_loss: 0.6295 - val_acc: 0.6314\n",
            "Epoch 120/250\n",
            "178/178 [==============================] - 25s 138ms/step - loss: 0.6271 - acc: 0.6440 - val_loss: 0.6317 - val_acc: 0.6314\n",
            "Epoch 121/250\n",
            "178/178 [==============================] - 25s 139ms/step - loss: 0.6237 - acc: 0.6609 - val_loss: 0.6257 - val_acc: 0.6324\n",
            "Epoch 122/250\n",
            "178/178 [==============================] - 21s 113ms/step - loss: 0.6157 - acc: 0.6468 - val_loss: 0.6531 - val_acc: 0.6102\n",
            "Epoch 123/250\n",
            "178/178 [==============================] - 25s 135ms/step - loss: 0.6291 - acc: 0.6344 - val_loss: 0.6540 - val_acc: 0.6102\n",
            "Epoch 124/250\n",
            "178/178 [==============================] - 25s 139ms/step - loss: 0.6214 - acc: 0.6538 - val_loss: 0.6370 - val_acc: 0.6324\n",
            "Epoch 125/250\n",
            "178/178 [==============================] - 20s 112ms/step - loss: 0.6012 - acc: 0.6697 - val_loss: 0.6319 - val_acc: 0.6324\n",
            "Epoch 126/250\n",
            "178/178 [==============================] - 25s 139ms/step - loss: 0.6088 - acc: 0.6581 - val_loss: 0.6475 - val_acc: 0.6155\n",
            "Epoch 127/250\n",
            "178/178 [==============================] - 21s 113ms/step - loss: 0.6233 - acc: 0.6556 - val_loss: 0.6489 - val_acc: 0.6165\n",
            "Epoch 128/250\n",
            "178/178 [==============================] - 25s 137ms/step - loss: 0.6208 - acc: 0.6630 - val_loss: 0.6473 - val_acc: 0.6186\n",
            "Epoch 129/250\n",
            "178/178 [==============================] - 24s 133ms/step - loss: 0.6266 - acc: 0.6524 - val_loss: 0.6179 - val_acc: 0.6515\n",
            "Epoch 130/250\n",
            "178/178 [==============================] - 25s 137ms/step - loss: 0.6120 - acc: 0.6500 - val_loss: 0.6352 - val_acc: 0.6303\n",
            "Epoch 131/250\n",
            "178/178 [==============================] - 25s 137ms/step - loss: 0.6193 - acc: 0.6567 - val_loss: 0.6359 - val_acc: 0.6261\n",
            "Epoch 132/250\n",
            "178/178 [==============================] - 25s 137ms/step - loss: 0.6127 - acc: 0.6609 - val_loss: 0.6316 - val_acc: 0.6324\n",
            "Epoch 133/250\n",
            "178/178 [==============================] - 25s 137ms/step - loss: 0.6043 - acc: 0.6761 - val_loss: 0.6294 - val_acc: 0.6367\n",
            "Epoch 134/250\n",
            "178/178 [==============================] - 25s 141ms/step - loss: 0.6158 - acc: 0.6630 - val_loss: 0.6228 - val_acc: 0.6451\n",
            "Epoch 135/250\n",
            "178/178 [==============================] - 25s 140ms/step - loss: 0.6180 - acc: 0.6620 - val_loss: 0.6167 - val_acc: 0.6536\n",
            "Epoch 136/250\n",
            "178/178 [==============================] - 25s 137ms/step - loss: 0.6120 - acc: 0.6648 - val_loss: 0.6182 - val_acc: 0.6504\n",
            "Epoch 137/250\n",
            "178/178 [==============================] - 25s 135ms/step - loss: 0.6050 - acc: 0.6750 - val_loss: 0.6204 - val_acc: 0.6472\n",
            "Epoch 138/250\n",
            "178/178 [==============================] - 24s 135ms/step - loss: 0.6221 - acc: 0.6546 - val_loss: 0.6179 - val_acc: 0.6472\n",
            "Epoch 139/250\n",
            "178/178 [==============================] - 25s 136ms/step - loss: 0.6155 - acc: 0.6637 - val_loss: 0.6259 - val_acc: 0.6345\n",
            "Epoch 140/250\n",
            "178/178 [==============================] - 25s 137ms/step - loss: 0.6179 - acc: 0.6616 - val_loss: 0.6146 - val_acc: 0.6536\n",
            "Epoch 141/250\n",
            "178/178 [==============================] - 25s 139ms/step - loss: 0.6206 - acc: 0.6517 - val_loss: 0.6282 - val_acc: 0.6356\n",
            "Epoch 142/250\n",
            "178/178 [==============================] - 25s 138ms/step - loss: 0.6125 - acc: 0.6609 - val_loss: 0.6476 - val_acc: 0.6176\n",
            "Epoch 143/250\n",
            "178/178 [==============================] - 24s 134ms/step - loss: 0.6161 - acc: 0.6588 - val_loss: 0.6470 - val_acc: 0.6208\n",
            "Epoch 144/250\n",
            "178/178 [==============================] - 25s 136ms/step - loss: 0.6195 - acc: 0.6546 - val_loss: 0.6232 - val_acc: 0.6388\n",
            "Epoch 145/250\n",
            "178/178 [==============================] - 20s 111ms/step - loss: 0.6172 - acc: 0.6567 - val_loss: 0.6339 - val_acc: 0.6314\n",
            "Epoch 146/250\n",
            "178/178 [==============================] - 21s 116ms/step - loss: 0.6252 - acc: 0.6475 - val_loss: 0.6303 - val_acc: 0.6324\n",
            "Epoch 147/250\n",
            "178/178 [==============================] - 21s 116ms/step - loss: 0.6207 - acc: 0.6496 - val_loss: 0.6316 - val_acc: 0.6345\n",
            "Epoch 148/250\n",
            "178/178 [==============================] - 25s 135ms/step - loss: 0.6148 - acc: 0.6637 - val_loss: 0.6410 - val_acc: 0.6229\n",
            "Epoch 149/250\n",
            "178/178 [==============================] - 25s 135ms/step - loss: 0.6140 - acc: 0.6658 - val_loss: 0.6361 - val_acc: 0.6292\n",
            "Epoch 150/250\n",
            "178/178 [==============================] - 25s 136ms/step - loss: 0.6227 - acc: 0.6440 - val_loss: 0.6155 - val_acc: 0.6504\n",
            "Epoch 151/250\n",
            "178/178 [==============================] - 25s 141ms/step - loss: 0.6197 - acc: 0.6651 - val_loss: 0.6273 - val_acc: 0.6409\n",
            "Epoch 152/250\n",
            "178/178 [==============================] - 25s 139ms/step - loss: 0.6177 - acc: 0.6496 - val_loss: 0.6202 - val_acc: 0.6441\n",
            "Epoch 153/250\n",
            "178/178 [==============================] - 25s 135ms/step - loss: 0.6112 - acc: 0.6637 - val_loss: 0.6408 - val_acc: 0.6250\n",
            "Epoch 154/250\n",
            "178/178 [==============================] - 20s 109ms/step - loss: 0.6226 - acc: 0.6542 - val_loss: 0.6460 - val_acc: 0.6144\n",
            "Epoch 155/250\n",
            "178/178 [==============================] - 25s 139ms/step - loss: 0.6194 - acc: 0.6627 - val_loss: 0.6541 - val_acc: 0.6102\n",
            "Epoch 156/250\n",
            "178/178 [==============================] - 25s 138ms/step - loss: 0.6362 - acc: 0.6313 - val_loss: 0.6256 - val_acc: 0.6367\n",
            "Epoch 157/250\n",
            "178/178 [==============================] - 24s 135ms/step - loss: 0.6185 - acc: 0.6567 - val_loss: 0.6124 - val_acc: 0.6621\n",
            "Epoch 158/250\n",
            "178/178 [==============================] - 24s 134ms/step - loss: 0.6166 - acc: 0.6478 - val_loss: 0.6358 - val_acc: 0.6324\n",
            "Epoch 159/250\n",
            "178/178 [==============================] - 25s 136ms/step - loss: 0.6216 - acc: 0.6517 - val_loss: 0.6153 - val_acc: 0.6610\n",
            "Epoch 160/250\n",
            "178/178 [==============================] - 25s 135ms/step - loss: 0.6159 - acc: 0.6676 - val_loss: 0.6253 - val_acc: 0.6483\n",
            "Epoch 161/250\n",
            "178/178 [==============================] - 21s 112ms/step - loss: 0.6217 - acc: 0.6637 - val_loss: 0.6413 - val_acc: 0.6261\n",
            "Epoch 162/250\n",
            "178/178 [==============================] - 25s 135ms/step - loss: 0.6179 - acc: 0.6521 - val_loss: 0.6388 - val_acc: 0.6292\n",
            "Epoch 163/250\n",
            "178/178 [==============================] - 24s 134ms/step - loss: 0.6210 - acc: 0.6528 - val_loss: 0.6497 - val_acc: 0.6155\n",
            "Epoch 164/250\n",
            "178/178 [==============================] - 24s 135ms/step - loss: 0.6185 - acc: 0.6560 - val_loss: 0.6204 - val_acc: 0.6504\n",
            "Epoch 165/250\n",
            "178/178 [==============================] - 20s 111ms/step - loss: 0.6201 - acc: 0.6546 - val_loss: 0.6451 - val_acc: 0.6218\n",
            "Epoch 166/250\n",
            "178/178 [==============================] - 21s 112ms/step - loss: 0.6159 - acc: 0.6627 - val_loss: 0.6292 - val_acc: 0.6398\n",
            "Epoch 167/250\n",
            "178/178 [==============================] - 20s 108ms/step - loss: 0.6154 - acc: 0.6535 - val_loss: 0.6184 - val_acc: 0.6536\n",
            "Epoch 168/250\n",
            "178/178 [==============================] - 24s 134ms/step - loss: 0.6172 - acc: 0.6517 - val_loss: 0.6181 - val_acc: 0.6547\n",
            "Epoch 169/250\n",
            "178/178 [==============================] - 24s 134ms/step - loss: 0.6201 - acc: 0.6577 - val_loss: 0.6212 - val_acc: 0.6525\n",
            "Epoch 170/250\n",
            "178/178 [==============================] - 24s 135ms/step - loss: 0.6171 - acc: 0.6598 - val_loss: 0.6423 - val_acc: 0.6282\n",
            "Epoch 171/250\n",
            "178/178 [==============================] - 25s 136ms/step - loss: 0.6121 - acc: 0.6620 - val_loss: 0.6536 - val_acc: 0.6133\n",
            "Epoch 172/250\n",
            "178/178 [==============================] - 21s 114ms/step - loss: 0.6222 - acc: 0.6574 - val_loss: 0.6351 - val_acc: 0.6356\n",
            "Epoch 173/250\n",
            "178/178 [==============================] - 25s 138ms/step - loss: 0.6179 - acc: 0.6665 - val_loss: 0.6350 - val_acc: 0.6356\n",
            "Epoch 174/250\n",
            "178/178 [==============================] - 26s 142ms/step - loss: 0.6129 - acc: 0.6549 - val_loss: 0.6435 - val_acc: 0.6261\n",
            "Epoch 175/250\n",
            "178/178 [==============================] - 25s 138ms/step - loss: 0.6152 - acc: 0.6616 - val_loss: 0.6653 - val_acc: 0.6038\n",
            "Epoch 176/250\n",
            "178/178 [==============================] - 25s 137ms/step - loss: 0.6144 - acc: 0.6637 - val_loss: 0.6277 - val_acc: 0.6419\n",
            "Epoch 177/250\n",
            "178/178 [==============================] - 25s 135ms/step - loss: 0.6278 - acc: 0.6429 - val_loss: 0.6248 - val_acc: 0.6430\n",
            "Epoch 178/250\n",
            "178/178 [==============================] - 25s 135ms/step - loss: 0.6170 - acc: 0.6510 - val_loss: 0.6289 - val_acc: 0.6398\n",
            "Epoch 179/250\n",
            "178/178 [==============================] - 25s 136ms/step - loss: 0.6252 - acc: 0.6450 - val_loss: 0.6486 - val_acc: 0.6165\n",
            "Epoch 180/250\n",
            "178/178 [==============================] - 25s 136ms/step - loss: 0.6197 - acc: 0.6616 - val_loss: 0.6469 - val_acc: 0.6186\n",
            "Epoch 181/250\n",
            "178/178 [==============================] - 25s 135ms/step - loss: 0.6193 - acc: 0.6634 - val_loss: 0.6183 - val_acc: 0.6536\n",
            "Epoch 182/250\n",
            "178/178 [==============================] - 25s 135ms/step - loss: 0.6203 - acc: 0.6475 - val_loss: 0.6378 - val_acc: 0.6292\n",
            "Epoch 183/250\n",
            "178/178 [==============================] - 25s 138ms/step - loss: 0.6149 - acc: 0.6644 - val_loss: 0.6219 - val_acc: 0.6462\n",
            "Epoch 184/250\n",
            "178/178 [==============================] - 25s 138ms/step - loss: 0.6189 - acc: 0.6454 - val_loss: 0.6412 - val_acc: 0.6239\n",
            "Epoch 185/250\n",
            "178/178 [==============================] - 24s 134ms/step - loss: 0.6118 - acc: 0.6715 - val_loss: 0.6425 - val_acc: 0.6239\n",
            "Epoch 186/250\n",
            "178/178 [==============================] - 24s 134ms/step - loss: 0.6117 - acc: 0.6641 - val_loss: 0.6183 - val_acc: 0.6494\n",
            "Epoch 187/250\n",
            "178/178 [==============================] - 25s 135ms/step - loss: 0.6255 - acc: 0.6468 - val_loss: 0.6187 - val_acc: 0.6409\n",
            "Epoch 188/250\n",
            "178/178 [==============================] - 25s 135ms/step - loss: 0.6163 - acc: 0.6570 - val_loss: 0.6291 - val_acc: 0.6324\n",
            "Epoch 189/250\n",
            "178/178 [==============================] - 25s 135ms/step - loss: 0.6234 - acc: 0.6535 - val_loss: 0.6336 - val_acc: 0.6303\n",
            "Epoch 190/250\n",
            "178/178 [==============================] - 25s 139ms/step - loss: 0.6303 - acc: 0.6429 - val_loss: 0.6342 - val_acc: 0.6261\n",
            "Epoch 191/250\n",
            "178/178 [==============================] - 25s 139ms/step - loss: 0.6070 - acc: 0.6651 - val_loss: 0.6837 - val_acc: 0.5879\n",
            "Epoch 192/250\n",
            "178/178 [==============================] - 24s 134ms/step - loss: 0.6075 - acc: 0.6715 - val_loss: 0.6425 - val_acc: 0.6261\n",
            "Epoch 193/250\n",
            "178/178 [==============================] - 20s 110ms/step - loss: 0.6209 - acc: 0.6563 - val_loss: 0.6459 - val_acc: 0.6176\n",
            "Epoch 194/250\n",
            "178/178 [==============================] - 25s 139ms/step - loss: 0.6208 - acc: 0.6584 - val_loss: 0.6571 - val_acc: 0.6081\n",
            "Epoch 195/250\n",
            "178/178 [==============================] - 25s 138ms/step - loss: 0.6125 - acc: 0.6584 - val_loss: 0.6590 - val_acc: 0.6070\n",
            "Epoch 196/250\n",
            "178/178 [==============================] - 24s 134ms/step - loss: 0.6170 - acc: 0.6560 - val_loss: 0.6391 - val_acc: 0.6292\n",
            "Epoch 197/250\n",
            "178/178 [==============================] - 24s 135ms/step - loss: 0.6122 - acc: 0.6658 - val_loss: 0.6535 - val_acc: 0.6081\n",
            "Epoch 198/250\n",
            "178/178 [==============================] - 24s 134ms/step - loss: 0.6233 - acc: 0.6538 - val_loss: 0.6734 - val_acc: 0.5964\n",
            "Epoch 199/250\n",
            "178/178 [==============================] - 25s 134ms/step - loss: 0.6142 - acc: 0.6634 - val_loss: 0.6395 - val_acc: 0.6292\n",
            "Epoch 200/250\n",
            "178/178 [==============================] - 25s 140ms/step - loss: 0.6188 - acc: 0.6634 - val_loss: 0.6714 - val_acc: 0.6006\n",
            "Epoch 201/250\n",
            "178/178 [==============================] - 26s 141ms/step - loss: 0.6136 - acc: 0.6584 - val_loss: 0.6701 - val_acc: 0.5996\n",
            "Epoch 202/250\n",
            "178/178 [==============================] - 25s 136ms/step - loss: 0.6164 - acc: 0.6567 - val_loss: 0.6659 - val_acc: 0.6028\n",
            "Epoch 203/250\n",
            "178/178 [==============================] - 25s 135ms/step - loss: 0.6281 - acc: 0.6489 - val_loss: 0.6617 - val_acc: 0.6017\n",
            "Epoch 204/250\n",
            "178/178 [==============================] - 25s 136ms/step - loss: 0.6172 - acc: 0.6553 - val_loss: 0.6514 - val_acc: 0.6176\n",
            "Epoch 205/250\n",
            "178/178 [==============================] - 25s 136ms/step - loss: 0.6096 - acc: 0.6694 - val_loss: 0.6319 - val_acc: 0.6271\n",
            "Epoch 206/250\n",
            "178/178 [==============================] - 25s 136ms/step - loss: 0.6142 - acc: 0.6651 - val_loss: 0.6801 - val_acc: 0.5996\n",
            "Epoch 207/250\n",
            "178/178 [==============================] - 26s 141ms/step - loss: 0.6211 - acc: 0.6556 - val_loss: 0.6349 - val_acc: 0.6261\n",
            "Epoch 208/250\n",
            "178/178 [==============================] - 26s 144ms/step - loss: 0.6164 - acc: 0.6588 - val_loss: 0.6890 - val_acc: 0.5932\n",
            "Epoch 209/250\n",
            "178/178 [==============================] - 25s 138ms/step - loss: 0.6235 - acc: 0.6542 - val_loss: 0.6446 - val_acc: 0.6165\n",
            "Epoch 210/250\n",
            "178/178 [==============================] - 25s 136ms/step - loss: 0.6198 - acc: 0.6588 - val_loss: 0.6405 - val_acc: 0.6282\n",
            "Epoch 211/250\n",
            "178/178 [==============================] - 25s 136ms/step - loss: 0.6235 - acc: 0.6542 - val_loss: 0.6255 - val_acc: 0.6356\n",
            "Epoch 212/250\n",
            "178/178 [==============================] - 25s 136ms/step - loss: 0.6239 - acc: 0.6637 - val_loss: 0.6260 - val_acc: 0.6303\n",
            "Epoch 213/250\n",
            "178/178 [==============================] - 25s 137ms/step - loss: 0.6212 - acc: 0.6524 - val_loss: 0.6085 - val_acc: 0.6610\n",
            "Epoch 214/250\n",
            "178/178 [==============================] - 25s 137ms/step - loss: 0.6182 - acc: 0.6588 - val_loss: 0.6317 - val_acc: 0.6335\n",
            "Epoch 215/250\n",
            "178/178 [==============================] - 26s 141ms/step - loss: 0.6156 - acc: 0.6542 - val_loss: 0.6306 - val_acc: 0.6335\n",
            "Epoch 216/250\n",
            "178/178 [==============================] - 21s 113ms/step - loss: 0.6084 - acc: 0.6648 - val_loss: 0.6551 - val_acc: 0.6133\n",
            "Epoch 217/250\n",
            "178/178 [==============================] - 25s 136ms/step - loss: 0.6189 - acc: 0.6528 - val_loss: 0.6147 - val_acc: 0.6494\n",
            "Epoch 218/250\n",
            "178/178 [==============================] - 25s 140ms/step - loss: 0.6216 - acc: 0.6591 - val_loss: 0.6380 - val_acc: 0.6271\n",
            "Epoch 219/250\n",
            "178/178 [==============================] - 26s 142ms/step - loss: 0.6247 - acc: 0.6450 - val_loss: 0.6350 - val_acc: 0.6282\n",
            "Epoch 220/250\n",
            "178/178 [==============================] - 26s 142ms/step - loss: 0.6237 - acc: 0.6478 - val_loss: 0.6261 - val_acc: 0.6377\n",
            "Epoch 221/250\n",
            "178/178 [==============================] - 25s 136ms/step - loss: 0.6120 - acc: 0.6704 - val_loss: 0.6323 - val_acc: 0.6335\n",
            "Epoch 222/250\n",
            "178/178 [==============================] - 25s 136ms/step - loss: 0.6236 - acc: 0.6450 - val_loss: 0.6301 - val_acc: 0.6377\n",
            "Epoch 223/250\n",
            "178/178 [==============================] - 25s 135ms/step - loss: 0.6237 - acc: 0.6538 - val_loss: 0.6400 - val_acc: 0.6239\n",
            "Epoch 224/250\n",
            "178/178 [==============================] - 25s 135ms/step - loss: 0.6122 - acc: 0.6673 - val_loss: 0.6171 - val_acc: 0.6568\n",
            "Epoch 225/250\n",
            "178/178 [==============================] - 25s 139ms/step - loss: 0.6149 - acc: 0.6584 - val_loss: 0.6185 - val_acc: 0.6494\n",
            "Epoch 226/250\n",
            "178/178 [==============================] - 25s 140ms/step - loss: 0.6157 - acc: 0.6602 - val_loss: 0.6802 - val_acc: 0.5975\n",
            "Epoch 227/250\n",
            "178/178 [==============================] - 26s 142ms/step - loss: 0.6097 - acc: 0.6581 - val_loss: 0.7094 - val_acc: 0.5879\n",
            "Epoch 228/250\n",
            "178/178 [==============================] - 25s 137ms/step - loss: 0.6176 - acc: 0.6528 - val_loss: 0.6736 - val_acc: 0.6006\n",
            "Epoch 229/250\n",
            "178/178 [==============================] - 25s 135ms/step - loss: 0.6106 - acc: 0.6680 - val_loss: 0.6676 - val_acc: 0.6091\n",
            "Epoch 230/250\n",
            "178/178 [==============================] - 25s 136ms/step - loss: 0.6158 - acc: 0.6623 - val_loss: 0.6614 - val_acc: 0.6081\n",
            "Epoch 231/250\n",
            "178/178 [==============================] - 24s 135ms/step - loss: 0.6101 - acc: 0.6687 - val_loss: 0.6635 - val_acc: 0.6049\n",
            "Epoch 232/250\n",
            "178/178 [==============================] - 21s 116ms/step - loss: 0.6244 - acc: 0.6436 - val_loss: 0.6794 - val_acc: 0.6017\n",
            "Epoch 233/250\n",
            "178/178 [==============================] - 25s 137ms/step - loss: 0.6171 - acc: 0.6546 - val_loss: 0.6697 - val_acc: 0.6017\n",
            "Epoch 234/250\n",
            "178/178 [==============================] - 24s 135ms/step - loss: 0.6198 - acc: 0.6581 - val_loss: 0.6260 - val_acc: 0.6388\n",
            "Epoch 235/250\n",
            "178/178 [==============================] - 21s 113ms/step - loss: 0.6195 - acc: 0.6542 - val_loss: 0.6383 - val_acc: 0.6239\n",
            "Epoch 236/250\n",
            "178/178 [==============================] - 25s 139ms/step - loss: 0.6115 - acc: 0.6743 - val_loss: 0.6247 - val_acc: 0.6419\n",
            "Epoch 237/250\n",
            "178/178 [==============================] - 25s 139ms/step - loss: 0.6237 - acc: 0.6471 - val_loss: 0.6245 - val_acc: 0.6441\n",
            "Epoch 238/250\n",
            "178/178 [==============================] - 21s 114ms/step - loss: 0.6298 - acc: 0.6461 - val_loss: 0.6302 - val_acc: 0.6292\n",
            "Epoch 239/250\n",
            "178/178 [==============================] - 20s 112ms/step - loss: 0.6196 - acc: 0.6570 - val_loss: 0.6374 - val_acc: 0.6186\n",
            "Epoch 240/250\n",
            "178/178 [==============================] - 25s 135ms/step - loss: 0.6176 - acc: 0.6584 - val_loss: 0.6476 - val_acc: 0.6229\n",
            "Epoch 241/250\n",
            "178/178 [==============================] - 24s 134ms/step - loss: 0.6153 - acc: 0.6602 - val_loss: 0.6500 - val_acc: 0.6197\n",
            "Epoch 242/250\n",
            "178/178 [==============================] - 24s 134ms/step - loss: 0.6081 - acc: 0.6655 - val_loss: 0.6563 - val_acc: 0.6123\n",
            "Epoch 243/250\n",
            "178/178 [==============================] - 24s 134ms/step - loss: 0.6255 - acc: 0.6461 - val_loss: 0.6260 - val_acc: 0.6398\n",
            "Epoch 244/250\n",
            "178/178 [==============================] - 25s 136ms/step - loss: 0.6162 - acc: 0.6648 - val_loss: 0.6405 - val_acc: 0.6218\n",
            "Epoch 245/250\n",
            "178/178 [==============================] - 21s 113ms/step - loss: 0.6137 - acc: 0.6528 - val_loss: 0.6620 - val_acc: 0.6102\n",
            "Epoch 246/250\n",
            "178/178 [==============================] - 24s 134ms/step - loss: 0.6139 - acc: 0.6606 - val_loss: 0.6763 - val_acc: 0.5996\n",
            "Epoch 247/250\n",
            "178/178 [==============================] - 20s 108ms/step - loss: 0.6187 - acc: 0.6521 - val_loss: 0.6645 - val_acc: 0.6133\n",
            "Epoch 248/250\n",
            "178/178 [==============================] - 25s 138ms/step - loss: 0.6127 - acc: 0.6584 - val_loss: 0.6570 - val_acc: 0.6176\n",
            "Epoch 249/250\n",
            "178/178 [==============================] - 24s 132ms/step - loss: 0.6140 - acc: 0.6591 - val_loss: 0.6531 - val_acc: 0.6197\n",
            "Epoch 250/250\n",
            "178/178 [==============================] - 20s 111ms/step - loss: 0.6217 - acc: 0.6680 - val_loss: 0.6342 - val_acc: 0.6239\n"
          ]
        }
      ]
    },
    {
      "cell_type": "code",
      "source": [
        "acc = history.history['acc']\n",
        "val_acc = history.history['val_acc']\n",
        "loss = history.history['loss']\n",
        "val_loss = history.history['val_loss']\n",
        "\n",
        "epochs_x = range(len(acc))\n",
        "\n",
        "plt.plot(epochs_x, acc, 'go', label='Training acc')\n",
        "plt.plot(epochs_x, val_acc, 'k', label='Validation acc')\n",
        "plt.title('Training and validation accuracy')\n",
        "plt.legend()\n",
        "\n",
        "plt.figure()\n",
        "\n",
        "plt.plot(epochs_x, loss, 'go', label='Training loss')\n",
        "plt.plot(epochs_x, val_loss, 'k', label='Validation loss')\n",
        "plt.title('Training and validation loss')\n",
        "plt.legend()\n",
        "\n",
        "plt.show()"
      ],
      "metadata": {
        "id": "kwylTJpTP5XI",
        "colab": {
          "base_uri": "https://localhost:8080/",
          "height": 545
        },
        "outputId": "14210488-b62f-4c4f-9e57-2cf8a906fd47"
      },
      "execution_count": 16,
      "outputs": [
        {
          "output_type": "display_data",
          "data": {
            "text/plain": [
              "<Figure size 432x288 with 1 Axes>"
            ],
            "image/png": "[encoded data removed]"
          },
          "metadata": {
            "needs_background": "light"
          }
        },
        {
          "output_type": "display_data",
          "data": {
            "text/plain": [
              "<Figure size 432x288 with 1 Axes>"
            ],
            "image/png": "[encoded data removed]"
          },
          "metadata": {
            "needs_background": "light"
          }
        }
      ]
    },
    {
      "cell_type": "markdown",
      "source": [
        "#Download the model"
      ],
      "metadata": {
        "id": "lD-vKaoHQAFd"
      }
    },
    {
      "cell_type": "code",
      "source": [
        "os.makedirs('/content/drive/My Drive/cut_panoramic/Model', exist_ok=True)\n",
        "model.save('/content/drive/My Drive/cut_panoramic/Model/B3_G3_2e-5_250_Un.h5')"
      ],
      "metadata": {
        "id": "74dL7-HLP_Sh"
      },
      "execution_count": 17,
      "outputs": []
    },
    {
      "cell_type": "code",
      "source": [
        "# from google.colab import files\n",
        "# files.download('/content/drive/My Drive/cut_panoramic/Model/2_รอบที่2_Gender_250.h5')"
      ],
      "metadata": {
        "id": "qcPW-brHQDpc"
      },
      "execution_count": 18,
      "outputs": []
    },
    {
      "cell_type": "code",
      "source": [],
      "metadata": {
        "id": "r5WoXVo8mVpF"
      },
      "execution_count": 18,
      "outputs": []
    }
  ]
}