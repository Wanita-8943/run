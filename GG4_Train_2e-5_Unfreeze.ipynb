{
  "nbformat": 4,
  "nbformat_minor": 0,
  "metadata": {
    "colab": {
      "provenance": [],
      "machine_shape": "hm",
      "include_colab_link": true
    },
    "kernelspec": {
      "name": "python3",
      "display_name": "Python 3"
    },
    "language_info": {
      "name": "python"
    },
    "accelerator": "GPU",
    "gpuClass": "standard"
  },
  "cells": [
    {
      "cell_type": "markdown",
      "metadata": {
        "id": "view-in-github",
        "colab_type": "text"
      },
      "source": [
        "<a href=\"https://colab.research.google.com/github/Wanita-8943/run/blob/main/GG4_Train_2e-5_Unfreeze.ipynb\" target=\"_parent\"><img src=\"https://colab.research.google.com/assets/colab-badge.svg\" alt=\"Open In Colab\"/></a>"
      ]
    },
    {
      "cell_type": "code",
      "execution_count": 16,
      "metadata": {
        "id": "KKSs7cyoPHcD"
      },
      "outputs": [],
      "source": [
        "import pandas as pd\n",
        "import shutil"
      ]
    },
    {
      "cell_type": "code",
      "source": [
        "from google.colab import drive\n",
        "drive.mount('/content/drive')"
      ],
      "metadata": {
        "colab": {
          "base_uri": "https://localhost:8080/"
        },
        "id": "Klm1B91QlvKd",
        "outputId": "3c23b4bc-8fe5-4c9b-906a-a50378a53e67"
      },
      "execution_count": 17,
      "outputs": [
        {
          "output_type": "stream",
          "name": "stdout",
          "text": [
            "Drive already mounted at /content/drive; to attempt to forcibly remount, call drive.mount(\"/content/drive\", force_remount=True).\n"
          ]
        }
      ]
    },
    {
      "cell_type": "code",
      "source": [
        "from tensorflow.keras import models\n",
        "from tensorflow.keras import layers\n",
        "from tensorflow.keras import optimizers\n",
        "import os\n",
        "import glob\n",
        "import shutil\n",
        "import sys\n",
        "import numpy as np\n",
        "from skimage.io import imread\n",
        "import matplotlib.pyplot as plt\n",
        "from IPython.display import Image\n",
        "%matplotlib inline"
      ],
      "metadata": {
        "id": "1pX9g1HxPM2f"
      },
      "execution_count": 18,
      "outputs": []
    },
    {
      "cell_type": "code",
      "source": [
        "batch_size = 16\n",
        "width = 150\n",
        "height = 150\n",
        "epochs = 250\n",
        "NUM_TRAIN = 2850\n",
        "NUM_TEST = 950\n",
        "dropout_rate = 0.2\n",
        "input_shape = (height, width, 3)"
      ],
      "metadata": {
        "id": "eSFtvGyvPM6O"
      },
      "execution_count": 19,
      "outputs": []
    },
    {
      "cell_type": "code",
      "source": [
        "#ดึงข้อมูลใน Github มาใช้\n",
        "import os\n",
        "%cd /content\n",
        "if not os.path.isdir(\"efficientnet_keras_transfer_learning\"):\n",
        " !git clone https://github.com/Wanita-8943/efficientnet_keras_transfer_learning\n",
        "%cd efficientnet_keras_transfer_learning/"
      ],
      "metadata": {
        "colab": {
          "base_uri": "https://localhost:8080/"
        },
        "id": "lb4K4CsMPNAW",
        "outputId": "a8a37e72-fc17-410d-f6b1-1fcde192944d"
      },
      "execution_count": 20,
      "outputs": [
        {
          "output_type": "stream",
          "name": "stdout",
          "text": [
            "/content\n",
            "/content/efficientnet_keras_transfer_learning\n"
          ]
        }
      ]
    },
    {
      "cell_type": "code",
      "source": [
        "# Options: EfficientNetB0, EfficientNetB1, EfficientNetB2, EfficientNetB3\n",
        "# Higher the number, the more complex the model is.\n",
        "from efficientnet import EfficientNetB0 as Net\n",
        "from efficientnet import center_crop_and_resize, preprocess_input"
      ],
      "metadata": {
        "id": "eyBg0dLKPND3"
      },
      "execution_count": 21,
      "outputs": []
    },
    {
      "cell_type": "code",
      "source": [
        "# loading pretrained conv base model\n",
        "# โหลดโมเดล มาโดยตัด output ของโมเดลออก เเต่ยังใช้ input อันเดิม\n",
        "# เเละโหลด weight ของโมเดล มาด้วยที่ชื่อว่า imagenet\n",
        "conv_base = Net(weights='imagenet', include_top=False, input_shape=input_shape)"
      ],
      "metadata": {
        "id": "9VBe9W9-H54h"
      },
      "execution_count": 22,
      "outputs": []
    },
    {
      "cell_type": "code",
      "source": [
        "base_dir = '/content/drive/MyDrive/TVT_Gender'\n",
        "os.makedirs(base_dir, exist_ok=True)\n",
        "\n",
        "# Directories for our training,\n",
        "# validation and test splits\n",
        "train_dir = os.path.join(base_dir, 'train')\n",
        "os.makedirs(train_dir, exist_ok=True)\n",
        "validation_dir = os.path.join(base_dir, 'validation')\n",
        "os.makedirs(validation_dir, exist_ok=True)\n",
        "test_dir = os.path.join(base_dir, 'test')\n",
        "os.makedirs(test_dir, exist_ok=True)"
      ],
      "metadata": {
        "id": "Jwpq_-KvPef8"
      },
      "execution_count": 23,
      "outputs": []
    },
    {
      "cell_type": "markdown",
      "source": [
        "#load model"
      ],
      "metadata": {
        "id": "od-ZSNm5PoGy"
      }
    },
    {
      "cell_type": "code",
      "source": [
        "import sys\n",
        "sys.path.append('/content/drive/MyDrive/cut_panoramic/Model/GG3_2e-5_250.h5')\n",
        "\n",
        "from efficientnet.layers import Swish, DropConnect\n",
        "from efficientnet.model import ConvKernalInitializer\n",
        "from tensorflow.keras.utils import get_custom_objects\n",
        "\n",
        "get_custom_objects().update({\n",
        "    'ConvKernalInitializer': ConvKernalInitializer,\n",
        "    'Swish': Swish,\n",
        "    'DropConnect':DropConnect\n",
        "})"
      ],
      "metadata": {
        "id": "n5iPL5MNPkhE"
      },
      "execution_count": 24,
      "outputs": []
    },
    {
      "cell_type": "code",
      "source": [
        "#load model \n",
        "from tensorflow.keras.models import load_model\n",
        "model = load_model('/content/drive/MyDrive/cut_panoramic/Model/GG3_2e-5_250.h5')\n",
        "height = width = model.input_shape[1]"
      ],
      "metadata": {
        "id": "plYz49xMPkly"
      },
      "execution_count": 25,
      "outputs": []
    },
    {
      "cell_type": "code",
      "source": [
        "model.summary()"
      ],
      "metadata": {
        "colab": {
          "base_uri": "https://localhost:8080/"
        },
        "id": "z6IOPBflFbvc",
        "outputId": "7df00ea8-ebd7-4208-d5e4-a33bf1019123"
      },
      "execution_count": 26,
      "outputs": [
        {
          "output_type": "stream",
          "name": "stdout",
          "text": [
            "Model: \"sequential\"\n",
            "_________________________________________________________________\n",
            " Layer (type)                Output Shape              Param #   \n",
            "=================================================================\n",
            " efficientnet-b0 (Functional  (None, 5, 5, 1280)       4049564   \n",
            " )                                                               \n",
            "                                                                 \n",
            " gap (GlobalMaxPooling2D)    (None, 1280)              0         \n",
            "                                                                 \n",
            " dropout_out (Dropout)       (None, 1280)              0         \n",
            "                                                                 \n",
            " fc_out (Dense)              (None, 2)                 2562      \n",
            "                                                                 \n",
            "=================================================================\n",
            "Total params: 4,052,126\n",
            "Trainable params: 2,562\n",
            "Non-trainable params: 4,049,564\n",
            "_________________________________________________________________\n"
          ]
        }
      ]
    },
    {
      "cell_type": "code",
      "source": [
        "# Train ด้วย ImageDataGenerator ของ Keras ซึ่งจะเพิ่มข้อมูลเสริมระหว่างการฝึกเพื่อลดโอกาสเกิด overfitting\n",
        "#overfitting เกิดจากข้อมูลที่ซับซ้อนกันเกินไป\n",
        "from tensorflow.keras.preprocessing.image import ImageDataGenerator\n",
        "\n",
        "train_datagen = ImageDataGenerator(\n",
        "      rescale=1./255, #โมเดลส่วนใหญ่ต้องใช้ RGB ในช่วง 0–1\n",
        "      rotation_range=40,\n",
        "      width_shift_range=0.2,\n",
        "      height_shift_range=0.2,\n",
        "      shear_range=0.2,\n",
        "      zoom_range=0.2,\n",
        "      horizontal_flip=True,\n",
        "      fill_mode='nearest')\n",
        "\n",
        "# Note that the validation data should not be augmented!\n",
        "test_datagen = ImageDataGenerator(rescale=1./255)\n",
        "\n",
        "train_generator = train_datagen.flow_from_directory(\n",
        "        # This is the target directory #ไดเรกเป้าหมาย\n",
        "        train_dir,\n",
        "        # รูปภาพทั้งหมดจะถูกปรับขนาดตามความสูงและความกว้างของเป้าหมาย\n",
        "        target_size=(height, width),\n",
        "        batch_size=batch_size,\n",
        "        # Since we use categorical_crossentropy loss, we need categorical labels\n",
        "        #เนื่องจากเราใช้ categorical_crossentropy loss เราจึงต้องมีป้ายกำกับตามหมวดหมู่\n",
        "        class_mode='categorical')\n",
        "\n",
        "validation_generator = test_datagen.flow_from_directory( #การดึงภาพจาก Directory มาเข้าโมเดล \n",
        "        validation_dir,\n",
        "        target_size=(height, width),\n",
        "        batch_size=batch_size,\n",
        "        class_mode='categorical')"
      ],
      "metadata": {
        "colab": {
          "base_uri": "https://localhost:8080/"
        },
        "id": "KBMZbdr2Pgw4",
        "outputId": "c86fa232-de19-4a62-8af5-d619e4642dc5"
      },
      "execution_count": 27,
      "outputs": [
        {
          "output_type": "stream",
          "name": "stdout",
          "text": [
            "Found 2850 images belonging to 2 classes.\n",
            "Found 950 images belonging to 2 classes.\n"
          ]
        }
      ]
    },
    {
      "cell_type": "code",
      "source": [
        "# multiply_16\n",
        "# set 'multiply_16' and following layers trainable\n",
        "model.trainable = True\n",
        "\n",
        "set_trainable = False\n",
        "for layer in conv_base.layers:\n",
        "    if layer.name == 'multiply_16':\n",
        "        set_trainable = True\n",
        "    if set_trainable:\n",
        "        layer.trainable = True\n",
        "    else:\n",
        "        layer.trainable = False  "
      ],
      "metadata": {
        "id": "A0yv7vmgGhSI"
      },
      "execution_count": 28,
      "outputs": []
    },
    {
      "cell_type": "code",
      "source": [
        "model.summary()"
      ],
      "metadata": {
        "colab": {
          "base_uri": "https://localhost:8080/"
        },
        "id": "lJReTlOCGkRE",
        "outputId": "14de81e0-68e7-42a4-9a91-385e6b9020b2"
      },
      "execution_count": 29,
      "outputs": [
        {
          "output_type": "stream",
          "name": "stdout",
          "text": [
            "Model: \"sequential\"\n",
            "_________________________________________________________________\n",
            " Layer (type)                Output Shape              Param #   \n",
            "=================================================================\n",
            " efficientnet-b0 (Functional  (None, 5, 5, 1280)       4049564   \n",
            " )                                                               \n",
            "                                                                 \n",
            " gap (GlobalMaxPooling2D)    (None, 1280)              0         \n",
            "                                                                 \n",
            " dropout_out (Dropout)       (None, 1280)              0         \n",
            "                                                                 \n",
            " fc_out (Dense)              (None, 2)                 2562      \n",
            "                                                                 \n",
            "=================================================================\n",
            "Total params: 4,052,126\n",
            "Trainable params: 4,010,110\n",
            "Non-trainable params: 42,016\n",
            "_________________________________________________________________\n"
          ]
        }
      ]
    },
    {
      "cell_type": "code",
      "source": [
        "history = model.fit_generator(\n",
        "      train_generator,\n",
        "      steps_per_epoch= NUM_TRAIN //batch_size,\n",
        "      epochs=epochs,\n",
        "      validation_data=validation_generator,\n",
        "      validation_steps= NUM_TEST //batch_size,\n",
        "      verbose=1,\n",
        "      use_multiprocessing=True,\n",
        "      workers=4)"
      ],
      "metadata": {
        "colab": {
          "base_uri": "https://localhost:8080/"
        },
        "id": "C9Cf1dwyP1PD",
        "outputId": "a61ff2df-aa25-4195-ddea-3d8f19bef03b"
      },
      "execution_count": 30,
      "outputs": [
        {
          "output_type": "stream",
          "name": "stderr",
          "text": [
            "<ipython-input-30-caa7b37242a8>:1: UserWarning: `Model.fit_generator` is deprecated and will be removed in a future version. Please use `Model.fit`, which supports generators.\n",
            "  history = model.fit_generator(\n"
          ]
        },
        {
          "output_type": "stream",
          "name": "stdout",
          "text": [
            "Epoch 1/250\n",
            "178/178 [==============================] - 30s 149ms/step - loss: 0.6036 - acc: 0.6725 - val_loss: 0.5557 - val_acc: 0.7161\n",
            "Epoch 2/250\n",
            "178/178 [==============================] - 25s 136ms/step - loss: 0.6052 - acc: 0.6817 - val_loss: 0.5591 - val_acc: 0.7119\n",
            "Epoch 3/250\n",
            "178/178 [==============================] - 25s 136ms/step - loss: 0.5935 - acc: 0.6944 - val_loss: 0.5583 - val_acc: 0.7172\n",
            "Epoch 4/250\n",
            "178/178 [==============================] - 25s 135ms/step - loss: 0.6013 - acc: 0.6807 - val_loss: 0.5488 - val_acc: 0.7193\n",
            "Epoch 5/250\n",
            "178/178 [==============================] - 25s 136ms/step - loss: 0.6008 - acc: 0.6881 - val_loss: 0.5411 - val_acc: 0.7214\n",
            "Epoch 6/250\n",
            "178/178 [==============================] - 26s 143ms/step - loss: 0.6078 - acc: 0.6701 - val_loss: 0.5411 - val_acc: 0.7235\n",
            "Epoch 7/250\n",
            "178/178 [==============================] - 25s 140ms/step - loss: 0.6011 - acc: 0.6905 - val_loss: 0.5512 - val_acc: 0.7203\n",
            "Epoch 8/250\n",
            "178/178 [==============================] - 25s 140ms/step - loss: 0.6077 - acc: 0.6768 - val_loss: 0.5429 - val_acc: 0.7246\n",
            "Epoch 9/250\n",
            "178/178 [==============================] - 25s 136ms/step - loss: 0.6006 - acc: 0.6814 - val_loss: 0.5517 - val_acc: 0.7203\n",
            "Epoch 10/250\n",
            "178/178 [==============================] - 24s 135ms/step - loss: 0.6074 - acc: 0.6757 - val_loss: 0.5453 - val_acc: 0.7193\n",
            "Epoch 11/250\n",
            "178/178 [==============================] - 25s 135ms/step - loss: 0.6023 - acc: 0.6838 - val_loss: 0.5574 - val_acc: 0.7172\n",
            "Epoch 12/250\n",
            "178/178 [==============================] - 26s 141ms/step - loss: 0.5967 - acc: 0.6842 - val_loss: 0.5505 - val_acc: 0.7172\n",
            "Epoch 13/250\n",
            "178/178 [==============================] - 25s 136ms/step - loss: 0.5911 - acc: 0.6867 - val_loss: 0.5462 - val_acc: 0.7203\n",
            "Epoch 14/250\n",
            "178/178 [==============================] - 25s 141ms/step - loss: 0.5793 - acc: 0.6958 - val_loss: 0.5723 - val_acc: 0.7119\n",
            "Epoch 15/250\n",
            "178/178 [==============================] - 24s 132ms/step - loss: 0.5831 - acc: 0.6912 - val_loss: 0.5499 - val_acc: 0.7225\n",
            "Epoch 16/250\n",
            "178/178 [==============================] - 25s 135ms/step - loss: 0.6119 - acc: 0.6761 - val_loss: 0.5445 - val_acc: 0.7193\n",
            "Epoch 17/250\n",
            "178/178 [==============================] - 25s 140ms/step - loss: 0.6091 - acc: 0.6718 - val_loss: 0.5474 - val_acc: 0.7193\n",
            "Epoch 18/250\n",
            "178/178 [==============================] - 25s 139ms/step - loss: 0.5928 - acc: 0.6916 - val_loss: 0.5501 - val_acc: 0.7214\n",
            "Epoch 19/250\n",
            "178/178 [==============================] - 24s 135ms/step - loss: 0.6019 - acc: 0.6898 - val_loss: 0.5503 - val_acc: 0.7225\n",
            "Epoch 20/250\n",
            "178/178 [==============================] - 24s 135ms/step - loss: 0.5829 - acc: 0.6927 - val_loss: 0.5449 - val_acc: 0.7203\n",
            "Epoch 21/250\n",
            "178/178 [==============================] - 25s 137ms/step - loss: 0.5926 - acc: 0.6835 - val_loss: 0.5611 - val_acc: 0.7193\n",
            "Epoch 22/250\n",
            "178/178 [==============================] - 22s 121ms/step - loss: 0.5954 - acc: 0.6821 - val_loss: 0.5602 - val_acc: 0.7119\n",
            "Epoch 23/250\n",
            "178/178 [==============================] - 25s 139ms/step - loss: 0.5897 - acc: 0.6912 - val_loss: 0.5639 - val_acc: 0.7140\n",
            "Epoch 24/250\n",
            "178/178 [==============================] - 24s 135ms/step - loss: 0.6099 - acc: 0.6821 - val_loss: 0.5607 - val_acc: 0.7140\n",
            "Epoch 25/250\n",
            "178/178 [==============================] - 25s 137ms/step - loss: 0.6001 - acc: 0.6856 - val_loss: 0.5475 - val_acc: 0.7203\n",
            "Epoch 26/250\n",
            "178/178 [==============================] - 24s 134ms/step - loss: 0.5899 - acc: 0.6849 - val_loss: 0.5375 - val_acc: 0.7225\n",
            "Epoch 27/250\n",
            "178/178 [==============================] - 24s 135ms/step - loss: 0.6024 - acc: 0.6793 - val_loss: 0.5525 - val_acc: 0.7225\n",
            "Epoch 28/250\n",
            "178/178 [==============================] - 20s 109ms/step - loss: 0.6010 - acc: 0.6810 - val_loss: 0.5521 - val_acc: 0.7225\n",
            "Epoch 29/250\n",
            "178/178 [==============================] - 22s 119ms/step - loss: 0.5944 - acc: 0.6796 - val_loss: 0.5494 - val_acc: 0.7203\n",
            "Epoch 30/250\n",
            "178/178 [==============================] - 24s 133ms/step - loss: 0.5860 - acc: 0.6983 - val_loss: 0.5653 - val_acc: 0.7119\n",
            "Epoch 31/250\n",
            "178/178 [==============================] - 25s 137ms/step - loss: 0.5941 - acc: 0.6849 - val_loss: 0.5572 - val_acc: 0.7182\n",
            "Epoch 32/250\n",
            "178/178 [==============================] - 25s 137ms/step - loss: 0.6045 - acc: 0.6669 - val_loss: 0.5581 - val_acc: 0.7203\n",
            "Epoch 33/250\n",
            "178/178 [==============================] - 20s 109ms/step - loss: 0.5972 - acc: 0.6800 - val_loss: 0.5388 - val_acc: 0.7267\n",
            "Epoch 34/250\n",
            "178/178 [==============================] - 25s 138ms/step - loss: 0.6071 - acc: 0.6729 - val_loss: 0.5613 - val_acc: 0.7172\n",
            "Epoch 35/250\n",
            "178/178 [==============================] - 25s 137ms/step - loss: 0.6080 - acc: 0.6803 - val_loss: 0.5489 - val_acc: 0.7193\n",
            "Epoch 36/250\n",
            "178/178 [==============================] - 24s 134ms/step - loss: 0.5851 - acc: 0.6793 - val_loss: 0.5484 - val_acc: 0.7214\n",
            "Epoch 37/250\n",
            "178/178 [==============================] - 25s 138ms/step - loss: 0.6092 - acc: 0.6687 - val_loss: 0.5529 - val_acc: 0.7182\n",
            "Epoch 38/250\n",
            "178/178 [==============================] - 24s 134ms/step - loss: 0.5949 - acc: 0.6972 - val_loss: 0.5437 - val_acc: 0.7193\n",
            "Epoch 39/250\n",
            "178/178 [==============================] - 25s 137ms/step - loss: 0.6023 - acc: 0.6764 - val_loss: 0.5480 - val_acc: 0.7267\n",
            "Epoch 40/250\n",
            "178/178 [==============================] - 25s 138ms/step - loss: 0.5990 - acc: 0.6867 - val_loss: 0.5602 - val_acc: 0.7193\n",
            "Epoch 41/250\n",
            "178/178 [==============================] - 25s 136ms/step - loss: 0.6020 - acc: 0.6828 - val_loss: 0.5609 - val_acc: 0.7172\n",
            "Epoch 42/250\n",
            "178/178 [==============================] - 25s 136ms/step - loss: 0.5949 - acc: 0.6867 - val_loss: 0.5388 - val_acc: 0.7278\n",
            "Epoch 43/250\n",
            "178/178 [==============================] - 21s 114ms/step - loss: 0.6033 - acc: 0.6711 - val_loss: 0.5663 - val_acc: 0.7129\n",
            "Epoch 44/250\n",
            "178/178 [==============================] - 25s 137ms/step - loss: 0.5986 - acc: 0.6722 - val_loss: 0.5524 - val_acc: 0.7214\n",
            "Epoch 45/250\n",
            "178/178 [==============================] - 25s 138ms/step - loss: 0.6045 - acc: 0.6824 - val_loss: 0.5842 - val_acc: 0.7055\n",
            "Epoch 46/250\n",
            "178/178 [==============================] - 25s 136ms/step - loss: 0.5924 - acc: 0.6891 - val_loss: 0.5629 - val_acc: 0.7129\n",
            "Epoch 47/250\n",
            "178/178 [==============================] - 25s 137ms/step - loss: 0.5933 - acc: 0.6863 - val_loss: 0.5466 - val_acc: 0.7256\n",
            "Epoch 48/250\n",
            "178/178 [==============================] - 26s 142ms/step - loss: 0.5935 - acc: 0.6927 - val_loss: 0.5772 - val_acc: 0.7119\n",
            "Epoch 49/250\n",
            "178/178 [==============================] - 26s 141ms/step - loss: 0.5883 - acc: 0.6870 - val_loss: 0.5774 - val_acc: 0.7076\n",
            "Epoch 50/250\n",
            "178/178 [==============================] - 25s 137ms/step - loss: 0.5906 - acc: 0.6757 - val_loss: 0.5510 - val_acc: 0.7214\n",
            "Epoch 51/250\n",
            "178/178 [==============================] - 25s 137ms/step - loss: 0.5899 - acc: 0.6845 - val_loss: 0.5512 - val_acc: 0.7235\n",
            "Epoch 52/250\n",
            "178/178 [==============================] - 25s 137ms/step - loss: 0.5939 - acc: 0.7018 - val_loss: 0.5451 - val_acc: 0.7299\n",
            "Epoch 53/250\n",
            "178/178 [==============================] - 25s 137ms/step - loss: 0.6031 - acc: 0.6690 - val_loss: 0.5593 - val_acc: 0.7182\n",
            "Epoch 54/250\n",
            "178/178 [==============================] - 25s 136ms/step - loss: 0.5921 - acc: 0.6909 - val_loss: 0.5452 - val_acc: 0.7161\n",
            "Epoch 55/250\n",
            "178/178 [==============================] - 25s 136ms/step - loss: 0.5824 - acc: 0.7043 - val_loss: 0.5577 - val_acc: 0.7140\n",
            "Epoch 56/250\n",
            "178/178 [==============================] - 25s 137ms/step - loss: 0.5959 - acc: 0.6874 - val_loss: 0.5522 - val_acc: 0.7214\n",
            "Epoch 57/250\n",
            "178/178 [==============================] - 25s 136ms/step - loss: 0.6010 - acc: 0.6920 - val_loss: 0.5692 - val_acc: 0.7097\n",
            "Epoch 58/250\n",
            "178/178 [==============================] - 25s 137ms/step - loss: 0.5963 - acc: 0.6845 - val_loss: 0.5610 - val_acc: 0.7182\n",
            "Epoch 59/250\n",
            "178/178 [==============================] - 27s 147ms/step - loss: 0.6083 - acc: 0.6750 - val_loss: 0.5430 - val_acc: 0.7225\n",
            "Epoch 60/250\n",
            "178/178 [==============================] - 25s 140ms/step - loss: 0.5977 - acc: 0.6891 - val_loss: 0.5684 - val_acc: 0.7076\n",
            "Epoch 61/250\n",
            "178/178 [==============================] - 25s 135ms/step - loss: 0.6007 - acc: 0.6842 - val_loss: 0.5592 - val_acc: 0.7150\n",
            "Epoch 62/250\n",
            "178/178 [==============================] - 24s 135ms/step - loss: 0.5968 - acc: 0.6845 - val_loss: 0.5486 - val_acc: 0.7225\n",
            "Epoch 63/250\n",
            "178/178 [==============================] - 25s 135ms/step - loss: 0.6038 - acc: 0.6768 - val_loss: 0.5645 - val_acc: 0.7129\n",
            "Epoch 64/250\n",
            "178/178 [==============================] - 25s 138ms/step - loss: 0.5992 - acc: 0.6800 - val_loss: 0.5653 - val_acc: 0.7119\n",
            "Epoch 65/250\n",
            "178/178 [==============================] - 25s 137ms/step - loss: 0.6037 - acc: 0.6757 - val_loss: 0.5510 - val_acc: 0.7172\n",
            "Epoch 66/250\n",
            "178/178 [==============================] - 24s 134ms/step - loss: 0.6031 - acc: 0.6835 - val_loss: 0.5623 - val_acc: 0.7108\n",
            "Epoch 67/250\n",
            "178/178 [==============================] - 25s 139ms/step - loss: 0.5864 - acc: 0.6934 - val_loss: 0.5454 - val_acc: 0.7235\n",
            "Epoch 68/250\n",
            "178/178 [==============================] - 24s 133ms/step - loss: 0.6107 - acc: 0.6736 - val_loss: 0.5408 - val_acc: 0.7288\n",
            "Epoch 69/250\n",
            "178/178 [==============================] - 25s 137ms/step - loss: 0.5976 - acc: 0.6768 - val_loss: 0.5423 - val_acc: 0.7278\n",
            "Epoch 70/250\n",
            "178/178 [==============================] - 20s 112ms/step - loss: 0.5947 - acc: 0.6870 - val_loss: 0.5428 - val_acc: 0.7225\n",
            "Epoch 71/250\n",
            "178/178 [==============================] - 20s 107ms/step - loss: 0.6112 - acc: 0.6771 - val_loss: 0.5493 - val_acc: 0.7193\n",
            "Epoch 72/250\n",
            "178/178 [==============================] - 24s 133ms/step - loss: 0.5872 - acc: 0.6860 - val_loss: 0.5427 - val_acc: 0.7246\n",
            "Epoch 73/250\n",
            "178/178 [==============================] - 24s 132ms/step - loss: 0.6104 - acc: 0.6718 - val_loss: 0.5349 - val_acc: 0.7267\n",
            "Epoch 74/250\n",
            "178/178 [==============================] - 24s 133ms/step - loss: 0.5946 - acc: 0.6789 - val_loss: 0.5357 - val_acc: 0.7256\n",
            "Epoch 75/250\n",
            "178/178 [==============================] - 26s 145ms/step - loss: 0.5922 - acc: 0.6895 - val_loss: 0.5381 - val_acc: 0.7235\n",
            "Epoch 76/250\n",
            "178/178 [==============================] - 25s 136ms/step - loss: 0.5945 - acc: 0.6920 - val_loss: 0.5573 - val_acc: 0.7172\n",
            "Epoch 77/250\n",
            "178/178 [==============================] - 24s 132ms/step - loss: 0.5936 - acc: 0.6895 - val_loss: 0.5451 - val_acc: 0.7214\n",
            "Epoch 78/250\n",
            "178/178 [==============================] - 24s 132ms/step - loss: 0.6020 - acc: 0.6867 - val_loss: 0.5677 - val_acc: 0.7182\n",
            "Epoch 79/250\n",
            "178/178 [==============================] - 24s 134ms/step - loss: 0.5890 - acc: 0.6881 - val_loss: 0.5640 - val_acc: 0.7119\n",
            "Epoch 80/250\n",
            "178/178 [==============================] - 25s 138ms/step - loss: 0.5960 - acc: 0.6828 - val_loss: 0.5627 - val_acc: 0.7140\n",
            "Epoch 81/250\n",
            "178/178 [==============================] - 24s 132ms/step - loss: 0.5880 - acc: 0.6948 - val_loss: 0.5715 - val_acc: 0.7172\n",
            "Epoch 82/250\n",
            "178/178 [==============================] - 20s 112ms/step - loss: 0.6015 - acc: 0.6817 - val_loss: 0.5505 - val_acc: 0.7203\n",
            "Epoch 83/250\n",
            "178/178 [==============================] - 26s 145ms/step - loss: 0.6088 - acc: 0.6736 - val_loss: 0.5587 - val_acc: 0.7140\n",
            "Epoch 84/250\n",
            "178/178 [==============================] - 24s 134ms/step - loss: 0.5909 - acc: 0.6934 - val_loss: 0.5579 - val_acc: 0.7097\n",
            "Epoch 85/250\n",
            "178/178 [==============================] - 20s 112ms/step - loss: 0.6041 - acc: 0.6870 - val_loss: 0.5668 - val_acc: 0.7150\n",
            "Epoch 86/250\n",
            "178/178 [==============================] - 25s 138ms/step - loss: 0.5933 - acc: 0.6817 - val_loss: 0.5495 - val_acc: 0.7214\n",
            "Epoch 87/250\n",
            "178/178 [==============================] - 25s 137ms/step - loss: 0.6019 - acc: 0.6778 - val_loss: 0.5832 - val_acc: 0.7023\n",
            "Epoch 88/250\n",
            "178/178 [==============================] - 24s 133ms/step - loss: 0.6050 - acc: 0.6849 - val_loss: 0.5439 - val_acc: 0.7193\n",
            "Epoch 89/250\n",
            "178/178 [==============================] - 24s 134ms/step - loss: 0.6021 - acc: 0.6853 - val_loss: 0.5457 - val_acc: 0.7203\n",
            "Epoch 90/250\n",
            "178/178 [==============================] - 25s 135ms/step - loss: 0.6052 - acc: 0.6898 - val_loss: 0.5547 - val_acc: 0.7161\n",
            "Epoch 91/250\n",
            "178/178 [==============================] - 26s 144ms/step - loss: 0.5882 - acc: 0.6821 - val_loss: 0.5513 - val_acc: 0.7214\n",
            "Epoch 92/250\n",
            "178/178 [==============================] - 25s 138ms/step - loss: 0.5942 - acc: 0.6814 - val_loss: 0.5611 - val_acc: 0.7119\n",
            "Epoch 93/250\n",
            "178/178 [==============================] - 24s 135ms/step - loss: 0.5994 - acc: 0.6884 - val_loss: 0.5553 - val_acc: 0.7150\n",
            "Epoch 94/250\n",
            "178/178 [==============================] - 20s 108ms/step - loss: 0.5993 - acc: 0.6838 - val_loss: 0.5539 - val_acc: 0.7140\n",
            "Epoch 95/250\n",
            "178/178 [==============================] - 25s 139ms/step - loss: 0.6013 - acc: 0.6733 - val_loss: 0.5714 - val_acc: 0.7150\n",
            "Epoch 96/250\n",
            "178/178 [==============================] - 24s 133ms/step - loss: 0.5844 - acc: 0.7029 - val_loss: 0.5606 - val_acc: 0.7097\n",
            "Epoch 97/250\n",
            "178/178 [==============================] - 24s 133ms/step - loss: 0.5980 - acc: 0.6853 - val_loss: 0.5398 - val_acc: 0.7256\n",
            "Epoch 98/250\n",
            "178/178 [==============================] - 25s 140ms/step - loss: 0.5878 - acc: 0.6972 - val_loss: 0.5591 - val_acc: 0.7097\n",
            "Epoch 99/250\n",
            "178/178 [==============================] - 24s 133ms/step - loss: 0.5870 - acc: 0.6930 - val_loss: 0.5562 - val_acc: 0.7161\n",
            "Epoch 100/250\n",
            "178/178 [==============================] - 24s 133ms/step - loss: 0.5917 - acc: 0.6923 - val_loss: 0.5633 - val_acc: 0.7097\n",
            "Epoch 101/250\n",
            "178/178 [==============================] - 25s 136ms/step - loss: 0.5914 - acc: 0.6927 - val_loss: 0.5599 - val_acc: 0.7129\n",
            "Epoch 102/250\n",
            "178/178 [==============================] - 25s 136ms/step - loss: 0.5997 - acc: 0.6771 - val_loss: 0.5570 - val_acc: 0.7150\n",
            "Epoch 103/250\n",
            "178/178 [==============================] - 24s 133ms/step - loss: 0.5970 - acc: 0.6764 - val_loss: 0.5606 - val_acc: 0.7119\n",
            "Epoch 104/250\n",
            "178/178 [==============================] - 24s 134ms/step - loss: 0.5988 - acc: 0.6817 - val_loss: 0.5605 - val_acc: 0.7108\n",
            "Epoch 105/250\n",
            "178/178 [==============================] - 25s 134ms/step - loss: 0.5940 - acc: 0.6856 - val_loss: 0.5501 - val_acc: 0.7193\n",
            "Epoch 106/250\n",
            "178/178 [==============================] - 26s 144ms/step - loss: 0.6015 - acc: 0.6909 - val_loss: 0.5394 - val_acc: 0.7267\n",
            "Epoch 107/250\n",
            "178/178 [==============================] - 24s 134ms/step - loss: 0.5961 - acc: 0.6965 - val_loss: 0.5458 - val_acc: 0.7182\n",
            "Epoch 108/250\n",
            "178/178 [==============================] - 24s 134ms/step - loss: 0.5942 - acc: 0.6891 - val_loss: 0.5491 - val_acc: 0.7203\n",
            "Epoch 109/250\n",
            "178/178 [==============================] - 24s 133ms/step - loss: 0.6096 - acc: 0.6750 - val_loss: 0.5502 - val_acc: 0.7193\n",
            "Epoch 110/250\n",
            "178/178 [==============================] - 24s 133ms/step - loss: 0.6048 - acc: 0.6757 - val_loss: 0.5586 - val_acc: 0.7119\n",
            "Epoch 111/250\n",
            "178/178 [==============================] - 25s 139ms/step - loss: 0.6070 - acc: 0.6810 - val_loss: 0.5556 - val_acc: 0.7161\n",
            "Epoch 112/250\n",
            "178/178 [==============================] - 24s 133ms/step - loss: 0.5966 - acc: 0.6845 - val_loss: 0.5507 - val_acc: 0.7214\n",
            "Epoch 113/250\n",
            "178/178 [==============================] - 24s 133ms/step - loss: 0.6078 - acc: 0.6849 - val_loss: 0.5514 - val_acc: 0.7172\n",
            "Epoch 114/250\n",
            "178/178 [==============================] - 25s 138ms/step - loss: 0.5960 - acc: 0.6807 - val_loss: 0.5599 - val_acc: 0.7129\n",
            "Epoch 115/250\n",
            "178/178 [==============================] - 24s 132ms/step - loss: 0.5912 - acc: 0.6881 - val_loss: 0.5391 - val_acc: 0.7256\n",
            "Epoch 116/250\n",
            "178/178 [==============================] - 24s 133ms/step - loss: 0.5966 - acc: 0.6867 - val_loss: 0.5494 - val_acc: 0.7193\n",
            "Epoch 117/250\n",
            "178/178 [==============================] - 25s 140ms/step - loss: 0.6080 - acc: 0.6796 - val_loss: 0.5621 - val_acc: 0.7108\n",
            "Epoch 118/250\n",
            "178/178 [==============================] - 25s 135ms/step - loss: 0.5905 - acc: 0.6898 - val_loss: 0.5736 - val_acc: 0.7087\n",
            "Epoch 119/250\n",
            "178/178 [==============================] - 24s 133ms/step - loss: 0.5944 - acc: 0.6902 - val_loss: 0.5556 - val_acc: 0.7150\n",
            "Epoch 120/250\n",
            "178/178 [==============================] - 24s 133ms/step - loss: 0.5865 - acc: 0.6962 - val_loss: 0.5391 - val_acc: 0.7235\n",
            "Epoch 121/250\n",
            "178/178 [==============================] - 26s 141ms/step - loss: 0.6004 - acc: 0.6683 - val_loss: 0.5568 - val_acc: 0.7140\n",
            "Epoch 122/250\n",
            "178/178 [==============================] - 25s 139ms/step - loss: 0.5992 - acc: 0.6853 - val_loss: 0.5405 - val_acc: 0.7256\n",
            "Epoch 123/250\n",
            "178/178 [==============================] - 24s 135ms/step - loss: 0.5893 - acc: 0.6856 - val_loss: 0.5570 - val_acc: 0.7193\n",
            "Epoch 124/250\n",
            "178/178 [==============================] - 24s 134ms/step - loss: 0.5982 - acc: 0.6821 - val_loss: 0.5580 - val_acc: 0.7161\n",
            "Epoch 125/250\n",
            "178/178 [==============================] - 25s 137ms/step - loss: 0.6025 - acc: 0.6718 - val_loss: 0.5445 - val_acc: 0.7214\n",
            "Epoch 126/250\n",
            "178/178 [==============================] - 25s 136ms/step - loss: 0.6005 - acc: 0.6743 - val_loss: 0.5642 - val_acc: 0.7097\n",
            "Epoch 127/250\n",
            "178/178 [==============================] - 25s 141ms/step - loss: 0.5859 - acc: 0.6923 - val_loss: 0.5496 - val_acc: 0.7193\n",
            "Epoch 128/250\n",
            "178/178 [==============================] - 24s 135ms/step - loss: 0.5887 - acc: 0.7015 - val_loss: 0.5677 - val_acc: 0.7119\n",
            "Epoch 129/250\n",
            "178/178 [==============================] - 24s 134ms/step - loss: 0.6076 - acc: 0.6658 - val_loss: 0.5562 - val_acc: 0.7172\n",
            "Epoch 130/250\n",
            "178/178 [==============================] - 24s 135ms/step - loss: 0.5915 - acc: 0.6860 - val_loss: 0.5547 - val_acc: 0.7161\n",
            "Epoch 131/250\n",
            "178/178 [==============================] - 25s 136ms/step - loss: 0.6051 - acc: 0.6796 - val_loss: 0.5523 - val_acc: 0.7182\n",
            "Epoch 132/250\n",
            "178/178 [==============================] - 25s 139ms/step - loss: 0.5923 - acc: 0.6916 - val_loss: 0.5620 - val_acc: 0.7108\n",
            "Epoch 133/250\n",
            "178/178 [==============================] - 24s 134ms/step - loss: 0.6072 - acc: 0.6775 - val_loss: 0.5541 - val_acc: 0.7172\n",
            "Epoch 134/250\n",
            "178/178 [==============================] - 24s 134ms/step - loss: 0.5894 - acc: 0.6860 - val_loss: 0.5477 - val_acc: 0.7246\n",
            "Epoch 135/250\n",
            "178/178 [==============================] - 25s 139ms/step - loss: 0.6088 - acc: 0.6789 - val_loss: 0.5505 - val_acc: 0.7193\n",
            "Epoch 136/250\n",
            "178/178 [==============================] - 25s 136ms/step - loss: 0.5938 - acc: 0.6849 - val_loss: 0.5504 - val_acc: 0.7203\n",
            "Epoch 137/250\n",
            "178/178 [==============================] - 24s 133ms/step - loss: 0.5903 - acc: 0.7011 - val_loss: 0.5538 - val_acc: 0.7161\n",
            "Epoch 138/250\n",
            "178/178 [==============================] - 25s 135ms/step - loss: 0.5939 - acc: 0.6768 - val_loss: 0.5604 - val_acc: 0.7097\n",
            "Epoch 139/250\n",
            "178/178 [==============================] - 25s 139ms/step - loss: 0.6029 - acc: 0.6814 - val_loss: 0.5585 - val_acc: 0.7140\n",
            "Epoch 140/250\n",
            "178/178 [==============================] - 24s 135ms/step - loss: 0.5951 - acc: 0.6775 - val_loss: 0.5593 - val_acc: 0.7108\n",
            "Epoch 141/250\n",
            "178/178 [==============================] - 25s 136ms/step - loss: 0.6003 - acc: 0.6821 - val_loss: 0.5465 - val_acc: 0.7225\n",
            "Epoch 142/250\n",
            "178/178 [==============================] - 24s 135ms/step - loss: 0.5869 - acc: 0.6972 - val_loss: 0.5560 - val_acc: 0.7150\n",
            "Epoch 143/250\n",
            "178/178 [==============================] - 26s 145ms/step - loss: 0.5853 - acc: 0.6895 - val_loss: 0.5523 - val_acc: 0.7150\n",
            "Epoch 144/250\n",
            "178/178 [==============================] - 25s 138ms/step - loss: 0.6008 - acc: 0.6810 - val_loss: 0.5526 - val_acc: 0.7161\n",
            "Epoch 145/250\n",
            "178/178 [==============================] - 25s 136ms/step - loss: 0.6115 - acc: 0.6725 - val_loss: 0.5444 - val_acc: 0.7235\n",
            "Epoch 146/250\n",
            "178/178 [==============================] - 25s 136ms/step - loss: 0.5905 - acc: 0.7022 - val_loss: 0.5647 - val_acc: 0.7129\n",
            "Epoch 147/250\n",
            "178/178 [==============================] - 24s 135ms/step - loss: 0.5939 - acc: 0.6860 - val_loss: 0.5500 - val_acc: 0.7172\n",
            "Epoch 148/250\n",
            "178/178 [==============================] - 25s 136ms/step - loss: 0.5909 - acc: 0.6888 - val_loss: 0.5485 - val_acc: 0.7193\n",
            "Epoch 149/250\n",
            "178/178 [==============================] - 26s 143ms/step - loss: 0.6105 - acc: 0.6796 - val_loss: 0.5448 - val_acc: 0.7214\n",
            "Epoch 150/250\n",
            "178/178 [==============================] - 26s 143ms/step - loss: 0.5988 - acc: 0.6729 - val_loss: 0.5674 - val_acc: 0.7108\n",
            "Epoch 151/250\n",
            "178/178 [==============================] - 25s 136ms/step - loss: 0.5866 - acc: 0.6969 - val_loss: 0.5703 - val_acc: 0.7097\n",
            "Epoch 152/250\n",
            "178/178 [==============================] - 25s 137ms/step - loss: 0.6036 - acc: 0.6778 - val_loss: 0.5717 - val_acc: 0.7108\n",
            "Epoch 153/250\n",
            "178/178 [==============================] - 25s 137ms/step - loss: 0.6170 - acc: 0.6655 - val_loss: 0.5593 - val_acc: 0.7161\n",
            "Epoch 154/250\n",
            "178/178 [==============================] - 26s 142ms/step - loss: 0.5888 - acc: 0.6853 - val_loss: 0.5531 - val_acc: 0.7161\n",
            "Epoch 155/250\n",
            "178/178 [==============================] - 25s 138ms/step - loss: 0.5940 - acc: 0.6888 - val_loss: 0.5583 - val_acc: 0.7150\n",
            "Epoch 156/250\n",
            "178/178 [==============================] - 25s 136ms/step - loss: 0.5951 - acc: 0.6842 - val_loss: 0.5468 - val_acc: 0.7246\n",
            "Epoch 157/250\n",
            "178/178 [==============================] - 21s 115ms/step - loss: 0.5982 - acc: 0.6785 - val_loss: 0.5625 - val_acc: 0.7108\n",
            "Epoch 158/250\n",
            "178/178 [==============================] - 26s 146ms/step - loss: 0.5786 - acc: 0.6987 - val_loss: 0.5540 - val_acc: 0.7129\n",
            "Epoch 159/250\n",
            "178/178 [==============================] - 25s 136ms/step - loss: 0.5959 - acc: 0.6867 - val_loss: 0.5623 - val_acc: 0.7119\n",
            "Epoch 160/250\n",
            "178/178 [==============================] - 25s 135ms/step - loss: 0.6144 - acc: 0.6676 - val_loss: 0.5621 - val_acc: 0.7097\n",
            "Epoch 161/250\n",
            "178/178 [==============================] - 25s 137ms/step - loss: 0.5881 - acc: 0.6828 - val_loss: 0.5463 - val_acc: 0.7225\n",
            "Epoch 162/250\n",
            "178/178 [==============================] - 25s 136ms/step - loss: 0.5909 - acc: 0.6838 - val_loss: 0.5575 - val_acc: 0.7140\n",
            "Epoch 163/250\n",
            "178/178 [==============================] - 26s 141ms/step - loss: 0.5950 - acc: 0.6803 - val_loss: 0.5467 - val_acc: 0.7193\n",
            "Epoch 164/250\n",
            "178/178 [==============================] - 25s 136ms/step - loss: 0.5972 - acc: 0.6905 - val_loss: 0.5674 - val_acc: 0.7087\n",
            "Epoch 165/250\n",
            "178/178 [==============================] - 26s 142ms/step - loss: 0.5988 - acc: 0.6778 - val_loss: 0.5638 - val_acc: 0.7076\n",
            "Epoch 166/250\n",
            "178/178 [==============================] - 25s 137ms/step - loss: 0.5998 - acc: 0.6789 - val_loss: 0.5489 - val_acc: 0.7193\n",
            "Epoch 167/250\n",
            "178/178 [==============================] - 25s 136ms/step - loss: 0.5981 - acc: 0.6821 - val_loss: 0.5514 - val_acc: 0.7182\n",
            "Epoch 168/250\n",
            "178/178 [==============================] - 25s 135ms/step - loss: 0.5888 - acc: 0.6930 - val_loss: 0.5710 - val_acc: 0.7108\n",
            "Epoch 169/250\n",
            "178/178 [==============================] - 25s 136ms/step - loss: 0.5862 - acc: 0.6902 - val_loss: 0.5881 - val_acc: 0.6970\n",
            "Epoch 170/250\n",
            "178/178 [==============================] - 26s 141ms/step - loss: 0.6081 - acc: 0.6715 - val_loss: 0.5473 - val_acc: 0.7246\n",
            "Epoch 171/250\n",
            "178/178 [==============================] - 25s 140ms/step - loss: 0.6061 - acc: 0.6778 - val_loss: 0.5826 - val_acc: 0.7066\n",
            "Epoch 172/250\n",
            "178/178 [==============================] - 25s 136ms/step - loss: 0.5939 - acc: 0.6881 - val_loss: 0.5708 - val_acc: 0.7087\n",
            "Epoch 173/250\n",
            "178/178 [==============================] - 25s 135ms/step - loss: 0.5914 - acc: 0.6891 - val_loss: 0.5376 - val_acc: 0.7331\n",
            "Epoch 174/250\n",
            "178/178 [==============================] - 25s 137ms/step - loss: 0.5840 - acc: 0.6863 - val_loss: 0.5408 - val_acc: 0.7214\n",
            "Epoch 175/250\n",
            "178/178 [==============================] - 26s 140ms/step - loss: 0.5946 - acc: 0.6828 - val_loss: 0.5565 - val_acc: 0.7182\n",
            "Epoch 176/250\n",
            "178/178 [==============================] - 25s 139ms/step - loss: 0.5974 - acc: 0.6807 - val_loss: 0.5583 - val_acc: 0.7172\n",
            "Epoch 177/250\n",
            "178/178 [==============================] - 25s 136ms/step - loss: 0.6000 - acc: 0.6814 - val_loss: 0.5486 - val_acc: 0.7203\n",
            "Epoch 178/250\n",
            "178/178 [==============================] - 25s 137ms/step - loss: 0.6055 - acc: 0.6757 - val_loss: 0.5476 - val_acc: 0.7203\n",
            "Epoch 179/250\n",
            "178/178 [==============================] - 26s 142ms/step - loss: 0.5988 - acc: 0.6801 - val_loss: 0.5444 - val_acc: 0.7225\n",
            "Epoch 180/250\n",
            "178/178 [==============================] - 25s 137ms/step - loss: 0.5859 - acc: 0.6991 - val_loss: 0.5342 - val_acc: 0.7288\n",
            "Epoch 181/250\n",
            "178/178 [==============================] - 25s 135ms/step - loss: 0.6011 - acc: 0.6860 - val_loss: 0.5419 - val_acc: 0.7214\n",
            "Epoch 182/250\n",
            "178/178 [==============================] - 25s 137ms/step - loss: 0.5908 - acc: 0.6934 - val_loss: 0.5364 - val_acc: 0.7320\n",
            "Epoch 183/250\n",
            "178/178 [==============================] - 25s 139ms/step - loss: 0.5923 - acc: 0.6863 - val_loss: 0.5578 - val_acc: 0.7140\n",
            "Epoch 184/250\n",
            "178/178 [==============================] - 24s 134ms/step - loss: 0.5943 - acc: 0.6912 - val_loss: 0.5511 - val_acc: 0.7161\n",
            "Epoch 185/250\n",
            "178/178 [==============================] - 26s 142ms/step - loss: 0.5916 - acc: 0.6881 - val_loss: 0.5433 - val_acc: 0.7235\n",
            "Epoch 186/250\n",
            "178/178 [==============================] - 25s 135ms/step - loss: 0.6080 - acc: 0.6747 - val_loss: 0.5486 - val_acc: 0.7172\n",
            "Epoch 187/250\n",
            "178/178 [==============================] - 25s 138ms/step - loss: 0.5900 - acc: 0.6912 - val_loss: 0.5478 - val_acc: 0.7214\n",
            "Epoch 188/250\n",
            "178/178 [==============================] - 26s 142ms/step - loss: 0.5985 - acc: 0.6800 - val_loss: 0.5524 - val_acc: 0.7182\n",
            "Epoch 189/250\n",
            "178/178 [==============================] - 25s 139ms/step - loss: 0.6060 - acc: 0.6891 - val_loss: 0.5410 - val_acc: 0.7246\n",
            "Epoch 190/250\n",
            "178/178 [==============================] - 25s 137ms/step - loss: 0.5956 - acc: 0.6824 - val_loss: 0.5451 - val_acc: 0.7225\n",
            "Epoch 191/250\n",
            "178/178 [==============================] - 25s 135ms/step - loss: 0.5863 - acc: 0.6955 - val_loss: 0.5403 - val_acc: 0.7288\n",
            "Epoch 192/250\n",
            "178/178 [==============================] - 26s 140ms/step - loss: 0.5935 - acc: 0.6845 - val_loss: 0.5670 - val_acc: 0.7076\n",
            "Epoch 193/250\n",
            "178/178 [==============================] - 25s 138ms/step - loss: 0.5991 - acc: 0.6853 - val_loss: 0.5495 - val_acc: 0.7225\n",
            "Epoch 194/250\n",
            "178/178 [==============================] - 26s 143ms/step - loss: 0.6048 - acc: 0.6733 - val_loss: 0.5407 - val_acc: 0.7288\n",
            "Epoch 195/250\n",
            "178/178 [==============================] - 25s 136ms/step - loss: 0.5948 - acc: 0.6867 - val_loss: 0.5428 - val_acc: 0.7214\n",
            "Epoch 196/250\n",
            "178/178 [==============================] - 21s 114ms/step - loss: 0.5966 - acc: 0.6750 - val_loss: 0.5455 - val_acc: 0.7235\n",
            "Epoch 197/250\n",
            "178/178 [==============================] - 21s 115ms/step - loss: 0.6021 - acc: 0.6810 - val_loss: 0.5483 - val_acc: 0.7246\n",
            "Epoch 198/250\n",
            "178/178 [==============================] - 25s 136ms/step - loss: 0.5969 - acc: 0.6860 - val_loss: 0.5599 - val_acc: 0.7119\n",
            "Epoch 199/250\n",
            "178/178 [==============================] - 25s 136ms/step - loss: 0.6026 - acc: 0.6768 - val_loss: 0.5494 - val_acc: 0.7203\n",
            "Epoch 200/250\n",
            "178/178 [==============================] - 22s 120ms/step - loss: 0.6064 - acc: 0.6838 - val_loss: 0.5644 - val_acc: 0.7066\n",
            "Epoch 201/250\n",
            "178/178 [==============================] - 25s 137ms/step - loss: 0.6041 - acc: 0.6807 - val_loss: 0.5558 - val_acc: 0.7214\n",
            "Epoch 202/250\n",
            "178/178 [==============================] - 26s 142ms/step - loss: 0.6024 - acc: 0.6761 - val_loss: 0.5601 - val_acc: 0.7119\n",
            "Epoch 203/250\n",
            "178/178 [==============================] - 25s 139ms/step - loss: 0.5810 - acc: 0.6972 - val_loss: 0.5801 - val_acc: 0.7076\n",
            "Epoch 204/250\n",
            "178/178 [==============================] - 24s 135ms/step - loss: 0.5970 - acc: 0.6793 - val_loss: 0.5465 - val_acc: 0.7235\n",
            "Epoch 205/250\n",
            "178/178 [==============================] - 25s 136ms/step - loss: 0.5964 - acc: 0.6842 - val_loss: 0.5702 - val_acc: 0.7108\n",
            "Epoch 206/250\n",
            "178/178 [==============================] - 26s 142ms/step - loss: 0.5933 - acc: 0.6916 - val_loss: 0.5587 - val_acc: 0.7129\n",
            "Epoch 207/250\n",
            "178/178 [==============================] - 25s 138ms/step - loss: 0.6085 - acc: 0.6729 - val_loss: 0.5535 - val_acc: 0.7182\n",
            "Epoch 208/250\n",
            "178/178 [==============================] - 26s 141ms/step - loss: 0.5905 - acc: 0.6874 - val_loss: 0.5403 - val_acc: 0.7246\n",
            "Epoch 209/250\n",
            "178/178 [==============================] - 25s 138ms/step - loss: 0.6053 - acc: 0.6807 - val_loss: 0.5544 - val_acc: 0.7193\n",
            "Epoch 210/250\n",
            "178/178 [==============================] - 25s 135ms/step - loss: 0.5897 - acc: 0.6902 - val_loss: 0.5650 - val_acc: 0.7076\n",
            "Epoch 211/250\n",
            "178/178 [==============================] - 25s 136ms/step - loss: 0.5994 - acc: 0.6828 - val_loss: 0.5421 - val_acc: 0.7267\n",
            "Epoch 212/250\n",
            "178/178 [==============================] - 25s 138ms/step - loss: 0.5955 - acc: 0.6849 - val_loss: 0.5519 - val_acc: 0.7172\n",
            "Epoch 213/250\n",
            "178/178 [==============================] - 27s 147ms/step - loss: 0.6035 - acc: 0.6775 - val_loss: 0.5645 - val_acc: 0.7108\n",
            "Epoch 214/250\n",
            "178/178 [==============================] - 25s 139ms/step - loss: 0.6081 - acc: 0.6800 - val_loss: 0.5450 - val_acc: 0.7214\n",
            "Epoch 215/250\n",
            "178/178 [==============================] - 25s 138ms/step - loss: 0.6030 - acc: 0.6824 - val_loss: 0.5419 - val_acc: 0.7288\n",
            "Epoch 216/250\n",
            "178/178 [==============================] - 25s 136ms/step - loss: 0.5887 - acc: 0.6934 - val_loss: 0.5391 - val_acc: 0.7309\n",
            "Epoch 217/250\n",
            "178/178 [==============================] - 25s 136ms/step - loss: 0.5865 - acc: 0.6845 - val_loss: 0.5603 - val_acc: 0.7119\n",
            "Epoch 218/250\n",
            "178/178 [==============================] - 25s 137ms/step - loss: 0.5977 - acc: 0.6930 - val_loss: 0.5679 - val_acc: 0.7087\n",
            "Epoch 219/250\n",
            "178/178 [==============================] - 25s 140ms/step - loss: 0.5941 - acc: 0.6895 - val_loss: 0.5507 - val_acc: 0.7193\n",
            "Epoch 220/250\n",
            "178/178 [==============================] - 26s 142ms/step - loss: 0.5946 - acc: 0.6764 - val_loss: 0.5489 - val_acc: 0.7203\n",
            "Epoch 221/250\n",
            "178/178 [==============================] - 25s 136ms/step - loss: 0.5977 - acc: 0.6796 - val_loss: 0.5459 - val_acc: 0.7256\n",
            "Epoch 222/250\n",
            "178/178 [==============================] - 24s 135ms/step - loss: 0.5999 - acc: 0.6895 - val_loss: 0.5544 - val_acc: 0.7172\n",
            "Epoch 223/250\n",
            "178/178 [==============================] - 25s 136ms/step - loss: 0.5926 - acc: 0.6835 - val_loss: 0.5567 - val_acc: 0.7161\n",
            "Epoch 224/250\n",
            "178/178 [==============================] - 25s 139ms/step - loss: 0.5997 - acc: 0.6905 - val_loss: 0.5505 - val_acc: 0.7214\n",
            "Epoch 225/250\n",
            "178/178 [==============================] - 25s 135ms/step - loss: 0.5990 - acc: 0.6824 - val_loss: 0.5445 - val_acc: 0.7256\n",
            "Epoch 226/250\n",
            "178/178 [==============================] - 25s 136ms/step - loss: 0.5923 - acc: 0.6838 - val_loss: 0.5397 - val_acc: 0.7288\n",
            "Epoch 227/250\n",
            "178/178 [==============================] - 26s 145ms/step - loss: 0.5998 - acc: 0.6793 - val_loss: 0.5461 - val_acc: 0.7235\n",
            "Epoch 228/250\n",
            "178/178 [==============================] - 25s 137ms/step - loss: 0.6024 - acc: 0.6803 - val_loss: 0.5438 - val_acc: 0.7267\n",
            "Epoch 229/250\n",
            "178/178 [==============================] - 25s 135ms/step - loss: 0.6067 - acc: 0.6881 - val_loss: 0.5723 - val_acc: 0.7140\n",
            "Epoch 230/250\n",
            "178/178 [==============================] - 26s 141ms/step - loss: 0.6010 - acc: 0.6778 - val_loss: 0.5612 - val_acc: 0.7119\n",
            "Epoch 231/250\n",
            "178/178 [==============================] - 24s 134ms/step - loss: 0.5897 - acc: 0.6990 - val_loss: 0.5399 - val_acc: 0.7288\n",
            "Epoch 232/250\n",
            "178/178 [==============================] - 24s 133ms/step - loss: 0.5901 - acc: 0.6867 - val_loss: 0.5559 - val_acc: 0.7150\n",
            "Epoch 233/250\n",
            "178/178 [==============================] - 24s 134ms/step - loss: 0.5990 - acc: 0.6803 - val_loss: 0.5434 - val_acc: 0.7278\n",
            "Epoch 234/250\n",
            "178/178 [==============================] - 27s 146ms/step - loss: 0.5962 - acc: 0.6729 - val_loss: 0.5561 - val_acc: 0.7161\n",
            "Epoch 235/250\n",
            "178/178 [==============================] - 26s 142ms/step - loss: 0.5903 - acc: 0.6789 - val_loss: 0.5352 - val_acc: 0.7341\n",
            "Epoch 236/250\n",
            "178/178 [==============================] - 25s 136ms/step - loss: 0.6231 - acc: 0.6662 - val_loss: 0.5373 - val_acc: 0.7299\n",
            "Epoch 237/250\n",
            "178/178 [==============================] - 20s 110ms/step - loss: 0.6059 - acc: 0.6768 - val_loss: 0.5436 - val_acc: 0.7235\n",
            "Epoch 238/250\n",
            "178/178 [==============================] - 25s 141ms/step - loss: 0.5950 - acc: 0.6877 - val_loss: 0.5432 - val_acc: 0.7256\n",
            "Epoch 239/250\n",
            "178/178 [==============================] - 25s 139ms/step - loss: 0.6076 - acc: 0.6673 - val_loss: 0.5430 - val_acc: 0.7267\n",
            "Epoch 240/250\n",
            "178/178 [==============================] - 25s 136ms/step - loss: 0.5915 - acc: 0.6958 - val_loss: 0.5566 - val_acc: 0.7140\n",
            "Epoch 241/250\n",
            "178/178 [==============================] - 26s 141ms/step - loss: 0.5884 - acc: 0.6912 - val_loss: 0.5472 - val_acc: 0.7203\n",
            "Epoch 242/250\n",
            "178/178 [==============================] - 25s 136ms/step - loss: 0.5716 - acc: 0.7096 - val_loss: 0.5434 - val_acc: 0.7246\n",
            "Epoch 243/250\n",
            "178/178 [==============================] - 25s 138ms/step - loss: 0.6000 - acc: 0.6701 - val_loss: 0.5411 - val_acc: 0.7203\n",
            "Epoch 244/250\n",
            "178/178 [==============================] - 26s 141ms/step - loss: 0.5951 - acc: 0.6838 - val_loss: 0.5663 - val_acc: 0.7097\n",
            "Epoch 245/250\n",
            "178/178 [==============================] - 25s 136ms/step - loss: 0.5925 - acc: 0.6800 - val_loss: 0.5378 - val_acc: 0.7309\n",
            "Epoch 246/250\n",
            "178/178 [==============================] - 20s 110ms/step - loss: 0.6004 - acc: 0.6814 - val_loss: 0.5404 - val_acc: 0.7267\n",
            "Epoch 247/250\n",
            "178/178 [==============================] - 21s 117ms/step - loss: 0.6042 - acc: 0.6807 - val_loss: 0.5553 - val_acc: 0.7161\n",
            "Epoch 248/250\n",
            "178/178 [==============================] - 27s 146ms/step - loss: 0.5965 - acc: 0.6853 - val_loss: 0.5461 - val_acc: 0.7235\n",
            "Epoch 249/250\n",
            "178/178 [==============================] - 26s 143ms/step - loss: 0.5981 - acc: 0.6771 - val_loss: 0.5562 - val_acc: 0.7150\n",
            "Epoch 250/250\n",
            "178/178 [==============================] - 25s 138ms/step - loss: 0.5939 - acc: 0.6842 - val_loss: 0.5567 - val_acc: 0.7150\n"
          ]
        }
      ]
    },
    {
      "cell_type": "code",
      "source": [
        "acc = history.history['acc']\n",
        "val_acc = history.history['val_acc']\n",
        "loss = history.history['loss']\n",
        "val_loss = history.history['val_loss']\n",
        "\n",
        "epochs_x = range(len(acc))\n",
        "\n",
        "plt.plot(epochs_x, acc, 'go', label='Training acc')\n",
        "plt.plot(epochs_x, val_acc, 'k', label='Validation acc')\n",
        "plt.title('Training and validation accuracy')\n",
        "plt.legend()\n",
        "\n",
        "plt.figure()\n",
        "\n",
        "plt.plot(epochs_x, loss, 'go', label='Training loss')\n",
        "plt.plot(epochs_x, val_loss, 'k', label='Validation loss')\n",
        "plt.title('Training and validation loss')\n",
        "plt.legend()\n",
        "\n",
        "plt.show()"
      ],
      "metadata": {
        "id": "kwylTJpTP5XI",
        "colab": {
          "base_uri": "https://localhost:8080/",
          "height": 545
        },
        "outputId": "bc7826b4-9630-4838-b162-a19511eaaefd"
      },
      "execution_count": 31,
      "outputs": [
        {
          "output_type": "display_data",
          "data": {
            "text/plain": [
              "<Figure size 432x288 with 1 Axes>"
            ],
            "image/png": "[encoded data removed]"
          },
          "metadata": {
            "needs_background": "light"
          }
        },
        {
          "output_type": "display_data",
          "data": {
            "text/plain": [
              "<Figure size 432x288 with 1 Axes>"
            ],
            "image/png": "[encoded data removed]"
          },
          "metadata": {
            "needs_background": "light"
          }
        }
      ]
    },
    {
      "cell_type": "markdown",
      "source": [
        "#Download the model"
      ],
      "metadata": {
        "id": "lD-vKaoHQAFd"
      }
    },
    {
      "cell_type": "code",
      "source": [
        "os.makedirs('/content/drive/My Drive/cut_panoramic/Model', exist_ok=True)\n",
        "model.save('/content/drive/My Drive/cut_panoramic/Model/GG4_2e-5_250_Un.h5')"
      ],
      "metadata": {
        "id": "74dL7-HLP_Sh"
      },
      "execution_count": 34,
      "outputs": []
    },
    {
      "cell_type": "code",
      "source": [
        "# from google.colab import files\n",
        "# files.download('/content/drive/My Drive/cut_panoramic/Model/2_รอบที่2_Gender_250.h5')"
      ],
      "metadata": {
        "id": "qcPW-brHQDpc"
      },
      "execution_count": 33,
      "outputs": []
    },
    {
      "cell_type": "code",
      "source": [],
      "metadata": {
        "id": "r5WoXVo8mVpF"
      },
      "execution_count": 33,
      "outputs": []
    }
  ]
}