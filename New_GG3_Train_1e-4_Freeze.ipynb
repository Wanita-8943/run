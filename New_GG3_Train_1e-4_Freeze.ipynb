{
  "nbformat": 4,
  "nbformat_minor": 0,
  "metadata": {
    "colab": {
      "provenance": [],
      "machine_shape": "hm",
      "include_colab_link": true
    },
    "kernelspec": {
      "name": "python3",
      "display_name": "Python 3"
    },
    "language_info": {
      "name": "python"
    },
    "accelerator": "GPU",
    "gpuClass": "standard"
  },
  "cells": [
    {
      "cell_type": "markdown",
      "metadata": {
        "id": "view-in-github",
        "colab_type": "text"
      },
      "source": [
        "<a href=\"https://colab.research.google.com/github/Wanita-8943/run/blob/main/New_GG3_Train_1e-4_Freeze.ipynb\" target=\"_parent\"><img src=\"https://colab.research.google.com/assets/colab-badge.svg\" alt=\"Open In Colab\"/></a>"
      ]
    },
    {
      "cell_type": "code",
      "execution_count": 1,
      "metadata": {
        "id": "KKSs7cyoPHcD"
      },
      "outputs": [],
      "source": [
        "import pandas as pd\n",
        "import shutil"
      ]
    },
    {
      "cell_type": "code",
      "source": [
        "from google.colab import drive\n",
        "drive.mount('/content/drive')"
      ],
      "metadata": {
        "colab": {
          "base_uri": "https://localhost:8080/"
        },
        "id": "Klm1B91QlvKd",
        "outputId": "d05b7707-68dd-4616-94ce-d4c37d5a2067"
      },
      "execution_count": 2,
      "outputs": [
        {
          "output_type": "stream",
          "name": "stdout",
          "text": [
            "Mounted at /content/drive\n"
          ]
        }
      ]
    },
    {
      "cell_type": "code",
      "source": [
        "from tensorflow.keras import models\n",
        "from tensorflow.keras import layers\n",
        "from tensorflow.keras import optimizers\n",
        "import os\n",
        "import glob\n",
        "import shutil\n",
        "import sys\n",
        "import numpy as np\n",
        "from skimage.io import imread\n",
        "import matplotlib.pyplot as plt\n",
        "from IPython.display import Image\n",
        "%matplotlib inline"
      ],
      "metadata": {
        "id": "1pX9g1HxPM2f"
      },
      "execution_count": 3,
      "outputs": []
    },
    {
      "cell_type": "code",
      "source": [
        "batch_size = 16\n",
        "width = 150\n",
        "height = 150\n",
        "epochs = 250\n",
        "NUM_TRAIN = 2850\n",
        "NUM_TEST = 950\n",
        "dropout_rate = 0.2\n",
        "input_shape = (height, width, 3)"
      ],
      "metadata": {
        "id": "eSFtvGyvPM6O"
      },
      "execution_count": 4,
      "outputs": []
    },
    {
      "cell_type": "code",
      "source": [
        "#ดึงข้อมูลใน Github มาใช้\n",
        "import os\n",
        "%cd /content\n",
        "if not os.path.isdir(\"efficientnet_keras_transfer_learning\"):\n",
        " !git clone https://github.com/Wanita-8943/efficientnet_keras_transfer_learning\n",
        "%cd efficientnet_keras_transfer_learning/"
      ],
      "metadata": {
        "colab": {
          "base_uri": "https://localhost:8080/"
        },
        "id": "lb4K4CsMPNAW",
        "outputId": "ef535887-9ae8-4bec-f6cc-3ddf98b4f99d"
      },
      "execution_count": 5,
      "outputs": [
        {
          "output_type": "stream",
          "name": "stdout",
          "text": [
            "/content\n",
            "Cloning into 'efficientnet_keras_transfer_learning'...\n",
            "remote: Enumerating objects: 1067, done.\u001b[K\n",
            "remote: Counting objects: 100% (230/230), done.\u001b[K\n",
            "remote: Compressing objects: 100% (151/151), done.\u001b[K\n",
            "remote: Total 1067 (delta 114), reused 161 (delta 79), pack-reused 837\u001b[K\n",
            "Receiving objects: 100% (1067/1067), 13.93 MiB | 36.94 MiB/s, done.\n",
            "Resolving deltas: 100% (611/611), done.\n",
            "/content/efficientnet_keras_transfer_learning\n"
          ]
        }
      ]
    },
    {
      "cell_type": "code",
      "source": [
        "# Options: EfficientNetB0, EfficientNetB1, EfficientNetB2, EfficientNetB3\n",
        "# Higher the number, the more complex the model is.\n",
        "from efficientnet import EfficientNetB0 as Net\n",
        "from efficientnet import center_crop_and_resize, preprocess_input"
      ],
      "metadata": {
        "id": "eyBg0dLKPND3"
      },
      "execution_count": 6,
      "outputs": []
    },
    {
      "cell_type": "code",
      "source": [
        "# loading pretrained conv base model\n",
        "# โหลดโมเดล มาโดยตัด output ของโมเดลออก เเต่ยังใช้ input อันเดิม\n",
        "# เเละโหลด weight ของโมเดล มาด้วยที่ชื่อว่า imagenet\n",
        "conv_base = Net(weights='imagenet', include_top=False, input_shape=input_shape)"
      ],
      "metadata": {
        "id": "9VBe9W9-H54h",
        "colab": {
          "base_uri": "https://localhost:8080/"
        },
        "outputId": "73a37797-dd1b-4dae-c4a1-1d06fcdf51ca"
      },
      "execution_count": 7,
      "outputs": [
        {
          "output_type": "stream",
          "name": "stderr",
          "text": [
            "WARNING:tensorflow:From /usr/local/lib/python3.9/dist-packages/tensorflow/python/autograph/pyct/static_analysis/liveness.py:83: Analyzer.lamba_check (from tensorflow.python.autograph.pyct.static_analysis.liveness) is deprecated and will be removed after 2023-09-23.\n",
            "Instructions for updating:\n",
            "Lambda fuctions will be no more assumed to be used in the statement where they are used, or at least in the same block. https://github.com/tensorflow/tensorflow/issues/56089\n"
          ]
        },
        {
          "output_type": "stream",
          "name": "stdout",
          "text": [
            "Downloading data from https://github.com/qubvel/efficientnet/releases/download/v0.0.1/efficientnet-b0_imagenet_1000_notop.h5\n",
            "16717576/16717576 [==============================] - 0s 0us/step\n"
          ]
        }
      ]
    },
    {
      "cell_type": "code",
      "source": [
        "base_dir = '/content/drive/MyDrive/TVT_Gender'\n",
        "os.makedirs(base_dir, exist_ok=True)\n",
        "\n",
        "# Directories for our training,\n",
        "# validation and test splits\n",
        "train_dir = os.path.join(base_dir, 'train')\n",
        "os.makedirs(train_dir, exist_ok=True)\n",
        "validation_dir = os.path.join(base_dir, 'validation')\n",
        "os.makedirs(validation_dir, exist_ok=True)\n",
        "test_dir = os.path.join(base_dir, 'test')\n",
        "os.makedirs(test_dir, exist_ok=True)"
      ],
      "metadata": {
        "id": "Jwpq_-KvPef8"
      },
      "execution_count": 8,
      "outputs": []
    },
    {
      "cell_type": "markdown",
      "source": [
        "#load model"
      ],
      "metadata": {
        "id": "od-ZSNm5PoGy"
      }
    },
    {
      "cell_type": "code",
      "source": [
        "import sys\n",
        "sys.path.append('/content/drive/MyDrive/cut_panoramic/Model/ครั้งที่ 3/GG2_2e-4_250.h5')\n",
        "\n",
        "from efficientnet.layers import Swish, DropConnect\n",
        "from efficientnet.model import ConvKernalInitializer\n",
        "from tensorflow.keras.utils import get_custom_objects\n",
        "\n",
        "get_custom_objects().update({\n",
        "    'ConvKernalInitializer': ConvKernalInitializer,\n",
        "    'Swish': Swish,\n",
        "    'DropConnect':DropConnect\n",
        "})"
      ],
      "metadata": {
        "id": "n5iPL5MNPkhE"
      },
      "execution_count": 9,
      "outputs": []
    },
    {
      "cell_type": "code",
      "source": [
        "#load model \n",
        "from tensorflow.keras.models import load_model\n",
        "model = load_model('/content/drive/MyDrive/cut_panoramic/Model/ครั้งที่ 3/GG2_2e-4_250.h5')\n",
        "height = width = model.input_shape[1]"
      ],
      "metadata": {
        "id": "plYz49xMPkly"
      },
      "execution_count": 10,
      "outputs": []
    },
    {
      "cell_type": "code",
      "source": [
        "model.summary()"
      ],
      "metadata": {
        "colab": {
          "base_uri": "https://localhost:8080/"
        },
        "id": "z6IOPBflFbvc",
        "outputId": "d99354bd-53d2-4d23-c0f0-776bab29d12e"
      },
      "execution_count": 11,
      "outputs": [
        {
          "output_type": "stream",
          "name": "stdout",
          "text": [
            "Model: \"sequential\"\n",
            "_________________________________________________________________\n",
            " Layer (type)                Output Shape              Param #   \n",
            "=================================================================\n",
            " efficientnet-b0 (Functional  (None, 5, 5, 1280)       4049564   \n",
            " )                                                               \n",
            "                                                                 \n",
            " gap (GlobalMaxPooling2D)    (None, 1280)              0         \n",
            "                                                                 \n",
            " dropout_out (Dropout)       (None, 1280)              0         \n",
            "                                                                 \n",
            " fc_out (Dense)              (None, 2)                 2562      \n",
            "                                                                 \n",
            "=================================================================\n",
            "Total params: 4,052,126\n",
            "Trainable params: 2,562\n",
            "Non-trainable params: 4,049,564\n",
            "_________________________________________________________________\n"
          ]
        }
      ]
    },
    {
      "cell_type": "code",
      "source": [
        "# Train ด้วย ImageDataGenerator ของ Keras ซึ่งจะเพิ่มข้อมูลเสริมระหว่างการฝึกเพื่อลดโอกาสเกิด overfitting\n",
        "#overfitting เกิดจากข้อมูลที่ซับซ้อนกันเกินไป\n",
        "from tensorflow.keras.preprocessing.image import ImageDataGenerator\n",
        "\n",
        "train_datagen = ImageDataGenerator(\n",
        "      rescale=1./255, #โมเดลส่วนใหญ่ต้องใช้ RGB ในช่วง 0–1\n",
        "      rotation_range=40,\n",
        "      width_shift_range=0.2,\n",
        "      height_shift_range=0.2,\n",
        "      shear_range=0.2,\n",
        "      zoom_range=0.2,\n",
        "      horizontal_flip=True,\n",
        "      fill_mode='nearest')\n",
        "\n",
        "# Note that the validation data should not be augmented!\n",
        "test_datagen = ImageDataGenerator(rescale=1./255)\n",
        "\n",
        "train_generator = train_datagen.flow_from_directory(\n",
        "        # This is the target directory #ไดเรกเป้าหมาย\n",
        "        train_dir,\n",
        "        # รูปภาพทั้งหมดจะถูกปรับขนาดตามความสูงและความกว้างของเป้าหมาย\n",
        "        target_size=(height, width),\n",
        "        batch_size=batch_size,\n",
        "        # Since we use categorical_crossentropy loss, we need categorical labels\n",
        "        #เนื่องจากเราใช้ categorical_crossentropy loss เราจึงต้องมีป้ายกำกับตามหมวดหมู่\n",
        "        class_mode='categorical')\n",
        "\n",
        "validation_generator = test_datagen.flow_from_directory( #การดึงภาพจาก Directory มาเข้าโมเดล \n",
        "        validation_dir,\n",
        "        target_size=(height, width),\n",
        "        batch_size=batch_size,\n",
        "        class_mode='categorical')"
      ],
      "metadata": {
        "colab": {
          "base_uri": "https://localhost:8080/"
        },
        "id": "KBMZbdr2Pgw4",
        "outputId": "30b2b41a-aa83-4df7-dd8a-ab1f29ce9647"
      },
      "execution_count": 12,
      "outputs": [
        {
          "output_type": "stream",
          "name": "stdout",
          "text": [
            "Found 2850 images belonging to 2 classes.\n",
            "Found 950 images belonging to 2 classes.\n"
          ]
        }
      ]
    },
    {
      "cell_type": "code",
      "source": [
        "model.compile(loss='categorical_crossentropy',\n",
        "              optimizer=optimizers.RMSprop(learning_rate=1e-4),\n",
        "              metrics=['acc'])\n",
        "history = model.fit_generator(\n",
        "      train_generator,\n",
        "      steps_per_epoch= NUM_TRAIN //batch_size,\n",
        "      epochs=epochs,\n",
        "      validation_data=validation_generator,\n",
        "      validation_steps= NUM_TEST //batch_size,\n",
        "      verbose=1,\n",
        "      use_multiprocessing=True,\n",
        "      workers=4)"
      ],
      "metadata": {
        "colab": {
          "base_uri": "https://localhost:8080/"
        },
        "id": "C9Cf1dwyP1PD",
        "outputId": "272bddc5-630b-4cc5-c9f0-87846632d522"
      },
      "execution_count": 13,
      "outputs": [
        {
          "output_type": "stream",
          "name": "stderr",
          "text": [
            "<ipython-input-13-f67d4bb4808f>:4: UserWarning: `Model.fit_generator` is deprecated and will be removed in a future version. Please use `Model.fit`, which supports generators.\n",
            "  history = model.fit_generator(\n"
          ]
        },
        {
          "output_type": "stream",
          "name": "stdout",
          "text": [
            "Epoch 1/250\n",
            "178/178 [==============================] - 148s 743ms/step - loss: 0.6012 - acc: 0.6775 - val_loss: 0.5377 - val_acc: 0.7235\n",
            "Epoch 2/250\n",
            "178/178 [==============================] - 25s 141ms/step - loss: 0.6063 - acc: 0.6711 - val_loss: 0.5387 - val_acc: 0.7214\n",
            "Epoch 3/250\n",
            "178/178 [==============================] - 25s 138ms/step - loss: 0.5999 - acc: 0.6874 - val_loss: 0.5376 - val_acc: 0.7203\n",
            "Epoch 4/250\n",
            "178/178 [==============================] - 25s 137ms/step - loss: 0.6223 - acc: 0.6609 - val_loss: 0.5532 - val_acc: 0.7246\n",
            "Epoch 5/250\n",
            "178/178 [==============================] - 25s 138ms/step - loss: 0.6106 - acc: 0.6740 - val_loss: 0.5510 - val_acc: 0.7267\n",
            "Epoch 6/250\n",
            "178/178 [==============================] - 25s 141ms/step - loss: 0.6124 - acc: 0.6803 - val_loss: 0.5498 - val_acc: 0.7278\n",
            "Epoch 7/250\n",
            "178/178 [==============================] - 25s 139ms/step - loss: 0.6034 - acc: 0.6814 - val_loss: 0.5445 - val_acc: 0.7278\n",
            "Epoch 8/250\n",
            "178/178 [==============================] - 25s 136ms/step - loss: 0.5974 - acc: 0.6870 - val_loss: 0.6044 - val_acc: 0.6886\n",
            "Epoch 9/250\n",
            "178/178 [==============================] - 26s 142ms/step - loss: 0.6143 - acc: 0.6807 - val_loss: 0.5661 - val_acc: 0.7161\n",
            "Epoch 10/250\n",
            "178/178 [==============================] - 25s 137ms/step - loss: 0.6104 - acc: 0.6771 - val_loss: 0.5681 - val_acc: 0.7161\n",
            "Epoch 11/250\n",
            "178/178 [==============================] - 26s 142ms/step - loss: 0.6069 - acc: 0.6665 - val_loss: 0.5818 - val_acc: 0.7076\n",
            "Epoch 12/250\n",
            "178/178 [==============================] - 25s 137ms/step - loss: 0.6149 - acc: 0.6697 - val_loss: 0.5506 - val_acc: 0.7203\n",
            "Epoch 13/250\n",
            "178/178 [==============================] - 27s 146ms/step - loss: 0.5948 - acc: 0.6927 - val_loss: 0.5481 - val_acc: 0.7182\n",
            "Epoch 14/250\n",
            "178/178 [==============================] - 25s 141ms/step - loss: 0.6063 - acc: 0.6930 - val_loss: 0.5386 - val_acc: 0.7182\n",
            "Epoch 15/250\n",
            "178/178 [==============================] - 27s 147ms/step - loss: 0.6077 - acc: 0.6793 - val_loss: 0.5383 - val_acc: 0.7246\n",
            "Epoch 16/250\n",
            "178/178 [==============================] - 25s 139ms/step - loss: 0.6084 - acc: 0.6761 - val_loss: 0.5408 - val_acc: 0.7097\n",
            "Epoch 17/250\n",
            "178/178 [==============================] - 21s 116ms/step - loss: 0.6333 - acc: 0.6606 - val_loss: 0.5821 - val_acc: 0.7087\n",
            "Epoch 18/250\n",
            "178/178 [==============================] - 25s 137ms/step - loss: 0.6126 - acc: 0.6771 - val_loss: 0.5775 - val_acc: 0.7129\n",
            "Epoch 19/250\n",
            "178/178 [==============================] - 25s 140ms/step - loss: 0.6094 - acc: 0.6644 - val_loss: 0.5816 - val_acc: 0.7119\n",
            "Epoch 20/250\n",
            "178/178 [==============================] - 26s 142ms/step - loss: 0.6065 - acc: 0.6697 - val_loss: 0.5447 - val_acc: 0.7087\n",
            "Epoch 21/250\n",
            "178/178 [==============================] - 25s 136ms/step - loss: 0.6073 - acc: 0.6838 - val_loss: 0.5867 - val_acc: 0.7066\n",
            "Epoch 22/250\n",
            "178/178 [==============================] - 21s 114ms/step - loss: 0.6001 - acc: 0.6867 - val_loss: 0.5611 - val_acc: 0.7150\n",
            "Epoch 23/250\n",
            "178/178 [==============================] - 21s 113ms/step - loss: 0.6006 - acc: 0.6789 - val_loss: 0.6194 - val_acc: 0.6801\n",
            "Epoch 24/250\n",
            "178/178 [==============================] - 25s 137ms/step - loss: 0.6100 - acc: 0.6725 - val_loss: 0.5697 - val_acc: 0.7150\n",
            "Epoch 25/250\n",
            "178/178 [==============================] - 25s 139ms/step - loss: 0.6177 - acc: 0.6595 - val_loss: 0.6126 - val_acc: 0.6801\n",
            "Epoch 26/250\n",
            "178/178 [==============================] - 27s 147ms/step - loss: 0.6109 - acc: 0.6807 - val_loss: 0.5650 - val_acc: 0.7129\n",
            "Epoch 27/250\n",
            "178/178 [==============================] - 25s 139ms/step - loss: 0.6065 - acc: 0.6771 - val_loss: 0.5626 - val_acc: 0.7076\n",
            "Epoch 28/250\n",
            "178/178 [==============================] - 26s 143ms/step - loss: 0.6003 - acc: 0.6845 - val_loss: 0.5443 - val_acc: 0.7203\n",
            "Epoch 29/250\n",
            "178/178 [==============================] - 25s 136ms/step - loss: 0.5952 - acc: 0.6916 - val_loss: 0.5649 - val_acc: 0.7140\n",
            "Epoch 30/250\n",
            "178/178 [==============================] - 26s 142ms/step - loss: 0.6059 - acc: 0.6782 - val_loss: 0.5473 - val_acc: 0.7140\n",
            "Epoch 31/250\n",
            "178/178 [==============================] - 24s 134ms/step - loss: 0.6000 - acc: 0.6750 - val_loss: 0.5390 - val_acc: 0.7161\n",
            "Epoch 32/250\n",
            "178/178 [==============================] - 26s 142ms/step - loss: 0.6170 - acc: 0.6673 - val_loss: 0.5811 - val_acc: 0.7087\n",
            "Epoch 33/250\n",
            "178/178 [==============================] - 25s 140ms/step - loss: 0.6076 - acc: 0.6683 - val_loss: 0.5664 - val_acc: 0.7150\n",
            "Epoch 34/250\n",
            "178/178 [==============================] - 26s 142ms/step - loss: 0.6040 - acc: 0.6757 - val_loss: 0.5812 - val_acc: 0.7087\n",
            "Epoch 35/250\n",
            "178/178 [==============================] - 25s 135ms/step - loss: 0.6168 - acc: 0.6711 - val_loss: 0.5361 - val_acc: 0.7172\n",
            "Epoch 36/250\n",
            "178/178 [==============================] - 25s 136ms/step - loss: 0.5955 - acc: 0.6810 - val_loss: 0.5969 - val_acc: 0.7023\n",
            "Epoch 37/250\n",
            "178/178 [==============================] - 25s 139ms/step - loss: 0.6063 - acc: 0.6909 - val_loss: 0.5606 - val_acc: 0.7161\n",
            "Epoch 38/250\n",
            "178/178 [==============================] - 24s 134ms/step - loss: 0.6198 - acc: 0.6722 - val_loss: 0.5553 - val_acc: 0.7203\n",
            "Epoch 39/250\n",
            "178/178 [==============================] - 26s 141ms/step - loss: 0.6043 - acc: 0.6725 - val_loss: 0.5342 - val_acc: 0.7214\n",
            "Epoch 40/250\n",
            "178/178 [==============================] - 25s 137ms/step - loss: 0.5976 - acc: 0.6863 - val_loss: 0.5476 - val_acc: 0.7150\n",
            "Epoch 41/250\n",
            "178/178 [==============================] - 26s 143ms/step - loss: 0.5938 - acc: 0.6824 - val_loss: 0.5727 - val_acc: 0.7246\n",
            "Epoch 42/250\n",
            "178/178 [==============================] - 25s 137ms/step - loss: 0.5984 - acc: 0.6920 - val_loss: 0.5393 - val_acc: 0.7182\n",
            "Epoch 43/250\n",
            "178/178 [==============================] - 25s 135ms/step - loss: 0.6086 - acc: 0.6870 - val_loss: 0.5782 - val_acc: 0.7066\n",
            "Epoch 44/250\n",
            "178/178 [==============================] - 24s 135ms/step - loss: 0.6013 - acc: 0.6817 - val_loss: 0.5556 - val_acc: 0.7214\n",
            "Epoch 45/250\n",
            "178/178 [==============================] - 24s 134ms/step - loss: 0.6024 - acc: 0.6793 - val_loss: 0.5509 - val_acc: 0.7172\n",
            "Epoch 46/250\n",
            "178/178 [==============================] - 26s 141ms/step - loss: 0.6138 - acc: 0.6757 - val_loss: 0.5470 - val_acc: 0.7161\n",
            "Epoch 47/250\n",
            "178/178 [==============================] - 25s 138ms/step - loss: 0.6074 - acc: 0.6729 - val_loss: 0.5508 - val_acc: 0.7193\n",
            "Epoch 48/250\n",
            "178/178 [==============================] - 26s 145ms/step - loss: 0.6081 - acc: 0.6782 - val_loss: 0.5454 - val_acc: 0.7182\n",
            "Epoch 49/250\n",
            "178/178 [==============================] - 25s 137ms/step - loss: 0.6212 - acc: 0.6680 - val_loss: 0.5379 - val_acc: 0.7203\n",
            "Epoch 50/250\n",
            "178/178 [==============================] - 25s 138ms/step - loss: 0.6104 - acc: 0.6796 - val_loss: 0.5678 - val_acc: 0.7034\n",
            "Epoch 51/250\n",
            "178/178 [==============================] - 24s 135ms/step - loss: 0.6238 - acc: 0.6634 - val_loss: 0.5646 - val_acc: 0.7193\n",
            "Epoch 52/250\n",
            "178/178 [==============================] - 24s 134ms/step - loss: 0.6133 - acc: 0.6722 - val_loss: 0.5444 - val_acc: 0.7203\n",
            "Epoch 53/250\n",
            "178/178 [==============================] - 25s 136ms/step - loss: 0.6048 - acc: 0.6736 - val_loss: 0.6770 - val_acc: 0.6345\n",
            "Epoch 54/250\n",
            "178/178 [==============================] - 25s 138ms/step - loss: 0.5903 - acc: 0.6927 - val_loss: 0.5380 - val_acc: 0.7150\n",
            "Epoch 55/250\n",
            "178/178 [==============================] - 26s 144ms/step - loss: 0.6130 - acc: 0.6729 - val_loss: 0.5481 - val_acc: 0.7235\n",
            "Epoch 56/250\n",
            "178/178 [==============================] - 24s 134ms/step - loss: 0.6072 - acc: 0.6881 - val_loss: 0.5916 - val_acc: 0.7044\n",
            "Epoch 57/250\n",
            "178/178 [==============================] - 25s 138ms/step - loss: 0.6046 - acc: 0.6725 - val_loss: 0.5412 - val_acc: 0.7140\n",
            "Epoch 58/250\n",
            "178/178 [==============================] - 24s 132ms/step - loss: 0.6129 - acc: 0.6778 - val_loss: 0.5429 - val_acc: 0.7161\n",
            "Epoch 59/250\n",
            "178/178 [==============================] - 25s 137ms/step - loss: 0.6033 - acc: 0.6725 - val_loss: 0.5478 - val_acc: 0.7182\n",
            "Epoch 60/250\n",
            "178/178 [==============================] - 24s 134ms/step - loss: 0.5966 - acc: 0.6916 - val_loss: 0.5511 - val_acc: 0.7193\n",
            "Epoch 61/250\n",
            "178/178 [==============================] - 25s 138ms/step - loss: 0.6140 - acc: 0.6789 - val_loss: 0.5792 - val_acc: 0.7108\n",
            "Epoch 62/250\n",
            "178/178 [==============================] - 24s 135ms/step - loss: 0.6081 - acc: 0.6701 - val_loss: 0.5712 - val_acc: 0.7140\n",
            "Epoch 63/250\n",
            "178/178 [==============================] - 24s 133ms/step - loss: 0.5996 - acc: 0.6747 - val_loss: 0.5699 - val_acc: 0.7161\n",
            "Epoch 64/250\n",
            "178/178 [==============================] - 25s 138ms/step - loss: 0.6056 - acc: 0.6743 - val_loss: 0.6547 - val_acc: 0.6557\n",
            "Epoch 65/250\n",
            "178/178 [==============================] - 24s 132ms/step - loss: 0.6141 - acc: 0.6697 - val_loss: 0.5563 - val_acc: 0.7129\n",
            "Epoch 66/250\n",
            "178/178 [==============================] - 25s 138ms/step - loss: 0.6015 - acc: 0.6817 - val_loss: 0.5803 - val_acc: 0.7097\n",
            "Epoch 67/250\n",
            "178/178 [==============================] - 25s 137ms/step - loss: 0.6198 - acc: 0.6598 - val_loss: 0.5544 - val_acc: 0.7182\n",
            "Epoch 68/250\n",
            "178/178 [==============================] - 20s 110ms/step - loss: 0.5992 - acc: 0.6845 - val_loss: 0.5532 - val_acc: 0.7129\n",
            "Epoch 69/250\n",
            "178/178 [==============================] - 25s 138ms/step - loss: 0.5942 - acc: 0.6831 - val_loss: 0.5380 - val_acc: 0.7203\n",
            "Epoch 70/250\n",
            "178/178 [==============================] - 20s 106ms/step - loss: 0.5984 - acc: 0.6803 - val_loss: 0.5393 - val_acc: 0.7203\n",
            "Epoch 71/250\n",
            "178/178 [==============================] - 25s 138ms/step - loss: 0.6006 - acc: 0.6743 - val_loss: 0.5574 - val_acc: 0.7129\n",
            "Epoch 72/250\n",
            "178/178 [==============================] - 24s 131ms/step - loss: 0.6093 - acc: 0.6725 - val_loss: 0.5447 - val_acc: 0.7214\n",
            "Epoch 73/250\n",
            "178/178 [==============================] - 24s 133ms/step - loss: 0.6140 - acc: 0.6708 - val_loss: 0.5413 - val_acc: 0.7225\n",
            "Epoch 74/250\n",
            "178/178 [==============================] - 25s 139ms/step - loss: 0.5948 - acc: 0.6736 - val_loss: 0.5549 - val_acc: 0.7150\n",
            "Epoch 75/250\n",
            "178/178 [==============================] - 25s 135ms/step - loss: 0.6041 - acc: 0.6814 - val_loss: 0.5398 - val_acc: 0.7246\n",
            "Epoch 76/250\n",
            "178/178 [==============================] - 26s 143ms/step - loss: 0.6004 - acc: 0.6757 - val_loss: 0.5425 - val_acc: 0.7256\n",
            "Epoch 77/250\n",
            "178/178 [==============================] - 25s 136ms/step - loss: 0.6059 - acc: 0.6800 - val_loss: 0.5593 - val_acc: 0.7044\n",
            "Epoch 78/250\n",
            "178/178 [==============================] - 24s 135ms/step - loss: 0.6038 - acc: 0.6796 - val_loss: 0.5393 - val_acc: 0.7278\n",
            "Epoch 79/250\n",
            "178/178 [==============================] - 24s 133ms/step - loss: 0.6133 - acc: 0.6718 - val_loss: 0.6170 - val_acc: 0.6875\n",
            "Epoch 80/250\n",
            "178/178 [==============================] - 24s 131ms/step - loss: 0.6180 - acc: 0.6715 - val_loss: 0.5456 - val_acc: 0.7214\n",
            "Epoch 81/250\n",
            "178/178 [==============================] - 25s 138ms/step - loss: 0.6048 - acc: 0.6793 - val_loss: 0.5498 - val_acc: 0.7150\n",
            "Epoch 82/250\n",
            "178/178 [==============================] - 25s 136ms/step - loss: 0.6149 - acc: 0.6761 - val_loss: 0.5583 - val_acc: 0.7182\n",
            "Epoch 83/250\n",
            "178/178 [==============================] - 26s 142ms/step - loss: 0.6215 - acc: 0.6740 - val_loss: 0.5751 - val_acc: 0.7034\n",
            "Epoch 84/250\n",
            "178/178 [==============================] - 24s 133ms/step - loss: 0.5981 - acc: 0.6884 - val_loss: 0.5414 - val_acc: 0.7235\n",
            "Epoch 85/250\n",
            "178/178 [==============================] - 20s 107ms/step - loss: 0.6122 - acc: 0.6690 - val_loss: 0.5452 - val_acc: 0.7182\n",
            "Epoch 86/250\n",
            "178/178 [==============================] - 26s 142ms/step - loss: 0.6038 - acc: 0.6768 - val_loss: 0.5428 - val_acc: 0.7172\n",
            "Epoch 87/250\n",
            "178/178 [==============================] - 20s 110ms/step - loss: 0.5902 - acc: 0.6920 - val_loss: 0.5473 - val_acc: 0.7182\n",
            "Epoch 88/250\n",
            "178/178 [==============================] - 25s 137ms/step - loss: 0.6007 - acc: 0.6683 - val_loss: 0.5649 - val_acc: 0.7034\n",
            "Epoch 89/250\n",
            "178/178 [==============================] - 24s 133ms/step - loss: 0.6022 - acc: 0.6761 - val_loss: 0.6448 - val_acc: 0.6631\n",
            "Epoch 90/250\n",
            "178/178 [==============================] - 25s 139ms/step - loss: 0.6026 - acc: 0.6789 - val_loss: 0.7097 - val_acc: 0.6271\n",
            "Epoch 91/250\n",
            "178/178 [==============================] - 26s 145ms/step - loss: 0.6038 - acc: 0.6736 - val_loss: 0.5427 - val_acc: 0.7246\n",
            "Epoch 92/250\n",
            "178/178 [==============================] - 25s 139ms/step - loss: 0.6056 - acc: 0.6891 - val_loss: 0.5584 - val_acc: 0.7182\n",
            "Epoch 93/250\n",
            "178/178 [==============================] - 26s 143ms/step - loss: 0.6032 - acc: 0.6817 - val_loss: 0.6087 - val_acc: 0.7023\n",
            "Epoch 94/250\n",
            "178/178 [==============================] - 24s 132ms/step - loss: 0.6067 - acc: 0.6690 - val_loss: 0.5598 - val_acc: 0.7182\n",
            "Epoch 95/250\n",
            "178/178 [==============================] - 20s 111ms/step - loss: 0.5987 - acc: 0.6891 - val_loss: 0.5474 - val_acc: 0.7203\n",
            "Epoch 96/250\n",
            "178/178 [==============================] - 26s 142ms/step - loss: 0.6224 - acc: 0.6764 - val_loss: 0.5365 - val_acc: 0.7278\n",
            "Epoch 97/250\n",
            "178/178 [==============================] - 24s 133ms/step - loss: 0.6000 - acc: 0.6867 - val_loss: 0.5472 - val_acc: 0.7214\n",
            "Epoch 98/250\n",
            "178/178 [==============================] - 25s 138ms/step - loss: 0.6148 - acc: 0.6708 - val_loss: 0.5400 - val_acc: 0.7203\n",
            "Epoch 99/250\n",
            "178/178 [==============================] - 19s 106ms/step - loss: 0.6074 - acc: 0.6771 - val_loss: 0.5387 - val_acc: 0.7256\n",
            "Epoch 100/250\n",
            "178/178 [==============================] - 24s 135ms/step - loss: 0.6066 - acc: 0.6789 - val_loss: 0.5443 - val_acc: 0.7246\n",
            "Epoch 101/250\n",
            "178/178 [==============================] - 25s 139ms/step - loss: 0.6046 - acc: 0.6828 - val_loss: 0.5414 - val_acc: 0.7087\n",
            "Epoch 102/250\n",
            "178/178 [==============================] - 24s 133ms/step - loss: 0.6120 - acc: 0.6835 - val_loss: 0.5380 - val_acc: 0.7246\n",
            "Epoch 103/250\n",
            "178/178 [==============================] - 25s 136ms/step - loss: 0.6008 - acc: 0.6718 - val_loss: 0.5349 - val_acc: 0.7235\n",
            "Epoch 104/250\n",
            "178/178 [==============================] - 24s 133ms/step - loss: 0.6008 - acc: 0.6828 - val_loss: 0.5429 - val_acc: 0.7193\n",
            "Epoch 105/250\n",
            "178/178 [==============================] - 24s 135ms/step - loss: 0.5968 - acc: 0.6838 - val_loss: 0.5337 - val_acc: 0.7256\n",
            "Epoch 106/250\n",
            "178/178 [==============================] - 26s 143ms/step - loss: 0.6128 - acc: 0.6754 - val_loss: 0.5327 - val_acc: 0.7246\n",
            "Epoch 107/250\n",
            "178/178 [==============================] - 24s 134ms/step - loss: 0.6055 - acc: 0.6683 - val_loss: 0.5561 - val_acc: 0.7225\n",
            "Epoch 108/250\n",
            "178/178 [==============================] - 25s 137ms/step - loss: 0.5826 - acc: 0.6902 - val_loss: 0.5369 - val_acc: 0.7214\n",
            "Epoch 109/250\n",
            "178/178 [==============================] - 24s 133ms/step - loss: 0.6039 - acc: 0.6803 - val_loss: 0.5678 - val_acc: 0.7214\n",
            "Epoch 110/250\n",
            "178/178 [==============================] - 24s 132ms/step - loss: 0.5951 - acc: 0.6895 - val_loss: 0.5357 - val_acc: 0.7246\n",
            "Epoch 111/250\n",
            "178/178 [==============================] - 26s 141ms/step - loss: 0.6095 - acc: 0.6814 - val_loss: 0.6082 - val_acc: 0.6864\n",
            "Epoch 112/250\n",
            "178/178 [==============================] - 25s 138ms/step - loss: 0.6055 - acc: 0.6789 - val_loss: 0.5603 - val_acc: 0.7182\n",
            "Epoch 113/250\n",
            "178/178 [==============================] - 26s 142ms/step - loss: 0.6102 - acc: 0.6662 - val_loss: 0.5430 - val_acc: 0.7193\n",
            "Epoch 114/250\n",
            "178/178 [==============================] - 24s 133ms/step - loss: 0.6015 - acc: 0.6895 - val_loss: 0.5388 - val_acc: 0.7193\n",
            "Epoch 115/250\n",
            "178/178 [==============================] - 24s 132ms/step - loss: 0.5884 - acc: 0.6969 - val_loss: 0.5547 - val_acc: 0.7150\n",
            "Epoch 116/250\n",
            "178/178 [==============================] - 25s 137ms/step - loss: 0.6075 - acc: 0.6743 - val_loss: 0.5469 - val_acc: 0.7172\n",
            "Epoch 117/250\n",
            "178/178 [==============================] - 24s 133ms/step - loss: 0.6047 - acc: 0.6927 - val_loss: 0.5615 - val_acc: 0.7108\n",
            "Epoch 118/250\n",
            "178/178 [==============================] - 25s 139ms/step - loss: 0.5955 - acc: 0.6842 - val_loss: 0.5524 - val_acc: 0.7161\n",
            "Epoch 119/250\n",
            "178/178 [==============================] - 25s 138ms/step - loss: 0.6120 - acc: 0.6733 - val_loss: 0.5545 - val_acc: 0.7193\n",
            "Epoch 120/250\n",
            "178/178 [==============================] - 20s 109ms/step - loss: 0.6134 - acc: 0.6637 - val_loss: 0.5569 - val_acc: 0.7203\n",
            "Epoch 121/250\n",
            "178/178 [==============================] - 25s 139ms/step - loss: 0.6098 - acc: 0.6835 - val_loss: 0.5772 - val_acc: 0.7129\n",
            "Epoch 122/250\n",
            "178/178 [==============================] - 25s 136ms/step - loss: 0.6062 - acc: 0.6785 - val_loss: 0.5500 - val_acc: 0.7225\n",
            "Epoch 123/250\n",
            "178/178 [==============================] - 25s 139ms/step - loss: 0.6132 - acc: 0.6722 - val_loss: 0.5314 - val_acc: 0.7256\n",
            "Epoch 124/250\n",
            "178/178 [==============================] - 24s 132ms/step - loss: 0.6137 - acc: 0.6598 - val_loss: 0.5305 - val_acc: 0.7267\n",
            "Epoch 125/250\n",
            "178/178 [==============================] - 24s 132ms/step - loss: 0.6087 - acc: 0.6838 - val_loss: 0.5504 - val_acc: 0.7172\n",
            "Epoch 126/250\n",
            "178/178 [==============================] - 25s 138ms/step - loss: 0.6048 - acc: 0.6757 - val_loss: 0.5318 - val_acc: 0.7203\n",
            "Epoch 127/250\n",
            "178/178 [==============================] - 24s 132ms/step - loss: 0.6112 - acc: 0.6782 - val_loss: 0.5297 - val_acc: 0.7278\n",
            "Epoch 128/250\n",
            "178/178 [==============================] - 25s 136ms/step - loss: 0.6010 - acc: 0.6828 - val_loss: 0.5553 - val_acc: 0.7225\n",
            "Epoch 129/250\n",
            "178/178 [==============================] - 25s 136ms/step - loss: 0.6117 - acc: 0.6725 - val_loss: 0.5652 - val_acc: 0.7193\n",
            "Epoch 130/250\n",
            "178/178 [==============================] - 24s 132ms/step - loss: 0.5954 - acc: 0.6803 - val_loss: 0.5431 - val_acc: 0.7182\n",
            "Epoch 131/250\n",
            "178/178 [==============================] - 25s 137ms/step - loss: 0.6173 - acc: 0.6683 - val_loss: 0.6039 - val_acc: 0.6939\n",
            "Epoch 132/250\n",
            "178/178 [==============================] - 24s 133ms/step - loss: 0.6052 - acc: 0.6785 - val_loss: 0.5654 - val_acc: 0.7140\n",
            "Epoch 133/250\n",
            "178/178 [==============================] - 24s 133ms/step - loss: 0.6086 - acc: 0.6778 - val_loss: 0.5463 - val_acc: 0.7161\n",
            "Epoch 134/250\n",
            "178/178 [==============================] - 21s 116ms/step - loss: 0.6063 - acc: 0.6835 - val_loss: 0.5507 - val_acc: 0.7246\n",
            "Epoch 135/250\n",
            "178/178 [==============================] - 24s 133ms/step - loss: 0.6042 - acc: 0.6711 - val_loss: 0.5466 - val_acc: 0.7182\n",
            "Epoch 136/250\n",
            "178/178 [==============================] - 26s 142ms/step - loss: 0.6046 - acc: 0.6867 - val_loss: 0.5890 - val_acc: 0.7013\n",
            "Epoch 137/250\n",
            "178/178 [==============================] - 24s 134ms/step - loss: 0.6102 - acc: 0.6733 - val_loss: 0.5416 - val_acc: 0.7182\n",
            "Epoch 138/250\n",
            "178/178 [==============================] - 20s 112ms/step - loss: 0.6036 - acc: 0.6771 - val_loss: 0.5432 - val_acc: 0.7182\n",
            "Epoch 139/250\n",
            "178/178 [==============================] - 20s 109ms/step - loss: 0.6042 - acc: 0.6733 - val_loss: 0.5419 - val_acc: 0.7172\n",
            "Epoch 140/250\n",
            "178/178 [==============================] - 25s 137ms/step - loss: 0.6099 - acc: 0.6740 - val_loss: 0.5426 - val_acc: 0.7108\n",
            "Epoch 141/250\n",
            "178/178 [==============================] - 24s 134ms/step - loss: 0.6025 - acc: 0.6701 - val_loss: 0.5359 - val_acc: 0.7182\n",
            "Epoch 142/250\n",
            "178/178 [==============================] - 25s 137ms/step - loss: 0.6201 - acc: 0.6683 - val_loss: 0.5402 - val_acc: 0.7161\n",
            "Epoch 143/250\n",
            "178/178 [==============================] - 26s 142ms/step - loss: 0.6095 - acc: 0.6715 - val_loss: 0.5413 - val_acc: 0.7161\n",
            "Epoch 144/250\n",
            "178/178 [==============================] - 24s 132ms/step - loss: 0.6123 - acc: 0.6683 - val_loss: 0.5526 - val_acc: 0.7214\n",
            "Epoch 145/250\n",
            "178/178 [==============================] - 25s 136ms/step - loss: 0.6075 - acc: 0.6778 - val_loss: 0.5474 - val_acc: 0.7182\n",
            "Epoch 146/250\n",
            "178/178 [==============================] - 20s 111ms/step - loss: 0.5993 - acc: 0.6807 - val_loss: 0.5363 - val_acc: 0.7203\n",
            "Epoch 147/250\n",
            "178/178 [==============================] - 20s 109ms/step - loss: 0.5939 - acc: 0.6789 - val_loss: 0.5370 - val_acc: 0.7150\n",
            "Epoch 148/250\n",
            "178/178 [==============================] - 25s 136ms/step - loss: 0.6052 - acc: 0.6754 - val_loss: 0.5462 - val_acc: 0.7140\n",
            "Epoch 149/250\n",
            "178/178 [==============================] - 24s 133ms/step - loss: 0.5948 - acc: 0.6782 - val_loss: 0.5536 - val_acc: 0.7119\n",
            "Epoch 150/250\n",
            "178/178 [==============================] - 25s 136ms/step - loss: 0.5988 - acc: 0.6853 - val_loss: 0.5855 - val_acc: 0.7076\n",
            "Epoch 151/250\n",
            "178/178 [==============================] - 26s 143ms/step - loss: 0.5975 - acc: 0.6778 - val_loss: 0.5742 - val_acc: 0.7150\n",
            "Epoch 152/250\n",
            "178/178 [==============================] - 24s 131ms/step - loss: 0.6036 - acc: 0.6778 - val_loss: 0.5389 - val_acc: 0.7203\n",
            "Epoch 153/250\n",
            "178/178 [==============================] - 24s 134ms/step - loss: 0.6104 - acc: 0.6775 - val_loss: 0.5386 - val_acc: 0.7246\n",
            "Epoch 154/250\n",
            "178/178 [==============================] - 24s 133ms/step - loss: 0.6192 - acc: 0.6701 - val_loss: 0.5438 - val_acc: 0.7203\n",
            "Epoch 155/250\n",
            "178/178 [==============================] - 24s 133ms/step - loss: 0.6064 - acc: 0.6722 - val_loss: 0.5652 - val_acc: 0.7150\n",
            "Epoch 156/250\n",
            "178/178 [==============================] - 26s 142ms/step - loss: 0.6079 - acc: 0.6750 - val_loss: 0.6116 - val_acc: 0.6875\n",
            "Epoch 157/250\n",
            "178/178 [==============================] - 25s 135ms/step - loss: 0.6077 - acc: 0.6715 - val_loss: 0.5500 - val_acc: 0.7161\n",
            "Epoch 158/250\n",
            "178/178 [==============================] - 24s 132ms/step - loss: 0.6141 - acc: 0.6725 - val_loss: 0.5763 - val_acc: 0.7129\n",
            "Epoch 159/250\n",
            "178/178 [==============================] - 24s 135ms/step - loss: 0.5962 - acc: 0.6951 - val_loss: 0.5542 - val_acc: 0.7182\n",
            "Epoch 160/250\n",
            "178/178 [==============================] - 24s 132ms/step - loss: 0.6163 - acc: 0.6715 - val_loss: 0.6155 - val_acc: 0.6939\n",
            "Epoch 161/250\n",
            "178/178 [==============================] - 25s 139ms/step - loss: 0.6149 - acc: 0.6683 - val_loss: 0.5385 - val_acc: 0.7182\n",
            "Epoch 162/250\n",
            "178/178 [==============================] - 24s 134ms/step - loss: 0.5984 - acc: 0.6905 - val_loss: 0.5375 - val_acc: 0.7129\n",
            "Epoch 163/250\n",
            "178/178 [==============================] - 25s 138ms/step - loss: 0.6095 - acc: 0.6687 - val_loss: 0.5447 - val_acc: 0.7203\n",
            "Epoch 164/250\n",
            "178/178 [==============================] - 25s 139ms/step - loss: 0.5921 - acc: 0.6831 - val_loss: 0.5382 - val_acc: 0.7278\n",
            "Epoch 165/250\n",
            "178/178 [==============================] - 24s 133ms/step - loss: 0.6148 - acc: 0.6733 - val_loss: 0.5596 - val_acc: 0.7140\n",
            "Epoch 166/250\n",
            "178/178 [==============================] - 24s 133ms/step - loss: 0.5978 - acc: 0.6814 - val_loss: 0.5425 - val_acc: 0.7225\n",
            "Epoch 167/250\n",
            "178/178 [==============================] - 24s 132ms/step - loss: 0.5979 - acc: 0.6828 - val_loss: 0.5998 - val_acc: 0.6875\n",
            "Epoch 168/250\n",
            "178/178 [==============================] - 25s 137ms/step - loss: 0.6169 - acc: 0.6725 - val_loss: 0.5523 - val_acc: 0.7193\n",
            "Epoch 169/250\n",
            "178/178 [==============================] - 26s 143ms/step - loss: 0.6090 - acc: 0.6822 - val_loss: 0.6261 - val_acc: 0.6748\n",
            "Epoch 170/250\n",
            "178/178 [==============================] - 24s 133ms/step - loss: 0.6093 - acc: 0.6697 - val_loss: 0.5446 - val_acc: 0.7193\n",
            "Epoch 171/250\n",
            "178/178 [==============================] - 24s 133ms/step - loss: 0.5935 - acc: 0.6923 - val_loss: 0.5942 - val_acc: 0.6907\n",
            "Epoch 172/250\n",
            "178/178 [==============================] - 25s 137ms/step - loss: 0.6126 - acc: 0.6778 - val_loss: 0.5671 - val_acc: 0.6939\n",
            "Epoch 173/250\n",
            "178/178 [==============================] - 24s 132ms/step - loss: 0.6149 - acc: 0.6680 - val_loss: 0.6143 - val_acc: 0.6886\n",
            "Epoch 174/250\n",
            "178/178 [==============================] - 25s 137ms/step - loss: 0.6032 - acc: 0.6736 - val_loss: 0.6105 - val_acc: 0.6875\n",
            "Epoch 175/250\n",
            "178/178 [==============================] - 25s 136ms/step - loss: 0.6115 - acc: 0.6761 - val_loss: 0.5921 - val_acc: 0.6981\n",
            "Epoch 176/250\n",
            "178/178 [==============================] - 24s 134ms/step - loss: 0.5966 - acc: 0.6905 - val_loss: 0.5930 - val_acc: 0.6981\n",
            "Epoch 177/250\n",
            "178/178 [==============================] - 25s 137ms/step - loss: 0.5946 - acc: 0.6891 - val_loss: 0.5611 - val_acc: 0.7055\n",
            "Epoch 178/250\n",
            "178/178 [==============================] - 24s 132ms/step - loss: 0.6008 - acc: 0.6870 - val_loss: 0.5420 - val_acc: 0.7256\n",
            "Epoch 179/250\n",
            "178/178 [==============================] - 24s 132ms/step - loss: 0.5906 - acc: 0.6994 - val_loss: 0.5353 - val_acc: 0.7203\n",
            "Epoch 180/250\n",
            "178/178 [==============================] - 25s 137ms/step - loss: 0.5970 - acc: 0.6842 - val_loss: 0.5325 - val_acc: 0.7309\n",
            "Epoch 181/250\n",
            "178/178 [==============================] - 25s 136ms/step - loss: 0.6104 - acc: 0.6761 - val_loss: 0.5672 - val_acc: 0.7023\n",
            "Epoch 182/250\n",
            "178/178 [==============================] - 26s 143ms/step - loss: 0.6046 - acc: 0.6736 - val_loss: 0.5367 - val_acc: 0.7299\n",
            "Epoch 183/250\n",
            "178/178 [==============================] - 24s 133ms/step - loss: 0.5996 - acc: 0.6771 - val_loss: 0.5996 - val_acc: 0.6960\n",
            "Epoch 184/250\n",
            "178/178 [==============================] - 19s 107ms/step - loss: 0.6030 - acc: 0.6718 - val_loss: 0.6487 - val_acc: 0.6515\n",
            "Epoch 185/250\n",
            "178/178 [==============================] - 26s 142ms/step - loss: 0.6115 - acc: 0.6810 - val_loss: 0.5443 - val_acc: 0.7214\n",
            "Epoch 186/250\n",
            "178/178 [==============================] - 20s 110ms/step - loss: 0.5998 - acc: 0.6814 - val_loss: 0.6467 - val_acc: 0.6621\n",
            "Epoch 187/250\n",
            "178/178 [==============================] - 24s 131ms/step - loss: 0.6123 - acc: 0.6718 - val_loss: 0.5419 - val_acc: 0.7246\n",
            "Epoch 188/250\n",
            "178/178 [==============================] - 26s 142ms/step - loss: 0.6140 - acc: 0.6708 - val_loss: 0.5302 - val_acc: 0.7246\n",
            "Epoch 189/250\n",
            "178/178 [==============================] - 25s 136ms/step - loss: 0.6074 - acc: 0.6687 - val_loss: 0.5501 - val_acc: 0.7140\n",
            "Epoch 190/250\n",
            "178/178 [==============================] - 25s 135ms/step - loss: 0.6052 - acc: 0.6824 - val_loss: 0.5526 - val_acc: 0.7087\n",
            "Epoch 191/250\n",
            "178/178 [==============================] - 24s 132ms/step - loss: 0.5995 - acc: 0.6782 - val_loss: 0.6536 - val_acc: 0.6515\n",
            "Epoch 192/250\n",
            "178/178 [==============================] - 24s 132ms/step - loss: 0.6059 - acc: 0.6669 - val_loss: 0.5476 - val_acc: 0.7203\n",
            "Epoch 193/250\n",
            "178/178 [==============================] - 25s 137ms/step - loss: 0.6017 - acc: 0.6831 - val_loss: 0.5344 - val_acc: 0.7288\n",
            "Epoch 194/250\n",
            "178/178 [==============================] - 24s 134ms/step - loss: 0.5987 - acc: 0.6831 - val_loss: 0.5357 - val_acc: 0.7309\n",
            "Epoch 195/250\n",
            "178/178 [==============================] - 25s 137ms/step - loss: 0.5918 - acc: 0.6867 - val_loss: 0.5586 - val_acc: 0.7129\n",
            "Epoch 196/250\n",
            "178/178 [==============================] - 26s 142ms/step - loss: 0.6040 - acc: 0.6796 - val_loss: 0.5397 - val_acc: 0.7256\n",
            "Epoch 197/250\n",
            "178/178 [==============================] - 24s 133ms/step - loss: 0.6169 - acc: 0.6771 - val_loss: 0.5832 - val_acc: 0.7066\n",
            "Epoch 198/250\n",
            "178/178 [==============================] - 24s 133ms/step - loss: 0.6193 - acc: 0.6648 - val_loss: 0.5875 - val_acc: 0.7023\n",
            "Epoch 199/250\n",
            "178/178 [==============================] - 24s 133ms/step - loss: 0.6088 - acc: 0.6718 - val_loss: 0.5403 - val_acc: 0.7203\n",
            "Epoch 200/250\n",
            "178/178 [==============================] - 24s 134ms/step - loss: 0.5985 - acc: 0.6853 - val_loss: 0.5996 - val_acc: 0.6907\n",
            "Epoch 201/250\n",
            "178/178 [==============================] - 26s 141ms/step - loss: 0.5977 - acc: 0.6807 - val_loss: 0.5393 - val_acc: 0.7214\n",
            "Epoch 202/250\n",
            "178/178 [==============================] - 20s 111ms/step - loss: 0.6028 - acc: 0.6881 - val_loss: 0.5308 - val_acc: 0.7278\n",
            "Epoch 203/250\n",
            "178/178 [==============================] - 20s 111ms/step - loss: 0.6136 - acc: 0.6683 - val_loss: 0.5626 - val_acc: 0.7034\n",
            "Epoch 204/250\n",
            "178/178 [==============================] - 26s 144ms/step - loss: 0.5969 - acc: 0.6835 - val_loss: 0.6107 - val_acc: 0.6886\n",
            "Epoch 205/250\n",
            "178/178 [==============================] - 24s 134ms/step - loss: 0.6119 - acc: 0.6750 - val_loss: 0.5689 - val_acc: 0.7076\n",
            "Epoch 206/250\n",
            "178/178 [==============================] - 24s 132ms/step - loss: 0.6089 - acc: 0.6725 - val_loss: 0.6448 - val_acc: 0.6727\n",
            "Epoch 207/250\n",
            "178/178 [==============================] - 25s 139ms/step - loss: 0.6164 - acc: 0.6757 - val_loss: 0.5676 - val_acc: 0.7108\n",
            "Epoch 208/250\n",
            "178/178 [==============================] - 20s 112ms/step - loss: 0.6074 - acc: 0.6796 - val_loss: 0.5921 - val_acc: 0.6970\n",
            "Epoch 209/250\n",
            "178/178 [==============================] - 20s 111ms/step - loss: 0.6065 - acc: 0.6708 - val_loss: 0.5615 - val_acc: 0.7076\n",
            "Epoch 210/250\n",
            "178/178 [==============================] - 25s 138ms/step - loss: 0.5921 - acc: 0.6870 - val_loss: 0.5316 - val_acc: 0.7331\n",
            "Epoch 211/250\n",
            "178/178 [==============================] - 20s 111ms/step - loss: 0.6019 - acc: 0.6764 - val_loss: 0.5759 - val_acc: 0.7066\n",
            "Epoch 212/250\n",
            "178/178 [==============================] - 26s 142ms/step - loss: 0.6162 - acc: 0.6789 - val_loss: 0.6200 - val_acc: 0.6801\n",
            "Epoch 213/250\n",
            "178/178 [==============================] - 25s 137ms/step - loss: 0.6074 - acc: 0.6789 - val_loss: 0.5713 - val_acc: 0.6981\n",
            "Epoch 214/250\n",
            "178/178 [==============================] - 24s 134ms/step - loss: 0.5936 - acc: 0.6881 - val_loss: 0.5647 - val_acc: 0.7066\n",
            "Epoch 215/250\n",
            "178/178 [==============================] - 24s 134ms/step - loss: 0.6062 - acc: 0.6874 - val_loss: 0.6029 - val_acc: 0.6801\n",
            "Epoch 216/250\n",
            "178/178 [==============================] - 24s 132ms/step - loss: 0.6034 - acc: 0.6754 - val_loss: 0.6287 - val_acc: 0.6737\n",
            "Epoch 217/250\n",
            "178/178 [==============================] - 24s 132ms/step - loss: 0.6115 - acc: 0.6708 - val_loss: 0.5423 - val_acc: 0.7267\n",
            "Epoch 218/250\n",
            "178/178 [==============================] - 24s 132ms/step - loss: 0.6123 - acc: 0.6662 - val_loss: 0.5362 - val_acc: 0.7341\n",
            "Epoch 219/250\n",
            "178/178 [==============================] - 25s 137ms/step - loss: 0.5890 - acc: 0.6877 - val_loss: 0.5399 - val_acc: 0.7256\n",
            "Epoch 220/250\n",
            "178/178 [==============================] - 24s 134ms/step - loss: 0.5949 - acc: 0.6870 - val_loss: 0.5354 - val_acc: 0.7256\n",
            "Epoch 221/250\n",
            "178/178 [==============================] - 25s 137ms/step - loss: 0.6209 - acc: 0.6680 - val_loss: 0.5364 - val_acc: 0.7331\n",
            "Epoch 222/250\n",
            "178/178 [==============================] - 26s 142ms/step - loss: 0.6055 - acc: 0.6775 - val_loss: 0.5504 - val_acc: 0.7182\n",
            "Epoch 223/250\n",
            "178/178 [==============================] - 24s 134ms/step - loss: 0.6118 - acc: 0.6701 - val_loss: 0.5302 - val_acc: 0.7203\n",
            "Epoch 224/250\n",
            "178/178 [==============================] - 24s 135ms/step - loss: 0.6047 - acc: 0.6782 - val_loss: 0.5392 - val_acc: 0.7193\n",
            "Epoch 225/250\n",
            "178/178 [==============================] - 24s 134ms/step - loss: 0.6139 - acc: 0.6680 - val_loss: 0.5596 - val_acc: 0.7108\n",
            "Epoch 226/250\n",
            "178/178 [==============================] - 24s 134ms/step - loss: 0.6019 - acc: 0.6831 - val_loss: 0.5338 - val_acc: 0.7214\n",
            "Epoch 227/250\n",
            "178/178 [==============================] - 26s 142ms/step - loss: 0.6011 - acc: 0.6838 - val_loss: 0.5332 - val_acc: 0.7288\n",
            "Epoch 228/250\n",
            "178/178 [==============================] - 25s 138ms/step - loss: 0.5979 - acc: 0.6800 - val_loss: 0.5727 - val_acc: 0.6970\n",
            "Epoch 229/250\n",
            "178/178 [==============================] - 25s 137ms/step - loss: 0.6077 - acc: 0.6708 - val_loss: 0.5683 - val_acc: 0.6981\n",
            "Epoch 230/250\n",
            "178/178 [==============================] - 25s 139ms/step - loss: 0.6076 - acc: 0.6814 - val_loss: 0.6271 - val_acc: 0.6801\n",
            "Epoch 231/250\n",
            "178/178 [==============================] - 24s 134ms/step - loss: 0.6186 - acc: 0.6673 - val_loss: 0.5428 - val_acc: 0.7235\n",
            "Epoch 232/250\n",
            "178/178 [==============================] - 24s 134ms/step - loss: 0.6091 - acc: 0.6733 - val_loss: 0.6198 - val_acc: 0.6790\n",
            "Epoch 233/250\n",
            "178/178 [==============================] - 24s 134ms/step - loss: 0.6029 - acc: 0.6750 - val_loss: 0.5344 - val_acc: 0.7235\n",
            "Epoch 234/250\n",
            "178/178 [==============================] - 25s 137ms/step - loss: 0.6034 - acc: 0.6856 - val_loss: 0.5559 - val_acc: 0.7214\n",
            "Epoch 235/250\n",
            "178/178 [==============================] - 26s 143ms/step - loss: 0.6072 - acc: 0.6796 - val_loss: 0.5416 - val_acc: 0.7203\n",
            "Epoch 236/250\n",
            "178/178 [==============================] - 25s 136ms/step - loss: 0.6056 - acc: 0.6740 - val_loss: 0.5821 - val_acc: 0.6907\n",
            "Epoch 237/250\n",
            "178/178 [==============================] - 19s 107ms/step - loss: 0.6042 - acc: 0.6782 - val_loss: 0.5491 - val_acc: 0.7203\n",
            "Epoch 238/250\n",
            "178/178 [==============================] - 26s 142ms/step - loss: 0.6034 - acc: 0.6807 - val_loss: 0.5500 - val_acc: 0.7193\n",
            "Epoch 239/250\n",
            "178/178 [==============================] - 25s 138ms/step - loss: 0.6010 - acc: 0.6814 - val_loss: 0.5345 - val_acc: 0.7278\n",
            "Epoch 240/250\n",
            "178/178 [==============================] - 24s 133ms/step - loss: 0.5986 - acc: 0.6796 - val_loss: 0.5320 - val_acc: 0.7267\n",
            "Epoch 241/250\n",
            "178/178 [==============================] - 25s 137ms/step - loss: 0.6030 - acc: 0.6845 - val_loss: 0.5297 - val_acc: 0.7267\n",
            "Epoch 242/250\n",
            "178/178 [==============================] - 24s 134ms/step - loss: 0.6005 - acc: 0.6849 - val_loss: 0.5635 - val_acc: 0.7055\n",
            "Epoch 243/250\n",
            "178/178 [==============================] - 25s 137ms/step - loss: 0.5978 - acc: 0.6881 - val_loss: 0.5468 - val_acc: 0.7235\n",
            "Epoch 244/250\n",
            "178/178 [==============================] - 24s 134ms/step - loss: 0.6074 - acc: 0.6722 - val_loss: 0.5629 - val_acc: 0.7087\n",
            "Epoch 245/250\n",
            "178/178 [==============================] - 25s 136ms/step - loss: 0.6101 - acc: 0.6778 - val_loss: 0.5481 - val_acc: 0.7193\n",
            "Epoch 246/250\n",
            "178/178 [==============================] - 26s 144ms/step - loss: 0.6090 - acc: 0.6761 - val_loss: 0.5446 - val_acc: 0.7193\n",
            "Epoch 247/250\n",
            "178/178 [==============================] - 25s 137ms/step - loss: 0.6025 - acc: 0.6768 - val_loss: 0.5522 - val_acc: 0.7172\n",
            "Epoch 248/250\n",
            "178/178 [==============================] - 24s 135ms/step - loss: 0.6034 - acc: 0.6736 - val_loss: 0.5916 - val_acc: 0.6960\n",
            "Epoch 249/250\n",
            "178/178 [==============================] - 25s 138ms/step - loss: 0.5987 - acc: 0.6828 - val_loss: 0.5790 - val_acc: 0.7013\n",
            "Epoch 250/250\n",
            "178/178 [==============================] - 25s 136ms/step - loss: 0.6132 - acc: 0.6757 - val_loss: 0.5423 - val_acc: 0.7193\n"
          ]
        }
      ]
    },
    {
      "cell_type": "code",
      "source": [
        "acc = history.history['acc']\n",
        "val_acc = history.history['val_acc']\n",
        "loss = history.history['loss']\n",
        "val_loss = history.history['val_loss']\n",
        "\n",
        "epochs_x = range(len(acc))\n",
        "\n",
        "plt.plot(epochs_x, acc, 'go', label='Training acc')\n",
        "plt.plot(epochs_x, val_acc, 'k', label='Validation acc')\n",
        "plt.title('Training and validation accuracy')\n",
        "plt.legend()\n",
        "\n",
        "plt.figure()\n",
        "\n",
        "plt.plot(epochs_x, loss, 'go', label='Training loss')\n",
        "plt.plot(epochs_x, val_loss, 'k', label='Validation loss')\n",
        "plt.title('Training and validation loss')\n",
        "plt.legend()\n",
        "\n",
        "plt.show()"
      ],
      "metadata": {
        "id": "kwylTJpTP5XI",
        "colab": {
          "base_uri": "https://localhost:8080/",
          "height": 545
        },
        "outputId": "1aab91cc-7a9a-4333-c264-23131622aece"
      },
      "execution_count": 14,
      "outputs": [
        {
          "output_type": "display_data",
          "data": {
            "text/plain": [
              "<Figure size 432x288 with 1 Axes>"
            ],
            "image/png": "[encoded data removed]"
          },
          "metadata": {
            "needs_background": "light"
          }
        },
        {
          "output_type": "display_data",
          "data": {
            "text/plain": [
              "<Figure size 432x288 with 1 Axes>"
            ],
            "image/png": "[encoded data removed]"
          },
          "metadata": {
            "needs_background": "light"
          }
        }
      ]
    },
    {
      "cell_type": "markdown",
      "source": [
        "#Download the model"
      ],
      "metadata": {
        "id": "lD-vKaoHQAFd"
      }
    },
    {
      "cell_type": "code",
      "source": [
        "os.makedirs('/content/drive/My Drive/cut_panoramic/Model', exist_ok=True)\n",
        "model.save('/content/drive/MyDrive/cut_panoramic/Model/ครั้งที่ 3/GG3_1e-4_250.h5')"
      ],
      "metadata": {
        "id": "74dL7-HLP_Sh"
      },
      "execution_count": 15,
      "outputs": []
    },
    {
      "cell_type": "code",
      "source": [
        "# from google.colab import files\n",
        "# files.download('/content/drive/My Drive/cut_panoramic/Model/2_รอบที่2_Gender_250.h5')"
      ],
      "metadata": {
        "id": "qcPW-brHQDpc"
      },
      "execution_count": 16,
      "outputs": []
    },
    {
      "cell_type": "code",
      "source": [],
      "metadata": {
        "id": "r5WoXVo8mVpF"
      },
      "execution_count": 16,
      "outputs": []
    }
  ]
}