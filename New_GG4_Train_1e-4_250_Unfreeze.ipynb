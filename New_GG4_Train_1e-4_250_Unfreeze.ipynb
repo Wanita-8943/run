{
  "nbformat": 4,
  "nbformat_minor": 0,
  "metadata": {
    "colab": {
      "provenance": [],
      "machine_shape": "hm",
      "include_colab_link": true
    },
    "kernelspec": {
      "name": "python3",
      "display_name": "Python 3"
    },
    "language_info": {
      "name": "python"
    },
    "accelerator": "GPU",
    "gpuClass": "premium"
  },
  "cells": [
    {
      "cell_type": "markdown",
      "metadata": {
        "id": "view-in-github",
        "colab_type": "text"
      },
      "source": [
        "<a href=\"https://colab.research.google.com/github/Wanita-8943/run/blob/main/New_GG4_Train_1e-4_250_Unfreeze.ipynb\" target=\"_parent\"><img src=\"https://colab.research.google.com/assets/colab-badge.svg\" alt=\"Open In Colab\"/></a>"
      ]
    },
    {
      "cell_type": "code",
      "execution_count": 1,
      "metadata": {
        "id": "KKSs7cyoPHcD"
      },
      "outputs": [],
      "source": [
        "import pandas as pd\n",
        "import shutil"
      ]
    },
    {
      "cell_type": "code",
      "source": [
        "from google.colab import drive\n",
        "drive.mount('/content/drive')"
      ],
      "metadata": {
        "colab": {
          "base_uri": "https://localhost:8080/"
        },
        "id": "Klm1B91QlvKd",
        "outputId": "8c21f2b1-c610-44fa-fc2d-bf6ed38c57a6"
      },
      "execution_count": 2,
      "outputs": [
        {
          "output_type": "stream",
          "name": "stdout",
          "text": [
            "Mounted at /content/drive\n"
          ]
        }
      ]
    },
    {
      "cell_type": "code",
      "source": [
        "from tensorflow.keras import models\n",
        "from tensorflow.keras import layers\n",
        "from tensorflow.keras import optimizers\n",
        "import os\n",
        "import glob\n",
        "import shutil\n",
        "import sys\n",
        "import numpy as np\n",
        "from skimage.io import imread\n",
        "import matplotlib.pyplot as plt\n",
        "from IPython.display import Image\n",
        "%matplotlib inline"
      ],
      "metadata": {
        "id": "1pX9g1HxPM2f"
      },
      "execution_count": 3,
      "outputs": []
    },
    {
      "cell_type": "code",
      "source": [
        "batch_size = 16\n",
        "width = 150\n",
        "height = 150\n",
        "epochs = 250\n",
        "NUM_TRAIN = 2850\n",
        "NUM_TEST = 950\n",
        "dropout_rate = 0.2\n",
        "input_shape = (height, width, 3)"
      ],
      "metadata": {
        "id": "eSFtvGyvPM6O"
      },
      "execution_count": 4,
      "outputs": []
    },
    {
      "cell_type": "code",
      "source": [
        "#ดึงข้อมูลใน Github มาใช้\n",
        "import os\n",
        "%cd /content\n",
        "if not os.path.isdir(\"efficientnet_keras_transfer_learning\"):\n",
        " !git clone https://github.com/Wanita-8943/efficientnet_keras_transfer_learning\n",
        "%cd efficientnet_keras_transfer_learning/"
      ],
      "metadata": {
        "colab": {
          "base_uri": "https://localhost:8080/"
        },
        "id": "lb4K4CsMPNAW",
        "outputId": "0da37949-c16a-43f5-fcaa-8510533e06c8"
      },
      "execution_count": 5,
      "outputs": [
        {
          "output_type": "stream",
          "name": "stdout",
          "text": [
            "/content\n",
            "Cloning into 'efficientnet_keras_transfer_learning'...\n",
            "remote: Enumerating objects: 1067, done.\u001b[K\n",
            "remote: Counting objects: 100% (230/230), done.\u001b[K\n",
            "remote: Compressing objects: 100% (151/151), done.\u001b[K\n",
            "remote: Total 1067 (delta 114), reused 161 (delta 79), pack-reused 837\u001b[K\n",
            "Receiving objects: 100% (1067/1067), 13.93 MiB | 22.74 MiB/s, done.\n",
            "Resolving deltas: 100% (611/611), done.\n",
            "/content/efficientnet_keras_transfer_learning\n"
          ]
        }
      ]
    },
    {
      "cell_type": "code",
      "source": [
        "# Options: EfficientNetB0, EfficientNetB1, EfficientNetB2, EfficientNetB3\n",
        "# Higher the number, the more complex the model is.\n",
        "from efficientnet import EfficientNetB0 as Net\n",
        "from efficientnet import center_crop_and_resize, preprocess_input"
      ],
      "metadata": {
        "id": "eyBg0dLKPND3"
      },
      "execution_count": 6,
      "outputs": []
    },
    {
      "cell_type": "code",
      "source": [
        "# loading pretrained conv base model\n",
        "# โหลดโมเดล มาโดยตัด output ของโมเดลออก เเต่ยังใช้ input อันเดิม\n",
        "# เเละโหลด weight ของโมเดล มาด้วยที่ชื่อว่า imagenet\n",
        "conv_base = Net(weights='imagenet', include_top=False, input_shape=input_shape)"
      ],
      "metadata": {
        "id": "9VBe9W9-H54h",
        "colab": {
          "base_uri": "https://localhost:8080/"
        },
        "outputId": "a4f92172-bca1-432c-9012-81abf19b6fe0"
      },
      "execution_count": 7,
      "outputs": [
        {
          "output_type": "stream",
          "name": "stderr",
          "text": [
            "WARNING:tensorflow:From /usr/local/lib/python3.9/dist-packages/tensorflow/python/autograph/pyct/static_analysis/liveness.py:83: Analyzer.lamba_check (from tensorflow.python.autograph.pyct.static_analysis.liveness) is deprecated and will be removed after 2023-09-23.\n",
            "Instructions for updating:\n",
            "Lambda fuctions will be no more assumed to be used in the statement where they are used, or at least in the same block. https://github.com/tensorflow/tensorflow/issues/56089\n"
          ]
        },
        {
          "output_type": "stream",
          "name": "stdout",
          "text": [
            "Downloading data from https://github.com/qubvel/efficientnet/releases/download/v0.0.1/efficientnet-b0_imagenet_1000_notop.h5\n",
            "16717576/16717576 [==============================] - 1s 0us/step\n"
          ]
        }
      ]
    },
    {
      "cell_type": "code",
      "source": [
        "base_dir = '/content/drive/MyDrive/TVT_Gender'\n",
        "os.makedirs(base_dir, exist_ok=True)\n",
        "\n",
        "# Directories for our training,\n",
        "# validation and test splits\n",
        "train_dir = os.path.join(base_dir, 'train')\n",
        "os.makedirs(train_dir, exist_ok=True)\n",
        "validation_dir = os.path.join(base_dir, 'validation')\n",
        "os.makedirs(validation_dir, exist_ok=True)\n",
        "test_dir = os.path.join(base_dir, 'test')\n",
        "os.makedirs(test_dir, exist_ok=True)"
      ],
      "metadata": {
        "id": "Jwpq_-KvPef8"
      },
      "execution_count": 8,
      "outputs": []
    },
    {
      "cell_type": "markdown",
      "source": [
        "#load model"
      ],
      "metadata": {
        "id": "od-ZSNm5PoGy"
      }
    },
    {
      "cell_type": "code",
      "source": [
        "import sys\n",
        "sys.path.append('/content/drive/MyDrive/cut_panoramic/Model/ครั้งที่ 3/GG3_1e-4_250.h5')\n",
        "\n",
        "from efficientnet.layers import Swish, DropConnect\n",
        "from efficientnet.model import ConvKernalInitializer\n",
        "from tensorflow.keras.utils import get_custom_objects\n",
        "\n",
        "get_custom_objects().update({\n",
        "    'ConvKernalInitializer': ConvKernalInitializer,\n",
        "    'Swish': Swish,\n",
        "    'DropConnect':DropConnect\n",
        "})"
      ],
      "metadata": {
        "id": "n5iPL5MNPkhE"
      },
      "execution_count": 9,
      "outputs": []
    },
    {
      "cell_type": "code",
      "source": [
        "#load model \n",
        "from tensorflow.keras.models import load_model\n",
        "model = load_model('/content/drive/MyDrive/cut_panoramic/Model/ครั้งที่ 3/GG3_1e-4_250.h5')\n",
        "height = width = model.input_shape[1]"
      ],
      "metadata": {
        "id": "plYz49xMPkly"
      },
      "execution_count": 10,
      "outputs": []
    },
    {
      "cell_type": "code",
      "source": [
        "model.summary()"
      ],
      "metadata": {
        "colab": {
          "base_uri": "https://localhost:8080/"
        },
        "id": "z6IOPBflFbvc",
        "outputId": "f2b6db12-a9bd-4a0a-a6d6-b571ca6ee74f"
      },
      "execution_count": 11,
      "outputs": [
        {
          "output_type": "stream",
          "name": "stdout",
          "text": [
            "Model: \"sequential\"\n",
            "_________________________________________________________________\n",
            " Layer (type)                Output Shape              Param #   \n",
            "=================================================================\n",
            " efficientnet-b0 (Functional  (None, 5, 5, 1280)       4049564   \n",
            " )                                                               \n",
            "                                                                 \n",
            " gap (GlobalMaxPooling2D)    (None, 1280)              0         \n",
            "                                                                 \n",
            " dropout_out (Dropout)       (None, 1280)              0         \n",
            "                                                                 \n",
            " fc_out (Dense)              (None, 2)                 2562      \n",
            "                                                                 \n",
            "=================================================================\n",
            "Total params: 4,052,126\n",
            "Trainable params: 2,562\n",
            "Non-trainable params: 4,049,564\n",
            "_________________________________________________________________\n"
          ]
        }
      ]
    },
    {
      "cell_type": "code",
      "source": [
        "# Train ด้วย ImageDataGenerator ของ Keras ซึ่งจะเพิ่มข้อมูลเสริมระหว่างการฝึกเพื่อลดโอกาสเกิด overfitting\n",
        "#overfitting เกิดจากข้อมูลที่ซับซ้อนกันเกินไป\n",
        "from tensorflow.keras.preprocessing.image import ImageDataGenerator\n",
        "\n",
        "train_datagen = ImageDataGenerator(\n",
        "      rescale=1./255, #โมเดลส่วนใหญ่ต้องใช้ RGB ในช่วง 0–1\n",
        "      rotation_range=40,\n",
        "      width_shift_range=0.2,\n",
        "      height_shift_range=0.2,\n",
        "      shear_range=0.2,\n",
        "      zoom_range=0.2,\n",
        "      horizontal_flip=True,\n",
        "      fill_mode='nearest')\n",
        "\n",
        "# Note that the validation data should not be augmented!\n",
        "test_datagen = ImageDataGenerator(rescale=1./255)\n",
        "\n",
        "train_generator = train_datagen.flow_from_directory(\n",
        "        # This is the target directory #ไดเรกเป้าหมาย\n",
        "        train_dir,\n",
        "        # รูปภาพทั้งหมดจะถูกปรับขนาดตามความสูงและความกว้างของเป้าหมาย\n",
        "        target_size=(height, width),\n",
        "        batch_size=batch_size,\n",
        "        # Since we use categorical_crossentropy loss, we need categorical labels\n",
        "        #เนื่องจากเราใช้ categorical_crossentropy loss เราจึงต้องมีป้ายกำกับตามหมวดหมู่\n",
        "        class_mode='categorical')\n",
        "\n",
        "validation_generator = test_datagen.flow_from_directory( #การดึงภาพจาก Directory มาเข้าโมเดล \n",
        "        validation_dir,\n",
        "        target_size=(height, width),\n",
        "        batch_size=batch_size,\n",
        "        class_mode='categorical')"
      ],
      "metadata": {
        "colab": {
          "base_uri": "https://localhost:8080/"
        },
        "id": "KBMZbdr2Pgw4",
        "outputId": "ea11e653-421b-4bfa-be93-3be01b3edd76"
      },
      "execution_count": 12,
      "outputs": [
        {
          "output_type": "stream",
          "name": "stdout",
          "text": [
            "Found 2850 images belonging to 2 classes.\n",
            "Found 950 images belonging to 2 classes.\n"
          ]
        }
      ]
    },
    {
      "cell_type": "code",
      "source": [
        "# multiply_16\n",
        "# set 'multiply_16' and following layers trainable\n",
        "model.trainable = True\n",
        "\n",
        "set_trainable = False\n",
        "for layer in conv_base.layers:\n",
        "    if layer.name == 'multiply_16':\n",
        "        set_trainable = True\n",
        "    if set_trainable:\n",
        "        layer.trainable = True\n",
        "    else:\n",
        "        layer.trainable = False  "
      ],
      "metadata": {
        "id": "TKGhc2JPcPDm"
      },
      "execution_count": 13,
      "outputs": []
    },
    {
      "cell_type": "code",
      "source": [
        "model.summary()"
      ],
      "metadata": {
        "colab": {
          "base_uri": "https://localhost:8080/"
        },
        "id": "ynEC7TY3cUEe",
        "outputId": "165cf3d3-3b21-4bfc-f067-38b53f2b8459"
      },
      "execution_count": 14,
      "outputs": [
        {
          "output_type": "stream",
          "name": "stdout",
          "text": [
            "Model: \"sequential\"\n",
            "_________________________________________________________________\n",
            " Layer (type)                Output Shape              Param #   \n",
            "=================================================================\n",
            " efficientnet-b0 (Functional  (None, 5, 5, 1280)       4049564   \n",
            " )                                                               \n",
            "                                                                 \n",
            " gap (GlobalMaxPooling2D)    (None, 1280)              0         \n",
            "                                                                 \n",
            " dropout_out (Dropout)       (None, 1280)              0         \n",
            "                                                                 \n",
            " fc_out (Dense)              (None, 2)                 2562      \n",
            "                                                                 \n",
            "=================================================================\n",
            "Total params: 4,052,126\n",
            "Trainable params: 4,010,110\n",
            "Non-trainable params: 42,016\n",
            "_________________________________________________________________\n"
          ]
        }
      ]
    },
    {
      "cell_type": "code",
      "source": [
        "history = model.fit_generator(\n",
        "      train_generator,\n",
        "      steps_per_epoch= NUM_TRAIN //batch_size,\n",
        "      epochs=epochs,\n",
        "      validation_data=validation_generator,\n",
        "      validation_steps= NUM_TEST //batch_size,\n",
        "      verbose=1,\n",
        "      use_multiprocessing=True,\n",
        "      workers=4)"
      ],
      "metadata": {
        "colab": {
          "base_uri": "https://localhost:8080/"
        },
        "id": "C9Cf1dwyP1PD",
        "outputId": "6bfc0eda-a72c-4e23-d3b7-a0dc52d05fc8"
      },
      "execution_count": 15,
      "outputs": [
        {
          "output_type": "stream",
          "name": "stderr",
          "text": [
            "<ipython-input-15-caa7b37242a8>:1: UserWarning: `Model.fit_generator` is deprecated and will be removed in a future version. Please use `Model.fit`, which supports generators.\n",
            "  history = model.fit_generator(\n"
          ]
        },
        {
          "output_type": "stream",
          "name": "stdout",
          "text": [
            "Epoch 1/250\n",
            "178/178 [==============================] - 354s 2s/step - loss: 0.6069 - acc: 0.6722 - val_loss: 0.5367 - val_acc: 0.7309\n",
            "Epoch 2/250\n",
            "178/178 [==============================] - 16s 88ms/step - loss: 0.6194 - acc: 0.6708 - val_loss: 0.5429 - val_acc: 0.7193\n",
            "Epoch 3/250\n",
            "178/178 [==============================] - 16s 88ms/step - loss: 0.5970 - acc: 0.6849 - val_loss: 0.5500 - val_acc: 0.7182\n",
            "Epoch 4/250\n",
            "178/178 [==============================] - 16s 89ms/step - loss: 0.6174 - acc: 0.6680 - val_loss: 0.5549 - val_acc: 0.7172\n",
            "Epoch 5/250\n",
            "178/178 [==============================] - 16s 88ms/step - loss: 0.6056 - acc: 0.6764 - val_loss: 0.5455 - val_acc: 0.7214\n",
            "Epoch 6/250\n",
            "178/178 [==============================] - 16s 89ms/step - loss: 0.5884 - acc: 0.6856 - val_loss: 0.5339 - val_acc: 0.7278\n",
            "Epoch 7/250\n",
            "178/178 [==============================] - 16s 89ms/step - loss: 0.6076 - acc: 0.6673 - val_loss: 0.5315 - val_acc: 0.7256\n",
            "Epoch 8/250\n",
            "178/178 [==============================] - 16s 88ms/step - loss: 0.6004 - acc: 0.6789 - val_loss: 0.6565 - val_acc: 0.6462\n",
            "Epoch 9/250\n",
            "178/178 [==============================] - 16s 87ms/step - loss: 0.6121 - acc: 0.6743 - val_loss: 0.5342 - val_acc: 0.7256\n",
            "Epoch 10/250\n",
            "178/178 [==============================] - 16s 88ms/step - loss: 0.6108 - acc: 0.6757 - val_loss: 0.5703 - val_acc: 0.7055\n",
            "Epoch 11/250\n",
            "178/178 [==============================] - 16s 89ms/step - loss: 0.6003 - acc: 0.6736 - val_loss: 0.5903 - val_acc: 0.6949\n",
            "Epoch 12/250\n",
            "178/178 [==============================] - 16s 89ms/step - loss: 0.6058 - acc: 0.6845 - val_loss: 0.5486 - val_acc: 0.7161\n",
            "Epoch 13/250\n",
            "178/178 [==============================] - 16s 91ms/step - loss: 0.6064 - acc: 0.6750 - val_loss: 0.5588 - val_acc: 0.7129\n",
            "Epoch 14/250\n",
            "178/178 [==============================] - 16s 89ms/step - loss: 0.6052 - acc: 0.6895 - val_loss: 0.5416 - val_acc: 0.7246\n",
            "Epoch 15/250\n",
            "178/178 [==============================] - 16s 90ms/step - loss: 0.6034 - acc: 0.6831 - val_loss: 0.5384 - val_acc: 0.7214\n",
            "Epoch 16/250\n",
            "178/178 [==============================] - 16s 89ms/step - loss: 0.5920 - acc: 0.6937 - val_loss: 0.5612 - val_acc: 0.7182\n",
            "Epoch 17/250\n",
            "178/178 [==============================] - 16s 89ms/step - loss: 0.6015 - acc: 0.6770 - val_loss: 0.5539 - val_acc: 0.7172\n",
            "Epoch 18/250\n",
            "178/178 [==============================] - 16s 88ms/step - loss: 0.5959 - acc: 0.6895 - val_loss: 0.5393 - val_acc: 0.7150\n",
            "Epoch 19/250\n",
            "178/178 [==============================] - 16s 88ms/step - loss: 0.6128 - acc: 0.6616 - val_loss: 0.5402 - val_acc: 0.7172\n",
            "Epoch 20/250\n",
            "178/178 [==============================] - 16s 88ms/step - loss: 0.5948 - acc: 0.6905 - val_loss: 0.5530 - val_acc: 0.7108\n",
            "Epoch 21/250\n",
            "178/178 [==============================] - 16s 89ms/step - loss: 0.6186 - acc: 0.6743 - val_loss: 0.5417 - val_acc: 0.7203\n",
            "Epoch 22/250\n",
            "178/178 [==============================] - 16s 90ms/step - loss: 0.6001 - acc: 0.6757 - val_loss: 0.5502 - val_acc: 0.7140\n",
            "Epoch 23/250\n",
            "178/178 [==============================] - 16s 89ms/step - loss: 0.6223 - acc: 0.6651 - val_loss: 0.5391 - val_acc: 0.7235\n",
            "Epoch 24/250\n",
            "178/178 [==============================] - 16s 89ms/step - loss: 0.5979 - acc: 0.6793 - val_loss: 0.5954 - val_acc: 0.6854\n",
            "Epoch 25/250\n",
            "178/178 [==============================] - 16s 89ms/step - loss: 0.6087 - acc: 0.6736 - val_loss: 0.5344 - val_acc: 0.7150\n",
            "Epoch 26/250\n",
            "178/178 [==============================] - 16s 90ms/step - loss: 0.6060 - acc: 0.6775 - val_loss: 0.5328 - val_acc: 0.7225\n",
            "Epoch 27/250\n",
            "178/178 [==============================] - 16s 90ms/step - loss: 0.6181 - acc: 0.6651 - val_loss: 0.5407 - val_acc: 0.7225\n",
            "Epoch 28/250\n",
            "178/178 [==============================] - 16s 89ms/step - loss: 0.6074 - acc: 0.6711 - val_loss: 0.5397 - val_acc: 0.7235\n",
            "Epoch 29/250\n",
            "178/178 [==============================] - 16s 89ms/step - loss: 0.6083 - acc: 0.6697 - val_loss: 0.5465 - val_acc: 0.7225\n",
            "Epoch 30/250\n",
            "178/178 [==============================] - 16s 88ms/step - loss: 0.6180 - acc: 0.6687 - val_loss: 0.5653 - val_acc: 0.7140\n",
            "Epoch 31/250\n",
            "178/178 [==============================] - 16s 89ms/step - loss: 0.6090 - acc: 0.6888 - val_loss: 0.5481 - val_acc: 0.7214\n",
            "Epoch 32/250\n",
            "178/178 [==============================] - 16s 89ms/step - loss: 0.6053 - acc: 0.6740 - val_loss: 0.5513 - val_acc: 0.7214\n",
            "Epoch 33/250\n",
            "178/178 [==============================] - 16s 88ms/step - loss: 0.6098 - acc: 0.6782 - val_loss: 0.5374 - val_acc: 0.7278\n",
            "Epoch 34/250\n",
            "178/178 [==============================] - 16s 89ms/step - loss: 0.6082 - acc: 0.6754 - val_loss: 0.5512 - val_acc: 0.7203\n",
            "Epoch 35/250\n",
            "178/178 [==============================] - 16s 90ms/step - loss: 0.5976 - acc: 0.6877 - val_loss: 0.5254 - val_acc: 0.7278\n",
            "Epoch 36/250\n",
            "178/178 [==============================] - 16s 90ms/step - loss: 0.6178 - acc: 0.6644 - val_loss: 0.5561 - val_acc: 0.7225\n",
            "Epoch 37/250\n",
            "178/178 [==============================] - 16s 89ms/step - loss: 0.6082 - acc: 0.6669 - val_loss: 0.5352 - val_acc: 0.7235\n",
            "Epoch 38/250\n",
            "178/178 [==============================] - 16s 90ms/step - loss: 0.6148 - acc: 0.6803 - val_loss: 0.5304 - val_acc: 0.7193\n",
            "Epoch 39/250\n",
            "178/178 [==============================] - 16s 91ms/step - loss: 0.6063 - acc: 0.6665 - val_loss: 0.5494 - val_acc: 0.7140\n",
            "Epoch 40/250\n",
            "178/178 [==============================] - 16s 90ms/step - loss: 0.6015 - acc: 0.6768 - val_loss: 0.5465 - val_acc: 0.7150\n",
            "Epoch 41/250\n",
            "178/178 [==============================] - 16s 89ms/step - loss: 0.6111 - acc: 0.6754 - val_loss: 0.5499 - val_acc: 0.7161\n",
            "Epoch 42/250\n",
            "178/178 [==============================] - 16s 89ms/step - loss: 0.6108 - acc: 0.6789 - val_loss: 0.5352 - val_acc: 0.7182\n",
            "Epoch 43/250\n",
            "178/178 [==============================] - 16s 89ms/step - loss: 0.6075 - acc: 0.6754 - val_loss: 0.5855 - val_acc: 0.6992\n",
            "Epoch 44/250\n",
            "178/178 [==============================] - 16s 89ms/step - loss: 0.5947 - acc: 0.6793 - val_loss: 0.5693 - val_acc: 0.7108\n",
            "Epoch 45/250\n",
            "178/178 [==============================] - 16s 89ms/step - loss: 0.6142 - acc: 0.6789 - val_loss: 0.5343 - val_acc: 0.7235\n",
            "Epoch 46/250\n",
            "178/178 [==============================] - 16s 89ms/step - loss: 0.6147 - acc: 0.6722 - val_loss: 0.5646 - val_acc: 0.7108\n",
            "Epoch 47/250\n",
            "178/178 [==============================] - 16s 88ms/step - loss: 0.5967 - acc: 0.6898 - val_loss: 0.5322 - val_acc: 0.7235\n",
            "Epoch 48/250\n",
            "178/178 [==============================] - 16s 90ms/step - loss: 0.5981 - acc: 0.6838 - val_loss: 0.5330 - val_acc: 0.7288\n",
            "Epoch 49/250\n",
            "178/178 [==============================] - 16s 89ms/step - loss: 0.6058 - acc: 0.6853 - val_loss: 0.5336 - val_acc: 0.7320\n",
            "Epoch 50/250\n",
            "178/178 [==============================] - 16s 89ms/step - loss: 0.6114 - acc: 0.6807 - val_loss: 0.5381 - val_acc: 0.7288\n",
            "Epoch 51/250\n",
            "178/178 [==============================] - 16s 89ms/step - loss: 0.6003 - acc: 0.6764 - val_loss: 0.5688 - val_acc: 0.7055\n",
            "Epoch 52/250\n",
            "178/178 [==============================] - 17s 91ms/step - loss: 0.6104 - acc: 0.6796 - val_loss: 0.5350 - val_acc: 0.7203\n",
            "Epoch 53/250\n",
            "178/178 [==============================] - 16s 89ms/step - loss: 0.6119 - acc: 0.6754 - val_loss: 0.5464 - val_acc: 0.7235\n",
            "Epoch 54/250\n",
            "178/178 [==============================] - 16s 89ms/step - loss: 0.6069 - acc: 0.6778 - val_loss: 0.5470 - val_acc: 0.7203\n",
            "Epoch 55/250\n",
            "178/178 [==============================] - 16s 89ms/step - loss: 0.6070 - acc: 0.6863 - val_loss: 0.5340 - val_acc: 0.7235\n",
            "Epoch 56/250\n",
            "178/178 [==============================] - 17s 91ms/step - loss: 0.6129 - acc: 0.6675 - val_loss: 0.5454 - val_acc: 0.7172\n",
            "Epoch 57/250\n",
            "178/178 [==============================] - 16s 89ms/step - loss: 0.5939 - acc: 0.6814 - val_loss: 0.6023 - val_acc: 0.6811\n",
            "Epoch 58/250\n",
            "178/178 [==============================] - 16s 90ms/step - loss: 0.6094 - acc: 0.6722 - val_loss: 0.5343 - val_acc: 0.7193\n",
            "Epoch 59/250\n",
            "178/178 [==============================] - 16s 90ms/step - loss: 0.5993 - acc: 0.6842 - val_loss: 0.5300 - val_acc: 0.7256\n",
            "Epoch 60/250\n",
            "178/178 [==============================] - 16s 89ms/step - loss: 0.6041 - acc: 0.6807 - val_loss: 0.5317 - val_acc: 0.7299\n",
            "Epoch 61/250\n",
            "178/178 [==============================] - 16s 89ms/step - loss: 0.6252 - acc: 0.6651 - val_loss: 0.5496 - val_acc: 0.7119\n",
            "Epoch 62/250\n",
            "178/178 [==============================] - 16s 90ms/step - loss: 0.6198 - acc: 0.6567 - val_loss: 0.5800 - val_acc: 0.6907\n",
            "Epoch 63/250\n",
            "178/178 [==============================] - 16s 90ms/step - loss: 0.6089 - acc: 0.6711 - val_loss: 0.5711 - val_acc: 0.6949\n",
            "Epoch 64/250\n",
            "178/178 [==============================] - 16s 88ms/step - loss: 0.6096 - acc: 0.6750 - val_loss: 0.5392 - val_acc: 0.7161\n",
            "Epoch 65/250\n",
            "178/178 [==============================] - 16s 90ms/step - loss: 0.6023 - acc: 0.6789 - val_loss: 0.5962 - val_acc: 0.6928\n",
            "Epoch 66/250\n",
            "178/178 [==============================] - 16s 89ms/step - loss: 0.6007 - acc: 0.6821 - val_loss: 0.5452 - val_acc: 0.7129\n",
            "Epoch 67/250\n",
            "178/178 [==============================] - 16s 89ms/step - loss: 0.6132 - acc: 0.6764 - val_loss: 0.5588 - val_acc: 0.7087\n",
            "Epoch 68/250\n",
            "178/178 [==============================] - 16s 89ms/step - loss: 0.6015 - acc: 0.6842 - val_loss: 0.5685 - val_acc: 0.7023\n",
            "Epoch 69/250\n",
            "178/178 [==============================] - 16s 90ms/step - loss: 0.6046 - acc: 0.6764 - val_loss: 0.5393 - val_acc: 0.7161\n",
            "Epoch 70/250\n",
            "178/178 [==============================] - 16s 89ms/step - loss: 0.6134 - acc: 0.6722 - val_loss: 0.5387 - val_acc: 0.7246\n",
            "Epoch 71/250\n",
            "178/178 [==============================] - 16s 89ms/step - loss: 0.6066 - acc: 0.6750 - val_loss: 0.5483 - val_acc: 0.7235\n",
            "Epoch 72/250\n",
            "178/178 [==============================] - 16s 89ms/step - loss: 0.6180 - acc: 0.6676 - val_loss: 0.5771 - val_acc: 0.7034\n",
            "Epoch 73/250\n",
            "178/178 [==============================] - 16s 90ms/step - loss: 0.6056 - acc: 0.6711 - val_loss: 0.5467 - val_acc: 0.7150\n",
            "Epoch 74/250\n",
            "178/178 [==============================] - 16s 89ms/step - loss: 0.6076 - acc: 0.6740 - val_loss: 0.6307 - val_acc: 0.6695\n",
            "Epoch 75/250\n",
            "178/178 [==============================] - 16s 89ms/step - loss: 0.6002 - acc: 0.6867 - val_loss: 0.5522 - val_acc: 0.7182\n",
            "Epoch 76/250\n",
            "178/178 [==============================] - 16s 89ms/step - loss: 0.5968 - acc: 0.6814 - val_loss: 0.5450 - val_acc: 0.7161\n",
            "Epoch 77/250\n",
            "178/178 [==============================] - 16s 89ms/step - loss: 0.6000 - acc: 0.6874 - val_loss: 0.5403 - val_acc: 0.7182\n",
            "Epoch 78/250\n",
            "178/178 [==============================] - 16s 89ms/step - loss: 0.6051 - acc: 0.6729 - val_loss: 0.5742 - val_acc: 0.7013\n",
            "Epoch 79/250\n",
            "178/178 [==============================] - 16s 89ms/step - loss: 0.6033 - acc: 0.6817 - val_loss: 0.5541 - val_acc: 0.7140\n",
            "Epoch 80/250\n",
            "178/178 [==============================] - 16s 89ms/step - loss: 0.6161 - acc: 0.6764 - val_loss: 0.5971 - val_acc: 0.6833\n",
            "Epoch 81/250\n",
            "178/178 [==============================] - 16s 89ms/step - loss: 0.6093 - acc: 0.6718 - val_loss: 0.5493 - val_acc: 0.7097\n",
            "Epoch 82/250\n",
            "178/178 [==============================] - 17s 91ms/step - loss: 0.6034 - acc: 0.6874 - val_loss: 0.5402 - val_acc: 0.7140\n",
            "Epoch 83/250\n",
            "178/178 [==============================] - 16s 89ms/step - loss: 0.6006 - acc: 0.6817 - val_loss: 0.5353 - val_acc: 0.7214\n",
            "Epoch 84/250\n",
            "178/178 [==============================] - 16s 88ms/step - loss: 0.6005 - acc: 0.6863 - val_loss: 0.5670 - val_acc: 0.7076\n",
            "Epoch 85/250\n",
            "178/178 [==============================] - 16s 90ms/step - loss: 0.6072 - acc: 0.6789 - val_loss: 0.6147 - val_acc: 0.6801\n",
            "Epoch 86/250\n",
            "178/178 [==============================] - 17s 93ms/step - loss: 0.6054 - acc: 0.6757 - val_loss: 0.5635 - val_acc: 0.7129\n",
            "Epoch 87/250\n",
            "178/178 [==============================] - 16s 89ms/step - loss: 0.6046 - acc: 0.6782 - val_loss: 0.5645 - val_acc: 0.7055\n",
            "Epoch 88/250\n",
            "178/178 [==============================] - 16s 90ms/step - loss: 0.6182 - acc: 0.6662 - val_loss: 0.5446 - val_acc: 0.7193\n",
            "Epoch 89/250\n",
            "178/178 [==============================] - 16s 90ms/step - loss: 0.6058 - acc: 0.6747 - val_loss: 0.5643 - val_acc: 0.7087\n",
            "Epoch 90/250\n",
            "178/178 [==============================] - 17s 91ms/step - loss: 0.6018 - acc: 0.6824 - val_loss: 0.5481 - val_acc: 0.7203\n",
            "Epoch 91/250\n",
            "178/178 [==============================] - 16s 90ms/step - loss: 0.5943 - acc: 0.6874 - val_loss: 0.5311 - val_acc: 0.7246\n",
            "Epoch 92/250\n",
            "178/178 [==============================] - 16s 90ms/step - loss: 0.6107 - acc: 0.6694 - val_loss: 0.5393 - val_acc: 0.7172\n",
            "Epoch 93/250\n",
            "178/178 [==============================] - 16s 90ms/step - loss: 0.6087 - acc: 0.6729 - val_loss: 0.5621 - val_acc: 0.7076\n",
            "Epoch 94/250\n",
            "178/178 [==============================] - 16s 88ms/step - loss: 0.6022 - acc: 0.6838 - val_loss: 0.5375 - val_acc: 0.7119\n",
            "Epoch 95/250\n",
            "178/178 [==============================] - 16s 89ms/step - loss: 0.6090 - acc: 0.6754 - val_loss: 0.5442 - val_acc: 0.7172\n",
            "Epoch 96/250\n",
            "178/178 [==============================] - 16s 89ms/step - loss: 0.6191 - acc: 0.6623 - val_loss: 0.5907 - val_acc: 0.6854\n",
            "Epoch 97/250\n",
            "178/178 [==============================] - 16s 89ms/step - loss: 0.6028 - acc: 0.6821 - val_loss: 0.5859 - val_acc: 0.6928\n",
            "Epoch 98/250\n",
            "178/178 [==============================] - 16s 89ms/step - loss: 0.6090 - acc: 0.6800 - val_loss: 0.5410 - val_acc: 0.7172\n",
            "Epoch 99/250\n",
            "178/178 [==============================] - 16s 90ms/step - loss: 0.6220 - acc: 0.6725 - val_loss: 0.5347 - val_acc: 0.7182\n",
            "Epoch 100/250\n",
            "178/178 [==============================] - 16s 88ms/step - loss: 0.6051 - acc: 0.6842 - val_loss: 0.5838 - val_acc: 0.6960\n",
            "Epoch 101/250\n",
            "178/178 [==============================] - 16s 89ms/step - loss: 0.5957 - acc: 0.6729 - val_loss: 0.5832 - val_acc: 0.6917\n",
            "Epoch 102/250\n",
            "178/178 [==============================] - 16s 89ms/step - loss: 0.6151 - acc: 0.6690 - val_loss: 0.5534 - val_acc: 0.7087\n",
            "Epoch 103/250\n",
            "178/178 [==============================] - 17s 91ms/step - loss: 0.5890 - acc: 0.6976 - val_loss: 0.5517 - val_acc: 0.7129\n",
            "Epoch 104/250\n",
            "178/178 [==============================] - 16s 90ms/step - loss: 0.6091 - acc: 0.6778 - val_loss: 0.5386 - val_acc: 0.7246\n",
            "Epoch 105/250\n",
            "178/178 [==============================] - 17s 91ms/step - loss: 0.6017 - acc: 0.6914 - val_loss: 0.5343 - val_acc: 0.7256\n",
            "Epoch 106/250\n",
            "178/178 [==============================] - 16s 90ms/step - loss: 0.6029 - acc: 0.6775 - val_loss: 0.5556 - val_acc: 0.7034\n",
            "Epoch 107/250\n",
            "178/178 [==============================] - 17s 91ms/step - loss: 0.5993 - acc: 0.6796 - val_loss: 0.5333 - val_acc: 0.7331\n",
            "Epoch 108/250\n",
            "178/178 [==============================] - 16s 89ms/step - loss: 0.6021 - acc: 0.6845 - val_loss: 0.5423 - val_acc: 0.7161\n",
            "Epoch 109/250\n",
            "178/178 [==============================] - 16s 89ms/step - loss: 0.6194 - acc: 0.6715 - val_loss: 0.5309 - val_acc: 0.7320\n",
            "Epoch 110/250\n",
            "178/178 [==============================] - 16s 90ms/step - loss: 0.6167 - acc: 0.6733 - val_loss: 0.5800 - val_acc: 0.6939\n",
            "Epoch 111/250\n",
            "178/178 [==============================] - 17s 91ms/step - loss: 0.6067 - acc: 0.6757 - val_loss: 0.5587 - val_acc: 0.7066\n",
            "Epoch 112/250\n",
            "178/178 [==============================] - 16s 90ms/step - loss: 0.6026 - acc: 0.6810 - val_loss: 0.5321 - val_acc: 0.7383\n",
            "Epoch 113/250\n",
            "178/178 [==============================] - 16s 90ms/step - loss: 0.6119 - acc: 0.6701 - val_loss: 0.5457 - val_acc: 0.7076\n",
            "Epoch 114/250\n",
            "178/178 [==============================] - 16s 89ms/step - loss: 0.5999 - acc: 0.6835 - val_loss: 0.5430 - val_acc: 0.7129\n",
            "Epoch 115/250\n",
            "178/178 [==============================] - 17s 92ms/step - loss: 0.6095 - acc: 0.6747 - val_loss: 0.5620 - val_acc: 0.7055\n",
            "Epoch 116/250\n",
            "178/178 [==============================] - 16s 90ms/step - loss: 0.6073 - acc: 0.6853 - val_loss: 0.5337 - val_acc: 0.7256\n",
            "Epoch 117/250\n",
            "178/178 [==============================] - 16s 89ms/step - loss: 0.6206 - acc: 0.6676 - val_loss: 0.5300 - val_acc: 0.7341\n",
            "Epoch 118/250\n",
            "178/178 [==============================] - 16s 88ms/step - loss: 0.5952 - acc: 0.6920 - val_loss: 0.5885 - val_acc: 0.6917\n",
            "Epoch 119/250\n",
            "178/178 [==============================] - 16s 91ms/step - loss: 0.6034 - acc: 0.6648 - val_loss: 0.5355 - val_acc: 0.7225\n",
            "Epoch 120/250\n",
            "178/178 [==============================] - 16s 89ms/step - loss: 0.6116 - acc: 0.6747 - val_loss: 0.5357 - val_acc: 0.7309\n",
            "Epoch 121/250\n",
            "178/178 [==============================] - 16s 89ms/step - loss: 0.6097 - acc: 0.6704 - val_loss: 0.5400 - val_acc: 0.7182\n",
            "Epoch 122/250\n",
            "178/178 [==============================] - 16s 90ms/step - loss: 0.6078 - acc: 0.6771 - val_loss: 0.5305 - val_acc: 0.7383\n",
            "Epoch 123/250\n",
            "178/178 [==============================] - 17s 91ms/step - loss: 0.6177 - acc: 0.6637 - val_loss: 0.5300 - val_acc: 0.7309\n",
            "Epoch 124/250\n",
            "178/178 [==============================] - 16s 88ms/step - loss: 0.6040 - acc: 0.6796 - val_loss: 0.6146 - val_acc: 0.6663\n",
            "Epoch 125/250\n",
            "178/178 [==============================] - 16s 90ms/step - loss: 0.6055 - acc: 0.6747 - val_loss: 0.5370 - val_acc: 0.7278\n",
            "Epoch 126/250\n",
            "178/178 [==============================] - 16s 90ms/step - loss: 0.6164 - acc: 0.6690 - val_loss: 0.5552 - val_acc: 0.7055\n",
            "Epoch 127/250\n",
            "178/178 [==============================] - 16s 90ms/step - loss: 0.6074 - acc: 0.6747 - val_loss: 0.5533 - val_acc: 0.7129\n",
            "Epoch 128/250\n",
            "178/178 [==============================] - 16s 90ms/step - loss: 0.5959 - acc: 0.6785 - val_loss: 0.5410 - val_acc: 0.7225\n",
            "Epoch 129/250\n",
            "178/178 [==============================] - 16s 90ms/step - loss: 0.6044 - acc: 0.6842 - val_loss: 0.5414 - val_acc: 0.7214\n",
            "Epoch 130/250\n",
            "178/178 [==============================] - 16s 89ms/step - loss: 0.6043 - acc: 0.6764 - val_loss: 0.5377 - val_acc: 0.7278\n",
            "Epoch 131/250\n",
            "178/178 [==============================] - 17s 91ms/step - loss: 0.6125 - acc: 0.6665 - val_loss: 0.5497 - val_acc: 0.7161\n",
            "Epoch 132/250\n",
            "178/178 [==============================] - 16s 90ms/step - loss: 0.6179 - acc: 0.6581 - val_loss: 0.5313 - val_acc: 0.7288\n",
            "Epoch 133/250\n",
            "178/178 [==============================] - 16s 89ms/step - loss: 0.5911 - acc: 0.6941 - val_loss: 0.5292 - val_acc: 0.7267\n",
            "Epoch 134/250\n",
            "178/178 [==============================] - 16s 89ms/step - loss: 0.6096 - acc: 0.6736 - val_loss: 0.5421 - val_acc: 0.7235\n",
            "Epoch 135/250\n",
            "178/178 [==============================] - 17s 91ms/step - loss: 0.5974 - acc: 0.6994 - val_loss: 0.5460 - val_acc: 0.7214\n",
            "Epoch 136/250\n",
            "178/178 [==============================] - 16s 90ms/step - loss: 0.5906 - acc: 0.6877 - val_loss: 0.5547 - val_acc: 0.7150\n",
            "Epoch 137/250\n",
            "178/178 [==============================] - 16s 90ms/step - loss: 0.6054 - acc: 0.6722 - val_loss: 0.5287 - val_acc: 0.7331\n",
            "Epoch 138/250\n",
            "178/178 [==============================] - 16s 89ms/step - loss: 0.6150 - acc: 0.6683 - val_loss: 0.5603 - val_acc: 0.7087\n",
            "Epoch 139/250\n",
            "178/178 [==============================] - 17s 93ms/step - loss: 0.6018 - acc: 0.6838 - val_loss: 0.5704 - val_acc: 0.7076\n",
            "Epoch 140/250\n",
            "178/178 [==============================] - 16s 89ms/step - loss: 0.6153 - acc: 0.6673 - val_loss: 0.5314 - val_acc: 0.7256\n",
            "Epoch 141/250\n",
            "178/178 [==============================] - 16s 90ms/step - loss: 0.6073 - acc: 0.6722 - val_loss: 0.5412 - val_acc: 0.7193\n",
            "Epoch 142/250\n",
            "178/178 [==============================] - 17s 91ms/step - loss: 0.6010 - acc: 0.6736 - val_loss: 0.5606 - val_acc: 0.7108\n",
            "Epoch 143/250\n",
            "178/178 [==============================] - 17s 90ms/step - loss: 0.5995 - acc: 0.6761 - val_loss: 0.5647 - val_acc: 0.7013\n",
            "Epoch 144/250\n",
            "178/178 [==============================] - 16s 90ms/step - loss: 0.6068 - acc: 0.6874 - val_loss: 0.5620 - val_acc: 0.7002\n",
            "Epoch 145/250\n",
            "178/178 [==============================] - 16s 90ms/step - loss: 0.6116 - acc: 0.6683 - val_loss: 0.5360 - val_acc: 0.7256\n",
            "Epoch 146/250\n",
            "178/178 [==============================] - 16s 90ms/step - loss: 0.6217 - acc: 0.6680 - val_loss: 0.5770 - val_acc: 0.6992\n",
            "Epoch 147/250\n",
            "178/178 [==============================] - 16s 89ms/step - loss: 0.5998 - acc: 0.6881 - val_loss: 0.5487 - val_acc: 0.7108\n",
            "Epoch 148/250\n",
            "178/178 [==============================] - 16s 90ms/step - loss: 0.6006 - acc: 0.6874 - val_loss: 0.5525 - val_acc: 0.7119\n",
            "Epoch 149/250\n",
            "178/178 [==============================] - 16s 89ms/step - loss: 0.6090 - acc: 0.6747 - val_loss: 0.5488 - val_acc: 0.7203\n",
            "Epoch 150/250\n",
            "178/178 [==============================] - 16s 89ms/step - loss: 0.6110 - acc: 0.6789 - val_loss: 0.5382 - val_acc: 0.7203\n",
            "Epoch 151/250\n",
            "178/178 [==============================] - 16s 90ms/step - loss: 0.6094 - acc: 0.6761 - val_loss: 0.5467 - val_acc: 0.7161\n",
            "Epoch 152/250\n",
            "178/178 [==============================] - 16s 89ms/step - loss: 0.6170 - acc: 0.6697 - val_loss: 0.5517 - val_acc: 0.7076\n",
            "Epoch 153/250\n",
            "178/178 [==============================] - 16s 88ms/step - loss: 0.6021 - acc: 0.6793 - val_loss: 0.5299 - val_acc: 0.7309\n",
            "Epoch 154/250\n",
            "178/178 [==============================] - 16s 89ms/step - loss: 0.6056 - acc: 0.6796 - val_loss: 0.5334 - val_acc: 0.7288\n",
            "Epoch 155/250\n",
            "178/178 [==============================] - 16s 90ms/step - loss: 0.6126 - acc: 0.6641 - val_loss: 0.5322 - val_acc: 0.7278\n",
            "Epoch 156/250\n",
            "178/178 [==============================] - 16s 89ms/step - loss: 0.6050 - acc: 0.6736 - val_loss: 0.5266 - val_acc: 0.7362\n",
            "Epoch 157/250\n",
            "178/178 [==============================] - 16s 89ms/step - loss: 0.6117 - acc: 0.6669 - val_loss: 0.5341 - val_acc: 0.7225\n",
            "Epoch 158/250\n",
            "178/178 [==============================] - 16s 89ms/step - loss: 0.6077 - acc: 0.6708 - val_loss: 0.5262 - val_acc: 0.7278\n",
            "Epoch 159/250\n",
            "178/178 [==============================] - 17s 91ms/step - loss: 0.6129 - acc: 0.6803 - val_loss: 0.5430 - val_acc: 0.7214\n",
            "Epoch 160/250\n",
            "178/178 [==============================] - 16s 89ms/step - loss: 0.6175 - acc: 0.6733 - val_loss: 0.5301 - val_acc: 0.7288\n",
            "Epoch 161/250\n",
            "178/178 [==============================] - 17s 91ms/step - loss: 0.6004 - acc: 0.6782 - val_loss: 0.5507 - val_acc: 0.7108\n",
            "Epoch 162/250\n",
            "178/178 [==============================] - 12s 64ms/step - loss: 0.5945 - acc: 0.6824 - val_loss: 0.5425 - val_acc: 0.7193\n",
            "Epoch 163/250\n",
            "178/178 [==============================] - 17s 90ms/step - loss: 0.6097 - acc: 0.6821 - val_loss: 0.5440 - val_acc: 0.7214\n",
            "Epoch 164/250\n",
            "178/178 [==============================] - 17s 91ms/step - loss: 0.6111 - acc: 0.6718 - val_loss: 0.5293 - val_acc: 0.7394\n",
            "Epoch 165/250\n",
            "178/178 [==============================] - 16s 89ms/step - loss: 0.6192 - acc: 0.6775 - val_loss: 0.5292 - val_acc: 0.7373\n",
            "Epoch 166/250\n",
            "178/178 [==============================] - 16s 90ms/step - loss: 0.6060 - acc: 0.6810 - val_loss: 0.5328 - val_acc: 0.7320\n",
            "Epoch 167/250\n",
            "178/178 [==============================] - 16s 90ms/step - loss: 0.6096 - acc: 0.6715 - val_loss: 0.5339 - val_acc: 0.7341\n",
            "Epoch 168/250\n",
            "178/178 [==============================] - 16s 89ms/step - loss: 0.6004 - acc: 0.6877 - val_loss: 0.5664 - val_acc: 0.7087\n",
            "Epoch 169/250\n",
            "178/178 [==============================] - 16s 90ms/step - loss: 0.6055 - acc: 0.6796 - val_loss: 0.5488 - val_acc: 0.7140\n",
            "Epoch 170/250\n",
            "178/178 [==============================] - 17s 91ms/step - loss: 0.6058 - acc: 0.6785 - val_loss: 0.5647 - val_acc: 0.7129\n",
            "Epoch 171/250\n",
            "178/178 [==============================] - 16s 90ms/step - loss: 0.5924 - acc: 0.6874 - val_loss: 0.5407 - val_acc: 0.7150\n",
            "Epoch 172/250\n",
            "178/178 [==============================] - 17s 90ms/step - loss: 0.6020 - acc: 0.6817 - val_loss: 0.5592 - val_acc: 0.7087\n",
            "Epoch 173/250\n",
            "178/178 [==============================] - 17s 92ms/step - loss: 0.6031 - acc: 0.6729 - val_loss: 0.6886 - val_acc: 0.6314\n",
            "Epoch 174/250\n",
            "178/178 [==============================] - 12s 65ms/step - loss: 0.6066 - acc: 0.6803 - val_loss: 0.5598 - val_acc: 0.7119\n",
            "Epoch 175/250\n",
            "178/178 [==============================] - 16s 90ms/step - loss: 0.6000 - acc: 0.6923 - val_loss: 0.5611 - val_acc: 0.7097\n",
            "Epoch 176/250\n",
            "178/178 [==============================] - 17s 91ms/step - loss: 0.6074 - acc: 0.6831 - val_loss: 0.5429 - val_acc: 0.7203\n",
            "Epoch 177/250\n",
            "178/178 [==============================] - 17s 91ms/step - loss: 0.6088 - acc: 0.6634 - val_loss: 0.5697 - val_acc: 0.6960\n",
            "Epoch 178/250\n",
            "178/178 [==============================] - 17s 91ms/step - loss: 0.6109 - acc: 0.6757 - val_loss: 0.5777 - val_acc: 0.6928\n",
            "Epoch 179/250\n",
            "178/178 [==============================] - 16s 89ms/step - loss: 0.6064 - acc: 0.6729 - val_loss: 0.5286 - val_acc: 0.7278\n",
            "Epoch 180/250\n",
            "178/178 [==============================] - 17s 91ms/step - loss: 0.6085 - acc: 0.6785 - val_loss: 0.5425 - val_acc: 0.7246\n",
            "Epoch 181/250\n",
            "178/178 [==============================] - 16s 89ms/step - loss: 0.6009 - acc: 0.6821 - val_loss: 0.5827 - val_acc: 0.7013\n",
            "Epoch 182/250\n",
            "178/178 [==============================] - 16s 89ms/step - loss: 0.6194 - acc: 0.6627 - val_loss: 0.5409 - val_acc: 0.7267\n",
            "Epoch 183/250\n",
            "178/178 [==============================] - 16s 89ms/step - loss: 0.6065 - acc: 0.6800 - val_loss: 0.5500 - val_acc: 0.7193\n",
            "Epoch 184/250\n",
            "178/178 [==============================] - 17s 91ms/step - loss: 0.6089 - acc: 0.6793 - val_loss: 0.5465 - val_acc: 0.7246\n",
            "Epoch 185/250\n",
            "178/178 [==============================] - 16s 89ms/step - loss: 0.5961 - acc: 0.6821 - val_loss: 0.5438 - val_acc: 0.7235\n",
            "Epoch 186/250\n",
            "178/178 [==============================] - 16s 90ms/step - loss: 0.6152 - acc: 0.6708 - val_loss: 0.5472 - val_acc: 0.7203\n",
            "Epoch 187/250\n",
            "178/178 [==============================] - 16s 89ms/step - loss: 0.6155 - acc: 0.6740 - val_loss: 0.5365 - val_acc: 0.7267\n",
            "Epoch 188/250\n",
            "178/178 [==============================] - 16s 89ms/step - loss: 0.6138 - acc: 0.6750 - val_loss: 0.5363 - val_acc: 0.7267\n",
            "Epoch 189/250\n",
            "178/178 [==============================] - 16s 89ms/step - loss: 0.6065 - acc: 0.6743 - val_loss: 0.5368 - val_acc: 0.7288\n",
            "Epoch 190/250\n",
            "178/178 [==============================] - 16s 90ms/step - loss: 0.6150 - acc: 0.6658 - val_loss: 0.5665 - val_acc: 0.7108\n",
            "Epoch 191/250\n",
            "178/178 [==============================] - 16s 89ms/step - loss: 0.5933 - acc: 0.6870 - val_loss: 0.5385 - val_acc: 0.7182\n",
            "Epoch 192/250\n",
            "178/178 [==============================] - 16s 89ms/step - loss: 0.5963 - acc: 0.6814 - val_loss: 0.5386 - val_acc: 0.7256\n",
            "Epoch 193/250\n",
            "178/178 [==============================] - 16s 89ms/step - loss: 0.6061 - acc: 0.6771 - val_loss: 0.5608 - val_acc: 0.7066\n",
            "Epoch 194/250\n",
            "178/178 [==============================] - 16s 89ms/step - loss: 0.5950 - acc: 0.6853 - val_loss: 0.5420 - val_acc: 0.7193\n",
            "Epoch 195/250\n",
            "178/178 [==============================] - 16s 89ms/step - loss: 0.5980 - acc: 0.6955 - val_loss: 0.5377 - val_acc: 0.7214\n",
            "Epoch 196/250\n",
            "178/178 [==============================] - 17s 91ms/step - loss: 0.6069 - acc: 0.6874 - val_loss: 0.5464 - val_acc: 0.7129\n",
            "Epoch 197/250\n",
            "178/178 [==============================] - 16s 90ms/step - loss: 0.6119 - acc: 0.6778 - val_loss: 0.5762 - val_acc: 0.7097\n",
            "Epoch 198/250\n",
            "178/178 [==============================] - 16s 90ms/step - loss: 0.5947 - acc: 0.6814 - val_loss: 0.5674 - val_acc: 0.7097\n",
            "Epoch 199/250\n",
            "178/178 [==============================] - 17s 91ms/step - loss: 0.6052 - acc: 0.6867 - val_loss: 0.5381 - val_acc: 0.7278\n",
            "Epoch 200/250\n",
            "178/178 [==============================] - 17s 90ms/step - loss: 0.6087 - acc: 0.6736 - val_loss: 0.5368 - val_acc: 0.7278\n",
            "Epoch 201/250\n",
            "178/178 [==============================] - 17s 91ms/step - loss: 0.6148 - acc: 0.6754 - val_loss: 0.5388 - val_acc: 0.7225\n",
            "Epoch 202/250\n",
            "178/178 [==============================] - 17s 91ms/step - loss: 0.6105 - acc: 0.6757 - val_loss: 0.5585 - val_acc: 0.7161\n",
            "Epoch 203/250\n",
            "178/178 [==============================] - 17s 92ms/step - loss: 0.6157 - acc: 0.6715 - val_loss: 0.5565 - val_acc: 0.7150\n",
            "Epoch 204/250\n",
            "178/178 [==============================] - 16s 90ms/step - loss: 0.6134 - acc: 0.6708 - val_loss: 0.5404 - val_acc: 0.7182\n",
            "Epoch 205/250\n",
            "178/178 [==============================] - 16s 90ms/step - loss: 0.5999 - acc: 0.6824 - val_loss: 0.5421 - val_acc: 0.7214\n",
            "Epoch 206/250\n",
            "178/178 [==============================] - 16s 89ms/step - loss: 0.6231 - acc: 0.6651 - val_loss: 0.5635 - val_acc: 0.7129\n",
            "Epoch 207/250\n",
            "178/178 [==============================] - 17s 91ms/step - loss: 0.5938 - acc: 0.6884 - val_loss: 0.5409 - val_acc: 0.7140\n",
            "Epoch 208/250\n",
            "178/178 [==============================] - 12s 63ms/step - loss: 0.6054 - acc: 0.6842 - val_loss: 0.5826 - val_acc: 0.6992\n",
            "Epoch 209/250\n",
            "178/178 [==============================] - 16s 90ms/step - loss: 0.6015 - acc: 0.6870 - val_loss: 0.5474 - val_acc: 0.7129\n",
            "Epoch 210/250\n",
            "178/178 [==============================] - 16s 89ms/step - loss: 0.6019 - acc: 0.6810 - val_loss: 0.5503 - val_acc: 0.7108\n",
            "Epoch 211/250\n",
            "178/178 [==============================] - 17s 92ms/step - loss: 0.6197 - acc: 0.6750 - val_loss: 0.5388 - val_acc: 0.7320\n",
            "Epoch 212/250\n",
            "178/178 [==============================] - 16s 90ms/step - loss: 0.6015 - acc: 0.6733 - val_loss: 0.5402 - val_acc: 0.7256\n",
            "Epoch 213/250\n",
            "178/178 [==============================] - 16s 90ms/step - loss: 0.6078 - acc: 0.6835 - val_loss: 0.5416 - val_acc: 0.7140\n",
            "Epoch 214/250\n",
            "178/178 [==============================] - 17s 91ms/step - loss: 0.6035 - acc: 0.6803 - val_loss: 0.5436 - val_acc: 0.7140\n",
            "Epoch 215/250\n",
            "178/178 [==============================] - 17s 91ms/step - loss: 0.5996 - acc: 0.6796 - val_loss: 0.5712 - val_acc: 0.7002\n",
            "Epoch 216/250\n",
            "178/178 [==============================] - 17s 90ms/step - loss: 0.6140 - acc: 0.6725 - val_loss: 0.5642 - val_acc: 0.7034\n",
            "Epoch 217/250\n",
            "178/178 [==============================] - 17s 90ms/step - loss: 0.6033 - acc: 0.6817 - val_loss: 0.5501 - val_acc: 0.7140\n",
            "Epoch 218/250\n",
            "178/178 [==============================] - 17s 91ms/step - loss: 0.6074 - acc: 0.6807 - val_loss: 0.5630 - val_acc: 0.7034\n",
            "Epoch 219/250\n",
            "178/178 [==============================] - 17s 94ms/step - loss: 0.6202 - acc: 0.6676 - val_loss: 0.5367 - val_acc: 0.7246\n",
            "Epoch 220/250\n",
            "178/178 [==============================] - 13s 70ms/step - loss: 0.5948 - acc: 0.6835 - val_loss: 0.5362 - val_acc: 0.7225\n",
            "Epoch 221/250\n",
            "178/178 [==============================] - 16s 89ms/step - loss: 0.5975 - acc: 0.6831 - val_loss: 0.5457 - val_acc: 0.7172\n",
            "Epoch 222/250\n",
            "178/178 [==============================] - 16s 90ms/step - loss: 0.6047 - acc: 0.6711 - val_loss: 0.5847 - val_acc: 0.6886\n",
            "Epoch 223/250\n",
            "178/178 [==============================] - 16s 90ms/step - loss: 0.6204 - acc: 0.6665 - val_loss: 0.5441 - val_acc: 0.7235\n",
            "Epoch 224/250\n",
            "178/178 [==============================] - 16s 89ms/step - loss: 0.6127 - acc: 0.6620 - val_loss: 0.5460 - val_acc: 0.7225\n",
            "Epoch 225/250\n",
            "178/178 [==============================] - 16s 90ms/step - loss: 0.6125 - acc: 0.6641 - val_loss: 0.5377 - val_acc: 0.7299\n",
            "Epoch 226/250\n",
            "178/178 [==============================] - 16s 89ms/step - loss: 0.6081 - acc: 0.6803 - val_loss: 0.5432 - val_acc: 0.7203\n",
            "Epoch 227/250\n",
            "178/178 [==============================] - 16s 90ms/step - loss: 0.6024 - acc: 0.6916 - val_loss: 0.5289 - val_acc: 0.7299\n",
            "Epoch 228/250\n",
            "178/178 [==============================] - 16s 90ms/step - loss: 0.6261 - acc: 0.6563 - val_loss: 0.5324 - val_acc: 0.7299\n",
            "Epoch 229/250\n",
            "178/178 [==============================] - 16s 89ms/step - loss: 0.6057 - acc: 0.6803 - val_loss: 0.5975 - val_acc: 0.6928\n",
            "Epoch 230/250\n",
            "178/178 [==============================] - 16s 89ms/step - loss: 0.6097 - acc: 0.6803 - val_loss: 0.5371 - val_acc: 0.7235\n",
            "Epoch 231/250\n",
            "178/178 [==============================] - 16s 90ms/step - loss: 0.6042 - acc: 0.6768 - val_loss: 0.5833 - val_acc: 0.7023\n",
            "Epoch 232/250\n",
            "178/178 [==============================] - 17s 90ms/step - loss: 0.6113 - acc: 0.6651 - val_loss: 0.5360 - val_acc: 0.7203\n",
            "Epoch 233/250\n",
            "178/178 [==============================] - 16s 89ms/step - loss: 0.5905 - acc: 0.6902 - val_loss: 0.5339 - val_acc: 0.7214\n",
            "Epoch 234/250\n",
            "178/178 [==============================] - 17s 90ms/step - loss: 0.5937 - acc: 0.6881 - val_loss: 0.5988 - val_acc: 0.6970\n",
            "Epoch 235/250\n",
            "178/178 [==============================] - 17s 90ms/step - loss: 0.6048 - acc: 0.6944 - val_loss: 0.5351 - val_acc: 0.7288\n",
            "Epoch 236/250\n",
            "178/178 [==============================] - 16s 89ms/step - loss: 0.6081 - acc: 0.6810 - val_loss: 0.5406 - val_acc: 0.7193\n",
            "Epoch 237/250\n",
            "178/178 [==============================] - 16s 90ms/step - loss: 0.5952 - acc: 0.6771 - val_loss: 0.5458 - val_acc: 0.7161\n",
            "Epoch 238/250\n",
            "178/178 [==============================] - 17s 91ms/step - loss: 0.6129 - acc: 0.6697 - val_loss: 0.5414 - val_acc: 0.7267\n",
            "Epoch 239/250\n",
            "178/178 [==============================] - 17s 92ms/step - loss: 0.6053 - acc: 0.6863 - val_loss: 0.5816 - val_acc: 0.6981\n",
            "Epoch 240/250\n",
            "178/178 [==============================] - 17s 92ms/step - loss: 0.6142 - acc: 0.6701 - val_loss: 0.5356 - val_acc: 0.7246\n",
            "Epoch 241/250\n",
            "178/178 [==============================] - 17s 91ms/step - loss: 0.6068 - acc: 0.6764 - val_loss: 0.6145 - val_acc: 0.6811\n",
            "Epoch 242/250\n",
            "178/178 [==============================] - 17s 92ms/step - loss: 0.6069 - acc: 0.6905 - val_loss: 0.5456 - val_acc: 0.7161\n",
            "Epoch 243/250\n",
            "178/178 [==============================] - 17s 91ms/step - loss: 0.6033 - acc: 0.6828 - val_loss: 0.5393 - val_acc: 0.7129\n",
            "Epoch 244/250\n",
            "178/178 [==============================] - 16s 90ms/step - loss: 0.5939 - acc: 0.6920 - val_loss: 0.5477 - val_acc: 0.7161\n",
            "Epoch 245/250\n",
            "178/178 [==============================] - 16s 89ms/step - loss: 0.6007 - acc: 0.6860 - val_loss: 0.5403 - val_acc: 0.7267\n",
            "Epoch 246/250\n",
            "178/178 [==============================] - 17s 91ms/step - loss: 0.6163 - acc: 0.6680 - val_loss: 0.5587 - val_acc: 0.7087\n",
            "Epoch 247/250\n",
            "178/178 [==============================] - 16s 90ms/step - loss: 0.6060 - acc: 0.6789 - val_loss: 0.5340 - val_acc: 0.7256\n",
            "Epoch 248/250\n",
            "178/178 [==============================] - 16s 90ms/step - loss: 0.5906 - acc: 0.6810 - val_loss: 0.5960 - val_acc: 0.6981\n",
            "Epoch 249/250\n",
            "178/178 [==============================] - 16s 89ms/step - loss: 0.6110 - acc: 0.6718 - val_loss: 0.6467 - val_acc: 0.6610\n",
            "Epoch 250/250\n",
            "178/178 [==============================] - 16s 89ms/step - loss: 0.6116 - acc: 0.6838 - val_loss: 0.5617 - val_acc: 0.7097\n"
          ]
        }
      ]
    },
    {
      "cell_type": "code",
      "source": [
        "acc = history.history['acc']\n",
        "val_acc = history.history['val_acc']\n",
        "loss = history.history['loss']\n",
        "val_loss = history.history['val_loss']\n",
        "\n",
        "epochs_x = range(len(acc))\n",
        "\n",
        "plt.plot(epochs_x, acc, 'go', label='Training acc')\n",
        "plt.plot(epochs_x, val_acc, 'k', label='Validation acc')\n",
        "plt.title('Training and validation accuracy')\n",
        "plt.legend()\n",
        "\n",
        "plt.figure()\n",
        "\n",
        "plt.plot(epochs_x, loss, 'go', label='Training loss')\n",
        "plt.plot(epochs_x, val_loss, 'k', label='Validation loss')\n",
        "plt.title('Training and validation loss')\n",
        "plt.legend()\n",
        "\n",
        "plt.show()"
      ],
      "metadata": {
        "id": "kwylTJpTP5XI",
        "colab": {
          "base_uri": "https://localhost:8080/",
          "height": 545
        },
        "outputId": "5b5fc82f-2054-45d3-de55-943975f7c655"
      },
      "execution_count": 16,
      "outputs": [
        {
          "output_type": "display_data",
          "data": {
            "text/plain": [
              "<Figure size 432x288 with 1 Axes>"
            ],
            "image/png": "[encoded data removed]"
          },
          "metadata": {
            "needs_background": "light"
          }
        },
        {
          "output_type": "display_data",
          "data": {
            "text/plain": [
              "<Figure size 432x288 with 1 Axes>"
            ],
            "image/png": "[encoded data removed]"
          },
          "metadata": {
            "needs_background": "light"
          }
        }
      ]
    },
    {
      "cell_type": "markdown",
      "source": [
        "#Download the model"
      ],
      "metadata": {
        "id": "lD-vKaoHQAFd"
      }
    },
    {
      "cell_type": "code",
      "source": [
        "os.makedirs('/content/drive/My Drive/cut_panoramic/Model', exist_ok=True)\n",
        "model.save('/content/drive/MyDrive/cut_panoramic/Model/ครั้งที่ 3/GG4_1e-4_250_Un.h5')"
      ],
      "metadata": {
        "id": "74dL7-HLP_Sh"
      },
      "execution_count": 17,
      "outputs": []
    },
    {
      "cell_type": "code",
      "source": [
        "# from google.colab import files\n",
        "# files.download('/content/drive/My Drive/cut_panoramic/Model/2_รอบที่2_Gender_250.h5')"
      ],
      "metadata": {
        "id": "qcPW-brHQDpc"
      },
      "execution_count": 18,
      "outputs": []
    },
    {
      "cell_type": "code",
      "source": [],
      "metadata": {
        "id": "r5WoXVo8mVpF"
      },
      "execution_count": 18,
      "outputs": []
    }
  ]
}